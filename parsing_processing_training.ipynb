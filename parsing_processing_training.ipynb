{
 "cells": [
  {
   "cell_type": "markdown",
   "metadata": {},
   "source": [
    "# WLASL (World Level American Sign Language)"
   ]
  },
  {
   "cell_type": "markdown",
   "metadata": {},
   "source": [
    "I am using a dataset that I downloaded from Kaggle. This dataset has 2,000 words, and over 20,000 videos of these 2,000 words in total."
   ]
  },
  {
   "cell_type": "markdown",
   "metadata": {},
   "source": [
    "## JSON Parsing and Organizing Videos/Frames"
   ]
  },
  {
   "cell_type": "markdown",
   "metadata": {},
   "source": [
    "The video names represent the video-id of that video. To find out what word the video is showing, I have to find the video ID in the WLASL_v0.3.json file and see what word that video ID belongs to. The structure of the json file is as follows:\n",
    "\n",
    "```\n",
    "[\n",
    "    {\n",
    "        \"gloss\": \"<word>\",\n",
    "        \"instances\": [\n",
    "            {\n",
    "                ...,\n",
    "                ...,\n",
    "                ...,\n",
    "                \"video_id\": \"<video_id_num>\"\n",
    "            },\n",
    "            {\n",
    "                ...,\n",
    "                ...,\n",
    "                ...,\n",
    "                \"video_id\": \"video_id_num\"\n",
    "            },\n",
    "            ...\n",
    "        ]\n",
    "    },\n",
    "    {\n",
    "        \"gloss\": \"<word>\",\n",
    "        \"instances\": [\n",
    "            {\n",
    "                ...,\n",
    "                ...,\n",
    "                ...,\n",
    "                \"video_id\": \"<video_id_num>\"\n",
    "            },\n",
    "            ...\n",
    "        ]\n",
    "    },\n",
    "    ...\n",
    "]\n",
    "```"
   ]
  },
  {
   "cell_type": "markdown",
   "metadata": {},
   "source": [
    "To read and parse through json files, there is a json module that is downloaded alongside python. I will use this to parse through the json file and organize all the videos into their own directory in one of the three splits: Train, Test, or Validation. In addition, each video will be split into individual frames and the frames will be saved as png images. The final directory structure will look like:\n",
    "```\n",
    "/Videos\n",
    "|--<split_type>\n",
    "|   |--<word_id>\n",
    "|   |   |--<instance_id>\n",
    "|   |   |   |--<instance_id>_<frame_num>.png\n",
    "|   |   |   |--<instance_id>_<frame_num>.png\n",
    "|   |   |   ...\n",
    "|   |   |--<instance_id>\n",
    "|   |   |   |--<instance_id>_<frame_num>.png\n",
    "|   |   |   |--<instance_id>_<frame_num>.png\n",
    "|   |   |   ...\n",
    "|   |   ...\n",
    "|   |--<word_id>\n",
    "|   ...\n",
    "|...\n",
    "```"
   ]
  },
  {
   "cell_type": "code",
   "execution_count": 2,
   "metadata": {},
   "outputs": [],
   "source": [
    "import json"
   ]
  },
  {
   "cell_type": "markdown",
   "metadata": {},
   "source": [
    "Next, I will load the json file as an object. This will make it easy to work with in python."
   ]
  },
  {
   "cell_type": "code",
   "execution_count": 17,
   "metadata": {},
   "outputs": [],
   "source": [
    "with open('WLASL/WLASL_v0.3.json', 'r') as file:\n",
    "    data = json.load(file)"
   ]
  },
  {
   "cell_type": "markdown",
   "metadata": {},
   "source": [
    "The json file is now loaded as an object in python"
   ]
  },
  {
   "cell_type": "markdown",
   "metadata": {},
   "source": [
    "Now I will test out how this json module works and how to parse the different properties I need."
   ]
  },
  {
   "cell_type": "markdown",
   "metadata": {},
   "source": [
    "The bracket character [] represents a list, and the curly brackets {} represent objects that have name:value pairs.\n",
    "\n",
    "The json file starts with [], which is a list of objects. Each object has a word and another list for all the instances of that word. Each instance is an object that has name:value pairs for that instance such as: video URL, video id, start time, end time, fps, and more."
   ]
  },
  {
   "cell_type": "markdown",
   "metadata": {},
   "source": [
    "The object for the first word can be accessed by accessing the first element of the list in the data json object:"
   ]
  },
  {
   "cell_type": "code",
   "execution_count": 18,
   "metadata": {},
   "outputs": [
    {
     "data": {
      "text/plain": [
       "{'gloss': 'book',\n",
       " 'instances': [{'bbox': [385, 37, 885, 720],\n",
       "   'fps': 25,\n",
       "   'frame_end': -1,\n",
       "   'frame_start': 1,\n",
       "   'instance_id': 0,\n",
       "   'signer_id': 118,\n",
       "   'source': 'aslbrick',\n",
       "   'split': 'train',\n",
       "   'url': 'http://aslbricks.org/New/ASL-Videos/book.mp4',\n",
       "   'variation_id': 0,\n",
       "   'video_id': '69241'},\n",
       "  {'bbox': [190, 25, 489, 370],\n",
       "   'fps': 25,\n",
       "   'frame_end': -1,\n",
       "   'frame_start': 1,\n",
       "   'instance_id': 1,\n",
       "   'signer_id': 90,\n",
       "   'source': 'aslsignbank',\n",
       "   'split': 'train',\n",
       "   'url': 'https://aslsignbank.haskins.yale.edu/dictionary/protected_media/glossvideo/ASL/BO/BOOK-418.mp4',\n",
       "   'variation_id': 0,\n",
       "   'video_id': '65225'},\n",
       "  {'bbox': [262, 1, 652, 480],\n",
       "   'fps': 25,\n",
       "   'frame_end': -1,\n",
       "   'frame_start': 1,\n",
       "   'instance_id': 2,\n",
       "   'signer_id': 110,\n",
       "   'source': 'valencia-asl',\n",
       "   'split': 'train',\n",
       "   'url': 'https://www.youtube.com/watch?v=0UsjUE-TXns',\n",
       "   'variation_id': 0,\n",
       "   'video_id': '68011'},\n",
       "  {'bbox': [123, 19, 516, 358],\n",
       "   'fps': 25,\n",
       "   'frame_end': 60,\n",
       "   'frame_start': 1,\n",
       "   'instance_id': 3,\n",
       "   'signer_id': 113,\n",
       "   'source': 'lillybauer',\n",
       "   'split': 'train',\n",
       "   'url': 'https://www.youtube.com/watch?v=1QOYOZ3g-aY',\n",
       "   'variation_id': 0,\n",
       "   'video_id': '68208'},\n",
       "  {'bbox': [95, 0, 1180, 720],\n",
       "   'fps': 25,\n",
       "   'frame_end': -1,\n",
       "   'frame_start': 1,\n",
       "   'instance_id': 4,\n",
       "   'signer_id': 109,\n",
       "   'source': 'valencia-asl',\n",
       "   'split': 'train',\n",
       "   'url': 'https://www.youtube.com/watch?v=aGtIHKEdCds',\n",
       "   'variation_id': 0,\n",
       "   'video_id': '68012'},\n",
       "  {'bbox': [110, 25, 274, 240],\n",
       "   'fps': 25,\n",
       "   'frame_end': 2249,\n",
       "   'frame_start': 2150,\n",
       "   'instance_id': 5,\n",
       "   'signer_id': 121,\n",
       "   'source': 'northtexas',\n",
       "   'split': 'val',\n",
       "   'url': 'https://www.youtube.com/watch?v=hjS0dQDgbjo',\n",
       "   'variation_id': 0,\n",
       "   'video_id': '70212'},\n",
       "  {'bbox': [153, 38, 395, 360],\n",
       "   'fps': 25,\n",
       "   'frame_end': 3852,\n",
       "   'frame_start': 3732,\n",
       "   'instance_id': 6,\n",
       "   'signer_id': 121,\n",
       "   'source': 'northtexas',\n",
       "   'split': 'train',\n",
       "   'url': 'https://www.youtube.com/watch?v=WGfiiDgrq1I',\n",
       "   'variation_id': 0,\n",
       "   'video_id': '70266'},\n",
       "  {'bbox': [16, 2, 235, 240],\n",
       "   'fps': 25,\n",
       "   'frame_end': -1,\n",
       "   'frame_start': 1,\n",
       "   'instance_id': 7,\n",
       "   'signer_id': 49,\n",
       "   'source': 'aslpro',\n",
       "   'split': 'train',\n",
       "   'url': 'http://www.aslpro.com/main/b/book_english_grammar.swf',\n",
       "   'variation_id': 0,\n",
       "   'video_id': '07085'},\n",
       "  {'bbox': [16, 4, 239, 240],\n",
       "   'fps': 25,\n",
       "   'frame_end': -1,\n",
       "   'frame_start': 1,\n",
       "   'instance_id': 8,\n",
       "   'signer_id': 49,\n",
       "   'source': 'aslpro',\n",
       "   'split': 'train',\n",
       "   'url': 'http://www.aslpro.com/main/b/book_geography.swf',\n",
       "   'variation_id': 0,\n",
       "   'video_id': '07086'},\n",
       "  {'bbox': [8, 1, 253, 240],\n",
       "   'fps': 25,\n",
       "   'frame_end': -1,\n",
       "   'frame_start': 1,\n",
       "   'instance_id': 9,\n",
       "   'signer_id': 18,\n",
       "   'source': 'aslpro',\n",
       "   'split': 'train',\n",
       "   'url': 'http://www.aslpro.com/main/b/book_geometry.swf',\n",
       "   'variation_id': 0,\n",
       "   'video_id': '07087'},\n",
       "  {'bbox': [462, 44, 949, 720],\n",
       "   'fps': 25,\n",
       "   'frame_end': -1,\n",
       "   'frame_start': 1,\n",
       "   'instance_id': 10,\n",
       "   'signer_id': 31,\n",
       "   'source': 'signschool',\n",
       "   'split': 'train',\n",
       "   'url': 'https://signstock.blob.core.windows.net/signschool/videos/SignSchool%20Book.mp4',\n",
       "   'variation_id': 0,\n",
       "   'video_id': '07069'},\n",
       "  {'bbox': [29, 4, 227, 240],\n",
       "   'fps': 25,\n",
       "   'frame_end': -1,\n",
       "   'frame_start': 1,\n",
       "   'instance_id': 11,\n",
       "   'signer_id': 18,\n",
       "   'source': 'aslpro',\n",
       "   'split': 'train',\n",
       "   'url': 'http://www.aslpro.com/main/b/book_history.swf',\n",
       "   'variation_id': 0,\n",
       "   'video_id': '07088'},\n",
       "  {'bbox': [22, 0, 226, 240],\n",
       "   'fps': 25,\n",
       "   'frame_end': -1,\n",
       "   'frame_start': 1,\n",
       "   'instance_id': 12,\n",
       "   'signer_id': 18,\n",
       "   'source': 'aslpro',\n",
       "   'split': 'train',\n",
       "   'url': 'http://www.aslpro.com/main/b/book_law.swf',\n",
       "   'variation_id': 0,\n",
       "   'video_id': '07089'},\n",
       "  {'bbox': [34, 2, 229, 240],\n",
       "   'fps': 25,\n",
       "   'frame_end': -1,\n",
       "   'frame_start': 1,\n",
       "   'instance_id': 13,\n",
       "   'signer_id': 18,\n",
       "   'source': 'aslpro',\n",
       "   'split': 'train',\n",
       "   'url': 'http://www.aslpro.com/main/b/book_literature.swf',\n",
       "   'variation_id': 0,\n",
       "   'video_id': '07090'},\n",
       "  {'bbox': [23, 1, 226, 240],\n",
       "   'fps': 25,\n",
       "   'frame_end': -1,\n",
       "   'frame_start': 1,\n",
       "   'instance_id': 14,\n",
       "   'signer_id': 18,\n",
       "   'source': 'aslpro',\n",
       "   'split': 'train',\n",
       "   'url': 'http://www.aslpro.com/main/b/book_math.swf',\n",
       "   'variation_id': 0,\n",
       "   'video_id': '07091'},\n",
       "  {'bbox': [31, 4, 220, 240],\n",
       "   'fps': 25,\n",
       "   'frame_end': -1,\n",
       "   'frame_start': 1,\n",
       "   'instance_id': 15,\n",
       "   'signer_id': 49,\n",
       "   'source': 'aslpro',\n",
       "   'split': 'test',\n",
       "   'url': 'http://www.aslpro.com/main/b/book_medicine.swf',\n",
       "   'variation_id': 0,\n",
       "   'video_id': '07092'},\n",
       "  {'bbox': [25, 0, 220, 240],\n",
       "   'fps': 25,\n",
       "   'frame_end': -1,\n",
       "   'frame_start': 1,\n",
       "   'instance_id': 16,\n",
       "   'signer_id': 18,\n",
       "   'source': 'aslpro',\n",
       "   'split': 'test',\n",
       "   'url': 'http://www.aslpro.com/main/b/book_music.swf',\n",
       "   'variation_id': 0,\n",
       "   'video_id': '07093'},\n",
       "  {'bbox': [234, 17, 524, 414],\n",
       "   'fps': 25,\n",
       "   'frame_end': -1,\n",
       "   'frame_start': 1,\n",
       "   'instance_id': 17,\n",
       "   'signer_id': 36,\n",
       "   'source': 'startasl',\n",
       "   'split': 'train',\n",
       "   'url': 'https://s3-us-west-1.amazonaws.com/files.startasl.com/asldictionary/book.mp4',\n",
       "   'variation_id': 0,\n",
       "   'video_id': '07068'},\n",
       "  {'bbox': [22, 2, 231, 240],\n",
       "   'fps': 25,\n",
       "   'frame_end': -1,\n",
       "   'frame_start': 1,\n",
       "   'instance_id': 18,\n",
       "   'signer_id': 18,\n",
       "   'source': 'aslpro',\n",
       "   'split': 'val',\n",
       "   'url': 'http://www.aslpro.com/main/b/book_photography.swf',\n",
       "   'variation_id': 0,\n",
       "   'video_id': '07094'},\n",
       "  {'bbox': [3, 2, 260, 240],\n",
       "   'fps': 25,\n",
       "   'frame_end': -1,\n",
       "   'frame_start': 1,\n",
       "   'instance_id': 19,\n",
       "   'signer_id': 18,\n",
       "   'source': 'aslpro',\n",
       "   'split': 'test',\n",
       "   'url': 'http://www.aslpro.com/main/b/book_science.swf',\n",
       "   'variation_id': 0,\n",
       "   'video_id': '07095'},\n",
       "  {'bbox': [21, 2, 228, 240],\n",
       "   'fps': 25,\n",
       "   'frame_end': -1,\n",
       "   'frame_start': 1,\n",
       "   'instance_id': 20,\n",
       "   'signer_id': 18,\n",
       "   'source': 'aslpro',\n",
       "   'split': 'val',\n",
       "   'url': 'http://www.aslpro.com/main/b/book_spelling.swf',\n",
       "   'variation_id': 0,\n",
       "   'video_id': '07096'},\n",
       "  {'bbox': [26, 3, 226, 240],\n",
       "   'fps': 25,\n",
       "   'frame_end': -1,\n",
       "   'frame_start': 1,\n",
       "   'instance_id': 21,\n",
       "   'signer_id': 49,\n",
       "   'source': 'aslpro',\n",
       "   'split': 'train',\n",
       "   'url': 'http://www.aslpro.com/main/b/book.swf',\n",
       "   'variation_id': 0,\n",
       "   'video_id': '07097'},\n",
       "  {'bbox': [131, 26, 526, 480],\n",
       "   'fps': 25,\n",
       "   'frame_end': -1,\n",
       "   'frame_start': 1,\n",
       "   'instance_id': 22,\n",
       "   'signer_id': 59,\n",
       "   'source': 'asldeafined',\n",
       "   'split': 'train',\n",
       "   'url': 'https://media.asldeafined.com/vocabulary/1466684225.687.mp4',\n",
       "   'variation_id': 0,\n",
       "   'video_id': '07070'},\n",
       "  {'bbox': [21, 3, 231, 240],\n",
       "   'fps': 25,\n",
       "   'frame_end': -1,\n",
       "   'frame_start': 1,\n",
       "   'instance_id': 23,\n",
       "   'signer_id': 18,\n",
       "   'source': 'aslpro',\n",
       "   'split': 'val',\n",
       "   'url': 'http://www.aslpro.com/main/b/book_trigonometry.swf',\n",
       "   'variation_id': 0,\n",
       "   'video_id': '07098'},\n",
       "  {'bbox': [162, 54, 528, 400],\n",
       "   'fps': 25,\n",
       "   'frame_end': -1,\n",
       "   'frame_start': 1,\n",
       "   'instance_id': 24,\n",
       "   'signer_id': 12,\n",
       "   'source': 'aslsearch',\n",
       "   'split': 'val',\n",
       "   'url': 'http://www.aslsearch.com/signs/videos/book.mp4',\n",
       "   'variation_id': 0,\n",
       "   'video_id': '07099'},\n",
       "  {'bbox': [70, 0, 268, 240],\n",
       "   'fps': 25,\n",
       "   'frame_end': -1,\n",
       "   'frame_start': 1,\n",
       "   'instance_id': 25,\n",
       "   'signer_id': 14,\n",
       "   'source': 'handspeak',\n",
       "   'split': 'train',\n",
       "   'url': 'https://www.handspeak.com/word/b/book2.mp4',\n",
       "   'variation_id': 0,\n",
       "   'video_id': '07071'},\n",
       "  {'bbox': [75, 0, 270, 240],\n",
       "   'fps': 25,\n",
       "   'frame_end': -1,\n",
       "   'frame_start': 1,\n",
       "   'instance_id': 26,\n",
       "   'signer_id': 14,\n",
       "   'source': 'handspeak',\n",
       "   'split': 'test',\n",
       "   'url': 'https://www.handspeak.com/word/b/book.mp4',\n",
       "   'variation_id': 0,\n",
       "   'video_id': '07072'},\n",
       "  {'bbox': [64, 0, 273, 240],\n",
       "   'fps': 25,\n",
       "   'frame_end': -1,\n",
       "   'frame_start': 1,\n",
       "   'instance_id': 27,\n",
       "   'signer_id': 14,\n",
       "   'source': 'handspeak',\n",
       "   'split': 'train',\n",
       "   'url': 'https://www.handspeak.com/word/b/books-pile.mp4',\n",
       "   'variation_id': 0,\n",
       "   'video_id': '07073'},\n",
       "  {'bbox': [128, 20, 383, 360],\n",
       "   'fps': 25,\n",
       "   'frame_end': -1,\n",
       "   'frame_start': 1,\n",
       "   'instance_id': 28,\n",
       "   'signer_id': 109,\n",
       "   'source': 'asllex',\n",
       "   'split': 'train',\n",
       "   'url': 'https://youtu.be/3-GrhsVs830',\n",
       "   'variation_id': 0,\n",
       "   'video_id': '67424'},\n",
       "  {'bbox': [82, 11, 212, 192],\n",
       "   'fps': 25,\n",
       "   'frame_end': -1,\n",
       "   'frame_start': 1,\n",
       "   'instance_id': 29,\n",
       "   'signer_id': 11,\n",
       "   'source': 'signingsavvy',\n",
       "   'split': 'train',\n",
       "   'url': 'https://www.signingsavvy.com/signs/mp4/14/14326.mp4',\n",
       "   'variation_id': 0,\n",
       "   'video_id': '07074'},\n",
       "  {'bbox': [386, 48, 942, 720],\n",
       "   'fps': 25,\n",
       "   'frame_end': -1,\n",
       "   'frame_start': 1,\n",
       "   'instance_id': 30,\n",
       "   'signer_id': 5,\n",
       "   'source': 'aslu',\n",
       "   'split': 'train',\n",
       "   'url': 'https://www.youtube.com/watch?v=Kwvw-K6GYW8',\n",
       "   'variation_id': 0,\n",
       "   'video_id': '07075'},\n",
       "  {'bbox': [362, 43, 945, 720],\n",
       "   'fps': 25,\n",
       "   'frame_end': -1,\n",
       "   'frame_start': 1,\n",
       "   'instance_id': 31,\n",
       "   'signer_id': 5,\n",
       "   'source': 'aslu',\n",
       "   'split': 'train',\n",
       "   'url': 'https://www.youtube.com/watch?v=XjWSfh50kAU',\n",
       "   'variation_id': 0,\n",
       "   'video_id': '07076'},\n",
       "  {'bbox': [25, 4, 223, 240],\n",
       "   'fps': 25,\n",
       "   'frame_end': -1,\n",
       "   'frame_start': 1,\n",
       "   'instance_id': 32,\n",
       "   'signer_id': 49,\n",
       "   'source': 'aslpro',\n",
       "   'split': 'train',\n",
       "   'url': 'http://www.aslpro.com/main/b/book_accounting.swf',\n",
       "   'variation_id': 0,\n",
       "   'video_id': '07077'},\n",
       "  {'bbox': [28, 4, 226, 240],\n",
       "   'fps': 25,\n",
       "   'frame_end': -1,\n",
       "   'frame_start': 1,\n",
       "   'instance_id': 33,\n",
       "   'signer_id': 18,\n",
       "   'source': 'aslpro',\n",
       "   'split': 'train',\n",
       "   'url': 'http://www.aslpro.com/main/b/book_algebra.swf',\n",
       "   'variation_id': 0,\n",
       "   'video_id': '07078'},\n",
       "  {'bbox': [15, 2, 238, 240],\n",
       "   'fps': 25,\n",
       "   'frame_end': -1,\n",
       "   'frame_start': 1,\n",
       "   'instance_id': 34,\n",
       "   'signer_id': 49,\n",
       "   'source': 'aslpro',\n",
       "   'split': 'train',\n",
       "   'url': 'http://www.aslpro.com/main/b/book_anatomy.swf',\n",
       "   'variation_id': 0,\n",
       "   'video_id': '07079'},\n",
       "  {'bbox': [28, 2, 226, 240],\n",
       "   'fps': 25,\n",
       "   'frame_end': -1,\n",
       "   'frame_start': 1,\n",
       "   'instance_id': 35,\n",
       "   'signer_id': 18,\n",
       "   'source': 'aslpro',\n",
       "   'split': 'train',\n",
       "   'url': 'http://www.aslpro.com/main/b/book_art_history.swf',\n",
       "   'variation_id': 0,\n",
       "   'video_id': '07080'},\n",
       "  {'bbox': [23, 2, 226, 240],\n",
       "   'fps': 25,\n",
       "   'frame_end': -1,\n",
       "   'frame_start': 1,\n",
       "   'instance_id': 36,\n",
       "   'signer_id': 18,\n",
       "   'source': 'aslpro',\n",
       "   'split': 'train',\n",
       "   'url': 'http://www.aslpro.com/main/b/book_art.swf',\n",
       "   'variation_id': 0,\n",
       "   'video_id': '07081'},\n",
       "  {'bbox': [30, 3, 228, 240],\n",
       "   'fps': 25,\n",
       "   'frame_end': -1,\n",
       "   'frame_start': 1,\n",
       "   'instance_id': 37,\n",
       "   'signer_id': 18,\n",
       "   'source': 'aslpro',\n",
       "   'split': 'train',\n",
       "   'url': 'http://www.aslpro.com/main/b/book_business.swf',\n",
       "   'variation_id': 0,\n",
       "   'video_id': '07082'},\n",
       "  {'bbox': [0, 3, 260, 240],\n",
       "   'fps': 25,\n",
       "   'frame_end': -1,\n",
       "   'frame_start': 1,\n",
       "   'instance_id': 38,\n",
       "   'signer_id': 18,\n",
       "   'source': 'aslpro',\n",
       "   'split': 'val',\n",
       "   'url': 'http://www.aslpro.com/main/b/book_chemistry.swf',\n",
       "   'variation_id': 0,\n",
       "   'video_id': '07083'},\n",
       "  {'bbox': [29, 4, 225, 240],\n",
       "   'fps': 25,\n",
       "   'frame_end': -1,\n",
       "   'frame_start': 1,\n",
       "   'instance_id': 39,\n",
       "   'signer_id': 18,\n",
       "   'source': 'aslpro',\n",
       "   'split': 'train',\n",
       "   'url': 'http://www.aslpro.com/main/b/book_coloring.swf',\n",
       "   'variation_id': 0,\n",
       "   'video_id': '07084'}]}"
      ]
     },
     "execution_count": 18,
     "metadata": {},
     "output_type": "execute_result"
    }
   ],
   "source": [
    "data[0]"
   ]
  },
  {
   "cell_type": "markdown",
   "metadata": {},
   "source": [
    "The number of words in this object should be 2000. Getting the length of how many dictionary objects are in the first list should result in 2000."
   ]
  },
  {
   "cell_type": "code",
   "execution_count": 19,
   "metadata": {},
   "outputs": [
    {
     "data": {
      "text/plain": [
       "2000"
      ]
     },
     "execution_count": 19,
     "metadata": {},
     "output_type": "execute_result"
    }
   ],
   "source": [
    "len(data)"
   ]
  },
  {
   "cell_type": "markdown",
   "metadata": {},
   "source": [
    "This means all the words are in the json object"
   ]
  },
  {
   "cell_type": "markdown",
   "metadata": {},
   "source": [
    "To access the word, I specify the key of the value I want. In this case, the word is the value for the key called 'gloss':"
   ]
  },
  {
   "cell_type": "code",
   "execution_count": 20,
   "metadata": {},
   "outputs": [
    {
     "data": {
      "text/plain": [
       "'book'"
      ]
     },
     "execution_count": 20,
     "metadata": {},
     "output_type": "execute_result"
    }
   ],
   "source": [
    "data[0]['gloss']"
   ]
  },
  {
   "cell_type": "markdown",
   "metadata": {},
   "source": [
    "So from this, the first word in the json file is 'book'"
   ]
  },
  {
   "cell_type": "markdown",
   "metadata": {},
   "source": [
    "The first instance of book is then accessed by appending [0]:"
   ]
  },
  {
   "cell_type": "code",
   "execution_count": 21,
   "metadata": {},
   "outputs": [
    {
     "data": {
      "text/plain": [
       "{'bbox': [385, 37, 885, 720],\n",
       " 'fps': 25,\n",
       " 'frame_end': -1,\n",
       " 'frame_start': 1,\n",
       " 'instance_id': 0,\n",
       " 'signer_id': 118,\n",
       " 'source': 'aslbrick',\n",
       " 'split': 'train',\n",
       " 'url': 'http://aslbricks.org/New/ASL-Videos/book.mp4',\n",
       " 'variation_id': 0,\n",
       " 'video_id': '69241'}"
      ]
     },
     "execution_count": 21,
     "metadata": {},
     "output_type": "execute_result"
    }
   ],
   "source": [
    "data[0]['instances'][0]"
   ]
  },
  {
   "cell_type": "markdown",
   "metadata": {},
   "source": [
    "The len() function can be used again here to get how many instances the word 'book' has."
   ]
  },
  {
   "cell_type": "code",
   "execution_count": 22,
   "metadata": {},
   "outputs": [
    {
     "data": {
      "text/plain": [
       "40"
      ]
     },
     "execution_count": 22,
     "metadata": {},
     "output_type": "execute_result"
    }
   ],
   "source": [
    "len(data[0]['instances'])"
   ]
  },
  {
   "cell_type": "markdown",
   "metadata": {},
   "source": [
    "The word 'book' has 40 instances."
   ]
  },
  {
   "cell_type": "markdown",
   "metadata": {},
   "source": [
    "Finally, to get the video-id to open the correct video, I use the video_id name."
   ]
  },
  {
   "cell_type": "code",
   "execution_count": 23,
   "metadata": {},
   "outputs": [
    {
     "data": {
      "text/plain": [
       "'69241'"
      ]
     },
     "execution_count": 23,
     "metadata": {},
     "output_type": "execute_result"
    }
   ],
   "source": [
    "data[0]['instances'][0]['video_id']"
   ]
  },
  {
   "cell_type": "markdown",
   "metadata": {},
   "source": [
    "This means that the video named 69241.mp4 is the video for the first instance of the word 'book'."
   ]
  },
  {
   "cell_type": "markdown",
   "metadata": {},
   "source": [
    "The same process can be used to extract the split (train, test, or validation) that this video is a part of, and how many frames are in this video clip.\n",
    "\n",
    "note: This dataset already has the videos so there is no need to download the video again from the URL. But that would be an extra step if the dataset did not have the videos already."
   ]
  },
  {
   "cell_type": "markdown",
   "metadata": {},
   "source": [
    "Now that I know how to access the different name-value pairs, I can begin organizing the videos into train, test, and validation splits. Then, splitting the videos into frames."
   ]
  },
  {
   "cell_type": "markdown",
   "metadata": {},
   "source": [
    "### Organizing Videos:"
   ]
  },
  {
   "cell_type": "markdown",
   "metadata": {},
   "source": [
    "Before getting the frames, I want to organize the videos into their own directories. This will make debugging later easier and it will make looking for the right videos easier."
   ]
  },
  {
   "cell_type": "markdown",
   "metadata": {},
   "source": [
    "To copy the video file, I first want to check if I have made the directory where the video will be saved. If a directory has not been made yet, I will create a new one and save the video to it.\n",
    "\n",
    "To check if a directory exists, I can use the ```os.path.exists``` function. Then to create a directory, I use the ```os.makedirs``` function"
   ]
  },
  {
   "cell_type": "code",
   "execution_count": 2,
   "metadata": {},
   "outputs": [],
   "source": [
    "import os"
   ]
  },
  {
   "cell_type": "code",
   "execution_count": 35,
   "metadata": {},
   "outputs": [
    {
     "name": "stdout",
     "output_type": "stream",
     "text": [
      "No directory called ./test_makeidr/1/1/. Creating one now\n"
     ]
    }
   ],
   "source": [
    "if not os.path.exists('./test_makedir/1/1/'):\n",
    "    print(f'No directory called ./test_makeidr/1/1/. Creating one now')\n",
    "    os.makedirs('./test_makedir/1/1/')"
   ]
  },
  {
   "cell_type": "markdown",
   "metadata": {},
   "source": [
    "Now I can put this in a function that I will call for each video"
   ]
  },
  {
   "cell_type": "code",
   "execution_count": 36,
   "metadata": {},
   "outputs": [],
   "source": [
    "def copy_video(directory_path, video_id):\n",
    "    if not os.path.exists(directory_path):\n",
    "        print(f'No directory called {directory_path}. Creating one now')\n",
    "        os.makedirs(directory_path)\n",
    "\n",
    "    copy_command = 'cp WLASL/videos/' + video_id + '.mp4' + ' ' + directory_path + '/' + video_id + '.mp4'\n",
    "    os.system(copy_command)"
   ]
  },
  {
   "cell_type": "markdown",
   "metadata": {},
   "source": [
    "Next, I want to start organizing the videos. I will go through each instance in each word and get the split type and video id. Then I will find the video with that video id and save it to one of: train directory, test directory, or validation directory."
   ]
  },
  {
   "cell_type": "code",
   "execution_count": 37,
   "metadata": {},
   "outputs": [],
   "source": [
    "def organize_words(end_word, start_word=0):\n",
    "    for word_id in range(start_word, end_word):\n",
    "        # List of dictionary objects for each word\n",
    "        word = data[word_id]['gloss']\n",
    "        train_instance = 0\n",
    "        test_instance = 0\n",
    "        val_instance = 0\n",
    "        for instance in range(0,len(data[word_id]['instances'])):\n",
    "            video_id = data[word_id]['instances'][instance]['video_id']\n",
    "            split_type = data[word_id]['instances'][instance]['split']\n",
    "            match split_type:\n",
    "                case 'train':\n",
    "                    directory_path = os.path.join(split_type, str(word_id), str(train_instance))\n",
    "                    copy_video(directory_path, video_id)\n",
    "                    train_instance += 1\n",
    "                case 'test':\n",
    "                    directory_path = os.path.join(split_type, str(word_id), str(test_instance))\n",
    "                    copy_video(directory_path, video_id)\n",
    "                    test_instance += 1\n",
    "                case 'val':\n",
    "                    directory_path = os.path.join(split_type, str(word_id), str(val_instance))\n",
    "                    #if not os.path.exists(directory_path):\n",
    "                    #    print(f'No directory called {directory_path}. Creating one now')\n",
    "                    #    os.makedirs(directory_path)\n",
    "                    #copy_command = 'cp WLASL/videos/' + video_id + '.mp4' + ' ' + directory_path + '/' + video_id + '.mp4'\n",
    "                    #os.system(copy_command)\n",
    "                    copy_video(directory_path, video_id)\n",
    "                    val_instance += 1                       "
   ]
  },
  {
   "cell_type": "markdown",
   "metadata": {},
   "source": [
    "Now I can call this and specify how many words I want to go through and where to start. For example, I will copy and organize the videos for the first 10 words:"
   ]
  },
  {
   "cell_type": "code",
   "execution_count": 38,
   "metadata": {},
   "outputs": [
    {
     "name": "stdout",
     "output_type": "stream",
     "text": [
      "No directory called train/0/0. Creating one now\n",
      "No directory called train/0/1. Creating one now\n",
      "No directory called train/0/2. Creating one now\n",
      "No directory called train/0/3. Creating one now\n",
      "No directory called train/0/4. Creating one now\n",
      "No directory called val/0/0. Creating one now\n",
      "No directory called train/0/5. Creating one now\n",
      "No directory called train/0/6. Creating one now\n",
      "No directory called train/0/7. Creating one now\n",
      "No directory called train/0/8. Creating one now\n",
      "No directory called train/0/9. Creating one now\n",
      "No directory called train/0/10. Creating one now\n",
      "No directory called train/0/11. Creating one now\n",
      "No directory called train/0/12. Creating one now\n",
      "No directory called train/0/13. Creating one now\n",
      "No directory called test/0/0. Creating one now\n",
      "No directory called test/0/1. Creating one now\n",
      "No directory called train/0/14. Creating one now\n",
      "No directory called val/0/1. Creating one now\n",
      "No directory called test/0/2. Creating one now\n",
      "No directory called val/0/2. Creating one now\n",
      "No directory called train/0/15. Creating one now\n",
      "No directory called train/0/16. Creating one now\n",
      "No directory called val/0/3. Creating one now\n",
      "No directory called val/0/4. Creating one now\n",
      "No directory called train/0/17. Creating one now\n",
      "No directory called test/0/3. Creating one now\n",
      "No directory called train/0/18. Creating one now\n",
      "No directory called train/0/19. Creating one now\n",
      "No directory called train/0/20. Creating one now\n",
      "No directory called train/0/21. Creating one now\n",
      "No directory called train/0/22. Creating one now\n",
      "No directory called train/0/23. Creating one now\n",
      "No directory called train/0/24. Creating one now\n",
      "No directory called train/0/25. Creating one now\n",
      "No directory called train/0/26. Creating one now\n",
      "No directory called train/0/27. Creating one now\n",
      "No directory called train/0/28. Creating one now\n",
      "No directory called val/0/5. Creating one now\n",
      "No directory called train/0/29. Creating one now\n",
      "No directory called val/1/0. Creating one now\n",
      "No directory called train/1/0. Creating one now\n",
      "No directory called val/1/1. Creating one now\n",
      "No directory called val/1/2. Creating one now\n",
      "No directory called val/1/3. Creating one now\n",
      "No directory called train/1/1. Creating one now\n",
      "No directory called train/1/2. Creating one now\n",
      "No directory called train/1/3. Creating one now\n",
      "No directory called train/1/4. Creating one now\n",
      "No directory called train/1/5. Creating one now\n",
      "No directory called train/1/6. Creating one now\n",
      "No directory called train/1/7. Creating one now\n",
      "No directory called train/1/8. Creating one now\n",
      "No directory called test/1/0. Creating one now\n",
      "No directory called train/1/9. Creating one now\n",
      "No directory called train/1/10. Creating one now\n",
      "No directory called train/1/11. Creating one now\n",
      "No directory called train/1/12. Creating one now\n",
      "No directory called val/1/4. Creating one now\n",
      "No directory called train/1/13. Creating one now\n",
      "No directory called train/1/14. Creating one now\n",
      "No directory called test/1/1. Creating one now\n",
      "No directory called train/1/15. Creating one now\n",
      "No directory called train/1/16. Creating one now\n",
      "No directory called test/1/2. Creating one now\n",
      "No directory called train/1/17. Creating one now\n",
      "No directory called test/1/3. Creating one now\n",
      "No directory called train/1/18. Creating one now\n",
      "No directory called train/1/19. Creating one now\n",
      "No directory called train/1/20. Creating one now\n",
      "No directory called train/1/21. Creating one now\n",
      "No directory called train/1/22. Creating one now\n",
      "No directory called train/1/23. Creating one now\n",
      "No directory called train/1/24. Creating one now\n",
      "No directory called val/1/5. Creating one now\n",
      "No directory called test/2/0. Creating one now\n",
      "No directory called train/2/0. Creating one now\n",
      "No directory called train/2/1. Creating one now\n",
      "No directory called train/2/2. Creating one now\n",
      "No directory called train/2/3. Creating one now\n",
      "No directory called train/2/4. Creating one now\n",
      "No directory called val/2/0. Creating one now\n",
      "No directory called train/2/5. Creating one now\n",
      "No directory called test/2/1. Creating one now\n",
      "No directory called val/2/1. Creating one now\n",
      "No directory called val/2/2. Creating one now\n",
      "No directory called test/2/2. Creating one now\n",
      "No directory called train/2/6. Creating one now\n",
      "No directory called train/2/7. Creating one now\n",
      "No directory called train/2/8. Creating one now\n",
      "No directory called train/2/9. Creating one now\n",
      "No directory called train/2/10. Creating one now\n",
      "No directory called val/2/3. Creating one now\n",
      "No directory called train/2/11. Creating one now\n",
      "No directory called train/2/12. Creating one now\n",
      "No directory called train/2/13. Creating one now\n",
      "No directory called train/2/14. Creating one now\n",
      "No directory called test/2/3. Creating one now\n",
      "No directory called test/2/4. Creating one now\n",
      "No directory called train/2/15. Creating one now\n",
      "No directory called train/2/16. Creating one now\n",
      "No directory called train/2/17. Creating one now\n",
      "No directory called train/2/18. Creating one now\n",
      "No directory called val/2/4. Creating one now\n",
      "No directory called train/2/19. Creating one now\n",
      "No directory called train/3/0. Creating one now\n",
      "No directory called train/3/1. Creating one now\n",
      "No directory called train/3/2. Creating one now\n",
      "No directory called train/3/3. Creating one now\n",
      "No directory called val/3/0. Creating one now\n",
      "No directory called train/3/4. Creating one now\n",
      "No directory called train/3/5. Creating one now\n",
      "No directory called train/3/6. Creating one now\n",
      "No directory called train/3/7. Creating one now\n",
      "No directory called val/3/1. Creating one now\n",
      "No directory called train/3/8. Creating one now\n",
      "No directory called train/3/9. Creating one now\n",
      "No directory called train/3/10. Creating one now\n",
      "No directory called train/3/11. Creating one now\n",
      "No directory called train/3/12. Creating one now\n",
      "No directory called train/3/13. Creating one now\n",
      "No directory called train/3/14. Creating one now\n",
      "No directory called test/3/0. Creating one now\n",
      "No directory called val/3/2. Creating one now\n",
      "No directory called test/3/1. Creating one now\n",
      "No directory called val/3/3. Creating one now\n",
      "No directory called test/3/2. Creating one now\n",
      "No directory called train/3/15. Creating one now\n",
      "No directory called test/3/3. Creating one now\n",
      "No directory called train/3/16. Creating one now\n",
      "No directory called train/3/17. Creating one now\n",
      "No directory called test/4/0. Creating one now\n",
      "No directory called train/4/0. Creating one now\n",
      "No directory called train/4/1. Creating one now\n",
      "No directory called train/4/2. Creating one now\n",
      "No directory called train/4/3. Creating one now\n",
      "No directory called train/4/4. Creating one now\n",
      "No directory called train/4/5. Creating one now\n",
      "No directory called train/4/6. Creating one now\n",
      "No directory called test/4/1. Creating one now\n",
      "No directory called train/4/7. Creating one now\n",
      "No directory called train/4/8. Creating one now\n",
      "No directory called train/4/9. Creating one now\n",
      "No directory called val/4/0. Creating one now\n",
      "No directory called train/4/10. Creating one now\n",
      "No directory called train/4/11. Creating one now\n",
      "No directory called val/4/1. Creating one now\n",
      "No directory called test/4/2. Creating one now\n",
      "No directory called train/4/12. Creating one now\n",
      "No directory called val/4/2. Creating one now\n",
      "No directory called train/4/13. Creating one now\n",
      "No directory called train/4/14. Creating one now\n",
      "No directory called train/4/15. Creating one now\n",
      "No directory called train/4/16. Creating one now\n",
      "No directory called train/4/17. Creating one now\n",
      "No directory called val/4/3. Creating one now\n",
      "No directory called train/4/18. Creating one now\n",
      "No directory called test/5/0. Creating one now\n",
      "No directory called val/5/0. Creating one now\n",
      "No directory called train/5/0. Creating one now\n",
      "No directory called train/5/1. Creating one now\n",
      "No directory called train/5/2. Creating one now\n",
      "No directory called train/5/3. Creating one now\n",
      "No directory called test/5/1. Creating one now\n",
      "No directory called train/5/4. Creating one now\n",
      "No directory called train/5/5. Creating one now\n",
      "No directory called train/5/6. Creating one now\n",
      "No directory called train/5/7. Creating one now\n",
      "No directory called train/5/8. Creating one now\n",
      "No directory called train/5/9. Creating one now\n",
      "No directory called train/5/10. Creating one now\n",
      "No directory called train/5/11. Creating one now\n",
      "No directory called train/5/12. Creating one now\n",
      "No directory called train/5/13. Creating one now\n",
      "No directory called val/5/1. Creating one now\n",
      "No directory called train/5/14. Creating one now\n",
      "No directory called val/5/2. Creating one now\n",
      "No directory called train/5/15. Creating one now\n",
      "No directory called test/5/2. Creating one now\n",
      "No directory called train/5/16. Creating one now\n",
      "No directory called train/5/17. Creating one now\n",
      "No directory called val/5/3. Creating one now\n",
      "No directory called train/5/18. Creating one now\n",
      "No directory called test/6/0. Creating one now\n",
      "No directory called train/6/0. Creating one now\n",
      "No directory called train/6/1. Creating one now\n",
      "No directory called train/6/2. Creating one now\n",
      "No directory called train/6/3. Creating one now\n",
      "No directory called train/6/4. Creating one now\n",
      "No directory called train/6/5. Creating one now\n",
      "No directory called train/6/6. Creating one now\n",
      "No directory called test/6/1. Creating one now\n",
      "No directory called train/6/7. Creating one now\n",
      "No directory called train/6/8. Creating one now\n",
      "No directory called val/6/0. Creating one now\n",
      "No directory called val/6/1. Creating one now\n",
      "No directory called train/6/9. Creating one now\n",
      "No directory called train/6/10. Creating one now\n",
      "No directory called train/6/11. Creating one now\n",
      "No directory called test/6/2. Creating one now\n",
      "No directory called val/6/2. Creating one now\n",
      "No directory called train/6/12. Creating one now\n",
      "No directory called train/6/13. Creating one now\n",
      "No directory called train/6/14. Creating one now\n",
      "No directory called train/6/15. Creating one now\n",
      "No directory called train/6/16. Creating one now\n",
      "No directory called val/6/3. Creating one now\n",
      "No directory called train/6/17. Creating one now\n",
      "No directory called test/7/0. Creating one now\n",
      "No directory called train/7/0. Creating one now\n",
      "No directory called train/7/1. Creating one now\n",
      "No directory called train/7/2. Creating one now\n",
      "No directory called train/7/3. Creating one now\n",
      "No directory called train/7/4. Creating one now\n",
      "No directory called train/7/5. Creating one now\n",
      "No directory called train/7/6. Creating one now\n",
      "No directory called test/7/1. Creating one now\n",
      "No directory called train/7/7. Creating one now\n",
      "No directory called train/7/8. Creating one now\n",
      "No directory called val/7/0. Creating one now\n",
      "No directory called val/7/1. Creating one now\n",
      "No directory called train/7/9. Creating one now\n",
      "No directory called train/7/10. Creating one now\n",
      "No directory called train/7/11. Creating one now\n",
      "No directory called test/7/2. Creating one now\n",
      "No directory called val/7/2. Creating one now\n",
      "No directory called train/7/12. Creating one now\n",
      "No directory called train/7/13. Creating one now\n",
      "No directory called train/7/14. Creating one now\n",
      "No directory called train/7/15. Creating one now\n",
      "No directory called train/7/16. Creating one now\n",
      "No directory called val/7/3. Creating one now\n",
      "No directory called train/7/17. Creating one now\n",
      "No directory called train/8/0. Creating one now\n",
      "No directory called train/8/1. Creating one now\n",
      "No directory called train/8/2. Creating one now\n",
      "No directory called train/8/3. Creating one now\n",
      "No directory called train/8/4. Creating one now\n",
      "No directory called val/8/0. Creating one now\n",
      "No directory called train/8/5. Creating one now\n",
      "No directory called train/8/6. Creating one now\n",
      "No directory called val/8/1. Creating one now\n",
      "No directory called train/8/7. Creating one now\n",
      "No directory called train/8/8. Creating one now\n",
      "No directory called train/8/9. Creating one now\n",
      "No directory called val/8/2. Creating one now\n",
      "No directory called train/8/10. Creating one now\n",
      "No directory called train/8/11. Creating one now\n",
      "No directory called train/8/12. Creating one now\n",
      "No directory called train/8/13. Creating one now\n",
      "No directory called test/8/0. Creating one now\n",
      "No directory called test/8/1. Creating one now\n",
      "No directory called val/8/3. Creating one now\n",
      "No directory called train/8/14. Creating one now\n",
      "No directory called test/8/2. Creating one now\n",
      "No directory called train/8/15. Creating one now\n",
      "No directory called train/8/16. Creating one now\n",
      "No directory called test/9/0. Creating one now\n",
      "No directory called train/9/0. Creating one now\n",
      "No directory called train/9/1. Creating one now\n",
      "No directory called train/9/2. Creating one now\n",
      "No directory called train/9/3. Creating one now\n",
      "No directory called train/9/4. Creating one now\n",
      "No directory called train/9/5. Creating one now\n",
      "No directory called val/9/0. Creating one now\n",
      "No directory called val/9/1. Creating one now\n",
      "No directory called test/9/1. Creating one now\n",
      "No directory called train/9/6. Creating one now\n",
      "No directory called train/9/7. Creating one now\n",
      "No directory called train/9/8. Creating one now\n",
      "No directory called train/9/9. Creating one now\n",
      "No directory called val/9/2. Creating one now\n",
      "No directory called test/9/2. Creating one now\n",
      "No directory called train/9/10. Creating one now\n",
      "No directory called val/9/3. Creating one now\n",
      "No directory called train/9/11. Creating one now\n",
      "No directory called train/9/12. Creating one now\n",
      "No directory called train/9/13. Creating one now\n",
      "No directory called train/9/14. Creating one now\n",
      "No directory called train/9/15. Creating one now\n"
     ]
    }
   ],
   "source": [
    "organize_words(10, start_word=0)"
   ]
  },
  {
   "cell_type": "markdown",
   "metadata": {},
   "source": [
    "Now, the videos for 10 words have been copied and organized into the directory structure I want. Next, I will find each video, and split it into frames"
   ]
  },
  {
   "cell_type": "markdown",
   "metadata": {},
   "source": [
    "### Cropping Videos"
   ]
  },
  {
   "cell_type": "markdown",
   "metadata": {},
   "source": [
    "Before doing that though, I found an issue. Some of the videos are not of the word itself, but something about the word. For example, the videos about the word 'book' are not just about book. For example, some are 'history book', 'book photography', etc... However, they all contain the sign for the word 'book' at the end of the video. So I will create a function that will crop these videos to only include the book part of the video.\n",
    "\n",
    "This doesn't happen for all the words, so I will watch the video and see if the video includes something other than the word itself. If it does, I will use the below function to crop the video to the times that include only that word. This is the only reliable method I have found, but it should not be a problem since the videos are all between 2-4 seconds long. So not much time will be wasted."
   ]
  },
  {
   "cell_type": "code",
   "execution_count": 3,
   "metadata": {},
   "outputs": [],
   "source": [
    "import cv2"
   ]
  },
  {
   "cell_type": "code",
   "execution_count": 147,
   "metadata": {},
   "outputs": [],
   "source": [
    "def crop_video_frames(video_path, start_time=0.0, end_time=0.0):\n",
    "    cap = cv2.VideoCapture(video_path)\n",
    "    video_path_parts = video_path.split('/')\n",
    "    video_id = video_path_parts[3]\n",
    "    video_dir = video_path_parts[0] + '/' + video_path_parts[1] + '/' + video_path_parts[2]\n",
    "    video_output = os.path.join(f'{video_dir}', f'{video_id}_cropped.mp4')\n",
    "\n",
    "    fps = int(cap.get(cv2.CAP_PROP_FPS))\n",
    "    frames_total = int(cap.get(cv2.CAP_PROP_FRAME_COUNT))\n",
    "\n",
    "    if start_time < 0:\n",
    "        start_frame = int(frames_total + int(start_time * fps))\n",
    "    else:\n",
    "        start_frame = int(fps * start_time)\n",
    "    \n",
    "    if end_time < 0:\n",
    "        end_frame = int(frames_total + int(end_time * fps))\n",
    "    elif end_time == 0:\n",
    "        end_frame = frames_total\n",
    "    else:\n",
    "        end_frame = int(fps * end_time)\n",
    "    width = int(cap.get(cv2.CAP_PROP_FRAME_WIDTH))\n",
    "    height = int(cap.get(cv2.CAP_PROP_FRAME_HEIGHT))\n",
    "\n",
    "    #print(str(start_frame))\n",
    "    #print(str(end_frame))\n",
    "    cap.set(cv2.CAP_PROP_POS_FRAMES, start_frame)\n",
    "    frame_num = start_frame\n",
    "    video = cv2.VideoWriter(video_output, cv2.VideoWriter_fourcc(*'mp4v'), fps, (width, height))\n",
    "\n",
    "    while True:\n",
    "        # Read next frame\n",
    "        ret, frame = cap.read()\n",
    "\n",
    "        # If no more frames, stop.\n",
    "        if not ret:\n",
    "            break\n",
    "\n",
    "        # increment frame number\n",
    "        frame_num += 1\n",
    "\n",
    "        if frame_num < end_frame:\n",
    "            # Video writer to create mp4 file\n",
    "            video.write(frame)\n",
    "\n",
    "    # Release the video file\n",
    "    video.release()\n",
    "    cap.release()\n",
    "    cv2.destroyAllWindows()\n",
    "    print(f\"Video generated successfully to {video_output}. Video is {end_frame - start_frame} frames long\")"
   ]
  },
  {
   "cell_type": "markdown",
   "metadata": {},
   "source": [
    "I will test it on one video that was about english book and grammar. The cropped videos should be the sign 'book' only."
   ]
  },
  {
   "cell_type": "code",
   "execution_count": 154,
   "metadata": {},
   "outputs": [
    {
     "name": "stdout",
     "output_type": "stream",
     "text": [
      "Video generated successfully to train/0/6/07085.mp4_cropped.mp4. Video is 40 frames long\n"
     ]
    }
   ],
   "source": [
    "crop_video_frames('train/0/6/07085.mp4', -1.8, -0.2)"
   ]
  },
  {
   "cell_type": "markdown",
   "metadata": {},
   "source": [
    "After watching the video, I have verified that this works."
   ]
  },
  {
   "cell_type": "markdown",
   "metadata": {},
   "source": [
    "I will create three lists: one of videos that need to be cropped, one of the begining time to crop, and one of the end crop time."
   ]
  },
  {
   "cell_type": "code",
   "execution_count": null,
   "metadata": {},
   "outputs": [],
   "source": []
  },
  {
   "cell_type": "markdown",
   "metadata": {},
   "source": [
    "Now I will go to save the video frames"
   ]
  },
  {
   "cell_type": "markdown",
   "metadata": {},
   "source": [
    "### Saving Video Frames"
   ]
  },
  {
   "cell_type": "markdown",
   "metadata": {},
   "source": [
    "To save the frames, I will navigate through directory tree and find each video. Then I will call the ```save_video_frames``` function to save the frame to a new directory called frames. The new structure will look like: ```<split>/<word_id>/<instance_id>/frames/<instance_id>_<frame_num>.png```\n",
    "\n",
    "For example, the video for the first instance of the first training word will save the first frame to: train/0/0/frames/0_0.png"
   ]
  },
  {
   "cell_type": "markdown",
   "metadata": {},
   "source": [
    "To split the video into frames, I will load the video using opencv, and save each frame as a png image. The length in frames will be returned for comparison between videos"
   ]
  },
  {
   "cell_type": "markdown",
   "metadata": {},
   "source": [
    "I will be passing the whole output path, so I want to extract the instance id to append to the frames file name. To do this, I will split the path and get the 3rd element which should be the instance id"
   ]
  },
  {
   "cell_type": "code",
   "execution_count": 44,
   "metadata": {},
   "outputs": [
    {
     "name": "stdout",
     "output_type": "stream",
     "text": [
      "['train', '0', '1', 'frames']\n",
      "1\n"
     ]
    }
   ],
   "source": [
    "example_string = 'train/0/1/frames'\n",
    "output_str_split = example_string.split('/')\n",
    "print(output_str_split)\n",
    "instance_id = output_str_split[2]\n",
    "print(instance_id)"
   ]
  },
  {
   "cell_type": "markdown",
   "metadata": {},
   "source": [
    "Now I will create the function to extract and save video frames."
   ]
  },
  {
   "cell_type": "code",
   "execution_count": 119,
   "metadata": {},
   "outputs": [],
   "source": [
    "def save_video_frames(video_path, output_path):\n",
    "    cap = cv2.VideoCapture(video_path)\n",
    "\n",
    "    if not os.path.exists(output_path):\n",
    "        print(f'No directory called {output_path}. Creating one now')\n",
    "        os.makedirs(output_path)\n",
    "\n",
    "    frame_num = 0\n",
    "\n",
    "    while True:\n",
    "        # Read next frame\n",
    "        ret, frame = cap.read()\n",
    "\n",
    "        # If no more frames, stop.\n",
    "        if not ret:\n",
    "            break\n",
    "\n",
    "        # increment frame number\n",
    "        frame_num += 1\n",
    "\n",
    "        # Save frame\n",
    "        output_str_split = output_path.split('/')\n",
    "        instance_id = output_str_split[2]\n",
    "        frame_path = os.path.join(output_path, f'{instance_id}_{frame_num}.png')\n",
    "        \n",
    "        if not os.path.exists(output_path):\n",
    "            print(f'No directory called {output_path}. Creating one now')\n",
    "            os.makedirs(output_path)\n",
    "\n",
    "        cv2.imwrite(frame_path, frame)\n",
    "\n",
    "        #print(f'Frame {frame_num} has been saved to {frame_path}')\n",
    "    \n",
    "    # Release video capture\n",
    "    cap.release()\n",
    "    print(f'All {frame_num+1} frames for the video at {video_path} have been successfully saved')\n",
    "    # Return how many frames make up the video\n",
    "    return frame_num+1\n"
   ]
  },
  {
   "cell_type": "markdown",
   "metadata": {},
   "source": [
    "Testing this with one video:"
   ]
  },
  {
   "cell_type": "code",
   "execution_count": null,
   "metadata": {},
   "outputs": [],
   "source": [
    "save_video_frames('train/0/0/69241.mp4', 'train/0/0/frames')"
   ]
  },
  {
   "cell_type": "markdown",
   "metadata": {},
   "source": [
    "This works. So I can use this in a loop to do this for all videos organized."
   ]
  },
  {
   "cell_type": "markdown",
   "metadata": {},
   "source": [
    "To go through a directory and find each file, I can use the ```os``` module which I already imported before."
   ]
  },
  {
   "cell_type": "code",
   "execution_count": null,
   "metadata": {},
   "outputs": [],
   "source": [
    "directory = 'train'\n",
    "for root, dirs, files in os.walk(directory):\n",
    "    for file_name in files:\n",
    "        if file_name.endswith('.mp4'):\n",
    "            #print(file_name, dirs, root)\n",
    "            #print(os.path.join(root, file_name))\n",
    "            word_id = root.split('/')[1]\n",
    "            if int(word_id) >=0 and int(word_id) < 10:\n",
    "                print(f'{os.path.join(root, file_name)}, word: {data[int(word_id)][\"gloss\"]}')"
   ]
  },
  {
   "cell_type": "markdown",
   "metadata": {},
   "source": [
    "This prints the whole path for each video. I can use this to then pass the path to the save_video_frames function and save the frames of each video:"
   ]
  },
  {
   "cell_type": "code",
   "execution_count": 160,
   "metadata": {},
   "outputs": [],
   "source": [
    "def save_mult_video_frames(split_type='train', start_word=0, end_word=1):\n",
    "    frames = []\n",
    "    for root, dirs, files in os.walk(split_type):\n",
    "        for file_name in files:\n",
    "            if file_name.endswith('.mp4'):\n",
    "                #print(file_name, dirs, root)\n",
    "                #print(os.path.join(root, file_name))\n",
    "                word_id = root.split('/')[1]\n",
    "                if int(word_id) >= start_word and int(word_id) < end_word:\n",
    "                    video_frames = save_video_frames(f'{os.path.join(root, file_name)}', f'{os.path.join(root, \"frames\")}')\n",
    "                    frames.append(video_frames)\n",
    "                    #print(f'{os.path.join(root, file_name)}, word: {data[int(word_id)][\"gloss\"]}')\n",
    "    return frames"
   ]
  },
  {
   "cell_type": "markdown",
   "metadata": {},
   "source": [
    "To save the frames of all training videos of the first word, I can just call the function with default values."
   ]
  },
  {
   "cell_type": "code",
   "execution_count": 161,
   "metadata": {},
   "outputs": [
    {
     "name": "stdout",
     "output_type": "stream",
     "text": [
      "All 57 frames for the video at train/7/17/63238.mp4 have been successfully saved\n",
      "All 61 frames for the video at train/7/10/66778.mp4 have been successfully saved\n",
      "All 33 frames for the video at train/7/7/63227.mp4 have been successfully saved\n",
      "All 85 frames for the video at train/7/3/63239.mp4 have been successfully saved\n",
      "All 55 frames for the video at train/7/1/68890.mp4 have been successfully saved\n",
      "All 42 frames for the video at train/7/15/67066.mp4 have been successfully saved\n",
      "All 63 frames for the video at train/7/4/63240.mp4 have been successfully saved\n",
      "All 66 frames for the video at train/7/5/63241.mp4 have been successfully saved\n",
      "All 36 frames for the video at train/7/8/63228.mp4 have been successfully saved\n",
      "All 133 frames for the video at train/7/11/63232.mp4 have been successfully saved\n",
      "All 57 frames for the video at train/7/12/66779.mp4 have been successfully saved\n",
      "All 55 frames for the video at train/7/0/69534.mp4 have been successfully saved\n",
      "All 80 frames for the video at train/7/9/63231.mp4 have been successfully saved\n",
      "All 95 frames for the video at train/7/14/63225.mp4 have been successfully saved\n",
      "All 75 frames for the video at train/7/6/63242.mp4 have been successfully saved\n",
      "All 45 frames for the video at train/7/2/68183.mp4 have been successfully saved\n",
      "All 40 frames for the video at train/7/16/63236.mp4 have been successfully saved\n",
      "All 62 frames for the video at train/7/13/66780.mp4 have been successfully saved\n",
      "All 42 frames for the video at train/3/17/05743.mp4 have been successfully saved\n",
      "All 61 frames for the video at train/3/10/65167.mp4 have been successfully saved\n",
      "All 78 frames for the video at train/3/7/05749.mp4 have been successfully saved\n",
      "All 59 frames for the video at train/3/3/05744.mp4 have been successfully saved\n",
      "All 97 frames for the video at train/3/1/70348.mp4 have been successfully saved\n",
      "All 43 frames for the video at train/3/15/05740.mp4 have been successfully saved\n",
      "All 28 frames for the video at train/3/4/05728.mp4 have been successfully saved\n",
      "All 66 frames for the video at train/3/5/05747.mp4 have been successfully saved\n",
      "All 46 frames for the video at train/3/8/05729.mp4 have been successfully saved\n",
      "All 48 frames for the video at train/3/11/05731.mp4 have been successfully saved\n",
      "All 74 frames for the video at train/3/12/05732.mp4 have been successfully saved\n",
      "All 42 frames for the video at train/3/0/05724.mp4 have been successfully saved\n",
      "All 33 frames for the video at train/3/9/05730.mp4 have been successfully saved\n",
      "All 70 frames for the video at train/3/14/05734.mp4 have been successfully saved\n",
      "All 73 frames for the video at train/3/6/05748.mp4 have been successfully saved\n",
      "All 88 frames for the video at train/3/2/68007.mp4 have been successfully saved\n",
      "All 26 frames for the video at train/3/16/05742.mp4 have been successfully saved\n",
      "All 93 frames for the video at train/3/13/05733.mp4 have been successfully saved\n",
      "All 38 frames for the video at train/1/19/67594.mp4 have been successfully saved\n",
      "All 47 frames for the video at train/1/17/17717.mp4 have been successfully saved\n",
      "All 56 frames for the video at train/1/10/17732.mp4 have been successfully saved\n",
      "All 106 frames for the video at train/1/18/17709.mp4 have been successfully saved\n",
      "All 61 frames for the video at train/1/7/17710.mp4 have been successfully saved\n",
      "All 60 frames for the video at train/1/3/17725.mp4 have been successfully saved\n",
      "All 55 frames for the video at train/1/1/68660.mp4 have been successfully saved\n",
      "All 56 frames for the video at train/1/15/17714.mp4 have been successfully saved\n",
      "All 43 frames for the video at train/1/22/17721.mp4 have been successfully saved\n",
      "All 66 frames for the video at train/1/4/17726.mp4 have been successfully saved\n",
      "All 83 frames for the video at train/1/5/17727.mp4 have been successfully saved\n",
      "All 62 frames for the video at train/1/8/17729.mp4 have been successfully saved\n",
      "All 49 frames for the video at train/1/20/17719.mp4 have been successfully saved\n",
      "All 80 frames for the video at train/1/11/17733.mp4 have been successfully saved\n",
      "All 49 frames for the video at train/1/12/65540.mp4 have been successfully saved\n",
      "All 52 frames for the video at train/1/24/17723.mp4 have been successfully saved\n",
      "All 47 frames for the video at train/1/0/65539.mp4 have been successfully saved\n",
      "All 62 frames for the video at train/1/9/17731.mp4 have been successfully saved\n",
      "All 46 frames for the video at train/1/14/17712.mp4 have been successfully saved\n",
      "All 36 frames for the video at train/1/21/17720.mp4 have been successfully saved\n",
      "All 59 frames for the video at train/1/6/17728.mp4 have been successfully saved\n",
      "All 90 frames for the video at train/1/2/68041.mp4 have been successfully saved\n",
      "All 43 frames for the video at train/1/23/17722.mp4 have been successfully saved\n",
      "All 56 frames for the video at train/1/16/17715.mp4 have been successfully saved\n",
      "All 70 frames for the video at train/1/13/17711.mp4 have been successfully saved\n",
      "All 101 frames for the video at train/4/17/09861.mp4 have been successfully saved\n",
      "All 62 frames for the video at train/4/10/65328.mp4 have been successfully saved\n",
      "All 78 frames for the video at train/4/18/09863.mp4 have been successfully saved\n",
      "All 80 frames for the video at train/4/7/09869.mp4 have been successfully saved\n",
      "All 48 frames for the video at train/4/3/68019.mp4 have been successfully saved\n",
      "All 52 frames for the video at train/4/1/68580.mp4 have been successfully saved\n",
      "All 99 frames for the video at train/4/15/09859.mp4 have been successfully saved\n",
      "All 114 frames for the video at train/4/4/09865.mp4 have been successfully saved\n",
      "All 81 frames for the video at train/4/5/09866.mp4 have been successfully saved\n",
      "All 70 frames for the video at train/4/8/09849.mp4 have been successfully saved\n",
      "All 21 frames for the video at train/4/11/09853.mp4 have been successfully saved\n",
      "All 62 frames for the video at train/4/12/09856.mp4 have been successfully saved\n",
      "All 132 frames for the video at train/4/0/70230.mp4 have been successfully saved\n",
      "All 33 frames for the video at train/4/9/09850.mp4 have been successfully saved\n",
      "All 97 frames for the video at train/4/14/09858.mp4 have been successfully saved\n",
      "All 97 frames for the video at train/4/6/09848.mp4 have been successfully saved\n",
      "All 119 frames for the video at train/4/2/70263.mp4 have been successfully saved\n",
      "All 119 frames for the video at train/4/16/09860.mp4 have been successfully saved\n",
      "All 103 frames for the video at train/4/13/09857.mp4 have been successfully saved\n",
      "All 56 frames for the video at train/5/17/24951.mp4 have been successfully saved\n",
      "All 51 frames for the video at train/5/10/24972.mp4 have been successfully saved\n",
      "All 53 frames for the video at train/5/18/24954.mp4 have been successfully saved\n",
      "All 78 frames for the video at train/5/7/24969.mp4 have been successfully saved\n",
      "All 58 frames for the video at train/5/3/24941.mp4 have been successfully saved\n",
      "All 53 frames for the video at train/5/1/24955.mp4 have been successfully saved\n",
      "All 89 frames for the video at train/5/15/24940.mp4 have been successfully saved\n",
      "All 40 frames for the video at train/5/4/24961.mp4 have been successfully saved\n",
      "All 38 frames for the video at train/5/5/24962.mp4 have been successfully saved\n",
      "All 78 frames for the video at train/5/8/24970.mp4 have been successfully saved\n",
      "All 44 frames for the video at train/5/11/65824.mp4 have been successfully saved\n",
      "All 93 frames for the video at train/5/12/24973.mp4 have been successfully saved\n",
      "All 121 frames for the video at train/5/0/68292.mp4 have been successfully saved\n",
      "All 73 frames for the video at train/5/9/24971.mp4 have been successfully saved\n",
      "All 55 frames for the video at train/5/14/24947.mp4 have been successfully saved\n",
      "All 73 frames for the video at train/5/6/24965.mp4 have been successfully saved\n",
      "All 40 frames for the video at train/5/2/24956.mp4 have been successfully saved\n",
      "All 56 frames for the video at train/5/16/24950.mp4 have been successfully saved\n",
      "All 54 frames for the video at train/5/13/24943.mp4 have been successfully saved\n",
      "All 40 frames for the video at train/8/10/08923.mp4 have been successfully saved\n",
      "All 75 frames for the video at train/8/7/08919.mp4 have been successfully saved\n",
      "All 126 frames for the video at train/8/3/68790.mp4 have been successfully saved\n",
      "All 88 frames for the video at train/8/1/68018.mp4 have been successfully saved\n",
      "All 68 frames for the video at train/8/15/08926.mp4 have been successfully saved\n",
      "All 61 frames for the video at train/8/4/08928.mp4 have been successfully saved\n",
      "All 76 frames for the video at train/8/5/08916.mp4 have been successfully saved\n",
      "All 65 frames for the video at train/8/8/08920.mp4 have been successfully saved\n",
      "All 62 frames for the video at train/8/11/65298.mp4 have been successfully saved\n",
      "All 26 frames for the video at train/8/12/08924.mp4 have been successfully saved\n",
      "All 47 frames for the video at train/8/0/08909.mp4 have been successfully saved\n",
      "All 51 frames for the video at train/8/9/08921.mp4 have been successfully saved\n",
      "All 46 frames for the video at train/8/14/67470.mp4 have been successfully saved\n",
      "All 29 frames for the video at train/8/6/08917.mp4 have been successfully saved\n",
      "All 127 frames for the video at train/8/2/70326.mp4 have been successfully saved\n",
      "All 64 frames for the video at train/8/16/08927.mp4 have been successfully saved\n",
      "All 66 frames for the video at train/8/13/65299.mp4 have been successfully saved\n",
      "All 34 frames for the video at train/0/19/67424.mp4 have been successfully saved\n",
      "All 19 frames for the video at train/0/17/07071.mp4 have been successfully saved\n",
      "All 88 frames for the video at train/0/10/07088.mp4 have been successfully saved\n",
      "All 83 frames for the video at train/0/28/07082.mp4 have been successfully saved\n",
      "All 29 frames for the video at train/0/18/07073.mp4 have been successfully saved\n",
      "All 101 frames for the video at train/0/7/07086.mp4 have been successfully saved\n",
      "All 125 frames for the video at train/0/3/68208.mp4 have been successfully saved\n",
      "All 65 frames for the video at train/0/1/65225.mp4 have been successfully saved\n",
      "All 94 frames for the video at train/0/25/07079.mp4 have been successfully saved\n",
      "All 64 frames for the video at train/0/15/07097.mp4 have been successfully saved\n",
      "All 91 frames for the video at train/0/22/07076.mp4 have been successfully saved\n",
      "All 97 frames for the video at train/0/4/68012.mp4 have been successfully saved\n",
      "All 122 frames for the video at train/0/5/70266.mp4 have been successfully saved\n",
      "All 81 frames for the video at train/0/8/07087.mp4 have been successfully saved\n",
      "All 34 frames for the video at train/0/20/07074.mp4 have been successfully saved\n",
      "All 105 frames for the video at train/0/26/07080.mp4 have been successfully saved\n",
      "All 78 frames for the video at train/0/11/07089.mp4 have been successfully saved\n",
      "All 96 frames for the video at train/0/12/07090.mp4 have been successfully saved\n",
      "All 80 frames for the video at train/0/24/07078.mp4 have been successfully saved\n",
      "All 65 frames for the video at train/0/0/69241.mp4 have been successfully saved\n",
      "All 32 frames for the video at train/0/9/07069.mp4 have been successfully saved\n",
      "All 59 frames for the video at train/0/14/07068.mp4 have been successfully saved\n",
      "All 81 frames for the video at train/0/29/07084.mp4 have been successfully saved\n",
      "All 70 frames for the video at train/0/21/07075.mp4 have been successfully saved\n",
      "All 94 frames for the video at train/0/6/07085.mp4 have been successfully saved\n",
      "All 48 frames for the video at train/0/2/68011.mp4 have been successfully saved\n",
      "All 100 frames for the video at train/0/23/07077.mp4 have been successfully saved\n",
      "All 74 frames for the video at train/0/16/07070.mp4 have been successfully saved\n",
      "All 76 frames for the video at train/0/13/07091.mp4 have been successfully saved\n",
      "All 76 frames for the video at train/0/27/07081.mp4 have been successfully saved\n",
      "All 52 frames for the video at train/9/10/13640.mp4 have been successfully saved\n",
      "All 35 frames for the video at train/9/7/13637.mp4 have been successfully saved\n",
      "All 61 frames for the video at train/9/3/13648.mp4 have been successfully saved\n",
      "All 40 frames for the video at train/9/1/68592.mp4 have been successfully saved\n",
      "All 63 frames for the video at train/9/15/13646.mp4 have been successfully saved\n",
      "All 62 frames for the video at train/9/4/13631.mp4 have been successfully saved\n",
      "All 62 frames for the video at train/9/5/13632.mp4 have been successfully saved\n",
      "All 30 frames for the video at train/9/8/13638.mp4 have been successfully saved\n",
      "All 35 frames for the video at train/9/11/13642.mp4 have been successfully saved\n",
      "All 65 frames for the video at train/9/12/13643.mp4 have been successfully saved\n",
      "All 103 frames for the video at train/9/0/70332.mp4 have been successfully saved\n",
      "All 91 frames for the video at train/9/9/13630.mp4 have been successfully saved\n",
      "All 71 frames for the video at train/9/14/13645.mp4 have been successfully saved\n",
      "All 113 frames for the video at train/9/6/13636.mp4 have been successfully saved\n",
      "All 69 frames for the video at train/9/2/13647.mp4 have been successfully saved\n",
      "All 97 frames for the video at train/9/13/13644.mp4 have been successfully saved\n",
      "All 79 frames for the video at train/6/17/11326.mp4 have been successfully saved\n",
      "All 87 frames for the video at train/6/10/11316.mp4 have been successfully saved\n",
      "All 56 frames for the video at train/6/7/11312.mp4 have been successfully saved\n",
      "All 79 frames for the video at train/6/3/11328.mp4 have been successfully saved\n",
      "All 63 frames for the video at train/6/1/68024.mp4 have been successfully saved\n",
      "All 99 frames for the video at train/6/15/11323.mp4 have been successfully saved\n",
      "All 77 frames for the video at train/6/4/11310.mp4 have been successfully saved\n",
      "All 89 frames for the video at train/6/5/11329.mp4 have been successfully saved\n",
      "All 32 frames for the video at train/6/8/11313.mp4 have been successfully saved\n",
      "All 81 frames for the video at train/6/11/11317.mp4 have been successfully saved\n",
      "All 93 frames for the video at train/6/12/11320.mp4 have been successfully saved\n",
      "All 52 frames for the video at train/6/0/68870.mp4 have been successfully saved\n",
      "All 59 frames for the video at train/6/9/11309.mp4 have been successfully saved\n",
      "All 88 frames for the video at train/6/14/11322.mp4 have been successfully saved\n",
      "All 72 frames for the video at train/6/6/11330.mp4 have been successfully saved\n",
      "All 72 frames for the video at train/6/2/11327.mp4 have been successfully saved\n",
      "All 90 frames for the video at train/6/16/11324.mp4 have been successfully saved\n",
      "All 119 frames for the video at train/6/13/11321.mp4 have been successfully saved\n",
      "All 41 frames for the video at train/2/19/12327.mp4 have been successfully saved\n",
      "All 56 frames for the video at train/2/17/12323.mp4 have been successfully saved\n",
      "All 39 frames for the video at train/2/10/12314.mp4 have been successfully saved\n",
      "All 63 frames for the video at train/2/18/12324.mp4 have been successfully saved\n",
      "All 77 frames for the video at train/2/7/12337.mp4 have been successfully saved\n",
      "All 103 frames for the video at train/2/3/12329.mp4 have been successfully saved\n",
      "All 154 frames for the video at train/2/1/69054.mp4 have been successfully saved\n",
      "All 56 frames for the video at train/2/15/12321.mp4 have been successfully saved\n",
      "All 89 frames for the video at train/2/4/12330.mp4 have been successfully saved\n",
      "All 68 frames for the video at train/2/5/12331.mp4 have been successfully saved\n",
      "All 92 frames for the video at train/2/8/12338.mp4 have been successfully saved\n",
      "All 39 frames for the video at train/2/11/12316.mp4 have been successfully saved\n",
      "All 47 frames for the video at train/2/12/12317.mp4 have been successfully saved\n",
      "All 90 frames for the video at train/2/0/68028.mp4 have been successfully saved\n",
      "All 70 frames for the video at train/2/9/12313.mp4 have been successfully saved\n",
      "All 36 frames for the video at train/2/14/12319.mp4 have been successfully saved\n",
      "All 63 frames for the video at train/2/6/12311.mp4 have been successfully saved\n",
      "All 76 frames for the video at train/2/2/12328.mp4 have been successfully saved\n",
      "All 54 frames for the video at train/2/16/12322.mp4 have been successfully saved\n",
      "All 40 frames for the video at train/2/13/12318.mp4 have been successfully saved\n"
     ]
    }
   ],
   "source": [
    "frames_list = save_mult_video_frames(end_word=10)"
   ]
  },
  {
   "cell_type": "code",
   "execution_count": 4,
   "metadata": {},
   "outputs": [],
   "source": [
    "import numpy as np"
   ]
  },
  {
   "cell_type": "code",
   "execution_count": 169,
   "metadata": {},
   "outputs": [
    {
     "name": "stdout",
     "output_type": "stream",
     "text": [
      "Frames list of all videos converted: [57, 61, 33, 85, 55, 42, 63, 66, 36, 133, 57, 55, 80, 95, 75, 45, 40, 62, 42, 61, 78, 59, 97, 43, 28, 66, 46, 48, 74, 42, 33, 70, 73, 88, 26, 93, 38, 47, 56, 106, 61, 60, 55, 56, 43, 66, 83, 62, 49, 80, 49, 52, 47, 62, 46, 36, 59, 90, 43, 56, 70, 101, 62, 78, 80, 48, 52, 99, 114, 81, 70, 21, 62, 132, 33, 97, 97, 119, 119, 103, 56, 51, 53, 78, 58, 53, 89, 40, 38, 78, 44, 93, 121, 73, 55, 73, 40, 56, 54, 40, 75, 126, 88, 68, 61, 76, 65, 62, 26, 47, 51, 46, 29, 127, 64, 66, 34, 19, 88, 83, 29, 101, 125, 65, 94, 64, 91, 97, 122, 81, 34, 105, 78, 96, 80, 65, 32, 59, 81, 70, 94, 48, 100, 74, 76, 76, 52, 35, 61, 40, 63, 62, 62, 30, 35, 65, 103, 91, 71, 113, 69, 97, 79, 87, 56, 79, 63, 99, 77, 89, 32, 81, 93, 52, 59, 88, 72, 72, 90, 119, 41, 56, 39, 63, 77, 103, 154, 56, 89, 68, 92, 39, 47, 90, 70, 36, 63, 76, 54, 40]\n",
      "Frames list size: 200\n",
      "Count of videos with over 50 frames: 149. Count of videos less than 40 frames: 24. Count of videos between 40 and 50 frames: 27\n"
     ]
    }
   ],
   "source": [
    "print(f'Frames list of all videos converted: {frames_list}')\n",
    "print(f'Frames list size: {len(frames_list)}')\n",
    "num_over_50 = 0\n",
    "num_bw_40_50 = 0\n",
    "num_less_40 = 0\n",
    "for frames in frames_list:\n",
    "    if frames > 50:\n",
    "        num_over_50 += 1\n",
    "    elif frames < 40:\n",
    "        num_less_40 += 1\n",
    "    else:\n",
    "        num_bw_40_50 += 1\n",
    "print(f'Count of videos with over 50 frames: {num_over_50}. Count of videos less than 40 frames: {num_less_40}. Count of videos between 40 and 50 frames: {num_bw_40_50}')"
   ]
  },
  {
   "cell_type": "markdown",
   "metadata": {},
   "source": [
    "Next, I will need to pass these frames to mediapipe and generate the points. Then I will save these points as a numpy array to use in training."
   ]
  },
  {
   "cell_type": "markdown",
   "metadata": {},
   "source": [
    "## MediaPipe Generate Points"
   ]
  },
  {
   "cell_type": "markdown",
   "metadata": {},
   "source": [
    "To get the points of the hands, face, and body pose, I need to go through all the images and then pass them to the hollistic model that is part of mediapipe. The hollistic model will return a numpy array with the data points needed. Then, I can save each array to a .npy file so that I don't have to do this everytime I want to train a model. Then when I train, I will load all the .npy arrays, and this will be my input data to the network."
   ]
  },
  {
   "cell_type": "markdown",
   "metadata": {},
   "source": [
    "The first step, is to import the mediapipe module as mp"
   ]
  },
  {
   "cell_type": "markdown",
   "metadata": {},
   "source": [
    "The next step is to go through each frame and pass it to the hollistic model in mediapipe and generate the points, and then save the array"
   ]
  },
  {
   "cell_type": "code",
   "execution_count": 1,
   "metadata": {},
   "outputs": [
    {
     "name": "stderr",
     "output_type": "stream",
     "text": [
      "2024-11-22 00:09:38.609136: I tensorflow/core/util/port.cc:153] oneDNN custom operations are on. You may see slightly different numerical results due to floating-point round-off errors from different computation orders. To turn them off, set the environment variable `TF_ENABLE_ONEDNN_OPTS=0`.\n",
      "2024-11-22 00:09:38.617099: I external/local_xla/xla/tsl/cuda/cudart_stub.cc:32] Could not find cuda drivers on your machine, GPU will not be used.\n",
      "2024-11-22 00:09:38.682185: I external/local_xla/xla/tsl/cuda/cudart_stub.cc:32] Could not find cuda drivers on your machine, GPU will not be used.\n",
      "2024-11-22 00:09:38.742063: E external/local_xla/xla/stream_executor/cuda/cuda_fft.cc:477] Unable to register cuFFT factory: Attempting to register factory for plugin cuFFT when one has already been registered\n",
      "WARNING: All log messages before absl::InitializeLog() is called are written to STDERR\n",
      "E0000 00:00:1732252178.801397   11313 cuda_dnn.cc:8310] Unable to register cuDNN factory: Attempting to register factory for plugin cuDNN when one has already been registered\n",
      "E0000 00:00:1732252178.818119   11313 cuda_blas.cc:1418] Unable to register cuBLAS factory: Attempting to register factory for plugin cuBLAS when one has already been registered\n",
      "2024-11-22 00:09:38.951503: I tensorflow/core/platform/cpu_feature_guard.cc:210] This TensorFlow binary is optimized to use available CPU instructions in performance-critical operations.\n",
      "To enable the following instructions: AVX2 AVX512F AVX512_VNNI AVX512_BF16 FMA, in other operations, rebuild TensorFlow with the appropriate compiler flags.\n"
     ]
    }
   ],
   "source": [
    "import os\n",
    "import cv2\n",
    "import numpy as np\n",
    "import mediapipe as mp\n",
    "import matplotlib.pyplot as plt"
   ]
  },
  {
   "cell_type": "code",
   "execution_count": 2,
   "metadata": {},
   "outputs": [],
   "source": [
    "img_test = cv2.imread('train/0/0/frames/0_22.png')"
   ]
  },
  {
   "cell_type": "code",
   "execution_count": 3,
   "metadata": {},
   "outputs": [
    {
     "data": {
      "image/png": "[encoded data removed]",
      "text/plain": [
       "<Figure size 640x480 with 1 Axes>"
      ]
     },
     "metadata": {},
     "output_type": "display_data"
    }
   ],
   "source": [
    "plt.imshow(img_test)\n",
    "plt.show()"
   ]
  },
  {
   "cell_type": "code",
   "execution_count": 2,
   "metadata": {},
   "outputs": [],
   "source": [
    "def open_image_detect_holistic(image_path):\n",
    "    mp_holistic = mp.solutions.holistic #Used to get the Holistic class inside\n",
    "    \n",
    "    # Create the holistic model\n",
    "    holistic_model = mp_holistic.Holistic(\n",
    "        min_detection_confidence=0.5,\n",
    "        min_tracking_confidence=0.5\n",
    "    )\n",
    "    \n",
    "    img = cv2.imread(image_path, cv2.IMREAD_UNCHANGED)\n",
    "    img = cv2.cvtColor(img, cv2.COLOR_BGR2RGB) #Convert cv2 image, which is BGR format, to RGB format\n",
    "    img.flags.writeable = False     #To avoid bugs\n",
    "    landmarks = holistic_model.process(img) #Process the image and generate the landmark points\n",
    "    img.flags.writeable = True      #Reverse previous command\n",
    "    img = cv2.cvtColor(img, cv2.COLOR_RGB2BGR)  #Convert back to BGR format\n",
    "\n",
    "    return img, landmarks #Return the image and the results from the holistic model"
   ]
  },
  {
   "cell_type": "code",
   "execution_count": 3,
   "metadata": {},
   "outputs": [],
   "source": [
    "def draw_over_image(image, landmarks):\n",
    "    mp_holistic = mp.solutions.holistic #Used to get the Holistic class inside\n",
    "    mp_draw = mp.solutions.drawing_utils #For drawing the results to verify the model is working\n",
    "    #Draw Face\n",
    "    mp_draw.draw_landmarks(image, landmarks.face_landmarks, mp_holistic.FACEMESH_TESSELATION, \n",
    "                           mp_draw.DrawingSpec(color=(255,0,0), thickness=1, circle_radius=1),\n",
    "                           mp_draw.DrawingSpec(color=(0,255,0), thickness=1, circle_radius=1))\n",
    "    \n",
    "    #Draw pose\n",
    "    mp_draw.draw_landmarks(image, landmarks.pose_landmarks, mp_holistic.POSE_CONNECTIONS,\n",
    "                           mp_draw.DrawingSpec(color=(255,255,0), thickness=1, circle_radius=2),\n",
    "                           mp_draw.DrawingSpec(color=(0,255,255), thickness=1, circle_radius=2))\n",
    "    \n",
    "    #Draw left hand\n",
    "    mp_draw.draw_landmarks(image, landmarks.left_hand_landmarks, mp_holistic.HAND_CONNECTIONS,\n",
    "                           mp_draw.DrawingSpec(color=(0,0,255), thickness=1, circle_radius=2),\n",
    "                           mp_draw.DrawingSpec(color=(255,0,255), thickness=1, circle_radius=2))\n",
    "    \n",
    "    #Draw right hand\n",
    "    mp_draw.draw_landmarks(image, landmarks.right_hand_landmarks, mp_holistic.HAND_CONNECTIONS,\n",
    "                           mp_draw.DrawingSpec(color=(127,127,127), thickness=1, circle_radius=2),\n",
    "                           mp_draw.DrawingSpec(color=(0,0,0), thickness=1, circle_radius=2))\n",
    "    \n",
    "    plt.imshow(image)\n",
    "    plt.show()"
   ]
  },
  {
   "cell_type": "code",
   "execution_count": 62,
   "metadata": {},
   "outputs": [
    {
     "name": "stderr",
     "output_type": "stream",
     "text": [
      "I0000 00:00:1732248587.327312    4062 gl_context_egl.cc:85] Successfully initialized EGL. Major : 1 Minor: 5\n",
      "I0000 00:00:1732248587.330969    5414 gl_context.cc:357] GL version: 3.2 (OpenGL ES 3.2 Mesa 23.2.1-1ubuntu3.1~22.04.2), renderer: GFX1103_R1 (gfx1103_r1, LLVM 15.0.7, DRM 3.57, 6.8.0-48-generic)\n",
      "W0000 00:00:1732248587.499129    5397 inference_feedback_manager.cc:114] Feedback manager requires a model with a single signature inference. Disabling support for feedback tensors.\n",
      "W0000 00:00:1732248587.586291    5409 inference_feedback_manager.cc:114] Feedback manager requires a model with a single signature inference. Disabling support for feedback tensors.\n",
      "W0000 00:00:1732248587.589204    5403 inference_feedback_manager.cc:114] Feedback manager requires a model with a single signature inference. Disabling support for feedback tensors.\n",
      "W0000 00:00:1732248587.593747    5408 inference_feedback_manager.cc:114] Feedback manager requires a model with a single signature inference. Disabling support for feedback tensors.\n",
      "W0000 00:00:1732248587.598023    5402 inference_feedback_manager.cc:114] Feedback manager requires a model with a single signature inference. Disabling support for feedback tensors.\n",
      "W0000 00:00:1732248587.620357    5398 inference_feedback_manager.cc:114] Feedback manager requires a model with a single signature inference. Disabling support for feedback tensors.\n",
      "W0000 00:00:1732248587.637998    5400 inference_feedback_manager.cc:114] Feedback manager requires a model with a single signature inference. Disabling support for feedback tensors.\n",
      "W0000 00:00:1732248587.649105    5407 inference_feedback_manager.cc:114] Feedback manager requires a model with a single signature inference. Disabling support for feedback tensors.\n"
     ]
    },
    {
     "data": {
      "image/png": "[encoded data removed]",
      "text/plain": [
       "<Figure size 640x480 with 1 Axes>"
      ]
     },
     "metadata": {},
     "output_type": "display_data"
    },
    {
     "data": {
      "text/plain": [
       "type"
      ]
     },
     "execution_count": 62,
     "metadata": {},
     "output_type": "execute_result"
    }
   ],
   "source": [
    "img, landmarks = open_image_detect_holistic('train/0/0/frames/0_25.png')\n",
    "draw_over_image(img, landmarks)\n",
    "type(landmarks)"
   ]
  },
  {
   "cell_type": "markdown",
   "metadata": {},
   "source": [
    "Get the last pose landmark. Testing to see if this works"
   ]
  },
  {
   "cell_type": "code",
   "execution_count": 63,
   "metadata": {},
   "outputs": [
    {
     "name": "stdout",
     "output_type": "stream",
     "text": [
      "x: 0.471541792\n",
      "y: 1.7528038\n",
      "z: 0.311382502\n",
      "visibility: 0.00376597699\n",
      "\n"
     ]
    }
   ],
   "source": [
    "print(landmarks.pose_landmarks.landmark[len(landmarks.pose_landmarks.landmark)-1])"
   ]
  },
  {
   "cell_type": "markdown",
   "metadata": {},
   "source": [
    "This works. Now I can test a loop to get all these landmarks into a numpy list."
   ]
  },
  {
   "cell_type": "code",
   "execution_count": 64,
   "metadata": {},
   "outputs": [],
   "source": [
    "frame_pose_landmarks = []\n",
    "for lm in landmarks.pose_landmarks.landmark:\n",
    "    current_pose_landmark = np.array([lm.x, lm.y, lm.z, lm.visibility])\n",
    "    #CONTINUE --- Create a list and append each landmark array to it. Do error checking incase a landmark is not there or empty. Save numpy array (or later)\n",
    "    frame_pose_landmarks.append(current_pose_landmark)"
   ]
  },
  {
   "cell_type": "code",
   "execution_count": 65,
   "metadata": {},
   "outputs": [
    {
     "name": "stdout",
     "output_type": "stream",
     "text": [
      "(33, 4)\n",
      "33\n"
     ]
    }
   ],
   "source": [
    "frame_pose_landmarks_np = np.asarray(frame_pose_landmarks) #Convert to numpy array to get shape and be able to save array.\n",
    "print(frame_pose_landmarks_np.shape)\n",
    "print(len(frame_pose_landmarks_np))"
   ]
  },
  {
   "cell_type": "markdown",
   "metadata": {},
   "source": [
    "There are 33 landmarks that make up the pose, and each landmark has 4 attributes (x,y,z,visibility)."
   ]
  },
  {
   "cell_type": "markdown",
   "metadata": {},
   "source": [
    "I will now repeat this for the face, left hand, and right hand."
   ]
  },
  {
   "cell_type": "code",
   "execution_count": 66,
   "metadata": {},
   "outputs": [
    {
     "name": "stdout",
     "output_type": "stream",
     "text": [
      "x: 0.56168896\n",
      "y: 0.246274263\n",
      "z: 0.00324537349\n",
      "\n"
     ]
    }
   ],
   "source": [
    "print(landmarks.face_landmarks.landmark[len(landmarks.face_landmarks.landmark)-1])"
   ]
  },
  {
   "cell_type": "markdown",
   "metadata": {},
   "source": [
    "The face only has x,y,z attributes, so I will not be getting the visibility"
   ]
  },
  {
   "cell_type": "code",
   "execution_count": 67,
   "metadata": {},
   "outputs": [],
   "source": [
    "frame_face_landmarks = []\n",
    "for lm in landmarks.face_landmarks.landmark:\n",
    "    current_face_landmark = np.array([lm.x, lm.y, lm.z])\n",
    "    #CONTINUE --- Create a list and append each landmark array to it. Do error checking incase a landmark is not there or empty. Save numpy array (or later)\n",
    "    frame_face_landmarks.append(current_face_landmark)"
   ]
  },
  {
   "cell_type": "code",
   "execution_count": 68,
   "metadata": {},
   "outputs": [
    {
     "name": "stdout",
     "output_type": "stream",
     "text": [
      "(468, 3)\n",
      "468\n"
     ]
    }
   ],
   "source": [
    "frame_face_landmarks_np = np.asarray(frame_face_landmarks) #Convert to numpy array to get shape and be able to save array.\n",
    "print(frame_face_landmarks_np.shape)\n",
    "print(len(frame_face_landmarks_np))"
   ]
  },
  {
   "cell_type": "markdown",
   "metadata": {},
   "source": [
    "The face consists of 468 landmarks, and each landmark has 3 attributes (x,y,z)."
   ]
  },
  {
   "cell_type": "code",
   "execution_count": 69,
   "metadata": {},
   "outputs": [
    {
     "name": "stdout",
     "output_type": "stream",
     "text": [
      "x: 0.511461556\n",
      "y: 0.74867171\n",
      "z: -0.0132751977\n",
      "\n"
     ]
    }
   ],
   "source": [
    "print(landmarks.left_hand_landmarks.landmark[len(landmarks.left_hand_landmarks.landmark)-1])"
   ]
  },
  {
   "cell_type": "markdown",
   "metadata": {},
   "source": [
    "Similar to the face landmarks, the left hand and the right hand landmarks, due to symmetry, have 3 attributes."
   ]
  },
  {
   "cell_type": "code",
   "execution_count": 70,
   "metadata": {},
   "outputs": [],
   "source": [
    "frame_left_hand_landmarks = []\n",
    "for lm in landmarks.left_hand_landmarks.landmark:\n",
    "    current_left_hand_landmark = np.array([lm.x, lm.y, lm.z])\n",
    "    #CONTINUE --- Create a list and append each landmark array to it. Do error checking incase a landmark is not there or empty. Save numpy array (or later)\n",
    "    frame_left_hand_landmarks.append(current_left_hand_landmark)"
   ]
  },
  {
   "cell_type": "code",
   "execution_count": 71,
   "metadata": {},
   "outputs": [
    {
     "name": "stdout",
     "output_type": "stream",
     "text": [
      "(21, 3)\n",
      "21\n"
     ]
    }
   ],
   "source": [
    "frame_left_hand_landmarks_np = np.asarray(frame_left_hand_landmarks) #Convert to numpy array to get shape and be able to save array.\n",
    "print(frame_left_hand_landmarks_np.shape)\n",
    "print(len(frame_left_hand_landmarks_np))"
   ]
  },
  {
   "cell_type": "markdown",
   "metadata": {},
   "source": [
    "However, the left hand consists of only 21 landmarks, with each landmark having 3 attributes (x,y,z)"
   ]
  },
  {
   "cell_type": "markdown",
   "metadata": {},
   "source": [
    "I expect the right hand to be the same"
   ]
  },
  {
   "cell_type": "code",
   "execution_count": 72,
   "metadata": {},
   "outputs": [
    {
     "name": "stdout",
     "output_type": "stream",
     "text": [
      "x: 0.511085749\n",
      "y: 0.756257653\n",
      "z: -0.0415751301\n",
      "\n"
     ]
    }
   ],
   "source": [
    "print(landmarks.right_hand_landmarks.landmark[len(landmarks.right_hand_landmarks.landmark)-1])"
   ]
  },
  {
   "cell_type": "code",
   "execution_count": 73,
   "metadata": {},
   "outputs": [],
   "source": [
    "frame_right_hand_landmarks = []\n",
    "for lm in landmarks.right_hand_landmarks.landmark:\n",
    "    current_right_hand_landmark = np.array([lm.x, lm.y, lm.z])\n",
    "    #CONTINUE --- Create a list and append each landmark array to it. Do error checking incase a landmark is not there or empty. Save numpy array (or later)\n",
    "    frame_right_hand_landmarks.append(current_right_hand_landmark)"
   ]
  },
  {
   "cell_type": "code",
   "execution_count": 74,
   "metadata": {},
   "outputs": [
    {
     "name": "stdout",
     "output_type": "stream",
     "text": [
      "(21, 3)\n",
      "21\n"
     ]
    }
   ],
   "source": [
    "frame_right_hand_landmarks_np = np.asarray(frame_right_hand_landmarks) #Convert to numpy array to get shape and be able to save array.\n",
    "print(frame_right_hand_landmarks_np.shape)\n",
    "print(len(frame_right_hand_landmarks_np))"
   ]
  },
  {
   "cell_type": "markdown",
   "metadata": {},
   "source": [
    "As expected, the results from the right hand landmarks are the same as the left hand"
   ]
  },
  {
   "cell_type": "markdown",
   "metadata": {},
   "source": [
    "To make the data one dimensional and easier to use, I will flatten it like we did in previous assignments"
   ]
  },
  {
   "cell_type": "code",
   "execution_count": 75,
   "metadata": {},
   "outputs": [
    {
     "name": "stdout",
     "output_type": "stream",
     "text": [
      "(63,)\n",
      "63\n"
     ]
    }
   ],
   "source": [
    "frame_right_hand_landmarks_np_flatten = frame_right_hand_landmarks_np.flatten() #Flatten array so it's one dimensional and easier to use\n",
    "print(frame_right_hand_landmarks_np_flatten.shape)\n",
    "print(len(frame_right_hand_landmarks_np_flatten))"
   ]
  },
  {
   "cell_type": "markdown",
   "metadata": {},
   "source": [
    "Now the data has only one dimension."
   ]
  },
  {
   "cell_type": "markdown",
   "metadata": {},
   "source": [
    "To make it even easier to use, I will flatten all arrays and concatenate them into one big array"
   ]
  },
  {
   "cell_type": "code",
   "execution_count": 76,
   "metadata": {},
   "outputs": [
    {
     "name": "stdout",
     "output_type": "stream",
     "text": [
      "(63,)\n",
      "63\n",
      "(1404,)\n",
      "1404\n",
      "(132,)\n",
      "132\n"
     ]
    }
   ],
   "source": [
    "frame_left_hand_landmarks_np_flatten = frame_left_hand_landmarks_np.flatten() #Flatten array so it's one dimensional and easier to use\n",
    "print(frame_left_hand_landmarks_np_flatten.shape)\n",
    "print(len(frame_left_hand_landmarks_np_flatten))\n",
    "\n",
    "frame_face_landmarks_np_flatten = frame_face_landmarks_np.flatten() #Flatten array so it's one dimensional and easier to use\n",
    "print(frame_face_landmarks_np_flatten.shape)\n",
    "print(len(frame_face_landmarks_np_flatten))\n",
    "\n",
    "frame_pose_landmarks_np_flatten = frame_pose_landmarks_np.flatten() #Flatten array so it's one dimensional and easier to use\n",
    "print(frame_pose_landmarks_np_flatten.shape)\n",
    "print(len(frame_pose_landmarks_np_flatten))"
   ]
  },
  {
   "cell_type": "code",
   "execution_count": 77,
   "metadata": {},
   "outputs": [
    {
     "name": "stdout",
     "output_type": "stream",
     "text": [
      "(1662,)\n",
      "1662\n"
     ]
    }
   ],
   "source": [
    "landmarks_combined = np.concatenate([frame_face_landmarks_np_flatten, frame_left_hand_landmarks_np_flatten, frame_pose_landmarks_np_flatten, frame_right_hand_landmarks_np_flatten])\n",
    "print(landmarks_combined.shape)\n",
    "print(len(landmarks_combined))"
   ]
  },
  {
   "cell_type": "markdown",
   "metadata": {},
   "source": [
    "Now this one array contains all the landmarks"
   ]
  },
  {
   "cell_type": "markdown",
   "metadata": {},
   "source": [
    "__NOTE:__ There is a small issue though. If the holistic model does not detect one of the pose, face, or hands, it will return None. This will mess up the shape of the input data and cause problems during training. So, if a model returns None for any detections, I will create an array of zeros instead."
   ]
  },
  {
   "cell_type": "markdown",
   "metadata": {},
   "source": [
    "For example, if I try the first frame of the first video:"
   ]
  },
  {
   "cell_type": "code",
   "execution_count": 78,
   "metadata": {},
   "outputs": [
    {
     "name": "stderr",
     "output_type": "stream",
     "text": [
      "I0000 00:00:1732248612.076206    4062 gl_context_egl.cc:85] Successfully initialized EGL. Major : 1 Minor: 5\n",
      "I0000 00:00:1732248612.079438    5437 gl_context.cc:357] GL version: 3.2 (OpenGL ES 3.2 Mesa 23.2.1-1ubuntu3.1~22.04.2), renderer: GFX1103_R1 (gfx1103_r1, LLVM 15.0.7, DRM 3.57, 6.8.0-48-generic)\n",
      "W0000 00:00:1732248612.264127    5420 inference_feedback_manager.cc:114] Feedback manager requires a model with a single signature inference. Disabling support for feedback tensors.\n",
      "W0000 00:00:1732248612.359951    5421 inference_feedback_manager.cc:114] Feedback manager requires a model with a single signature inference. Disabling support for feedback tensors.\n",
      "W0000 00:00:1732248612.363289    5425 inference_feedback_manager.cc:114] Feedback manager requires a model with a single signature inference. Disabling support for feedback tensors.\n",
      "W0000 00:00:1732248612.366629    5424 inference_feedback_manager.cc:114] Feedback manager requires a model with a single signature inference. Disabling support for feedback tensors.\n",
      "W0000 00:00:1732248612.369992    5426 inference_feedback_manager.cc:114] Feedback manager requires a model with a single signature inference. Disabling support for feedback tensors.\n",
      "W0000 00:00:1732248612.385191    5422 inference_feedback_manager.cc:114] Feedback manager requires a model with a single signature inference. Disabling support for feedback tensors.\n",
      "W0000 00:00:1732248612.415739    5419 inference_feedback_manager.cc:114] Feedback manager requires a model with a single signature inference. Disabling support for feedback tensors.\n",
      "W0000 00:00:1732248612.421450    5433 inference_feedback_manager.cc:114] Feedback manager requires a model with a single signature inference. Disabling support for feedback tensors.\n"
     ]
    },
    {
     "data": {
      "image/png": "[encoded data removed]",
      "text/plain": [
       "<Figure size 640x480 with 1 Axes>"
      ]
     },
     "metadata": {},
     "output_type": "display_data"
    },
    {
     "data": {
      "text/plain": [
       "type"
      ]
     },
     "execution_count": 78,
     "metadata": {},
     "output_type": "execute_result"
    }
   ],
   "source": [
    "img, landmarks2 = open_image_detect_holistic('train/0/0/frames/0_1.png')\n",
    "draw_over_image(img, landmarks2)\n",
    "type(landmarks2)"
   ]
  },
  {
   "cell_type": "markdown",
   "metadata": {},
   "source": [
    "As seen in the above image, there are no hand landmarks. So if I try to get the results for the hand landmarks, I should get None:"
   ]
  },
  {
   "cell_type": "code",
   "execution_count": 79,
   "metadata": {},
   "outputs": [
    {
     "name": "stdout",
     "output_type": "stream",
     "text": [
      "True\n",
      "True\n",
      "False\n",
      "False\n"
     ]
    }
   ],
   "source": [
    "print(landmarks2.left_hand_landmarks is None)\n",
    "print(landmarks2.right_hand_landmarks is None)\n",
    "print(landmarks2.pose_landmarks is None)\n",
    "print(landmarks2.face_landmarks is None)"
   ]
  },
  {
   "cell_type": "code",
   "execution_count": 80,
   "metadata": {},
   "outputs": [
    {
     "name": "stdout",
     "output_type": "stream",
     "text": [
      "468\n"
     ]
    }
   ],
   "source": [
    "print(len(landmarks2.face_landmarks.landmark))"
   ]
  },
  {
   "cell_type": "markdown",
   "metadata": {},
   "source": [
    "As seen here, there are no left and right hand landmarks detected, but there are face and pose landmarks. So, I want to replace the left and right hand landmarks with an array of zeros instead of a None object"
   ]
  },
  {
   "cell_type": "code",
   "execution_count": 81,
   "metadata": {},
   "outputs": [
    {
     "name": "stdout",
     "output_type": "stream",
     "text": [
      "(21, 3)\n",
      "[[0. 0. 0.]\n",
      " [0. 0. 0.]\n",
      " [0. 0. 0.]\n",
      " [0. 0. 0.]\n",
      " [0. 0. 0.]\n",
      " [0. 0. 0.]\n",
      " [0. 0. 0.]\n",
      " [0. 0. 0.]\n",
      " [0. 0. 0.]\n",
      " [0. 0. 0.]\n",
      " [0. 0. 0.]\n",
      " [0. 0. 0.]\n",
      " [0. 0. 0.]\n",
      " [0. 0. 0.]\n",
      " [0. 0. 0.]\n",
      " [0. 0. 0.]\n",
      " [0. 0. 0.]\n",
      " [0. 0. 0.]\n",
      " [0. 0. 0.]\n",
      " [0. 0. 0.]\n",
      " [0. 0. 0.]]\n"
     ]
    }
   ],
   "source": [
    "f_rh_lm = []\n",
    "if landmarks2.right_hand_landmarks is None:\n",
    "    f_rh_lm = np.zeros((21,3))\n",
    "else:\n",
    "    for lm in landmarks2.right_hand_landmarks.landmark:\n",
    "        c_rh_lm = np.array([lm.x, lm.y, lm.z])\n",
    "        f_rh_lm.append(c_rh_lm)\n",
    "f_rh_lm_np = np.array(f_rh_lm)\n",
    "print(f_rh_lm_np.shape)\n",
    "print(f_rh_lm_np)"
   ]
  },
  {
   "cell_type": "markdown",
   "metadata": {},
   "source": [
    "This way, the numpy arrays will all be the same for every frame"
   ]
  },
  {
   "cell_type": "markdown",
   "metadata": {},
   "source": [
    "So, in summary, the different landmarks are as follows:\n",
    "- Face landmarks: 468 landmarks, each landmark has 3 attributes -> x, y, z\n",
    "- Pose landmarks: 33 landmarks, each landmark has 4 attributes -> x, y, z, visibility\n",
    "- left hand landmarks: 21 landmarks, each landmark has 3 attributes -> x, y ,z\n",
    "- right hand landmark: 21 landmarks, each landmark has 3 attributes -> x, y ,z\n",
    "\n",
    "Total combined: 1662 landmark data points"
   ]
  },
  {
   "cell_type": "code",
   "execution_count": 4,
   "metadata": {},
   "outputs": [],
   "source": [
    "def retrieve_landmarks(landmark_results):\n",
    "    f_p_lm = []\n",
    "    f_f_lm = []\n",
    "    f_lh_lm = []\n",
    "    f_rh_lm = []\n",
    "    \n",
    "    if landmark_results.pose_landmarks is None:\n",
    "        f_p_lm = np.zeros((33,4))\n",
    "    else:\n",
    "        for lm in landmark_results.pose_landmarks.landmark:\n",
    "            c_p_lm = np.array([lm.x, lm.y, lm.z, lm.visibility])\n",
    "            f_p_lm.append(c_p_lm)\n",
    "\n",
    "    if landmark_results.face_landmarks is None:\n",
    "        f_f_lm = np.zeros((468,3))\n",
    "    else:\n",
    "        for lm in landmark_results.face_landmarks.landmark:\n",
    "            c_f_lm = np.array([lm.x, lm.y, lm.z])\n",
    "            f_f_lm.append(c_f_lm)\n",
    "\n",
    "    if landmark_results.left_hand_landmarks is None:\n",
    "        f_lh_lm = np.zeros((21,3))\n",
    "    else:\n",
    "        for lm in landmark_results.left_hand_landmarks.landmark:\n",
    "            c_lh_lm = np.array([lm.x, lm.y, lm.z])\n",
    "            f_lh_lm.append(c_lh_lm)\n",
    "\n",
    "    if landmark_results.right_hand_landmarks is None:\n",
    "        f_rh_lm = np.zeros((21,3))\n",
    "    else:\n",
    "        for lm in landmark_results.right_hand_landmarks.landmark:\n",
    "            c_rh_lm = np.array([lm.x, lm.y, lm.z])\n",
    "            f_rh_lm.append(c_rh_lm)\n",
    "\n",
    "    #Convert all arrays to numpy arrays\n",
    "    f_p_lm_np = np.asarray(f_p_lm)\n",
    "    f_f_lm_np = np.asarray(f_f_lm)\n",
    "    f_lh_lm_np = np.asarray(f_lh_lm)\n",
    "    f_rh_lm_np = np.asarray(f_rh_lm)\n",
    "\n",
    "    #For debugging\n",
    "    print(f_p_lm_np.shape)\n",
    "    print(f_f_lm_np.shape)\n",
    "    print(f_lh_lm_np.shape)\n",
    "    print(f_rh_lm_np.shape)\n",
    "\n",
    "    #Flatten all arrays so there are less dimensions to deal with\n",
    "    f_p_lm_np_flat = f_p_lm_np.flatten()\n",
    "    f_f_lm_np_flat = f_f_lm_np.flatten()\n",
    "    f_lh_lm_np_flat = f_lh_lm_np.flatten()\n",
    "    f_rh_lm_np_flat = f_rh_lm_np.flatten()\n",
    "\n",
    "    #Combine all landmarks to one big array.\n",
    "    return np.concatenate([f_p_lm_np_flat, f_f_lm_np_flat, f_lh_lm_np_flat, f_rh_lm_np_flat])\n"
   ]
  },
  {
   "cell_type": "markdown",
   "metadata": {},
   "source": [
    "I will now test this"
   ]
  },
  {
   "cell_type": "code",
   "execution_count": 83,
   "metadata": {},
   "outputs": [
    {
     "name": "stdout",
     "output_type": "stream",
     "text": [
      "(33, 4)\n",
      "(468, 3)\n",
      "(21, 3)\n",
      "(21, 3)\n",
      "(1662,)\n",
      "(33, 4)\n",
      "(468, 3)\n",
      "(21, 3)\n",
      "(21, 3)\n",
      "(1662,)\n"
     ]
    }
   ],
   "source": [
    "lms_combined = retrieve_landmarks(landmarks)\n",
    "print(lms_combined.shape)\n",
    "\n",
    "lms2_combined = retrieve_landmarks(landmarks2)\n",
    "print(lms2_combined.shape)"
   ]
  },
  {
   "cell_type": "code",
   "execution_count": 89,
   "metadata": {},
   "outputs": [
    {
     "name": "stdout",
     "output_type": "stream",
     "text": [
      "[ 5.74284077e-01  7.10944772e-01 -2.25607380e-07  5.65736949e-01\n",
      "  6.84991360e-01 -2.02746852e-03  5.46173751e-01  6.69128120e-01\n",
      " -4.88910917e-03  5.28122365e-01  6.61316395e-01 -8.15823860e-03\n",
      "  5.16630590e-01  6.60043776e-01 -1.24287568e-02  5.42341232e-01\n",
      "  6.79723024e-01 -7.35105015e-03  5.36577463e-01  6.89897656e-01\n",
      " -1.46628534e-02  5.31716645e-01  6.98317885e-01 -2.30474360e-02\n",
      "  5.26292622e-01  7.03060269e-01 -2.88427547e-02  5.40133834e-01\n",
      "  7.00380921e-01 -9.97683965e-03  5.35663009e-01  7.11140156e-01\n",
      " -1.40391178e-02  5.28899848e-01  7.16772437e-01 -1.94734801e-02\n",
      "  5.22287726e-01  7.17805684e-01 -2.51061302e-02  5.36930025e-01\n",
      "  7.19631374e-01 -1.23848412e-02  5.28789282e-01  7.28965163e-01\n",
      " -1.72413327e-02  5.22930741e-01  7.32240319e-01 -1.91737656e-02\n",
      "  5.16970217e-01  7.32412279e-01 -2.15412509e-02  5.32595754e-01\n",
      "  7.38089383e-01 -1.47016123e-02  5.20894289e-01  7.48831272e-01\n",
      " -1.70991942e-02  5.15873313e-01  7.50614524e-01 -1.45416372e-02\n",
      "  5.11461556e-01  7.48671710e-01 -1.32751977e-02  4.62925643e-01\n",
      "  6.81481481e-01 -1.96654444e-08  4.65954602e-01  6.53689563e-01\n",
      " -1.19594065e-02  4.68360841e-01  6.30876362e-01 -1.94126088e-02\n",
      "  4.70780760e-01  6.11162961e-01 -2.51946226e-02  4.69949663e-01\n",
      "  5.92921972e-01 -3.04453578e-02  4.64352131e-01  6.59145296e-01\n",
      " -2.53540371e-02  4.67356622e-01  6.69348001e-01 -3.86779569e-02\n",
      "  4.73955929e-01  6.72673762e-01 -4.79652472e-02  4.81485337e-01\n",
      "  6.73068404e-01 -5.42811565e-02  4.70980346e-01  6.86944425e-01\n",
      " -2.59650499e-02  4.75919694e-01  6.97842181e-01 -3.80420014e-02\n",
      "  4.85417843e-01  7.04974174e-01 -4.38295566e-02  4.97578919e-01\n",
      "  7.10818529e-01 -4.92598861e-02  4.77504104e-01  7.07984924e-01\n",
      " -2.67558489e-02  4.86277759e-01  7.23747313e-01 -4.12165262e-02\n",
      "  4.96605277e-01  7.31291234e-01 -4.31951098e-02  5.08363724e-01\n",
      "  7.38936841e-01 -4.38954495e-02  4.83372629e-01  7.25205958e-01\n",
      " -2.81280540e-02  4.93935227e-01  7.44647086e-01 -4.00379933e-02\n",
      "  5.02541006e-01  7.51345754e-01 -4.12932038e-02  5.11085749e-01\n",
      "  7.56257653e-01 -4.15751301e-02]\n",
      "[0. 0. 0. 0. 0. 0. 0. 0. 0. 0. 0. 0. 0. 0. 0. 0. 0. 0. 0. 0. 0. 0. 0. 0.\n",
      " 0. 0. 0. 0. 0. 0. 0. 0. 0. 0. 0. 0. 0. 0. 0. 0. 0. 0. 0. 0. 0. 0. 0. 0.\n",
      " 0. 0. 0. 0. 0. 0. 0. 0. 0. 0. 0. 0. 0. 0. 0. 0. 0. 0. 0. 0. 0. 0. 0. 0.\n",
      " 0. 0. 0. 0. 0. 0. 0. 0. 0. 0. 0. 0. 0. 0. 0. 0. 0. 0. 0. 0. 0. 0. 0. 0.\n",
      " 0. 0. 0. 0. 0. 0. 0. 0. 0. 0. 0. 0. 0. 0. 0. 0. 0. 0. 0. 0. 0. 0. 0. 0.\n",
      " 0. 0. 0. 0. 0. 0.]\n"
     ]
    }
   ],
   "source": [
    "print(lms_combined[1536:1662])\n",
    "print(lms2_combined[1536:1662])"
   ]
  },
  {
   "cell_type": "markdown",
   "metadata": {},
   "source": [
    "So the second frame that does not have left and right hand landmarks now has landmark points but there are 0. While the first image that has left and right hand landmarks has actual values."
   ]
  },
  {
   "cell_type": "markdown",
   "metadata": {},
   "source": [
    "Next, I want to save these arrays so I can load them later for training. Numpy has a function called save() that takes in the file name and array to save:"
   ]
  },
  {
   "cell_type": "markdown",
   "metadata": {},
   "source": [
    "For example, I will save the array for the first image I tested above"
   ]
  },
  {
   "cell_type": "code",
   "execution_count": 91,
   "metadata": {},
   "outputs": [],
   "source": [
    "np.save('test_saving_np.npy', lms_combined)"
   ]
  },
  {
   "cell_type": "markdown",
   "metadata": {},
   "source": [
    "Now I can load this and verify that the data has been saved correctly"
   ]
  },
  {
   "cell_type": "code",
   "execution_count": null,
   "metadata": {},
   "outputs": [],
   "source": [
    "load_lms_combined = np.load('test_saving_np.npy')\n",
    "print(load_lms_combined.shape)\n",
    "print(load_lms_combined[1536:1662])"
   ]
  },
  {
   "cell_type": "markdown",
   "metadata": {},
   "source": [
    "So, this works. Now I can do this for every frame in the video. The steps are:\n",
    "1. Go through every image in the word range I want\n",
    "2. Pass image file path to open_image_detect_holistic() function.\n",
    "3. Capture the returned landmark results from the function called in step 1\n",
    "4. Pass the landmark results to the retrieve_landmarks() function\n",
    "5. Capture the result of the function called in step 3. Which is one array that has all landmark points for that image.\n",
    "6. Save the numpy array to a file in the directory of the instance\n",
    "7. Repeat steps 2-6 for every image"
   ]
  },
  {
   "cell_type": "code",
   "execution_count": null,
   "metadata": {},
   "outputs": [],
   "source": [
    "def words_frames_to_points(split_type = 'train', start_word = 0, end_word = 1):\n",
    "    count = 0\n",
    "    for root, dirs, files in os.walk(split_type):\n",
    "        for file_name in files:\n",
    "            if file_name.endswith('.png'):\n",
    "                root_split = root.split('/')\n",
    "                word_id = root_split[1]\n",
    "                if int(word_id) >= start_word and int(word_id) < end_word:\n",
    "                    file_name_split = file_name.split('.')\n",
    "                    #print(word_id)\n",
    "                    #print(file_name, root)\n",
    "                    frame_path = os.path.join(root, file_name)\n",
    "                    #print(f'Frame path {frame_path}')\n",
    "                    directory_path = root_split[0] + '/' + root_split[1] + '/' + root_split[2] + '/points_arrays/'\n",
    "                    if not os.path.exists(directory_path):\n",
    "                        print(f'No directory called {directory_path}. Creating one now')\n",
    "                        os.makedirs(directory_path)\n",
    "                    new_path = directory_path + file_name_split[0] + '.npy'\n",
    "                    #print(new_path + '\\n')\n",
    "                    img, img_lm = open_image_detect_holistic(frame_path)\n",
    "                    lms_frame = retrieve_landmarks(img_lm)\n",
    "                    np.save(new_path, lms_frame)\n",
    "                    print(f'Numpy array for frame {frame_path} has been saved to {new_path}')\n",
    "                    count = count + 1\n",
    "    print(f'{count} frames have been converted to numpy arrays of landmark points')\n",
    "    return count"
   ]
  },
  {
   "cell_type": "code",
   "execution_count": 6,
   "metadata": {},
   "outputs": [
    {
     "name": "stdout",
     "output_type": "stream",
     "text": [
      "No directory called train/0/19/points_arrays/. Creating one now\n"
     ]
    },
    {
     "name": "stderr",
     "output_type": "stream",
     "text": [
      "WARNING: All log messages before absl::InitializeLog() is called are written to STDERR\n",
      "I0000 00:00:1732251946.064196    8496 gl_context_egl.cc:85] Successfully initialized EGL. Major : 1 Minor: 5\n",
      "I0000 00:00:1732251946.072773    8582 gl_context.cc:357] GL version: 3.2 (OpenGL ES 3.2 Mesa 23.2.1-1ubuntu3.1~22.04.2), renderer: GFX1103_R1 (gfx1103_r1, LLVM 15.0.7, DRM 3.57, 6.8.0-48-generic)\n",
      "INFO: Created TensorFlow Lite XNNPACK delegate for CPU.\n",
      "W0000 00:00:1732251946.265069    8562 inference_feedback_manager.cc:114] Feedback manager requires a model with a single signature inference. Disabling support for feedback tensors.\n",
      "W0000 00:00:1732251946.354560    8569 inference_feedback_manager.cc:114] Feedback manager requires a model with a single signature inference. Disabling support for feedback tensors.\n",
      "W0000 00:00:1732251946.358044    8564 inference_feedback_manager.cc:114] Feedback manager requires a model with a single signature inference. Disabling support for feedback tensors.\n",
      "W0000 00:00:1732251946.361029    8566 inference_feedback_manager.cc:114] Feedback manager requires a model with a single signature inference. Disabling support for feedback tensors.\n",
      "W0000 00:00:1732251946.362585    8562 inference_feedback_manager.cc:114] Feedback manager requires a model with a single signature inference. Disabling support for feedback tensors.\n",
      "W0000 00:00:1732251946.378373    8567 inference_feedback_manager.cc:114] Feedback manager requires a model with a single signature inference. Disabling support for feedback tensors.\n",
      "W0000 00:00:1732251946.401934    8565 landmark_projection_calculator.cc:186] Using NORM_RECT without IMAGE_DIMENSIONS is only supported for the square ROI. Provide IMAGE_DIMENSIONS or use PROJECTION_MATRIX.\n",
      "W0000 00:00:1732251946.410160    8560 inference_feedback_manager.cc:114] Feedback manager requires a model with a single signature inference. Disabling support for feedback tensors.\n",
      "W0000 00:00:1732251946.418305    8571 inference_feedback_manager.cc:114] Feedback manager requires a model with a single signature inference. Disabling support for feedback tensors.\n",
      "I0000 00:00:1732251946.480204    8496 gl_context_egl.cc:85] Successfully initialized EGL. Major : 1 Minor: 5\n",
      "I0000 00:00:1732251946.483721    8601 gl_context.cc:357] GL version: 3.2 (OpenGL ES 3.2 Mesa 23.2.1-1ubuntu3.1~22.04.2), renderer: GFX1103_R1 (gfx1103_r1, LLVM 15.0.7, DRM 3.57, 6.8.0-48-generic)\n"
     ]
    },
    {
     "name": "stdout",
     "output_type": "stream",
     "text": [
      "(33, 4)\n",
      "(468, 3)\n",
      "(21, 3)\n",
      "(21, 3)\n",
      "Numpy array for frame train/0/19/frames/19_14.png has been saved to train/0/19/points_arrays/19_14.npy\n"
     ]
    },
    {
     "name": "stderr",
     "output_type": "stream",
     "text": [
      "W0000 00:00:1732251946.671855    8584 inference_feedback_manager.cc:114] Feedback manager requires a model with a single signature inference. Disabling support for feedback tensors.\n",
      "W0000 00:00:1732251946.763683    8583 inference_feedback_manager.cc:114] Feedback manager requires a model with a single signature inference. Disabling support for feedback tensors.\n",
      "W0000 00:00:1732251946.766985    8589 inference_feedback_manager.cc:114] Feedback manager requires a model with a single signature inference. Disabling support for feedback tensors.\n",
      "W0000 00:00:1732251946.770897    8595 inference_feedback_manager.cc:114] Feedback manager requires a model with a single signature inference. Disabling support for feedback tensors.\n",
      "W0000 00:00:1732251946.770929    8592 inference_feedback_manager.cc:114] Feedback manager requires a model with a single signature inference. Disabling support for feedback tensors.\n",
      "W0000 00:00:1732251946.798803    8588 inference_feedback_manager.cc:114] Feedback manager requires a model with a single signature inference. Disabling support for feedback tensors.\n",
      "W0000 00:00:1732251946.813254    8584 inference_feedback_manager.cc:114] Feedback manager requires a model with a single signature inference. Disabling support for feedback tensors.\n",
      "W0000 00:00:1732251946.815743    8590 inference_feedback_manager.cc:114] Feedback manager requires a model with a single signature inference. Disabling support for feedback tensors.\n"
     ]
    },
    {
     "name": "stdout",
     "output_type": "stream",
     "text": [
      "(33, 4)\n",
      "(468, 3)\n",
      "(21, 3)\n",
      "(21, 3)\n",
      "Numpy array for frame train/0/19/frames/19_16.png has been saved to train/0/19/points_arrays/19_16.npy\n"
     ]
    },
    {
     "name": "stderr",
     "output_type": "stream",
     "text": [
      "I0000 00:00:1732251946.885688    8496 gl_context_egl.cc:85] Successfully initialized EGL. Major : 1 Minor: 5\n",
      "I0000 00:00:1732251946.889359    8620 gl_context.cc:357] GL version: 3.2 (OpenGL ES 3.2 Mesa 23.2.1-1ubuntu3.1~22.04.2), renderer: GFX1103_R1 (gfx1103_r1, LLVM 15.0.7, DRM 3.57, 6.8.0-48-generic)\n",
      "W0000 00:00:1732251947.062766    8605 inference_feedback_manager.cc:114] Feedback manager requires a model with a single signature inference. Disabling support for feedback tensors.\n",
      "W0000 00:00:1732251947.154231    8610 inference_feedback_manager.cc:114] Feedback manager requires a model with a single signature inference. Disabling support for feedback tensors.\n",
      "W0000 00:00:1732251947.161267    8606 inference_feedback_manager.cc:114] Feedback manager requires a model with a single signature inference. Disabling support for feedback tensors.\n",
      "W0000 00:00:1732251947.161346    8615 inference_feedback_manager.cc:114] Feedback manager requires a model with a single signature inference. Disabling support for feedback tensors.\n",
      "W0000 00:00:1732251947.163320    8612 inference_feedback_manager.cc:114] Feedback manager requires a model with a single signature inference. Disabling support for feedback tensors.\n",
      "W0000 00:00:1732251947.184812    8617 inference_feedback_manager.cc:114] Feedback manager requires a model with a single signature inference. Disabling support for feedback tensors.\n",
      "W0000 00:00:1732251947.204349    8605 inference_feedback_manager.cc:114] Feedback manager requires a model with a single signature inference. Disabling support for feedback tensors.\n",
      "W0000 00:00:1732251947.210567    8611 inference_feedback_manager.cc:114] Feedback manager requires a model with a single signature inference. Disabling support for feedback tensors.\n",
      "I0000 00:00:1732251947.271997    8496 gl_context_egl.cc:85] Successfully initialized EGL. Major : 1 Minor: 5\n",
      "I0000 00:00:1732251947.275084    8639 gl_context.cc:357] GL version: 3.2 (OpenGL ES 3.2 Mesa 23.2.1-1ubuntu3.1~22.04.2), renderer: GFX1103_R1 (gfx1103_r1, LLVM 15.0.7, DRM 3.57, 6.8.0-48-generic)\n"
     ]
    },
    {
     "name": "stdout",
     "output_type": "stream",
     "text": [
      "(33, 4)\n",
      "(468, 3)\n",
      "(21, 3)\n",
      "(21, 3)\n",
      "Numpy array for frame train/0/19/frames/19_2.png has been saved to train/0/19/points_arrays/19_2.npy\n"
     ]
    },
    {
     "name": "stderr",
     "output_type": "stream",
     "text": [
      "W0000 00:00:1732251947.441925    8623 inference_feedback_manager.cc:114] Feedback manager requires a model with a single signature inference. Disabling support for feedback tensors.\n",
      "W0000 00:00:1732251947.538087    8635 inference_feedback_manager.cc:114] Feedback manager requires a model with a single signature inference. Disabling support for feedback tensors.\n",
      "W0000 00:00:1732251947.540530    8627 inference_feedback_manager.cc:114] Feedback manager requires a model with a single signature inference. Disabling support for feedback tensors.\n",
      "W0000 00:00:1732251947.545301    8636 inference_feedback_manager.cc:114] Feedback manager requires a model with a single signature inference. Disabling support for feedback tensors.\n",
      "W0000 00:00:1732251947.547239    8634 inference_feedback_manager.cc:114] Feedback manager requires a model with a single signature inference. Disabling support for feedback tensors.\n",
      "W0000 00:00:1732251947.568843    8636 inference_feedback_manager.cc:114] Feedback manager requires a model with a single signature inference. Disabling support for feedback tensors.\n",
      "W0000 00:00:1732251947.593478    8630 inference_feedback_manager.cc:114] Feedback manager requires a model with a single signature inference. Disabling support for feedback tensors.\n",
      "W0000 00:00:1732251947.598977    8621 inference_feedback_manager.cc:114] Feedback manager requires a model with a single signature inference. Disabling support for feedback tensors.\n"
     ]
    },
    {
     "name": "stdout",
     "output_type": "stream",
     "text": [
      "(33, 4)\n",
      "(468, 3)\n",
      "(21, 3)\n",
      "(21, 3)\n",
      "Numpy array for frame train/0/19/frames/19_15.png has been saved to train/0/19/points_arrays/19_15.npy\n"
     ]
    },
    {
     "name": "stderr",
     "output_type": "stream",
     "text": [
      "I0000 00:00:1732251947.660720    8496 gl_context_egl.cc:85] Successfully initialized EGL. Major : 1 Minor: 5\n",
      "I0000 00:00:1732251947.664865    8658 gl_context.cc:357] GL version: 3.2 (OpenGL ES 3.2 Mesa 23.2.1-1ubuntu3.1~22.04.2), renderer: GFX1103_R1 (gfx1103_r1, LLVM 15.0.7, DRM 3.57, 6.8.0-48-generic)\n",
      "W0000 00:00:1732251947.837851    8642 inference_feedback_manager.cc:114] Feedback manager requires a model with a single signature inference. Disabling support for feedback tensors.\n",
      "W0000 00:00:1732251947.928692    8644 inference_feedback_manager.cc:114] Feedback manager requires a model with a single signature inference. Disabling support for feedback tensors.\n",
      "W0000 00:00:1732251947.932299    8647 inference_feedback_manager.cc:114] Feedback manager requires a model with a single signature inference. Disabling support for feedback tensors.\n",
      "W0000 00:00:1732251947.935376    8649 inference_feedback_manager.cc:114] Feedback manager requires a model with a single signature inference. Disabling support for feedback tensors.\n",
      "W0000 00:00:1732251947.939044    8646 inference_feedback_manager.cc:114] Feedback manager requires a model with a single signature inference. Disabling support for feedback tensors.\n",
      "W0000 00:00:1732251947.960632    8650 inference_feedback_manager.cc:114] Feedback manager requires a model with a single signature inference. Disabling support for feedback tensors.\n",
      "W0000 00:00:1732251947.986348    8641 inference_feedback_manager.cc:114] Feedback manager requires a model with a single signature inference. Disabling support for feedback tensors.\n",
      "W0000 00:00:1732251947.988119    8651 inference_feedback_manager.cc:114] Feedback manager requires a model with a single signature inference. Disabling support for feedback tensors.\n",
      "I0000 00:00:1732251948.064455    8496 gl_context_egl.cc:85] Successfully initialized EGL. Major : 1 Minor: 5\n",
      "I0000 00:00:1732251948.067481    8677 gl_context.cc:357] GL version: 3.2 (OpenGL ES 3.2 Mesa 23.2.1-1ubuntu3.1~22.04.2), renderer: GFX1103_R1 (gfx1103_r1, LLVM 15.0.7, DRM 3.57, 6.8.0-48-generic)\n"
     ]
    },
    {
     "name": "stdout",
     "output_type": "stream",
     "text": [
      "(33, 4)\n",
      "(468, 3)\n",
      "(21, 3)\n",
      "(21, 3)\n",
      "Numpy array for frame train/0/19/frames/19_23.png has been saved to train/0/19/points_arrays/19_23.npy\n"
     ]
    },
    {
     "name": "stderr",
     "output_type": "stream",
     "text": [
      "W0000 00:00:1732251948.227513    8661 inference_feedback_manager.cc:114] Feedback manager requires a model with a single signature inference. Disabling support for feedback tensors.\n",
      "W0000 00:00:1732251948.311048    8660 inference_feedback_manager.cc:114] Feedback manager requires a model with a single signature inference. Disabling support for feedback tensors.\n",
      "W0000 00:00:1732251948.317025    8662 inference_feedback_manager.cc:114] Feedback manager requires a model with a single signature inference. Disabling support for feedback tensors.\n",
      "W0000 00:00:1732251948.319875    8660 inference_feedback_manager.cc:114] Feedback manager requires a model with a single signature inference. Disabling support for feedback tensors.\n",
      "W0000 00:00:1732251948.320534    8671 inference_feedback_manager.cc:114] Feedback manager requires a model with a single signature inference. Disabling support for feedback tensors.\n",
      "W0000 00:00:1732251948.339365    8665 inference_feedback_manager.cc:114] Feedback manager requires a model with a single signature inference. Disabling support for feedback tensors.\n",
      "W0000 00:00:1732251948.353219    8666 inference_feedback_manager.cc:114] Feedback manager requires a model with a single signature inference. Disabling support for feedback tensors.\n",
      "W0000 00:00:1732251948.362700    8662 inference_feedback_manager.cc:114] Feedback manager requires a model with a single signature inference. Disabling support for feedback tensors.\n"
     ]
    },
    {
     "name": "stdout",
     "output_type": "stream",
     "text": [
      "(33, 4)\n",
      "(468, 3)\n",
      "(21, 3)\n",
      "(21, 3)\n",
      "Numpy array for frame train/0/19/frames/19_13.png has been saved to train/0/19/points_arrays/19_13.npy\n"
     ]
    },
    {
     "name": "stderr",
     "output_type": "stream",
     "text": [
      "I0000 00:00:1732251948.421330    8496 gl_context_egl.cc:85] Successfully initialized EGL. Major : 1 Minor: 5\n",
      "I0000 00:00:1732251948.424424    8696 gl_context.cc:357] GL version: 3.2 (OpenGL ES 3.2 Mesa 23.2.1-1ubuntu3.1~22.04.2), renderer: GFX1103_R1 (gfx1103_r1, LLVM 15.0.7, DRM 3.57, 6.8.0-48-generic)\n",
      "W0000 00:00:1732251948.579353    8681 inference_feedback_manager.cc:114] Feedback manager requires a model with a single signature inference. Disabling support for feedback tensors.\n",
      "W0000 00:00:1732251948.656075    8684 inference_feedback_manager.cc:114] Feedback manager requires a model with a single signature inference. Disabling support for feedback tensors.\n",
      "W0000 00:00:1732251948.663123    8684 inference_feedback_manager.cc:114] Feedback manager requires a model with a single signature inference. Disabling support for feedback tensors.\n",
      "W0000 00:00:1732251948.663202    8691 inference_feedback_manager.cc:114] Feedback manager requires a model with a single signature inference. Disabling support for feedback tensors.\n",
      "W0000 00:00:1732251948.663209    8688 inference_feedback_manager.cc:114] Feedback manager requires a model with a single signature inference. Disabling support for feedback tensors.\n",
      "W0000 00:00:1732251948.683345    8685 inference_feedback_manager.cc:114] Feedback manager requires a model with a single signature inference. Disabling support for feedback tensors.\n",
      "W0000 00:00:1732251948.707156    8693 inference_feedback_manager.cc:114] Feedback manager requires a model with a single signature inference. Disabling support for feedback tensors.\n",
      "W0000 00:00:1732251948.708214    8689 inference_feedback_manager.cc:114] Feedback manager requires a model with a single signature inference. Disabling support for feedback tensors.\n",
      "I0000 00:00:1732251948.763894    8496 gl_context_egl.cc:85] Successfully initialized EGL. Major : 1 Minor: 5\n",
      "I0000 00:00:1732251948.766502    8715 gl_context.cc:357] GL version: 3.2 (OpenGL ES 3.2 Mesa 23.2.1-1ubuntu3.1~22.04.2), renderer: GFX1103_R1 (gfx1103_r1, LLVM 15.0.7, DRM 3.57, 6.8.0-48-generic)\n"
     ]
    },
    {
     "name": "stdout",
     "output_type": "stream",
     "text": [
      "(33, 4)\n",
      "(468, 3)\n",
      "(21, 3)\n",
      "(21, 3)\n",
      "Numpy array for frame train/0/19/frames/19_11.png has been saved to train/0/19/points_arrays/19_11.npy\n"
     ]
    },
    {
     "name": "stderr",
     "output_type": "stream",
     "text": [
      "W0000 00:00:1732251948.926358    8699 inference_feedback_manager.cc:114] Feedback manager requires a model with a single signature inference. Disabling support for feedback tensors.\n",
      "W0000 00:00:1732251949.006298    8702 inference_feedback_manager.cc:114] Feedback manager requires a model with a single signature inference. Disabling support for feedback tensors.\n",
      "W0000 00:00:1732251949.008445    8697 inference_feedback_manager.cc:114] Feedback manager requires a model with a single signature inference. Disabling support for feedback tensors.\n",
      "W0000 00:00:1732251949.013379    8708 inference_feedback_manager.cc:114] Feedback manager requires a model with a single signature inference. Disabling support for feedback tensors.\n",
      "W0000 00:00:1732251949.014097    8712 inference_feedback_manager.cc:114] Feedback manager requires a model with a single signature inference. Disabling support for feedback tensors.\n",
      "W0000 00:00:1732251949.023953    8699 inference_feedback_manager.cc:114] Feedback manager requires a model with a single signature inference. Disabling support for feedback tensors.\n",
      "W0000 00:00:1732251949.053572    8701 inference_feedback_manager.cc:114] Feedback manager requires a model with a single signature inference. Disabling support for feedback tensors.\n",
      "W0000 00:00:1732251949.065992    8710 inference_feedback_manager.cc:114] Feedback manager requires a model with a single signature inference. Disabling support for feedback tensors.\n",
      "I0000 00:00:1732251949.121128    8496 gl_context_egl.cc:85] Successfully initialized EGL. Major : 1 Minor: 5\n",
      "I0000 00:00:1732251949.123493    8734 gl_context.cc:357] GL version: 3.2 (OpenGL ES 3.2 Mesa 23.2.1-1ubuntu3.1~22.04.2), renderer: GFX1103_R1 (gfx1103_r1, LLVM 15.0.7, DRM 3.57, 6.8.0-48-generic)\n"
     ]
    },
    {
     "name": "stdout",
     "output_type": "stream",
     "text": [
      "(33, 4)\n",
      "(468, 3)\n",
      "(21, 3)\n",
      "(21, 3)\n",
      "Numpy array for frame train/0/19/frames/19_4.png has been saved to train/0/19/points_arrays/19_4.npy\n"
     ]
    },
    {
     "name": "stderr",
     "output_type": "stream",
     "text": [
      "W0000 00:00:1732251949.285067    8718 inference_feedback_manager.cc:114] Feedback manager requires a model with a single signature inference. Disabling support for feedback tensors.\n",
      "W0000 00:00:1732251949.362226    8729 inference_feedback_manager.cc:114] Feedback manager requires a model with a single signature inference. Disabling support for feedback tensors.\n",
      "W0000 00:00:1732251949.365471    8716 inference_feedback_manager.cc:114] Feedback manager requires a model with a single signature inference. Disabling support for feedback tensors.\n",
      "W0000 00:00:1732251949.369206    8729 inference_feedback_manager.cc:114] Feedback manager requires a model with a single signature inference. Disabling support for feedback tensors.\n",
      "W0000 00:00:1732251949.370367    8725 inference_feedback_manager.cc:114] Feedback manager requires a model with a single signature inference. Disabling support for feedback tensors.\n",
      "W0000 00:00:1732251949.389612    8717 inference_feedback_manager.cc:114] Feedback manager requires a model with a single signature inference. Disabling support for feedback tensors.\n",
      "W0000 00:00:1732251949.411017    8721 inference_feedback_manager.cc:114] Feedback manager requires a model with a single signature inference. Disabling support for feedback tensors.\n",
      "W0000 00:00:1732251949.412534    8720 inference_feedback_manager.cc:114] Feedback manager requires a model with a single signature inference. Disabling support for feedback tensors.\n",
      "I0000 00:00:1732251949.486631    8496 gl_context_egl.cc:85] Successfully initialized EGL. Major : 1 Minor: 5\n",
      "I0000 00:00:1732251949.489891    8753 gl_context.cc:357] GL version: 3.2 (OpenGL ES 3.2 Mesa 23.2.1-1ubuntu3.1~22.04.2), renderer: GFX1103_R1 (gfx1103_r1, LLVM 15.0.7, DRM 3.57, 6.8.0-48-generic)\n"
     ]
    },
    {
     "name": "stdout",
     "output_type": "stream",
     "text": [
      "(33, 4)\n",
      "(468, 3)\n",
      "(21, 3)\n",
      "(21, 3)\n",
      "Numpy array for frame train/0/19/frames/19_27.png has been saved to train/0/19/points_arrays/19_27.npy\n"
     ]
    },
    {
     "name": "stderr",
     "output_type": "stream",
     "text": [
      "W0000 00:00:1732251949.665575    8737 inference_feedback_manager.cc:114] Feedback manager requires a model with a single signature inference. Disabling support for feedback tensors.\n",
      "W0000 00:00:1732251949.746265    8744 inference_feedback_manager.cc:114] Feedback manager requires a model with a single signature inference. Disabling support for feedback tensors.\n",
      "W0000 00:00:1732251949.748602    8740 inference_feedback_manager.cc:114] Feedback manager requires a model with a single signature inference. Disabling support for feedback tensors.\n",
      "W0000 00:00:1732251949.753042    8749 inference_feedback_manager.cc:114] Feedback manager requires a model with a single signature inference. Disabling support for feedback tensors.\n",
      "W0000 00:00:1732251949.753535    8744 inference_feedback_manager.cc:114] Feedback manager requires a model with a single signature inference. Disabling support for feedback tensors.\n",
      "W0000 00:00:1732251949.764308    8737 inference_feedback_manager.cc:114] Feedback manager requires a model with a single signature inference. Disabling support for feedback tensors.\n",
      "W0000 00:00:1732251949.790898    8736 inference_feedback_manager.cc:114] Feedback manager requires a model with a single signature inference. Disabling support for feedback tensors.\n",
      "W0000 00:00:1732251949.796318    8743 inference_feedback_manager.cc:114] Feedback manager requires a model with a single signature inference. Disabling support for feedback tensors.\n",
      "I0000 00:00:1732251949.855702    8496 gl_context_egl.cc:85] Successfully initialized EGL. Major : 1 Minor: 5\n",
      "I0000 00:00:1732251949.858683    8772 gl_context.cc:357] GL version: 3.2 (OpenGL ES 3.2 Mesa 23.2.1-1ubuntu3.1~22.04.2), renderer: GFX1103_R1 (gfx1103_r1, LLVM 15.0.7, DRM 3.57, 6.8.0-48-generic)\n"
     ]
    },
    {
     "name": "stdout",
     "output_type": "stream",
     "text": [
      "(33, 4)\n",
      "(468, 3)\n",
      "(21, 3)\n",
      "(21, 3)\n",
      "Numpy array for frame train/0/19/frames/19_30.png has been saved to train/0/19/points_arrays/19_30.npy\n"
     ]
    },
    {
     "name": "stderr",
     "output_type": "stream",
     "text": [
      "W0000 00:00:1732251950.016647    8756 inference_feedback_manager.cc:114] Feedback manager requires a model with a single signature inference. Disabling support for feedback tensors.\n",
      "W0000 00:00:1732251950.105497    8765 inference_feedback_manager.cc:114] Feedback manager requires a model with a single signature inference. Disabling support for feedback tensors.\n",
      "W0000 00:00:1732251950.109731    8758 inference_feedback_manager.cc:114] Feedback manager requires a model with a single signature inference. Disabling support for feedback tensors.\n",
      "W0000 00:00:1732251950.112342    8767 inference_feedback_manager.cc:114] Feedback manager requires a model with a single signature inference. Disabling support for feedback tensors.\n",
      "W0000 00:00:1732251950.112461    8764 inference_feedback_manager.cc:114] Feedback manager requires a model with a single signature inference. Disabling support for feedback tensors.\n",
      "W0000 00:00:1732251950.130988    8754 inference_feedback_manager.cc:114] Feedback manager requires a model with a single signature inference. Disabling support for feedback tensors.\n",
      "W0000 00:00:1732251950.142751    8756 inference_feedback_manager.cc:114] Feedback manager requires a model with a single signature inference. Disabling support for feedback tensors.\n",
      "W0000 00:00:1732251950.147697    8760 inference_feedback_manager.cc:114] Feedback manager requires a model with a single signature inference. Disabling support for feedback tensors.\n"
     ]
    },
    {
     "name": "stdout",
     "output_type": "stream",
     "text": [
      "(33, 4)\n",
      "(468, 3)\n",
      "(21, 3)\n",
      "(21, 3)\n",
      "Numpy array for frame train/0/19/frames/19_10.png has been saved to train/0/19/points_arrays/19_10.npy\n"
     ]
    },
    {
     "name": "stderr",
     "output_type": "stream",
     "text": [
      "I0000 00:00:1732251950.214488    8496 gl_context_egl.cc:85] Successfully initialized EGL. Major : 1 Minor: 5\n",
      "I0000 00:00:1732251950.217363    8791 gl_context.cc:357] GL version: 3.2 (OpenGL ES 3.2 Mesa 23.2.1-1ubuntu3.1~22.04.2), renderer: GFX1103_R1 (gfx1103_r1, LLVM 15.0.7, DRM 3.57, 6.8.0-48-generic)\n",
      "W0000 00:00:1732251950.375582    8775 inference_feedback_manager.cc:114] Feedback manager requires a model with a single signature inference. Disabling support for feedback tensors.\n",
      "W0000 00:00:1732251950.462905    8776 inference_feedback_manager.cc:114] Feedback manager requires a model with a single signature inference. Disabling support for feedback tensors.\n",
      "W0000 00:00:1732251950.469474    8778 inference_feedback_manager.cc:114] Feedback manager requires a model with a single signature inference. Disabling support for feedback tensors.\n",
      "W0000 00:00:1732251950.469828    8783 inference_feedback_manager.cc:114] Feedback manager requires a model with a single signature inference. Disabling support for feedback tensors.\n",
      "W0000 00:00:1732251950.469927    8773 inference_feedback_manager.cc:114] Feedback manager requires a model with a single signature inference. Disabling support for feedback tensors.\n",
      "W0000 00:00:1732251950.488516    8786 inference_feedback_manager.cc:114] Feedback manager requires a model with a single signature inference. Disabling support for feedback tensors.\n",
      "W0000 00:00:1732251950.513341    8784 inference_feedback_manager.cc:114] Feedback manager requires a model with a single signature inference. Disabling support for feedback tensors.\n",
      "W0000 00:00:1732251950.514686    8778 inference_feedback_manager.cc:114] Feedback manager requires a model with a single signature inference. Disabling support for feedback tensors.\n",
      "I0000 00:00:1732251950.572871    8496 gl_context_egl.cc:85] Successfully initialized EGL. Major : 1 Minor: 5\n",
      "I0000 00:00:1732251950.575748    8810 gl_context.cc:357] GL version: 3.2 (OpenGL ES 3.2 Mesa 23.2.1-1ubuntu3.1~22.04.2), renderer: GFX1103_R1 (gfx1103_r1, LLVM 15.0.7, DRM 3.57, 6.8.0-48-generic)\n"
     ]
    },
    {
     "name": "stdout",
     "output_type": "stream",
     "text": [
      "(33, 4)\n",
      "(468, 3)\n",
      "(21, 3)\n",
      "(21, 3)\n",
      "Numpy array for frame train/0/19/frames/19_1.png has been saved to train/0/19/points_arrays/19_1.npy\n"
     ]
    },
    {
     "name": "stderr",
     "output_type": "stream",
     "text": [
      "W0000 00:00:1732251950.736601    8795 inference_feedback_manager.cc:114] Feedback manager requires a model with a single signature inference. Disabling support for feedback tensors.\n",
      "W0000 00:00:1732251950.815304    8796 inference_feedback_manager.cc:114] Feedback manager requires a model with a single signature inference. Disabling support for feedback tensors.\n",
      "W0000 00:00:1732251950.817544    8794 inference_feedback_manager.cc:114] Feedback manager requires a model with a single signature inference. Disabling support for feedback tensors.\n",
      "W0000 00:00:1732251950.821784    8800 inference_feedback_manager.cc:114] Feedback manager requires a model with a single signature inference. Disabling support for feedback tensors.\n",
      "W0000 00:00:1732251950.822236    8801 inference_feedback_manager.cc:114] Feedback manager requires a model with a single signature inference. Disabling support for feedback tensors.\n",
      "W0000 00:00:1732251950.840871    8803 inference_feedback_manager.cc:114] Feedback manager requires a model with a single signature inference. Disabling support for feedback tensors.\n",
      "W0000 00:00:1732251950.859701    8799 inference_feedback_manager.cc:114] Feedback manager requires a model with a single signature inference. Disabling support for feedback tensors.\n",
      "W0000 00:00:1732251950.863202    8794 inference_feedback_manager.cc:114] Feedback manager requires a model with a single signature inference. Disabling support for feedback tensors.\n",
      "I0000 00:00:1732251950.923364    8496 gl_context_egl.cc:85] Successfully initialized EGL. Major : 1 Minor: 5\n",
      "I0000 00:00:1732251950.926144    8829 gl_context.cc:357] GL version: 3.2 (OpenGL ES 3.2 Mesa 23.2.1-1ubuntu3.1~22.04.2), renderer: GFX1103_R1 (gfx1103_r1, LLVM 15.0.7, DRM 3.57, 6.8.0-48-generic)\n"
     ]
    },
    {
     "name": "stdout",
     "output_type": "stream",
     "text": [
      "(33, 4)\n",
      "(468, 3)\n",
      "(21, 3)\n",
      "(21, 3)\n",
      "Numpy array for frame train/0/19/frames/19_33.png has been saved to train/0/19/points_arrays/19_33.npy\n"
     ]
    },
    {
     "name": "stderr",
     "output_type": "stream",
     "text": [
      "W0000 00:00:1732251951.082075    8813 inference_feedback_manager.cc:114] Feedback manager requires a model with a single signature inference. Disabling support for feedback tensors.\n",
      "W0000 00:00:1732251951.153859    8821 inference_feedback_manager.cc:114] Feedback manager requires a model with a single signature inference. Disabling support for feedback tensors.\n",
      "W0000 00:00:1732251951.156340    8813 inference_feedback_manager.cc:114] Feedback manager requires a model with a single signature inference. Disabling support for feedback tensors.\n",
      "W0000 00:00:1732251951.159142    8819 inference_feedback_manager.cc:114] Feedback manager requires a model with a single signature inference. Disabling support for feedback tensors.\n",
      "W0000 00:00:1732251951.160452    8818 inference_feedback_manager.cc:114] Feedback manager requires a model with a single signature inference. Disabling support for feedback tensors.\n",
      "W0000 00:00:1732251951.170632    8823 inference_feedback_manager.cc:114] Feedback manager requires a model with a single signature inference. Disabling support for feedback tensors.\n",
      "W0000 00:00:1732251951.199466    8824 inference_feedback_manager.cc:114] Feedback manager requires a model with a single signature inference. Disabling support for feedback tensors.\n",
      "W0000 00:00:1732251951.204957    8820 inference_feedback_manager.cc:114] Feedback manager requires a model with a single signature inference. Disabling support for feedback tensors.\n",
      "I0000 00:00:1732251951.264063    8496 gl_context_egl.cc:85] Successfully initialized EGL. Major : 1 Minor: 5\n",
      "I0000 00:00:1732251951.267038    8848 gl_context.cc:357] GL version: 3.2 (OpenGL ES 3.2 Mesa 23.2.1-1ubuntu3.1~22.04.2), renderer: GFX1103_R1 (gfx1103_r1, LLVM 15.0.7, DRM 3.57, 6.8.0-48-generic)\n"
     ]
    },
    {
     "name": "stdout",
     "output_type": "stream",
     "text": [
      "(33, 4)\n",
      "(468, 3)\n",
      "(21, 3)\n",
      "(21, 3)\n",
      "Numpy array for frame train/0/19/frames/19_17.png has been saved to train/0/19/points_arrays/19_17.npy\n"
     ]
    },
    {
     "name": "stderr",
     "output_type": "stream",
     "text": [
      "W0000 00:00:1732251951.427586    8841 inference_feedback_manager.cc:114] Feedback manager requires a model with a single signature inference. Disabling support for feedback tensors.\n",
      "W0000 00:00:1732251951.496898    8835 inference_feedback_manager.cc:114] Feedback manager requires a model with a single signature inference. Disabling support for feedback tensors.\n",
      "W0000 00:00:1732251951.499180    8839 inference_feedback_manager.cc:114] Feedback manager requires a model with a single signature inference. Disabling support for feedback tensors.\n",
      "W0000 00:00:1732251951.502233    8834 inference_feedback_manager.cc:114] Feedback manager requires a model with a single signature inference. Disabling support for feedback tensors.\n",
      "W0000 00:00:1732251951.504160    8832 inference_feedback_manager.cc:114] Feedback manager requires a model with a single signature inference. Disabling support for feedback tensors.\n",
      "W0000 00:00:1732251951.516992    8840 inference_feedback_manager.cc:114] Feedback manager requires a model with a single signature inference. Disabling support for feedback tensors.\n",
      "W0000 00:00:1732251951.534066    8841 inference_feedback_manager.cc:114] Feedback manager requires a model with a single signature inference. Disabling support for feedback tensors.\n",
      "W0000 00:00:1732251951.541733    8839 inference_feedback_manager.cc:114] Feedback manager requires a model with a single signature inference. Disabling support for feedback tensors.\n",
      "I0000 00:00:1732251951.602823    8496 gl_context_egl.cc:85] Successfully initialized EGL. Major : 1 Minor: 5\n",
      "I0000 00:00:1732251951.605268    8867 gl_context.cc:357] GL version: 3.2 (OpenGL ES 3.2 Mesa 23.2.1-1ubuntu3.1~22.04.2), renderer: GFX1103_R1 (gfx1103_r1, LLVM 15.0.7, DRM 3.57, 6.8.0-48-generic)\n"
     ]
    },
    {
     "name": "stdout",
     "output_type": "stream",
     "text": [
      "(33, 4)\n",
      "(468, 3)\n",
      "(21, 3)\n",
      "(21, 3)\n",
      "Numpy array for frame train/0/19/frames/19_22.png has been saved to train/0/19/points_arrays/19_22.npy\n"
     ]
    },
    {
     "name": "stderr",
     "output_type": "stream",
     "text": [
      "W0000 00:00:1732251951.761084    8850 inference_feedback_manager.cc:114] Feedback manager requires a model with a single signature inference. Disabling support for feedback tensors.\n",
      "W0000 00:00:1732251951.837634    8852 inference_feedback_manager.cc:114] Feedback manager requires a model with a single signature inference. Disabling support for feedback tensors.\n",
      "W0000 00:00:1732251951.839647    8854 inference_feedback_manager.cc:114] Feedback manager requires a model with a single signature inference. Disabling support for feedback tensors.\n",
      "W0000 00:00:1732251951.844612    8855 inference_feedback_manager.cc:114] Feedback manager requires a model with a single signature inference. Disabling support for feedback tensors.\n",
      "W0000 00:00:1732251951.846681    8859 inference_feedback_manager.cc:114] Feedback manager requires a model with a single signature inference. Disabling support for feedback tensors.\n",
      "W0000 00:00:1732251951.859810    8861 inference_feedback_manager.cc:114] Feedback manager requires a model with a single signature inference. Disabling support for feedback tensors.\n",
      "W0000 00:00:1732251951.874587    8851 inference_feedback_manager.cc:114] Feedback manager requires a model with a single signature inference. Disabling support for feedback tensors.\n",
      "W0000 00:00:1732251951.886638    8860 inference_feedback_manager.cc:114] Feedback manager requires a model with a single signature inference. Disabling support for feedback tensors.\n",
      "I0000 00:00:1732251951.942705    8496 gl_context_egl.cc:85] Successfully initialized EGL. Major : 1 Minor: 5\n",
      "I0000 00:00:1732251951.946968    8886 gl_context.cc:357] GL version: 3.2 (OpenGL ES 3.2 Mesa 23.2.1-1ubuntu3.1~22.04.2), renderer: GFX1103_R1 (gfx1103_r1, LLVM 15.0.7, DRM 3.57, 6.8.0-48-generic)\n"
     ]
    },
    {
     "name": "stdout",
     "output_type": "stream",
     "text": [
      "(33, 4)\n",
      "(468, 3)\n",
      "(21, 3)\n",
      "(21, 3)\n",
      "Numpy array for frame train/0/19/frames/19_26.png has been saved to train/0/19/points_arrays/19_26.npy\n"
     ]
    },
    {
     "name": "stderr",
     "output_type": "stream",
     "text": [
      "W0000 00:00:1732251952.103233    8876 inference_feedback_manager.cc:114] Feedback manager requires a model with a single signature inference. Disabling support for feedback tensors.\n",
      "W0000 00:00:1732251952.185486    8877 inference_feedback_manager.cc:114] Feedback manager requires a model with a single signature inference. Disabling support for feedback tensors.\n",
      "W0000 00:00:1732251952.188261    8876 inference_feedback_manager.cc:114] Feedback manager requires a model with a single signature inference. Disabling support for feedback tensors.\n",
      "W0000 00:00:1732251952.192335    8872 inference_feedback_manager.cc:114] Feedback manager requires a model with a single signature inference. Disabling support for feedback tensors.\n",
      "W0000 00:00:1732251952.192486    8878 inference_feedback_manager.cc:114] Feedback manager requires a model with a single signature inference. Disabling support for feedback tensors.\n",
      "W0000 00:00:1732251952.209400    8879 inference_feedback_manager.cc:114] Feedback manager requires a model with a single signature inference. Disabling support for feedback tensors.\n",
      "W0000 00:00:1732251952.228582    8873 inference_feedback_manager.cc:114] Feedback manager requires a model with a single signature inference. Disabling support for feedback tensors.\n",
      "W0000 00:00:1732251952.235370    8869 inference_feedback_manager.cc:114] Feedback manager requires a model with a single signature inference. Disabling support for feedback tensors.\n",
      "I0000 00:00:1732251952.293064    8496 gl_context_egl.cc:85] Successfully initialized EGL. Major : 1 Minor: 5\n",
      "I0000 00:00:1732251952.297409    8905 gl_context.cc:357] GL version: 3.2 (OpenGL ES 3.2 Mesa 23.2.1-1ubuntu3.1~22.04.2), renderer: GFX1103_R1 (gfx1103_r1, LLVM 15.0.7, DRM 3.57, 6.8.0-48-generic)\n"
     ]
    },
    {
     "name": "stdout",
     "output_type": "stream",
     "text": [
      "(33, 4)\n",
      "(468, 3)\n",
      "(21, 3)\n",
      "(21, 3)\n",
      "Numpy array for frame train/0/19/frames/19_19.png has been saved to train/0/19/points_arrays/19_19.npy\n"
     ]
    },
    {
     "name": "stderr",
     "output_type": "stream",
     "text": [
      "W0000 00:00:1732251952.452528    8889 inference_feedback_manager.cc:114] Feedback manager requires a model with a single signature inference. Disabling support for feedback tensors.\n",
      "W0000 00:00:1732251952.527789    8899 inference_feedback_manager.cc:114] Feedback manager requires a model with a single signature inference. Disabling support for feedback tensors.\n",
      "W0000 00:00:1732251952.531239    8887 inference_feedback_manager.cc:114] Feedback manager requires a model with a single signature inference. Disabling support for feedback tensors.\n",
      "W0000 00:00:1732251952.535069    8901 inference_feedback_manager.cc:114] Feedback manager requires a model with a single signature inference. Disabling support for feedback tensors.\n",
      "W0000 00:00:1732251952.535570    8898 inference_feedback_manager.cc:114] Feedback manager requires a model with a single signature inference. Disabling support for feedback tensors.\n",
      "W0000 00:00:1732251952.545507    8888 inference_feedback_manager.cc:114] Feedback manager requires a model with a single signature inference. Disabling support for feedback tensors.\n",
      "W0000 00:00:1732251952.577185    8901 inference_feedback_manager.cc:114] Feedback manager requires a model with a single signature inference. Disabling support for feedback tensors.\n",
      "W0000 00:00:1732251952.578074    8895 inference_feedback_manager.cc:114] Feedback manager requires a model with a single signature inference. Disabling support for feedback tensors.\n",
      "I0000 00:00:1732251952.635073    8496 gl_context_egl.cc:85] Successfully initialized EGL. Major : 1 Minor: 5\n",
      "I0000 00:00:1732251952.638181    8924 gl_context.cc:357] GL version: 3.2 (OpenGL ES 3.2 Mesa 23.2.1-1ubuntu3.1~22.04.2), renderer: GFX1103_R1 (gfx1103_r1, LLVM 15.0.7, DRM 3.57, 6.8.0-48-generic)\n"
     ]
    },
    {
     "name": "stdout",
     "output_type": "stream",
     "text": [
      "(33, 4)\n",
      "(468, 3)\n",
      "(21, 3)\n",
      "(21, 3)\n",
      "Numpy array for frame train/0/19/frames/19_6.png has been saved to train/0/19/points_arrays/19_6.npy\n"
     ]
    },
    {
     "name": "stderr",
     "output_type": "stream",
     "text": [
      "W0000 00:00:1732251952.805768    8908 inference_feedback_manager.cc:114] Feedback manager requires a model with a single signature inference. Disabling support for feedback tensors.\n",
      "W0000 00:00:1732251952.883028    8912 inference_feedback_manager.cc:114] Feedback manager requires a model with a single signature inference. Disabling support for feedback tensors.\n",
      "W0000 00:00:1732251952.885056    8911 inference_feedback_manager.cc:114] Feedback manager requires a model with a single signature inference. Disabling support for feedback tensors.\n",
      "W0000 00:00:1732251952.885530    8907 inference_feedback_manager.cc:114] Feedback manager requires a model with a single signature inference. Disabling support for feedback tensors.\n",
      "W0000 00:00:1732251952.890569    8917 inference_feedback_manager.cc:114] Feedback manager requires a model with a single signature inference. Disabling support for feedback tensors.\n",
      "W0000 00:00:1732251952.904715    8920 inference_feedback_manager.cc:114] Feedback manager requires a model with a single signature inference. Disabling support for feedback tensors.\n",
      "W0000 00:00:1732251952.922930    8910 inference_feedback_manager.cc:114] Feedback manager requires a model with a single signature inference. Disabling support for feedback tensors.\n",
      "W0000 00:00:1732251952.924505    8908 inference_feedback_manager.cc:114] Feedback manager requires a model with a single signature inference. Disabling support for feedback tensors.\n",
      "I0000 00:00:1732251952.991935    8496 gl_context_egl.cc:85] Successfully initialized EGL. Major : 1 Minor: 5\n",
      "I0000 00:00:1732251952.996025    8943 gl_context.cc:357] GL version: 3.2 (OpenGL ES 3.2 Mesa 23.2.1-1ubuntu3.1~22.04.2), renderer: GFX1103_R1 (gfx1103_r1, LLVM 15.0.7, DRM 3.57, 6.8.0-48-generic)\n"
     ]
    },
    {
     "name": "stdout",
     "output_type": "stream",
     "text": [
      "(33, 4)\n",
      "(468, 3)\n",
      "(21, 3)\n",
      "(21, 3)\n",
      "Numpy array for frame train/0/19/frames/19_29.png has been saved to train/0/19/points_arrays/19_29.npy\n"
     ]
    },
    {
     "name": "stderr",
     "output_type": "stream",
     "text": [
      "W0000 00:00:1732251953.152631    8927 inference_feedback_manager.cc:114] Feedback manager requires a model with a single signature inference. Disabling support for feedback tensors.\n",
      "W0000 00:00:1732251953.236431    8938 inference_feedback_manager.cc:114] Feedback manager requires a model with a single signature inference. Disabling support for feedback tensors.\n",
      "W0000 00:00:1732251953.241847    8935 inference_feedback_manager.cc:114] Feedback manager requires a model with a single signature inference. Disabling support for feedback tensors.\n",
      "W0000 00:00:1732251953.242799    8940 inference_feedback_manager.cc:114] Feedback manager requires a model with a single signature inference. Disabling support for feedback tensors.\n",
      "W0000 00:00:1732251953.246191    8925 inference_feedback_manager.cc:114] Feedback manager requires a model with a single signature inference. Disabling support for feedback tensors.\n",
      "W0000 00:00:1732251953.264235    8938 inference_feedback_manager.cc:114] Feedback manager requires a model with a single signature inference. Disabling support for feedback tensors.\n",
      "W0000 00:00:1732251953.276570    8936 inference_feedback_manager.cc:114] Feedback manager requires a model with a single signature inference. Disabling support for feedback tensors.\n",
      "W0000 00:00:1732251953.282684    8939 inference_feedback_manager.cc:114] Feedback manager requires a model with a single signature inference. Disabling support for feedback tensors.\n"
     ]
    },
    {
     "name": "stdout",
     "output_type": "stream",
     "text": [
      "(33, 4)\n",
      "(468, 3)\n",
      "(21, 3)\n",
      "(21, 3)\n",
      "Numpy array for frame train/0/19/frames/19_8.png has been saved to train/0/19/points_arrays/19_8.npy\n"
     ]
    },
    {
     "name": "stderr",
     "output_type": "stream",
     "text": [
      "I0000 00:00:1732251953.348908    8496 gl_context_egl.cc:85] Successfully initialized EGL. Major : 1 Minor: 5\n",
      "I0000 00:00:1732251953.351450    8962 gl_context.cc:357] GL version: 3.2 (OpenGL ES 3.2 Mesa 23.2.1-1ubuntu3.1~22.04.2), renderer: GFX1103_R1 (gfx1103_r1, LLVM 15.0.7, DRM 3.57, 6.8.0-48-generic)\n",
      "W0000 00:00:1732251953.507018    8946 inference_feedback_manager.cc:114] Feedback manager requires a model with a single signature inference. Disabling support for feedback tensors.\n",
      "W0000 00:00:1732251953.596883    8952 inference_feedback_manager.cc:114] Feedback manager requires a model with a single signature inference. Disabling support for feedback tensors.\n",
      "W0000 00:00:1732251953.599595    8956 inference_feedback_manager.cc:114] Feedback manager requires a model with a single signature inference. Disabling support for feedback tensors.\n",
      "W0000 00:00:1732251953.603639    8959 inference_feedback_manager.cc:114] Feedback manager requires a model with a single signature inference. Disabling support for feedback tensors.\n",
      "W0000 00:00:1732251953.604321    8955 inference_feedback_manager.cc:114] Feedback manager requires a model with a single signature inference. Disabling support for feedback tensors.\n",
      "W0000 00:00:1732251953.618304    8957 inference_feedback_manager.cc:114] Feedback manager requires a model with a single signature inference. Disabling support for feedback tensors.\n",
      "W0000 00:00:1732251953.638425    8945 inference_feedback_manager.cc:114] Feedback manager requires a model with a single signature inference. Disabling support for feedback tensors.\n",
      "W0000 00:00:1732251953.657677    8954 inference_feedback_manager.cc:114] Feedback manager requires a model with a single signature inference. Disabling support for feedback tensors.\n",
      "I0000 00:00:1732251953.714322    8496 gl_context_egl.cc:85] Successfully initialized EGL. Major : 1 Minor: 5\n",
      "I0000 00:00:1732251953.717296    8981 gl_context.cc:357] GL version: 3.2 (OpenGL ES 3.2 Mesa 23.2.1-1ubuntu3.1~22.04.2), renderer: GFX1103_R1 (gfx1103_r1, LLVM 15.0.7, DRM 3.57, 6.8.0-48-generic)\n"
     ]
    },
    {
     "name": "stdout",
     "output_type": "stream",
     "text": [
      "(33, 4)\n",
      "(468, 3)\n",
      "(21, 3)\n",
      "(21, 3)\n",
      "Numpy array for frame train/0/19/frames/19_28.png has been saved to train/0/19/points_arrays/19_28.npy\n"
     ]
    },
    {
     "name": "stderr",
     "output_type": "stream",
     "text": [
      "W0000 00:00:1732251953.873998    8965 inference_feedback_manager.cc:114] Feedback manager requires a model with a single signature inference. Disabling support for feedback tensors.\n",
      "W0000 00:00:1732251953.947720    8970 inference_feedback_manager.cc:114] Feedback manager requires a model with a single signature inference. Disabling support for feedback tensors.\n",
      "W0000 00:00:1732251953.950020    8968 inference_feedback_manager.cc:114] Feedback manager requires a model with a single signature inference. Disabling support for feedback tensors.\n",
      "W0000 00:00:1732251953.951918    8972 inference_feedback_manager.cc:114] Feedback manager requires a model with a single signature inference. Disabling support for feedback tensors.\n",
      "W0000 00:00:1732251953.954320    8966 inference_feedback_manager.cc:114] Feedback manager requires a model with a single signature inference. Disabling support for feedback tensors.\n",
      "W0000 00:00:1732251953.965299    8969 inference_feedback_manager.cc:114] Feedback manager requires a model with a single signature inference. Disabling support for feedback tensors.\n",
      "W0000 00:00:1732251953.991216    8978 inference_feedback_manager.cc:114] Feedback manager requires a model with a single signature inference. Disabling support for feedback tensors.\n",
      "W0000 00:00:1732251953.997605    8972 inference_feedback_manager.cc:114] Feedback manager requires a model with a single signature inference. Disabling support for feedback tensors.\n",
      "I0000 00:00:1732251954.054950    8496 gl_context_egl.cc:85] Successfully initialized EGL. Major : 1 Minor: 5\n",
      "I0000 00:00:1732251954.057957    9000 gl_context.cc:357] GL version: 3.2 (OpenGL ES 3.2 Mesa 23.2.1-1ubuntu3.1~22.04.2), renderer: GFX1103_R1 (gfx1103_r1, LLVM 15.0.7, DRM 3.57, 6.8.0-48-generic)\n"
     ]
    },
    {
     "name": "stdout",
     "output_type": "stream",
     "text": [
      "(33, 4)\n",
      "(468, 3)\n",
      "(21, 3)\n",
      "(21, 3)\n",
      "Numpy array for frame train/0/19/frames/19_31.png has been saved to train/0/19/points_arrays/19_31.npy\n"
     ]
    },
    {
     "name": "stderr",
     "output_type": "stream",
     "text": [
      "W0000 00:00:1732251954.219577    8984 inference_feedback_manager.cc:114] Feedback manager requires a model with a single signature inference. Disabling support for feedback tensors.\n",
      "W0000 00:00:1732251954.291584    8982 inference_feedback_manager.cc:114] Feedback manager requires a model with a single signature inference. Disabling support for feedback tensors.\n",
      "W0000 00:00:1732251954.293664    8991 inference_feedback_manager.cc:114] Feedback manager requires a model with a single signature inference. Disabling support for feedback tensors.\n",
      "W0000 00:00:1732251954.296105    8990 inference_feedback_manager.cc:114] Feedback manager requires a model with a single signature inference. Disabling support for feedback tensors.\n",
      "W0000 00:00:1732251954.298588    8984 inference_feedback_manager.cc:114] Feedback manager requires a model with a single signature inference. Disabling support for feedback tensors.\n",
      "W0000 00:00:1732251954.313854    8995 inference_feedback_manager.cc:114] Feedback manager requires a model with a single signature inference. Disabling support for feedback tensors.\n",
      "W0000 00:00:1732251954.333262    8991 inference_feedback_manager.cc:114] Feedback manager requires a model with a single signature inference. Disabling support for feedback tensors.\n",
      "W0000 00:00:1732251954.336318    8985 inference_feedback_manager.cc:114] Feedback manager requires a model with a single signature inference. Disabling support for feedback tensors.\n",
      "I0000 00:00:1732251954.390638    8496 gl_context_egl.cc:85] Successfully initialized EGL. Major : 1 Minor: 5\n",
      "I0000 00:00:1732251954.393571    9019 gl_context.cc:357] GL version: 3.2 (OpenGL ES 3.2 Mesa 23.2.1-1ubuntu3.1~22.04.2), renderer: GFX1103_R1 (gfx1103_r1, LLVM 15.0.7, DRM 3.57, 6.8.0-48-generic)\n"
     ]
    },
    {
     "name": "stdout",
     "output_type": "stream",
     "text": [
      "(33, 4)\n",
      "(468, 3)\n",
      "(21, 3)\n",
      "(21, 3)\n",
      "Numpy array for frame train/0/19/frames/19_32.png has been saved to train/0/19/points_arrays/19_32.npy\n"
     ]
    },
    {
     "name": "stderr",
     "output_type": "stream",
     "text": [
      "W0000 00:00:1732251954.530259    9001 inference_feedback_manager.cc:114] Feedback manager requires a model with a single signature inference. Disabling support for feedback tensors.\n",
      "W0000 00:00:1732251954.601424    9008 inference_feedback_manager.cc:114] Feedback manager requires a model with a single signature inference. Disabling support for feedback tensors.\n",
      "W0000 00:00:1732251954.603227    9009 inference_feedback_manager.cc:114] Feedback manager requires a model with a single signature inference. Disabling support for feedback tensors.\n",
      "W0000 00:00:1732251954.603950    9006 inference_feedback_manager.cc:114] Feedback manager requires a model with a single signature inference. Disabling support for feedback tensors.\n",
      "W0000 00:00:1732251954.604845    9016 inference_feedback_manager.cc:114] Feedback manager requires a model with a single signature inference. Disabling support for feedback tensors.\n",
      "W0000 00:00:1732251954.625915    9002 inference_feedback_manager.cc:114] Feedback manager requires a model with a single signature inference. Disabling support for feedback tensors.\n",
      "W0000 00:00:1732251954.632985    9013 inference_feedback_manager.cc:114] Feedback manager requires a model with a single signature inference. Disabling support for feedback tensors.\n",
      "W0000 00:00:1732251954.637462    9003 inference_feedback_manager.cc:114] Feedback manager requires a model with a single signature inference. Disabling support for feedback tensors.\n",
      "I0000 00:00:1732251954.691751    8496 gl_context_egl.cc:85] Successfully initialized EGL. Major : 1 Minor: 5\n",
      "I0000 00:00:1732251954.694063    9038 gl_context.cc:357] GL version: 3.2 (OpenGL ES 3.2 Mesa 23.2.1-1ubuntu3.1~22.04.2), renderer: GFX1103_R1 (gfx1103_r1, LLVM 15.0.7, DRM 3.57, 6.8.0-48-generic)\n"
     ]
    },
    {
     "name": "stdout",
     "output_type": "stream",
     "text": [
      "(33, 4)\n",
      "(468, 3)\n",
      "(21, 3)\n",
      "(21, 3)\n",
      "Numpy array for frame train/0/19/frames/19_25.png has been saved to train/0/19/points_arrays/19_25.npy\n"
     ]
    },
    {
     "name": "stderr",
     "output_type": "stream",
     "text": [
      "W0000 00:00:1732251954.836163    9022 inference_feedback_manager.cc:114] Feedback manager requires a model with a single signature inference. Disabling support for feedback tensors.\n",
      "W0000 00:00:1732251954.887606    9021 inference_feedback_manager.cc:114] Feedback manager requires a model with a single signature inference. Disabling support for feedback tensors.\n",
      "W0000 00:00:1732251954.889879    9022 inference_feedback_manager.cc:114] Feedback manager requires a model with a single signature inference. Disabling support for feedback tensors.\n",
      "W0000 00:00:1732251954.890188    9031 inference_feedback_manager.cc:114] Feedback manager requires a model with a single signature inference. Disabling support for feedback tensors.\n",
      "W0000 00:00:1732251954.890763    9035 inference_feedback_manager.cc:114] Feedback manager requires a model with a single signature inference. Disabling support for feedback tensors.\n",
      "W0000 00:00:1732251954.899241    9027 inference_feedback_manager.cc:114] Feedback manager requires a model with a single signature inference. Disabling support for feedback tensors.\n",
      "W0000 00:00:1732251954.915748    9030 inference_feedback_manager.cc:114] Feedback manager requires a model with a single signature inference. Disabling support for feedback tensors.\n",
      "W0000 00:00:1732251954.921294    9029 inference_feedback_manager.cc:114] Feedback manager requires a model with a single signature inference. Disabling support for feedback tensors.\n",
      "I0000 00:00:1732251954.963555    8496 gl_context_egl.cc:85] Successfully initialized EGL. Major : 1 Minor: 5\n",
      "I0000 00:00:1732251954.965713    9057 gl_context.cc:357] GL version: 3.2 (OpenGL ES 3.2 Mesa 23.2.1-1ubuntu3.1~22.04.2), renderer: GFX1103_R1 (gfx1103_r1, LLVM 15.0.7, DRM 3.57, 6.8.0-48-generic)\n"
     ]
    },
    {
     "name": "stdout",
     "output_type": "stream",
     "text": [
      "(33, 4)\n",
      "(468, 3)\n",
      "(21, 3)\n",
      "(21, 3)\n",
      "Numpy array for frame train/0/19/frames/19_7.png has been saved to train/0/19/points_arrays/19_7.npy\n"
     ]
    },
    {
     "name": "stderr",
     "output_type": "stream",
     "text": [
      "W0000 00:00:1732251955.075980    9042 inference_feedback_manager.cc:114] Feedback manager requires a model with a single signature inference. Disabling support for feedback tensors.\n",
      "W0000 00:00:1732251955.121670    9049 inference_feedback_manager.cc:114] Feedback manager requires a model with a single signature inference. Disabling support for feedback tensors.\n",
      "W0000 00:00:1732251955.123189    9051 inference_feedback_manager.cc:114] Feedback manager requires a model with a single signature inference. Disabling support for feedback tensors.\n",
      "W0000 00:00:1732251955.125238    9044 inference_feedback_manager.cc:114] Feedback manager requires a model with a single signature inference. Disabling support for feedback tensors.\n",
      "W0000 00:00:1732251955.126090    9048 inference_feedback_manager.cc:114] Feedback manager requires a model with a single signature inference. Disabling support for feedback tensors.\n",
      "W0000 00:00:1732251955.138775    9046 inference_feedback_manager.cc:114] Feedback manager requires a model with a single signature inference. Disabling support for feedback tensors.\n",
      "W0000 00:00:1732251955.149805    9047 inference_feedback_manager.cc:114] Feedback manager requires a model with a single signature inference. Disabling support for feedback tensors.\n",
      "W0000 00:00:1732251955.151450    9041 inference_feedback_manager.cc:114] Feedback manager requires a model with a single signature inference. Disabling support for feedback tensors.\n",
      "I0000 00:00:1732251955.191422    8496 gl_context_egl.cc:85] Successfully initialized EGL. Major : 1 Minor: 5\n",
      "I0000 00:00:1732251955.193467    9076 gl_context.cc:357] GL version: 3.2 (OpenGL ES 3.2 Mesa 23.2.1-1ubuntu3.1~22.04.2), renderer: GFX1103_R1 (gfx1103_r1, LLVM 15.0.7, DRM 3.57, 6.8.0-48-generic)\n"
     ]
    },
    {
     "name": "stdout",
     "output_type": "stream",
     "text": [
      "(33, 4)\n",
      "(468, 3)\n",
      "(21, 3)\n",
      "(21, 3)\n",
      "Numpy array for frame train/0/19/frames/19_18.png has been saved to train/0/19/points_arrays/19_18.npy\n"
     ]
    },
    {
     "name": "stderr",
     "output_type": "stream",
     "text": [
      "W0000 00:00:1732251955.286347    9060 inference_feedback_manager.cc:114] Feedback manager requires a model with a single signature inference. Disabling support for feedback tensors.\n",
      "W0000 00:00:1732251955.331704    9066 inference_feedback_manager.cc:114] Feedback manager requires a model with a single signature inference. Disabling support for feedback tensors.\n",
      "W0000 00:00:1732251955.333177    9069 inference_feedback_manager.cc:114] Feedback manager requires a model with a single signature inference. Disabling support for feedback tensors.\n",
      "W0000 00:00:1732251955.333753    9061 inference_feedback_manager.cc:114] Feedback manager requires a model with a single signature inference. Disabling support for feedback tensors.\n",
      "W0000 00:00:1732251955.334484    9062 inference_feedback_manager.cc:114] Feedback manager requires a model with a single signature inference. Disabling support for feedback tensors.\n",
      "W0000 00:00:1732251955.344120    9066 inference_feedback_manager.cc:114] Feedback manager requires a model with a single signature inference. Disabling support for feedback tensors.\n",
      "W0000 00:00:1732251955.352711    9058 inference_feedback_manager.cc:114] Feedback manager requires a model with a single signature inference. Disabling support for feedback tensors.\n",
      "W0000 00:00:1732251955.359554    9067 inference_feedback_manager.cc:114] Feedback manager requires a model with a single signature inference. Disabling support for feedback tensors.\n",
      "I0000 00:00:1732251955.392566    8496 gl_context_egl.cc:85] Successfully initialized EGL. Major : 1 Minor: 5\n",
      "I0000 00:00:1732251955.394572    9095 gl_context.cc:357] GL version: 3.2 (OpenGL ES 3.2 Mesa 23.2.1-1ubuntu3.1~22.04.2), renderer: GFX1103_R1 (gfx1103_r1, LLVM 15.0.7, DRM 3.57, 6.8.0-48-generic)\n",
      "W0000 00:00:1732251955.481884    9078 inference_feedback_manager.cc:114] Feedback manager requires a model with a single signature inference. Disabling support for feedback tensors.\n"
     ]
    },
    {
     "name": "stdout",
     "output_type": "stream",
     "text": [
      "(33, 4)\n",
      "(468, 3)\n",
      "(21, 3)\n",
      "(21, 3)\n",
      "Numpy array for frame train/0/19/frames/19_24.png has been saved to train/0/19/points_arrays/19_24.npy\n",
      "(33, 4)\n",
      "(468, 3)\n",
      "(21, 3)\n",
      "(21, 3)\n",
      "Numpy array for frame train/0/19/frames/19_21.png has been saved to train/0/19/points_arrays/19_21.npy\n"
     ]
    },
    {
     "name": "stderr",
     "output_type": "stream",
     "text": [
      "W0000 00:00:1732251955.525518    9083 inference_feedback_manager.cc:114] Feedback manager requires a model with a single signature inference. Disabling support for feedback tensors.\n",
      "W0000 00:00:1732251955.528112    9091 inference_feedback_manager.cc:114] Feedback manager requires a model with a single signature inference. Disabling support for feedback tensors.\n",
      "W0000 00:00:1732251955.528869    9092 inference_feedback_manager.cc:114] Feedback manager requires a model with a single signature inference. Disabling support for feedback tensors.\n",
      "W0000 00:00:1732251955.530042    9087 inference_feedback_manager.cc:114] Feedback manager requires a model with a single signature inference. Disabling support for feedback tensors.\n",
      "W0000 00:00:1732251955.538130    9088 inference_feedback_manager.cc:114] Feedback manager requires a model with a single signature inference. Disabling support for feedback tensors.\n",
      "W0000 00:00:1732251955.551228    9086 inference_feedback_manager.cc:114] Feedback manager requires a model with a single signature inference. Disabling support for feedback tensors.\n",
      "W0000 00:00:1732251955.551809    9089 inference_feedback_manager.cc:114] Feedback manager requires a model with a single signature inference. Disabling support for feedback tensors.\n",
      "I0000 00:00:1732251955.582278    8496 gl_context_egl.cc:85] Successfully initialized EGL. Major : 1 Minor: 5\n",
      "I0000 00:00:1732251955.583795    9114 gl_context.cc:357] GL version: 3.2 (OpenGL ES 3.2 Mesa 23.2.1-1ubuntu3.1~22.04.2), renderer: GFX1103_R1 (gfx1103_r1, LLVM 15.0.7, DRM 3.57, 6.8.0-48-generic)\n",
      "W0000 00:00:1732251955.671996    9098 inference_feedback_manager.cc:114] Feedback manager requires a model with a single signature inference. Disabling support for feedback tensors.\n",
      "W0000 00:00:1732251955.709266    9100 inference_feedback_manager.cc:114] Feedback manager requires a model with a single signature inference. Disabling support for feedback tensors.\n",
      "W0000 00:00:1732251955.711887    9111 inference_feedback_manager.cc:114] Feedback manager requires a model with a single signature inference. Disabling support for feedback tensors.\n",
      "W0000 00:00:1732251955.712847    9105 inference_feedback_manager.cc:114] Feedback manager requires a model with a single signature inference. Disabling support for feedback tensors.\n",
      "W0000 00:00:1732251955.712848    9103 inference_feedback_manager.cc:114] Feedback manager requires a model with a single signature inference. Disabling support for feedback tensors.\n",
      "W0000 00:00:1732251955.720426    9110 inference_feedback_manager.cc:114] Feedback manager requires a model with a single signature inference. Disabling support for feedback tensors.\n",
      "W0000 00:00:1732251955.730604    9099 inference_feedback_manager.cc:114] Feedback manager requires a model with a single signature inference. Disabling support for feedback tensors.\n",
      "W0000 00:00:1732251955.733709    9098 inference_feedback_manager.cc:114] Feedback manager requires a model with a single signature inference. Disabling support for feedback tensors.\n",
      "I0000 00:00:1732251955.759707    8496 gl_context_egl.cc:85] Successfully initialized EGL. Major : 1 Minor: 5\n",
      "I0000 00:00:1732251955.761405    9133 gl_context.cc:357] GL version: 3.2 (OpenGL ES 3.2 Mesa 23.2.1-1ubuntu3.1~22.04.2), renderer: GFX1103_R1 (gfx1103_r1, LLVM 15.0.7, DRM 3.57, 6.8.0-48-generic)\n",
      "W0000 00:00:1732251955.831276    9116 inference_feedback_manager.cc:114] Feedback manager requires a model with a single signature inference. Disabling support for feedback tensors.\n",
      "W0000 00:00:1732251955.863008    9125 inference_feedback_manager.cc:114] Feedback manager requires a model with a single signature inference. Disabling support for feedback tensors.\n",
      "W0000 00:00:1732251955.864661    9119 inference_feedback_manager.cc:114] Feedback manager requires a model with a single signature inference. Disabling support for feedback tensors.\n",
      "W0000 00:00:1732251955.865136    9115 inference_feedback_manager.cc:114] Feedback manager requires a model with a single signature inference. Disabling support for feedback tensors.\n",
      "W0000 00:00:1732251955.865165    9116 inference_feedback_manager.cc:114] Feedback manager requires a model with a single signature inference. Disabling support for feedback tensors.\n",
      "W0000 00:00:1732251955.875413    9117 inference_feedback_manager.cc:114] Feedback manager requires a model with a single signature inference. Disabling support for feedback tensors.\n",
      "W0000 00:00:1732251955.883186    9129 inference_feedback_manager.cc:114] Feedback manager requires a model with a single signature inference. Disabling support for feedback tensors.\n",
      "W0000 00:00:1732251955.889458    9124 inference_feedback_manager.cc:114] Feedback manager requires a model with a single signature inference. Disabling support for feedback tensors.\n",
      "I0000 00:00:1732251955.914501    8496 gl_context_egl.cc:85] Successfully initialized EGL. Major : 1 Minor: 5\n",
      "I0000 00:00:1732251955.915934    9152 gl_context.cc:357] GL version: 3.2 (OpenGL ES 3.2 Mesa 23.2.1-1ubuntu3.1~22.04.2), renderer: GFX1103_R1 (gfx1103_r1, LLVM 15.0.7, DRM 3.57, 6.8.0-48-generic)\n"
     ]
    },
    {
     "name": "stdout",
     "output_type": "stream",
     "text": [
      "(33, 4)\n",
      "(468, 3)\n",
      "(21, 3)\n",
      "(21, 3)\n",
      "Numpy array for frame train/0/19/frames/19_20.png has been saved to train/0/19/points_arrays/19_20.npy\n",
      "(33, 4)\n",
      "(468, 3)\n",
      "(21, 3)\n",
      "(21, 3)\n",
      "Numpy array for frame train/0/19/frames/19_12.png has been saved to train/0/19/points_arrays/19_12.npy\n"
     ]
    },
    {
     "name": "stderr",
     "output_type": "stream",
     "text": [
      "W0000 00:00:1732251955.981946    9137 inference_feedback_manager.cc:114] Feedback manager requires a model with a single signature inference. Disabling support for feedback tensors.\n",
      "W0000 00:00:1732251956.014563    9136 inference_feedback_manager.cc:114] Feedback manager requires a model with a single signature inference. Disabling support for feedback tensors.\n",
      "W0000 00:00:1732251956.016223    9134 inference_feedback_manager.cc:114] Feedback manager requires a model with a single signature inference. Disabling support for feedback tensors.\n",
      "W0000 00:00:1732251956.017448    9136 inference_feedback_manager.cc:114] Feedback manager requires a model with a single signature inference. Disabling support for feedback tensors.\n",
      "W0000 00:00:1732251956.017555    9148 inference_feedback_manager.cc:114] Feedback manager requires a model with a single signature inference. Disabling support for feedback tensors.\n",
      "W0000 00:00:1732251956.025253    9142 inference_feedback_manager.cc:114] Feedback manager requires a model with a single signature inference. Disabling support for feedback tensors.\n",
      "W0000 00:00:1732251956.036331    9137 inference_feedback_manager.cc:114] Feedback manager requires a model with a single signature inference. Disabling support for feedback tensors.\n",
      "W0000 00:00:1732251956.039705    9139 inference_feedback_manager.cc:114] Feedback manager requires a model with a single signature inference. Disabling support for feedback tensors.\n",
      "I0000 00:00:1732251956.062974    8496 gl_context_egl.cc:85] Successfully initialized EGL. Major : 1 Minor: 5\n",
      "I0000 00:00:1732251956.064512    9171 gl_context.cc:357] GL version: 3.2 (OpenGL ES 3.2 Mesa 23.2.1-1ubuntu3.1~22.04.2), renderer: GFX1103_R1 (gfx1103_r1, LLVM 15.0.7, DRM 3.57, 6.8.0-48-generic)\n",
      "W0000 00:00:1732251956.125980    9158 inference_feedback_manager.cc:114] Feedback manager requires a model with a single signature inference. Disabling support for feedback tensors.\n",
      "W0000 00:00:1732251956.159552    9160 inference_feedback_manager.cc:114] Feedback manager requires a model with a single signature inference. Disabling support for feedback tensors.\n",
      "W0000 00:00:1732251956.162312    9162 inference_feedback_manager.cc:114] Feedback manager requires a model with a single signature inference. Disabling support for feedback tensors.\n",
      "W0000 00:00:1732251956.162777    9160 inference_feedback_manager.cc:114] Feedback manager requires a model with a single signature inference. Disabling support for feedback tensors.\n",
      "W0000 00:00:1732251956.163496    9164 inference_feedback_manager.cc:114] Feedback manager requires a model with a single signature inference. Disabling support for feedback tensors.\n",
      "W0000 00:00:1732251956.168099    9156 inference_feedback_manager.cc:114] Feedback manager requires a model with a single signature inference. Disabling support for feedback tensors.\n",
      "W0000 00:00:1732251956.177736    9153 inference_feedback_manager.cc:114] Feedback manager requires a model with a single signature inference. Disabling support for feedback tensors.\n",
      "W0000 00:00:1732251956.180350    9168 inference_feedback_manager.cc:114] Feedback manager requires a model with a single signature inference. Disabling support for feedback tensors.\n"
     ]
    },
    {
     "name": "stdout",
     "output_type": "stream",
     "text": [
      "(33, 4)\n",
      "(468, 3)\n",
      "(21, 3)\n",
      "(21, 3)\n",
      "Numpy array for frame train/0/19/frames/19_5.png has been saved to train/0/19/points_arrays/19_5.npy\n",
      "(33, 4)\n",
      "(468, 3)\n",
      "(21, 3)\n",
      "(21, 3)\n",
      "Numpy array for frame train/0/19/frames/19_3.png has been saved to train/0/19/points_arrays/19_3.npy\n"
     ]
    },
    {
     "name": "stderr",
     "output_type": "stream",
     "text": [
      "I0000 00:00:1732251956.204428    8496 gl_context_egl.cc:85] Successfully initialized EGL. Major : 1 Minor: 5\n",
      "I0000 00:00:1732251956.205939    9190 gl_context.cc:357] GL version: 3.2 (OpenGL ES 3.2 Mesa 23.2.1-1ubuntu3.1~22.04.2), renderer: GFX1103_R1 (gfx1103_r1, LLVM 15.0.7, DRM 3.57, 6.8.0-48-generic)\n",
      "W0000 00:00:1732251956.264429    9174 inference_feedback_manager.cc:114] Feedback manager requires a model with a single signature inference. Disabling support for feedback tensors.\n",
      "W0000 00:00:1732251956.297435    9172 inference_feedback_manager.cc:114] Feedback manager requires a model with a single signature inference. Disabling support for feedback tensors.\n",
      "W0000 00:00:1732251956.298503    9173 inference_feedback_manager.cc:114] Feedback manager requires a model with a single signature inference. Disabling support for feedback tensors.\n",
      "W0000 00:00:1732251956.300038    9186 inference_feedback_manager.cc:114] Feedback manager requires a model with a single signature inference. Disabling support for feedback tensors.\n",
      "W0000 00:00:1732251956.301093    9178 inference_feedback_manager.cc:114] Feedback manager requires a model with a single signature inference. Disabling support for feedback tensors.\n",
      "W0000 00:00:1732251956.309118    9186 inference_feedback_manager.cc:114] Feedback manager requires a model with a single signature inference. Disabling support for feedback tensors.\n",
      "W0000 00:00:1732251956.315549    9175 inference_feedback_manager.cc:114] Feedback manager requires a model with a single signature inference. Disabling support for feedback tensors.\n",
      "W0000 00:00:1732251956.315559    9177 inference_feedback_manager.cc:114] Feedback manager requires a model with a single signature inference. Disabling support for feedback tensors.\n",
      "I0000 00:00:1732251956.338487    8496 gl_context_egl.cc:85] Successfully initialized EGL. Major : 1 Minor: 5\n",
      "I0000 00:00:1732251956.339806    9209 gl_context.cc:357] GL version: 3.2 (OpenGL ES 3.2 Mesa 23.2.1-1ubuntu3.1~22.04.2), renderer: GFX1103_R1 (gfx1103_r1, LLVM 15.0.7, DRM 3.57, 6.8.0-48-generic)\n",
      "W0000 00:00:1732251956.394777    9194 inference_feedback_manager.cc:114] Feedback manager requires a model with a single signature inference. Disabling support for feedback tensors.\n"
     ]
    },
    {
     "name": "stdout",
     "output_type": "stream",
     "text": [
      "(33, 4)\n",
      "(468, 3)\n",
      "(21, 3)\n",
      "(21, 3)\n",
      "Numpy array for frame train/0/19/frames/19_9.png has been saved to train/0/19/points_arrays/19_9.npy\n",
      "No directory called train/0/17/points_arrays/. Creating one now\n",
      "(33, 4)\n",
      "(468, 3)\n",
      "(21, 3)\n",
      "(21, 3)\n",
      "Numpy array for frame train/0/17/frames/17_5.png has been saved to train/0/17/points_arrays/17_5.npy\n"
     ]
    },
    {
     "name": "stderr",
     "output_type": "stream",
     "text": [
      "W0000 00:00:1732251956.422832    9196 inference_feedback_manager.cc:114] Feedback manager requires a model with a single signature inference. Disabling support for feedback tensors.\n",
      "W0000 00:00:1732251956.424289    9198 inference_feedback_manager.cc:114] Feedback manager requires a model with a single signature inference. Disabling support for feedback tensors.\n",
      "W0000 00:00:1732251956.425234    9200 inference_feedback_manager.cc:114] Feedback manager requires a model with a single signature inference. Disabling support for feedback tensors.\n",
      "W0000 00:00:1732251956.426132    9202 inference_feedback_manager.cc:114] Feedback manager requires a model with a single signature inference. Disabling support for feedback tensors.\n",
      "W0000 00:00:1732251956.432183    9192 inference_feedback_manager.cc:114] Feedback manager requires a model with a single signature inference. Disabling support for feedback tensors.\n",
      "W0000 00:00:1732251956.438711    9193 inference_feedback_manager.cc:114] Feedback manager requires a model with a single signature inference. Disabling support for feedback tensors.\n",
      "W0000 00:00:1732251956.439743    9194 inference_feedback_manager.cc:114] Feedback manager requires a model with a single signature inference. Disabling support for feedback tensors.\n",
      "I0000 00:00:1732251956.463539    8496 gl_context_egl.cc:85] Successfully initialized EGL. Major : 1 Minor: 5\n",
      "I0000 00:00:1732251956.464769    9228 gl_context.cc:357] GL version: 3.2 (OpenGL ES 3.2 Mesa 23.2.1-1ubuntu3.1~22.04.2), renderer: GFX1103_R1 (gfx1103_r1, LLVM 15.0.7, DRM 3.57, 6.8.0-48-generic)\n",
      "W0000 00:00:1732251956.521362    9214 inference_feedback_manager.cc:114] Feedback manager requires a model with a single signature inference. Disabling support for feedback tensors.\n",
      "W0000 00:00:1732251956.548987    9221 inference_feedback_manager.cc:114] Feedback manager requires a model with a single signature inference. Disabling support for feedback tensors.\n",
      "W0000 00:00:1732251956.550451    9216 inference_feedback_manager.cc:114] Feedback manager requires a model with a single signature inference. Disabling support for feedback tensors.\n",
      "W0000 00:00:1732251956.550558    9211 inference_feedback_manager.cc:114] Feedback manager requires a model with a single signature inference. Disabling support for feedback tensors.\n",
      "W0000 00:00:1732251956.551188    9223 inference_feedback_manager.cc:114] Feedback manager requires a model with a single signature inference. Disabling support for feedback tensors.\n",
      "W0000 00:00:1732251956.557188    9217 inference_feedback_manager.cc:114] Feedback manager requires a model with a single signature inference. Disabling support for feedback tensors.\n",
      "W0000 00:00:1732251956.564681    9220 inference_feedback_manager.cc:114] Feedback manager requires a model with a single signature inference. Disabling support for feedback tensors.\n",
      "W0000 00:00:1732251956.565028    9224 inference_feedback_manager.cc:114] Feedback manager requires a model with a single signature inference. Disabling support for feedback tensors.\n",
      "I0000 00:00:1732251956.588206    8496 gl_context_egl.cc:85] Successfully initialized EGL. Major : 1 Minor: 5\n",
      "I0000 00:00:1732251956.589725    9247 gl_context.cc:357] GL version: 3.2 (OpenGL ES 3.2 Mesa 23.2.1-1ubuntu3.1~22.04.2), renderer: GFX1103_R1 (gfx1103_r1, LLVM 15.0.7, DRM 3.57, 6.8.0-48-generic)\n"
     ]
    },
    {
     "name": "stdout",
     "output_type": "stream",
     "text": [
      "(33, 4)\n",
      "(468, 3)\n",
      "(21, 3)\n",
      "(21, 3)\n",
      "Numpy array for frame train/0/17/frames/17_4.png has been saved to train/0/17/points_arrays/17_4.npy\n",
      "(33, 4)\n",
      "(468, 3)\n",
      "(21, 3)\n",
      "(21, 3)\n",
      "Numpy array for frame train/0/17/frames/17_16.png has been saved to train/0/17/points_arrays/17_16.npy\n"
     ]
    },
    {
     "name": "stderr",
     "output_type": "stream",
     "text": [
      "W0000 00:00:1732251956.639715    9231 inference_feedback_manager.cc:114] Feedback manager requires a model with a single signature inference. Disabling support for feedback tensors.\n",
      "W0000 00:00:1732251956.670308    9238 inference_feedback_manager.cc:114] Feedback manager requires a model with a single signature inference. Disabling support for feedback tensors.\n",
      "W0000 00:00:1732251956.671706    9229 inference_feedback_manager.cc:114] Feedback manager requires a model with a single signature inference. Disabling support for feedback tensors.\n",
      "W0000 00:00:1732251956.673179    9235 inference_feedback_manager.cc:114] Feedback manager requires a model with a single signature inference. Disabling support for feedback tensors.\n",
      "W0000 00:00:1732251956.673248    9233 inference_feedback_manager.cc:114] Feedback manager requires a model with a single signature inference. Disabling support for feedback tensors.\n",
      "W0000 00:00:1732251956.680653    9240 inference_feedback_manager.cc:114] Feedback manager requires a model with a single signature inference. Disabling support for feedback tensors.\n",
      "W0000 00:00:1732251956.685956    9244 inference_feedback_manager.cc:114] Feedback manager requires a model with a single signature inference. Disabling support for feedback tensors.\n",
      "W0000 00:00:1732251956.687760    9234 inference_feedback_manager.cc:114] Feedback manager requires a model with a single signature inference. Disabling support for feedback tensors.\n",
      "I0000 00:00:1732251956.706490    8496 gl_context_egl.cc:85] Successfully initialized EGL. Major : 1 Minor: 5\n",
      "I0000 00:00:1732251956.707636    9266 gl_context.cc:357] GL version: 3.2 (OpenGL ES 3.2 Mesa 23.2.1-1ubuntu3.1~22.04.2), renderer: GFX1103_R1 (gfx1103_r1, LLVM 15.0.7, DRM 3.57, 6.8.0-48-generic)\n",
      "W0000 00:00:1732251956.755657    9248 inference_feedback_manager.cc:114] Feedback manager requires a model with a single signature inference. Disabling support for feedback tensors.\n",
      "W0000 00:00:1732251956.783312    9259 inference_feedback_manager.cc:114] Feedback manager requires a model with a single signature inference. Disabling support for feedback tensors.\n",
      "W0000 00:00:1732251956.784974    9254 inference_feedback_manager.cc:114] Feedback manager requires a model with a single signature inference. Disabling support for feedback tensors.\n",
      "W0000 00:00:1732251956.786082    9258 inference_feedback_manager.cc:114] Feedback manager requires a model with a single signature inference. Disabling support for feedback tensors.\n",
      "W0000 00:00:1732251956.786938    9256 inference_feedback_manager.cc:114] Feedback manager requires a model with a single signature inference. Disabling support for feedback tensors.\n",
      "W0000 00:00:1732251956.794212    9258 inference_feedback_manager.cc:114] Feedback manager requires a model with a single signature inference. Disabling support for feedback tensors.\n",
      "W0000 00:00:1732251956.801261    9253 inference_feedback_manager.cc:114] Feedback manager requires a model with a single signature inference. Disabling support for feedback tensors.\n",
      "W0000 00:00:1732251956.802620    9259 inference_feedback_manager.cc:114] Feedback manager requires a model with a single signature inference. Disabling support for feedback tensors.\n",
      "I0000 00:00:1732251956.821201    8496 gl_context_egl.cc:85] Successfully initialized EGL. Major : 1 Minor: 5\n",
      "I0000 00:00:1732251956.822507    9285 gl_context.cc:357] GL version: 3.2 (OpenGL ES 3.2 Mesa 23.2.1-1ubuntu3.1~22.04.2), renderer: GFX1103_R1 (gfx1103_r1, LLVM 15.0.7, DRM 3.57, 6.8.0-48-generic)\n"
     ]
    },
    {
     "name": "stdout",
     "output_type": "stream",
     "text": [
      "(33, 4)\n",
      "(468, 3)\n",
      "(21, 3)\n",
      "(21, 3)\n",
      "Numpy array for frame train/0/17/frames/17_10.png has been saved to train/0/17/points_arrays/17_10.npy\n",
      "(33, 4)\n",
      "(468, 3)\n",
      "(21, 3)\n",
      "(21, 3)\n",
      "Numpy array for frame train/0/17/frames/17_7.png has been saved to train/0/17/points_arrays/17_7.npy\n"
     ]
    },
    {
     "name": "stderr",
     "output_type": "stream",
     "text": [
      "W0000 00:00:1732251956.873764    9269 inference_feedback_manager.cc:114] Feedback manager requires a model with a single signature inference. Disabling support for feedback tensors.\n",
      "W0000 00:00:1732251956.899849    9279 inference_feedback_manager.cc:114] Feedback manager requires a model with a single signature inference. Disabling support for feedback tensors.\n",
      "W0000 00:00:1732251956.901592    9282 inference_feedback_manager.cc:114] Feedback manager requires a model with a single signature inference. Disabling support for feedback tensors.\n",
      "W0000 00:00:1732251956.901902    9277 inference_feedback_manager.cc:114] Feedback manager requires a model with a single signature inference. Disabling support for feedback tensors.\n",
      "W0000 00:00:1732251956.902083    9279 inference_feedback_manager.cc:114] Feedback manager requires a model with a single signature inference. Disabling support for feedback tensors.\n",
      "W0000 00:00:1732251956.907813    9272 inference_feedback_manager.cc:114] Feedback manager requires a model with a single signature inference. Disabling support for feedback tensors.\n",
      "W0000 00:00:1732251956.913681    9267 inference_feedback_manager.cc:114] Feedback manager requires a model with a single signature inference. Disabling support for feedback tensors.\n",
      "W0000 00:00:1732251956.916858    9269 inference_feedback_manager.cc:114] Feedback manager requires a model with a single signature inference. Disabling support for feedback tensors.\n",
      "I0000 00:00:1732251956.935231    8496 gl_context_egl.cc:85] Successfully initialized EGL. Major : 1 Minor: 5\n",
      "I0000 00:00:1732251956.936463    9304 gl_context.cc:357] GL version: 3.2 (OpenGL ES 3.2 Mesa 23.2.1-1ubuntu3.1~22.04.2), renderer: GFX1103_R1 (gfx1103_r1, LLVM 15.0.7, DRM 3.57, 6.8.0-48-generic)\n",
      "W0000 00:00:1732251956.984791    9288 inference_feedback_manager.cc:114] Feedback manager requires a model with a single signature inference. Disabling support for feedback tensors.\n",
      "W0000 00:00:1732251957.010037    9291 inference_feedback_manager.cc:114] Feedback manager requires a model with a single signature inference. Disabling support for feedback tensors.\n",
      "W0000 00:00:1732251957.012827    9291 inference_feedback_manager.cc:114] Feedback manager requires a model with a single signature inference. Disabling support for feedback tensors.\n",
      "W0000 00:00:1732251957.012865    9287 inference_feedback_manager.cc:114] Feedback manager requires a model with a single signature inference. Disabling support for feedback tensors.\n",
      "W0000 00:00:1732251957.013562    9292 inference_feedback_manager.cc:114] Feedback manager requires a model with a single signature inference. Disabling support for feedback tensors.\n",
      "W0000 00:00:1732251957.018480    9288 inference_feedback_manager.cc:114] Feedback manager requires a model with a single signature inference. Disabling support for feedback tensors.\n",
      "W0000 00:00:1732251957.031608    9300 inference_feedback_manager.cc:114] Feedback manager requires a model with a single signature inference. Disabling support for feedback tensors.\n",
      "W0000 00:00:1732251957.032144    9297 inference_feedback_manager.cc:114] Feedback manager requires a model with a single signature inference. Disabling support for feedback tensors.\n",
      "I0000 00:00:1732251957.050708    8496 gl_context_egl.cc:85] Successfully initialized EGL. Major : 1 Minor: 5\n",
      "I0000 00:00:1732251957.052102    9323 gl_context.cc:357] GL version: 3.2 (OpenGL ES 3.2 Mesa 23.2.1-1ubuntu3.1~22.04.2), renderer: GFX1103_R1 (gfx1103_r1, LLVM 15.0.7, DRM 3.57, 6.8.0-48-generic)\n"
     ]
    },
    {
     "name": "stdout",
     "output_type": "stream",
     "text": [
      "(33, 4)\n",
      "(468, 3)\n",
      "(21, 3)\n",
      "(21, 3)\n",
      "Numpy array for frame train/0/17/frames/17_6.png has been saved to train/0/17/points_arrays/17_6.npy\n",
      "(33, 4)\n",
      "(468, 3)\n",
      "(21, 3)\n",
      "(21, 3)\n",
      "Numpy array for frame train/0/17/frames/17_9.png has been saved to train/0/17/points_arrays/17_9.npy\n"
     ]
    },
    {
     "name": "stderr",
     "output_type": "stream",
     "text": [
      "W0000 00:00:1732251957.102623    9307 inference_feedback_manager.cc:114] Feedback manager requires a model with a single signature inference. Disabling support for feedback tensors.\n",
      "W0000 00:00:1732251957.128618    9313 inference_feedback_manager.cc:114] Feedback manager requires a model with a single signature inference. Disabling support for feedback tensors.\n",
      "W0000 00:00:1732251957.130580    9317 inference_feedback_manager.cc:114] Feedback manager requires a model with a single signature inference. Disabling support for feedback tensors.\n",
      "W0000 00:00:1732251957.131621    9320 inference_feedback_manager.cc:114] Feedback manager requires a model with a single signature inference. Disabling support for feedback tensors.\n",
      "W0000 00:00:1732251957.131673    9315 inference_feedback_manager.cc:114] Feedback manager requires a model with a single signature inference. Disabling support for feedback tensors.\n",
      "W0000 00:00:1732251957.136992    9313 inference_feedback_manager.cc:114] Feedback manager requires a model with a single signature inference. Disabling support for feedback tensors.\n",
      "W0000 00:00:1732251957.146320    9317 inference_feedback_manager.cc:114] Feedback manager requires a model with a single signature inference. Disabling support for feedback tensors.\n",
      "W0000 00:00:1732251957.148932    9308 inference_feedback_manager.cc:114] Feedback manager requires a model with a single signature inference. Disabling support for feedback tensors.\n",
      "I0000 00:00:1732251957.167180    8496 gl_context_egl.cc:85] Successfully initialized EGL. Major : 1 Minor: 5\n",
      "I0000 00:00:1732251957.168462    9342 gl_context.cc:357] GL version: 3.2 (OpenGL ES 3.2 Mesa 23.2.1-1ubuntu3.1~22.04.2), renderer: GFX1103_R1 (gfx1103_r1, LLVM 15.0.7, DRM 3.57, 6.8.0-48-generic)\n",
      "W0000 00:00:1732251957.217126    9324 inference_feedback_manager.cc:114] Feedback manager requires a model with a single signature inference. Disabling support for feedback tensors.\n",
      "W0000 00:00:1732251957.240108    9335 inference_feedback_manager.cc:114] Feedback manager requires a model with a single signature inference. Disabling support for feedback tensors.\n",
      "W0000 00:00:1732251957.242597    9335 inference_feedback_manager.cc:114] Feedback manager requires a model with a single signature inference. Disabling support for feedback tensors.\n",
      "W0000 00:00:1732251957.243031    9326 inference_feedback_manager.cc:114] Feedback manager requires a model with a single signature inference. Disabling support for feedback tensors.\n",
      "W0000 00:00:1732251957.243074    9324 inference_feedback_manager.cc:114] Feedback manager requires a model with a single signature inference. Disabling support for feedback tensors.\n",
      "W0000 00:00:1732251957.247811    9330 inference_feedback_manager.cc:114] Feedback manager requires a model with a single signature inference. Disabling support for feedback tensors.\n",
      "W0000 00:00:1732251957.256866    9331 inference_feedback_manager.cc:114] Feedback manager requires a model with a single signature inference. Disabling support for feedback tensors.\n",
      "W0000 00:00:1732251957.256903    9329 inference_feedback_manager.cc:114] Feedback manager requires a model with a single signature inference. Disabling support for feedback tensors.\n",
      "I0000 00:00:1732251957.276417    8496 gl_context_egl.cc:85] Successfully initialized EGL. Major : 1 Minor: 5\n",
      "I0000 00:00:1732251957.277794    9361 gl_context.cc:357] GL version: 3.2 (OpenGL ES 3.2 Mesa 23.2.1-1ubuntu3.1~22.04.2), renderer: GFX1103_R1 (gfx1103_r1, LLVM 15.0.7, DRM 3.57, 6.8.0-48-generic)\n"
     ]
    },
    {
     "name": "stdout",
     "output_type": "stream",
     "text": [
      "(33, 4)\n",
      "(468, 3)\n",
      "(21, 3)\n",
      "(21, 3)\n",
      "Numpy array for frame train/0/17/frames/17_12.png has been saved to train/0/17/points_arrays/17_12.npy\n",
      "(33, 4)\n",
      "(468, 3)\n",
      "(21, 3)\n",
      "(21, 3)\n",
      "Numpy array for frame train/0/17/frames/17_2.png has been saved to train/0/17/points_arrays/17_2.npy\n"
     ]
    },
    {
     "name": "stderr",
     "output_type": "stream",
     "text": [
      "W0000 00:00:1732251957.329209    9346 inference_feedback_manager.cc:114] Feedback manager requires a model with a single signature inference. Disabling support for feedback tensors.\n",
      "W0000 00:00:1732251957.352564    9352 inference_feedback_manager.cc:114] Feedback manager requires a model with a single signature inference. Disabling support for feedback tensors.\n",
      "W0000 00:00:1732251957.354502    9353 inference_feedback_manager.cc:114] Feedback manager requires a model with a single signature inference. Disabling support for feedback tensors.\n",
      "W0000 00:00:1732251957.354807    9352 inference_feedback_manager.cc:114] Feedback manager requires a model with a single signature inference. Disabling support for feedback tensors.\n",
      "W0000 00:00:1732251957.355000    9354 inference_feedback_manager.cc:114] Feedback manager requires a model with a single signature inference. Disabling support for feedback tensors.\n",
      "W0000 00:00:1732251957.360345    9344 inference_feedback_manager.cc:114] Feedback manager requires a model with a single signature inference. Disabling support for feedback tensors.\n",
      "W0000 00:00:1732251957.368738    9358 inference_feedback_manager.cc:114] Feedback manager requires a model with a single signature inference. Disabling support for feedback tensors.\n",
      "W0000 00:00:1732251957.369062    9350 inference_feedback_manager.cc:114] Feedback manager requires a model with a single signature inference. Disabling support for feedback tensors.\n",
      "I0000 00:00:1732251957.388427    8496 gl_context_egl.cc:85] Successfully initialized EGL. Major : 1 Minor: 5\n",
      "I0000 00:00:1732251957.389666    9380 gl_context.cc:357] GL version: 3.2 (OpenGL ES 3.2 Mesa 23.2.1-1ubuntu3.1~22.04.2), renderer: GFX1103_R1 (gfx1103_r1, LLVM 15.0.7, DRM 3.57, 6.8.0-48-generic)\n",
      "W0000 00:00:1732251957.438747    9365 inference_feedback_manager.cc:114] Feedback manager requires a model with a single signature inference. Disabling support for feedback tensors.\n",
      "W0000 00:00:1732251957.462419    9374 inference_feedback_manager.cc:114] Feedback manager requires a model with a single signature inference. Disabling support for feedback tensors.\n",
      "W0000 00:00:1732251957.463490    9370 inference_feedback_manager.cc:114] Feedback manager requires a model with a single signature inference. Disabling support for feedback tensors.\n",
      "W0000 00:00:1732251957.464311    9363 inference_feedback_manager.cc:114] Feedback manager requires a model with a single signature inference. Disabling support for feedback tensors.\n",
      "W0000 00:00:1732251957.464919    9371 inference_feedback_manager.cc:114] Feedback manager requires a model with a single signature inference. Disabling support for feedback tensors.\n",
      "W0000 00:00:1732251957.471790    9369 inference_feedback_manager.cc:114] Feedback manager requires a model with a single signature inference. Disabling support for feedback tensors.\n",
      "W0000 00:00:1732251957.475903    9364 inference_feedback_manager.cc:114] Feedback manager requires a model with a single signature inference. Disabling support for feedback tensors.\n",
      "W0000 00:00:1732251957.479564    9372 inference_feedback_manager.cc:114] Feedback manager requires a model with a single signature inference. Disabling support for feedback tensors.\n",
      "I0000 00:00:1732251957.499054    8496 gl_context_egl.cc:85] Successfully initialized EGL. Major : 1 Minor: 5\n",
      "I0000 00:00:1732251957.500233    9399 gl_context.cc:357] GL version: 3.2 (OpenGL ES 3.2 Mesa 23.2.1-1ubuntu3.1~22.04.2), renderer: GFX1103_R1 (gfx1103_r1, LLVM 15.0.7, DRM 3.57, 6.8.0-48-generic)\n"
     ]
    },
    {
     "name": "stdout",
     "output_type": "stream",
     "text": [
      "(33, 4)\n",
      "(468, 3)\n",
      "(21, 3)\n",
      "(21, 3)\n",
      "Numpy array for frame train/0/17/frames/17_1.png has been saved to train/0/17/points_arrays/17_1.npy\n",
      "(33, 4)\n",
      "(468, 3)\n",
      "(21, 3)\n",
      "(21, 3)\n",
      "Numpy array for frame train/0/17/frames/17_11.png has been saved to train/0/17/points_arrays/17_11.npy\n"
     ]
    },
    {
     "name": "stderr",
     "output_type": "stream",
     "text": [
      "W0000 00:00:1732251957.550524    9383 inference_feedback_manager.cc:114] Feedback manager requires a model with a single signature inference. Disabling support for feedback tensors.\n",
      "W0000 00:00:1732251957.576353    9396 inference_feedback_manager.cc:114] Feedback manager requires a model with a single signature inference. Disabling support for feedback tensors.\n",
      "W0000 00:00:1732251957.578157    9388 inference_feedback_manager.cc:114] Feedback manager requires a model with a single signature inference. Disabling support for feedback tensors.\n",
      "W0000 00:00:1732251957.578199    9389 inference_feedback_manager.cc:114] Feedback manager requires a model with a single signature inference. Disabling support for feedback tensors.\n",
      "W0000 00:00:1732251957.579617    9394 inference_feedback_manager.cc:114] Feedback manager requires a model with a single signature inference. Disabling support for feedback tensors.\n",
      "W0000 00:00:1732251957.585835    9396 inference_feedback_manager.cc:114] Feedback manager requires a model with a single signature inference. Disabling support for feedback tensors.\n",
      "W0000 00:00:1732251957.591536    9384 inference_feedback_manager.cc:114] Feedback manager requires a model with a single signature inference. Disabling support for feedback tensors.\n",
      "W0000 00:00:1732251957.592074    9385 inference_feedback_manager.cc:114] Feedback manager requires a model with a single signature inference. Disabling support for feedback tensors.\n",
      "I0000 00:00:1732251957.613453    8496 gl_context_egl.cc:85] Successfully initialized EGL. Major : 1 Minor: 5\n",
      "I0000 00:00:1732251957.614654    9418 gl_context.cc:357] GL version: 3.2 (OpenGL ES 3.2 Mesa 23.2.1-1ubuntu3.1~22.04.2), renderer: GFX1103_R1 (gfx1103_r1, LLVM 15.0.7, DRM 3.57, 6.8.0-48-generic)\n",
      "W0000 00:00:1732251957.664622    9400 inference_feedback_manager.cc:114] Feedback manager requires a model with a single signature inference. Disabling support for feedback tensors.\n",
      "W0000 00:00:1732251957.689985    9405 inference_feedback_manager.cc:114] Feedback manager requires a model with a single signature inference. Disabling support for feedback tensors.\n",
      "W0000 00:00:1732251957.690996    9410 inference_feedback_manager.cc:114] Feedback manager requires a model with a single signature inference. Disabling support for feedback tensors.\n",
      "W0000 00:00:1732251957.691754    9400 inference_feedback_manager.cc:114] Feedback manager requires a model with a single signature inference. Disabling support for feedback tensors.\n",
      "W0000 00:00:1732251957.692230    9412 inference_feedback_manager.cc:114] Feedback manager requires a model with a single signature inference. Disabling support for feedback tensors.\n",
      "W0000 00:00:1732251957.699133    9404 inference_feedback_manager.cc:114] Feedback manager requires a model with a single signature inference. Disabling support for feedback tensors.\n",
      "W0000 00:00:1732251957.704099    9402 inference_feedback_manager.cc:114] Feedback manager requires a model with a single signature inference. Disabling support for feedback tensors.\n",
      "W0000 00:00:1732251957.708205    9414 inference_feedback_manager.cc:114] Feedback manager requires a model with a single signature inference. Disabling support for feedback tensors.\n",
      "I0000 00:00:1732251957.729645    8496 gl_context_egl.cc:85] Successfully initialized EGL. Major : 1 Minor: 5\n",
      "I0000 00:00:1732251957.730986    9437 gl_context.cc:357] GL version: 3.2 (OpenGL ES 3.2 Mesa 23.2.1-1ubuntu3.1~22.04.2), renderer: GFX1103_R1 (gfx1103_r1, LLVM 15.0.7, DRM 3.57, 6.8.0-48-generic)\n"
     ]
    },
    {
     "name": "stdout",
     "output_type": "stream",
     "text": [
      "(33, 4)\n",
      "(468, 3)\n",
      "(21, 3)\n",
      "(21, 3)\n",
      "Numpy array for frame train/0/17/frames/17_3.png has been saved to train/0/17/points_arrays/17_3.npy\n",
      "(33, 4)\n",
      "(468, 3)\n",
      "(21, 3)\n",
      "(21, 3)\n",
      "Numpy array for frame train/0/17/frames/17_8.png has been saved to train/0/17/points_arrays/17_8.npy\n"
     ]
    },
    {
     "name": "stderr",
     "output_type": "stream",
     "text": [
      "W0000 00:00:1732251957.781368    9421 inference_feedback_manager.cc:114] Feedback manager requires a model with a single signature inference. Disabling support for feedback tensors.\n",
      "W0000 00:00:1732251957.807090    9419 inference_feedback_manager.cc:114] Feedback manager requires a model with a single signature inference. Disabling support for feedback tensors.\n",
      "W0000 00:00:1732251957.808848    9423 inference_feedback_manager.cc:114] Feedback manager requires a model with a single signature inference. Disabling support for feedback tensors.\n",
      "W0000 00:00:1732251957.810179    9426 inference_feedback_manager.cc:114] Feedback manager requires a model with a single signature inference. Disabling support for feedback tensors.\n",
      "W0000 00:00:1732251957.810796    9434 inference_feedback_manager.cc:114] Feedback manager requires a model with a single signature inference. Disabling support for feedback tensors.\n",
      "W0000 00:00:1732251957.815168    9422 inference_feedback_manager.cc:114] Feedback manager requires a model with a single signature inference. Disabling support for feedback tensors.\n",
      "W0000 00:00:1732251957.821818    9431 inference_feedback_manager.cc:114] Feedback manager requires a model with a single signature inference. Disabling support for feedback tensors.\n",
      "W0000 00:00:1732251957.824756    9430 inference_feedback_manager.cc:114] Feedback manager requires a model with a single signature inference. Disabling support for feedback tensors.\n",
      "I0000 00:00:1732251957.844018    8496 gl_context_egl.cc:85] Successfully initialized EGL. Major : 1 Minor: 5\n",
      "I0000 00:00:1732251957.846650    9456 gl_context.cc:357] GL version: 3.2 (OpenGL ES 3.2 Mesa 23.2.1-1ubuntu3.1~22.04.2), renderer: GFX1103_R1 (gfx1103_r1, LLVM 15.0.7, DRM 3.57, 6.8.0-48-generic)\n",
      "W0000 00:00:1732251957.895305    9438 inference_feedback_manager.cc:114] Feedback manager requires a model with a single signature inference. Disabling support for feedback tensors.\n",
      "W0000 00:00:1732251957.924228    9443 inference_feedback_manager.cc:114] Feedback manager requires a model with a single signature inference. Disabling support for feedback tensors.\n",
      "W0000 00:00:1732251957.925655    9448 inference_feedback_manager.cc:114] Feedback manager requires a model with a single signature inference. Disabling support for feedback tensors.\n",
      "W0000 00:00:1732251957.925657    9451 inference_feedback_manager.cc:114] Feedback manager requires a model with a single signature inference. Disabling support for feedback tensors.\n",
      "W0000 00:00:1732251957.927185    9453 inference_feedback_manager.cc:114] Feedback manager requires a model with a single signature inference. Disabling support for feedback tensors.\n",
      "W0000 00:00:1732251957.934227    9445 inference_feedback_manager.cc:114] Feedback manager requires a model with a single signature inference. Disabling support for feedback tensors.\n",
      "W0000 00:00:1732251957.942578    9448 inference_feedback_manager.cc:114] Feedback manager requires a model with a single signature inference. Disabling support for feedback tensors.\n",
      "W0000 00:00:1732251957.944222    9440 inference_feedback_manager.cc:114] Feedback manager requires a model with a single signature inference. Disabling support for feedback tensors.\n",
      "I0000 00:00:1732251957.962673    8496 gl_context_egl.cc:85] Successfully initialized EGL. Major : 1 Minor: 5\n",
      "I0000 00:00:1732251957.963883    9475 gl_context.cc:357] GL version: 3.2 (OpenGL ES 3.2 Mesa 23.2.1-1ubuntu3.1~22.04.2), renderer: GFX1103_R1 (gfx1103_r1, LLVM 15.0.7, DRM 3.57, 6.8.0-48-generic)\n"
     ]
    },
    {
     "name": "stdout",
     "output_type": "stream",
     "text": [
      "(33, 4)\n",
      "(468, 3)\n",
      "(21, 3)\n",
      "(21, 3)\n",
      "Numpy array for frame train/0/17/frames/17_13.png has been saved to train/0/17/points_arrays/17_13.npy\n",
      "(33, 4)\n",
      "(468, 3)\n",
      "(21, 3)\n",
      "(21, 3)\n",
      "Numpy array for frame train/0/17/frames/17_15.png has been saved to train/0/17/points_arrays/17_15.npy\n"
     ]
    },
    {
     "name": "stderr",
     "output_type": "stream",
     "text": [
      "W0000 00:00:1732251958.017785    9458 inference_feedback_manager.cc:114] Feedback manager requires a model with a single signature inference. Disabling support for feedback tensors.\n",
      "W0000 00:00:1732251958.046220    9466 inference_feedback_manager.cc:114] Feedback manager requires a model with a single signature inference. Disabling support for feedback tensors.\n",
      "W0000 00:00:1732251958.047172    9464 inference_feedback_manager.cc:114] Feedback manager requires a model with a single signature inference. Disabling support for feedback tensors.\n",
      "W0000 00:00:1732251958.048502    9467 inference_feedback_manager.cc:114] Feedback manager requires a model with a single signature inference. Disabling support for feedback tensors.\n",
      "W0000 00:00:1732251958.049311    9463 inference_feedback_manager.cc:114] Feedback manager requires a model with a single signature inference. Disabling support for feedback tensors.\n",
      "W0000 00:00:1732251958.056087    9470 inference_feedback_manager.cc:114] Feedback manager requires a model with a single signature inference. Disabling support for feedback tensors.\n",
      "W0000 00:00:1732251958.059322    9462 inference_feedback_manager.cc:114] Feedback manager requires a model with a single signature inference. Disabling support for feedback tensors.\n",
      "W0000 00:00:1732251958.064145    9464 inference_feedback_manager.cc:114] Feedback manager requires a model with a single signature inference. Disabling support for feedback tensors.\n",
      "I0000 00:00:1732251958.081696    8496 gl_context_egl.cc:85] Successfully initialized EGL. Major : 1 Minor: 5\n",
      "I0000 00:00:1732251958.083003    9494 gl_context.cc:357] GL version: 3.2 (OpenGL ES 3.2 Mesa 23.2.1-1ubuntu3.1~22.04.2), renderer: GFX1103_R1 (gfx1103_r1, LLVM 15.0.7, DRM 3.57, 6.8.0-48-generic)\n",
      "W0000 00:00:1732251958.131007    9478 inference_feedback_manager.cc:114] Feedback manager requires a model with a single signature inference. Disabling support for feedback tensors.\n",
      "W0000 00:00:1732251958.160574    9476 inference_feedback_manager.cc:114] Feedback manager requires a model with a single signature inference. Disabling support for feedback tensors.\n",
      "W0000 00:00:1732251958.161628    9478 inference_feedback_manager.cc:114] Feedback manager requires a model with a single signature inference. Disabling support for feedback tensors.\n",
      "W0000 00:00:1732251958.162877    9482 inference_feedback_manager.cc:114] Feedback manager requires a model with a single signature inference. Disabling support for feedback tensors.\n",
      "W0000 00:00:1732251958.164008    9486 inference_feedback_manager.cc:114] Feedback manager requires a model with a single signature inference. Disabling support for feedback tensors.\n",
      "W0000 00:00:1732251958.170763    9477 inference_feedback_manager.cc:114] Feedback manager requires a model with a single signature inference. Disabling support for feedback tensors.\n",
      "W0000 00:00:1732251958.175606    9480 inference_feedback_manager.cc:114] Feedback manager requires a model with a single signature inference. Disabling support for feedback tensors.\n",
      "W0000 00:00:1732251958.176299    9483 inference_feedback_manager.cc:114] Feedback manager requires a model with a single signature inference. Disabling support for feedback tensors.\n",
      "I0000 00:00:1732251958.198410    8496 gl_context_egl.cc:85] Successfully initialized EGL. Major : 1 Minor: 5\n",
      "I0000 00:00:1732251958.199446    9513 gl_context.cc:357] GL version: 3.2 (OpenGL ES 3.2 Mesa 23.2.1-1ubuntu3.1~22.04.2), renderer: GFX1103_R1 (gfx1103_r1, LLVM 15.0.7, DRM 3.57, 6.8.0-48-generic)\n"
     ]
    },
    {
     "name": "stdout",
     "output_type": "stream",
     "text": [
      "(33, 4)\n",
      "(468, 3)\n",
      "(21, 3)\n",
      "(21, 3)\n",
      "Numpy array for frame train/0/17/frames/17_17.png has been saved to train/0/17/points_arrays/17_17.npy\n",
      "(33, 4)\n",
      "(468, 3)\n",
      "(21, 3)\n",
      "(21, 3)\n",
      "Numpy array for frame train/0/17/frames/17_18.png has been saved to train/0/17/points_arrays/17_18.npy\n"
     ]
    },
    {
     "name": "stderr",
     "output_type": "stream",
     "text": [
      "W0000 00:00:1732251958.247085    9497 inference_feedback_manager.cc:114] Feedback manager requires a model with a single signature inference. Disabling support for feedback tensors.\n",
      "W0000 00:00:1732251958.272992    9499 inference_feedback_manager.cc:114] Feedback manager requires a model with a single signature inference. Disabling support for feedback tensors.\n",
      "W0000 00:00:1732251958.275414    9510 inference_feedback_manager.cc:114] Feedback manager requires a model with a single signature inference. Disabling support for feedback tensors.\n",
      "W0000 00:00:1732251958.275861    9500 inference_feedback_manager.cc:114] Feedback manager requires a model with a single signature inference. Disabling support for feedback tensors.\n",
      "W0000 00:00:1732251958.275918    9503 inference_feedback_manager.cc:114] Feedback manager requires a model with a single signature inference. Disabling support for feedback tensors.\n",
      "W0000 00:00:1732251958.282941    9508 inference_feedback_manager.cc:114] Feedback manager requires a model with a single signature inference. Disabling support for feedback tensors.\n",
      "W0000 00:00:1732251958.290219    9497 inference_feedback_manager.cc:114] Feedback manager requires a model with a single signature inference. Disabling support for feedback tensors.\n",
      "W0000 00:00:1732251958.290752    9498 inference_feedback_manager.cc:114] Feedback manager requires a model with a single signature inference. Disabling support for feedback tensors.\n",
      "I0000 00:00:1732251958.307641    8496 gl_context_egl.cc:85] Successfully initialized EGL. Major : 1 Minor: 5\n",
      "I0000 00:00:1732251958.309037    9532 gl_context.cc:357] GL version: 3.2 (OpenGL ES 3.2 Mesa 23.2.1-1ubuntu3.1~22.04.2), renderer: GFX1103_R1 (gfx1103_r1, LLVM 15.0.7, DRM 3.57, 6.8.0-48-generic)\n",
      "W0000 00:00:1732251958.357813    9514 inference_feedback_manager.cc:114] Feedback manager requires a model with a single signature inference. Disabling support for feedback tensors.\n",
      "W0000 00:00:1732251958.385515    9525 inference_feedback_manager.cc:114] Feedback manager requires a model with a single signature inference. Disabling support for feedback tensors.\n",
      "W0000 00:00:1732251958.387421    9526 inference_feedback_manager.cc:114] Feedback manager requires a model with a single signature inference. Disabling support for feedback tensors.\n",
      "W0000 00:00:1732251958.387699    9528 inference_feedback_manager.cc:114] Feedback manager requires a model with a single signature inference. Disabling support for feedback tensors.\n",
      "W0000 00:00:1732251958.388777    9523 inference_feedback_manager.cc:114] Feedback manager requires a model with a single signature inference. Disabling support for feedback tensors.\n",
      "W0000 00:00:1732251958.392260    9522 inference_feedback_manager.cc:114] Feedback manager requires a model with a single signature inference. Disabling support for feedback tensors.\n",
      "W0000 00:00:1732251958.401070    9514 inference_feedback_manager.cc:114] Feedback manager requires a model with a single signature inference. Disabling support for feedback tensors.\n",
      "W0000 00:00:1732251958.403291    9519 inference_feedback_manager.cc:114] Feedback manager requires a model with a single signature inference. Disabling support for feedback tensors.\n",
      "I0000 00:00:1732251958.422325    8496 gl_context_egl.cc:85] Successfully initialized EGL. Major : 1 Minor: 5\n",
      "I0000 00:00:1732251958.423511    9551 gl_context.cc:357] GL version: 3.2 (OpenGL ES 3.2 Mesa 23.2.1-1ubuntu3.1~22.04.2), renderer: GFX1103_R1 (gfx1103_r1, LLVM 15.0.7, DRM 3.57, 6.8.0-48-generic)\n"
     ]
    },
    {
     "name": "stdout",
     "output_type": "stream",
     "text": [
      "(33, 4)\n",
      "(468, 3)\n",
      "(21, 3)\n",
      "(21, 3)\n",
      "Numpy array for frame train/0/17/frames/17_14.png has been saved to train/0/17/points_arrays/17_14.npy\n",
      "No directory called train/0/10/points_arrays/. Creating one now\n",
      "(33, 4)\n",
      "(468, 3)\n",
      "(21, 3)\n",
      "(21, 3)\n",
      "Numpy array for frame train/0/10/frames/10_2.png has been saved to train/0/10/points_arrays/10_2.npy\n"
     ]
    },
    {
     "name": "stderr",
     "output_type": "stream",
     "text": [
      "W0000 00:00:1732251958.476543    9534 inference_feedback_manager.cc:114] Feedback manager requires a model with a single signature inference. Disabling support for feedback tensors.\n",
      "W0000 00:00:1732251958.501085    9537 inference_feedback_manager.cc:114] Feedback manager requires a model with a single signature inference. Disabling support for feedback tensors.\n",
      "W0000 00:00:1732251958.502902    9538 inference_feedback_manager.cc:114] Feedback manager requires a model with a single signature inference. Disabling support for feedback tensors.\n",
      "W0000 00:00:1732251958.503628    9537 inference_feedback_manager.cc:114] Feedback manager requires a model with a single signature inference. Disabling support for feedback tensors.\n",
      "W0000 00:00:1732251958.504088    9546 inference_feedback_manager.cc:114] Feedback manager requires a model with a single signature inference. Disabling support for feedback tensors.\n",
      "W0000 00:00:1732251958.508300    9545 inference_feedback_manager.cc:114] Feedback manager requires a model with a single signature inference. Disabling support for feedback tensors.\n",
      "W0000 00:00:1732251958.516225    9548 inference_feedback_manager.cc:114] Feedback manager requires a model with a single signature inference. Disabling support for feedback tensors.\n",
      "W0000 00:00:1732251958.518286    9538 inference_feedback_manager.cc:114] Feedback manager requires a model with a single signature inference. Disabling support for feedback tensors.\n",
      "I0000 00:00:1732251958.536976    8496 gl_context_egl.cc:85] Successfully initialized EGL. Major : 1 Minor: 5\n",
      "I0000 00:00:1732251958.538358    9570 gl_context.cc:357] GL version: 3.2 (OpenGL ES 3.2 Mesa 23.2.1-1ubuntu3.1~22.04.2), renderer: GFX1103_R1 (gfx1103_r1, LLVM 15.0.7, DRM 3.57, 6.8.0-48-generic)\n",
      "W0000 00:00:1732251958.586143    9555 inference_feedback_manager.cc:114] Feedback manager requires a model with a single signature inference. Disabling support for feedback tensors.\n",
      "W0000 00:00:1732251958.612537    9558 inference_feedback_manager.cc:114] Feedback manager requires a model with a single signature inference. Disabling support for feedback tensors.\n",
      "W0000 00:00:1732251958.613825    9559 inference_feedback_manager.cc:114] Feedback manager requires a model with a single signature inference. Disabling support for feedback tensors.\n",
      "W0000 00:00:1732251958.614814    9564 inference_feedback_manager.cc:114] Feedback manager requires a model with a single signature inference. Disabling support for feedback tensors.\n",
      "W0000 00:00:1732251958.615201    9555 inference_feedback_manager.cc:114] Feedback manager requires a model with a single signature inference. Disabling support for feedback tensors.\n",
      "W0000 00:00:1732251958.618969    9554 inference_feedback_manager.cc:114] Feedback manager requires a model with a single signature inference. Disabling support for feedback tensors.\n",
      "W0000 00:00:1732251958.629548    9561 inference_feedback_manager.cc:114] Feedback manager requires a model with a single signature inference. Disabling support for feedback tensors.\n",
      "W0000 00:00:1732251958.631242    9562 inference_feedback_manager.cc:114] Feedback manager requires a model with a single signature inference. Disabling support for feedback tensors.\n",
      "I0000 00:00:1732251958.650269    8496 gl_context_egl.cc:85] Successfully initialized EGL. Major : 1 Minor: 5\n",
      "I0000 00:00:1732251958.651522    9589 gl_context.cc:357] GL version: 3.2 (OpenGL ES 3.2 Mesa 23.2.1-1ubuntu3.1~22.04.2), renderer: GFX1103_R1 (gfx1103_r1, LLVM 15.0.7, DRM 3.57, 6.8.0-48-generic)\n"
     ]
    },
    {
     "name": "stdout",
     "output_type": "stream",
     "text": [
      "(33, 4)\n",
      "(468, 3)\n",
      "(21, 3)\n",
      "(21, 3)\n",
      "Numpy array for frame train/0/10/frames/10_68.png has been saved to train/0/10/points_arrays/10_68.npy\n",
      "(33, 4)\n",
      "(468, 3)\n",
      "(21, 3)\n",
      "(21, 3)\n",
      "Numpy array for frame train/0/10/frames/10_64.png has been saved to train/0/10/points_arrays/10_64.npy\n"
     ]
    },
    {
     "name": "stderr",
     "output_type": "stream",
     "text": [
      "W0000 00:00:1732251958.700805    9571 inference_feedback_manager.cc:114] Feedback manager requires a model with a single signature inference. Disabling support for feedback tensors.\n",
      "W0000 00:00:1732251958.726189    9586 inference_feedback_manager.cc:114] Feedback manager requires a model with a single signature inference. Disabling support for feedback tensors.\n",
      "W0000 00:00:1732251958.727723    9577 inference_feedback_manager.cc:114] Feedback manager requires a model with a single signature inference. Disabling support for feedback tensors.\n",
      "W0000 00:00:1732251958.729276    9585 inference_feedback_manager.cc:114] Feedback manager requires a model with a single signature inference. Disabling support for feedback tensors.\n",
      "W0000 00:00:1732251958.729446    9582 inference_feedback_manager.cc:114] Feedback manager requires a model with a single signature inference. Disabling support for feedback tensors.\n",
      "W0000 00:00:1732251958.736181    9585 inference_feedback_manager.cc:114] Feedback manager requires a model with a single signature inference. Disabling support for feedback tensors.\n",
      "W0000 00:00:1732251958.740664    9576 inference_feedback_manager.cc:114] Feedback manager requires a model with a single signature inference. Disabling support for feedback tensors.\n",
      "W0000 00:00:1732251958.743888    9580 inference_feedback_manager.cc:114] Feedback manager requires a model with a single signature inference. Disabling support for feedback tensors.\n",
      "I0000 00:00:1732251958.763599    8496 gl_context_egl.cc:85] Successfully initialized EGL. Major : 1 Minor: 5\n",
      "I0000 00:00:1732251958.764776    9608 gl_context.cc:357] GL version: 3.2 (OpenGL ES 3.2 Mesa 23.2.1-1ubuntu3.1~22.04.2), renderer: GFX1103_R1 (gfx1103_r1, LLVM 15.0.7, DRM 3.57, 6.8.0-48-generic)\n",
      "W0000 00:00:1732251958.811740    9593 inference_feedback_manager.cc:114] Feedback manager requires a model with a single signature inference. Disabling support for feedback tensors.\n",
      "W0000 00:00:1732251958.836189    9590 inference_feedback_manager.cc:114] Feedback manager requires a model with a single signature inference. Disabling support for feedback tensors.\n",
      "W0000 00:00:1732251958.837126    9593 inference_feedback_manager.cc:114] Feedback manager requires a model with a single signature inference. Disabling support for feedback tensors.\n",
      "W0000 00:00:1732251958.838681    9595 inference_feedback_manager.cc:114] Feedback manager requires a model with a single signature inference. Disabling support for feedback tensors.\n",
      "W0000 00:00:1732251958.838886    9600 inference_feedback_manager.cc:114] Feedback manager requires a model with a single signature inference. Disabling support for feedback tensors.\n",
      "W0000 00:00:1732251958.842098    9596 inference_feedback_manager.cc:114] Feedback manager requires a model with a single signature inference. Disabling support for feedback tensors.\n",
      "W0000 00:00:1732251958.853028    9592 inference_feedback_manager.cc:114] Feedback manager requires a model with a single signature inference. Disabling support for feedback tensors.\n",
      "W0000 00:00:1732251958.854340    9602 inference_feedback_manager.cc:114] Feedback manager requires a model with a single signature inference. Disabling support for feedback tensors.\n",
      "I0000 00:00:1732251958.876298    8496 gl_context_egl.cc:85] Successfully initialized EGL. Major : 1 Minor: 5\n",
      "I0000 00:00:1732251958.877710    9627 gl_context.cc:357] GL version: 3.2 (OpenGL ES 3.2 Mesa 23.2.1-1ubuntu3.1~22.04.2), renderer: GFX1103_R1 (gfx1103_r1, LLVM 15.0.7, DRM 3.57, 6.8.0-48-generic)\n"
     ]
    },
    {
     "name": "stdout",
     "output_type": "stream",
     "text": [
      "(33, 4)\n",
      "(468, 3)\n",
      "(21, 3)\n",
      "(21, 3)\n",
      "Numpy array for frame train/0/10/frames/10_15.png has been saved to train/0/10/points_arrays/10_15.npy\n",
      "(33, 4)\n",
      "(468, 3)\n",
      "(21, 3)\n",
      "(21, 3)\n",
      "Numpy array for frame train/0/10/frames/10_22.png has been saved to train/0/10/points_arrays/10_22.npy\n"
     ]
    },
    {
     "name": "stderr",
     "output_type": "stream",
     "text": [
      "W0000 00:00:1732251958.926898    9610 inference_feedback_manager.cc:114] Feedback manager requires a model with a single signature inference. Disabling support for feedback tensors.\n",
      "W0000 00:00:1732251958.953249    9609 inference_feedback_manager.cc:114] Feedback manager requires a model with a single signature inference. Disabling support for feedback tensors.\n",
      "W0000 00:00:1732251958.955347    9621 inference_feedback_manager.cc:114] Feedback manager requires a model with a single signature inference. Disabling support for feedback tensors.\n",
      "W0000 00:00:1732251958.956126    9618 inference_feedback_manager.cc:114] Feedback manager requires a model with a single signature inference. Disabling support for feedback tensors.\n",
      "W0000 00:00:1732251958.956634    9615 inference_feedback_manager.cc:114] Feedback manager requires a model with a single signature inference. Disabling support for feedback tensors.\n",
      "W0000 00:00:1732251958.961584    9612 inference_feedback_manager.cc:114] Feedback manager requires a model with a single signature inference. Disabling support for feedback tensors.\n",
      "W0000 00:00:1732251958.968806    9623 inference_feedback_manager.cc:114] Feedback manager requires a model with a single signature inference. Disabling support for feedback tensors.\n",
      "W0000 00:00:1732251958.969518    9622 inference_feedback_manager.cc:114] Feedback manager requires a model with a single signature inference. Disabling support for feedback tensors.\n",
      "I0000 00:00:1732251958.989894    8496 gl_context_egl.cc:85] Successfully initialized EGL. Major : 1 Minor: 5\n",
      "I0000 00:00:1732251958.991301    9646 gl_context.cc:357] GL version: 3.2 (OpenGL ES 3.2 Mesa 23.2.1-1ubuntu3.1~22.04.2), renderer: GFX1103_R1 (gfx1103_r1, LLVM 15.0.7, DRM 3.57, 6.8.0-48-generic)\n",
      "W0000 00:00:1732251959.041562    9630 inference_feedback_manager.cc:114] Feedback manager requires a model with a single signature inference. Disabling support for feedback tensors.\n",
      "W0000 00:00:1732251959.066498    9635 inference_feedback_manager.cc:114] Feedback manager requires a model with a single signature inference. Disabling support for feedback tensors.\n",
      "W0000 00:00:1732251959.067898    9636 inference_feedback_manager.cc:114] Feedback manager requires a model with a single signature inference. Disabling support for feedback tensors.\n",
      "W0000 00:00:1732251959.068058    9641 inference_feedback_manager.cc:114] Feedback manager requires a model with a single signature inference. Disabling support for feedback tensors.\n",
      "W0000 00:00:1732251959.068886    9640 inference_feedback_manager.cc:114] Feedback manager requires a model with a single signature inference. Disabling support for feedback tensors.\n",
      "W0000 00:00:1732251959.075869    9628 inference_feedback_manager.cc:114] Feedback manager requires a model with a single signature inference. Disabling support for feedback tensors.\n",
      "W0000 00:00:1732251959.082329    9639 inference_feedback_manager.cc:114] Feedback manager requires a model with a single signature inference. Disabling support for feedback tensors.\n",
      "W0000 00:00:1732251959.082335    9634 inference_feedback_manager.cc:114] Feedback manager requires a model with a single signature inference. Disabling support for feedback tensors.\n",
      "I0000 00:00:1732251959.108511    8496 gl_context_egl.cc:85] Successfully initialized EGL. Major : 1 Minor: 5\n",
      "I0000 00:00:1732251959.109805    9665 gl_context.cc:357] GL version: 3.2 (OpenGL ES 3.2 Mesa 23.2.1-1ubuntu3.1~22.04.2), renderer: GFX1103_R1 (gfx1103_r1, LLVM 15.0.7, DRM 3.57, 6.8.0-48-generic)\n"
     ]
    },
    {
     "name": "stdout",
     "output_type": "stream",
     "text": [
      "(33, 4)\n",
      "(468, 3)\n",
      "(21, 3)\n",
      "(21, 3)\n",
      "Numpy array for frame train/0/10/frames/10_28.png has been saved to train/0/10/points_arrays/10_28.npy\n",
      "(33, 4)\n",
      "(468, 3)\n",
      "(21, 3)\n",
      "(21, 3)\n",
      "Numpy array for frame train/0/10/frames/10_40.png has been saved to train/0/10/points_arrays/10_40.npy\n"
     ]
    },
    {
     "name": "stderr",
     "output_type": "stream",
     "text": [
      "W0000 00:00:1732251959.163260    9648 inference_feedback_manager.cc:114] Feedback manager requires a model with a single signature inference. Disabling support for feedback tensors.\n",
      "W0000 00:00:1732251959.192333    9650 inference_feedback_manager.cc:114] Feedback manager requires a model with a single signature inference. Disabling support for feedback tensors.\n",
      "W0000 00:00:1732251959.193482    9648 inference_feedback_manager.cc:114] Feedback manager requires a model with a single signature inference. Disabling support for feedback tensors.\n",
      "W0000 00:00:1732251959.193745    9651 inference_feedback_manager.cc:114] Feedback manager requires a model with a single signature inference. Disabling support for feedback tensors.\n",
      "W0000 00:00:1732251959.195781    9650 inference_feedback_manager.cc:114] Feedback manager requires a model with a single signature inference. Disabling support for feedback tensors.\n",
      "W0000 00:00:1732251959.202108    9660 inference_feedback_manager.cc:114] Feedback manager requires a model with a single signature inference. Disabling support for feedback tensors.\n",
      "W0000 00:00:1732251959.206994    9657 inference_feedback_manager.cc:114] Feedback manager requires a model with a single signature inference. Disabling support for feedback tensors.\n",
      "W0000 00:00:1732251959.207463    9661 inference_feedback_manager.cc:114] Feedback manager requires a model with a single signature inference. Disabling support for feedback tensors.\n",
      "I0000 00:00:1732251959.229271    8496 gl_context_egl.cc:85] Successfully initialized EGL. Major : 1 Minor: 5\n",
      "I0000 00:00:1732251959.230399    9684 gl_context.cc:357] GL version: 3.2 (OpenGL ES 3.2 Mesa 23.2.1-1ubuntu3.1~22.04.2), renderer: GFX1103_R1 (gfx1103_r1, LLVM 15.0.7, DRM 3.57, 6.8.0-48-generic)\n",
      "W0000 00:00:1732251959.281670    9668 inference_feedback_manager.cc:114] Feedback manager requires a model with a single signature inference. Disabling support for feedback tensors.\n",
      "W0000 00:00:1732251959.306489    9674 inference_feedback_manager.cc:114] Feedback manager requires a model with a single signature inference. Disabling support for feedback tensors.\n",
      "W0000 00:00:1732251959.307989    9680 inference_feedback_manager.cc:114] Feedback manager requires a model with a single signature inference. Disabling support for feedback tensors.\n",
      "W0000 00:00:1732251959.308937    9673 inference_feedback_manager.cc:114] Feedback manager requires a model with a single signature inference. Disabling support for feedback tensors.\n",
      "W0000 00:00:1732251959.309352    9668 inference_feedback_manager.cc:114] Feedback manager requires a model with a single signature inference. Disabling support for feedback tensors.\n",
      "W0000 00:00:1732251959.316973    9679 inference_feedback_manager.cc:114] Feedback manager requires a model with a single signature inference. Disabling support for feedback tensors.\n",
      "W0000 00:00:1732251959.325278    9671 inference_feedback_manager.cc:114] Feedback manager requires a model with a single signature inference. Disabling support for feedback tensors.\n",
      "W0000 00:00:1732251959.327394    9675 inference_feedback_manager.cc:114] Feedback manager requires a model with a single signature inference. Disabling support for feedback tensors.\n",
      "I0000 00:00:1732251959.345753    8496 gl_context_egl.cc:85] Successfully initialized EGL. Major : 1 Minor: 5\n",
      "I0000 00:00:1732251959.347065    9703 gl_context.cc:357] GL version: 3.2 (OpenGL ES 3.2 Mesa 23.2.1-1ubuntu3.1~22.04.2), renderer: GFX1103_R1 (gfx1103_r1, LLVM 15.0.7, DRM 3.57, 6.8.0-48-generic)\n"
     ]
    },
    {
     "name": "stdout",
     "output_type": "stream",
     "text": [
      "(33, 4)\n",
      "(468, 3)\n",
      "(21, 3)\n",
      "(21, 3)\n",
      "Numpy array for frame train/0/10/frames/10_84.png has been saved to train/0/10/points_arrays/10_84.npy\n",
      "(33, 4)\n",
      "(468, 3)\n",
      "(21, 3)\n",
      "(21, 3)\n",
      "Numpy array for frame train/0/10/frames/10_30.png has been saved to train/0/10/points_arrays/10_30.npy\n"
     ]
    },
    {
     "name": "stderr",
     "output_type": "stream",
     "text": [
      "W0000 00:00:1732251959.401469    9689 inference_feedback_manager.cc:114] Feedback manager requires a model with a single signature inference. Disabling support for feedback tensors.\n",
      "W0000 00:00:1732251959.426562    9694 inference_feedback_manager.cc:114] Feedback manager requires a model with a single signature inference. Disabling support for feedback tensors.\n",
      "W0000 00:00:1732251959.427373    9698 inference_feedback_manager.cc:114] Feedback manager requires a model with a single signature inference. Disabling support for feedback tensors.\n",
      "W0000 00:00:1732251959.429388    9691 inference_feedback_manager.cc:114] Feedback manager requires a model with a single signature inference. Disabling support for feedback tensors.\n",
      "W0000 00:00:1732251959.429833    9694 inference_feedback_manager.cc:114] Feedback manager requires a model with a single signature inference. Disabling support for feedback tensors.\n",
      "W0000 00:00:1732251959.435133    9688 inference_feedback_manager.cc:114] Feedback manager requires a model with a single signature inference. Disabling support for feedback tensors.\n",
      "W0000 00:00:1732251959.442874    9696 inference_feedback_manager.cc:114] Feedback manager requires a model with a single signature inference. Disabling support for feedback tensors.\n",
      "W0000 00:00:1732251959.443481    9685 inference_feedback_manager.cc:114] Feedback manager requires a model with a single signature inference. Disabling support for feedback tensors.\n",
      "I0000 00:00:1732251959.462767    8496 gl_context_egl.cc:85] Successfully initialized EGL. Major : 1 Minor: 5\n",
      "I0000 00:00:1732251959.463992    9722 gl_context.cc:357] GL version: 3.2 (OpenGL ES 3.2 Mesa 23.2.1-1ubuntu3.1~22.04.2), renderer: GFX1103_R1 (gfx1103_r1, LLVM 15.0.7, DRM 3.57, 6.8.0-48-generic)\n",
      "W0000 00:00:1732251959.513047    9706 inference_feedback_manager.cc:114] Feedback manager requires a model with a single signature inference. Disabling support for feedback tensors.\n",
      "W0000 00:00:1732251959.536229    9716 inference_feedback_manager.cc:114] Feedback manager requires a model with a single signature inference. Disabling support for feedback tensors.\n",
      "W0000 00:00:1732251959.537608    9712 inference_feedback_manager.cc:114] Feedback manager requires a model with a single signature inference. Disabling support for feedback tensors.\n",
      "W0000 00:00:1732251959.538531    9716 inference_feedback_manager.cc:114] Feedback manager requires a model with a single signature inference. Disabling support for feedback tensors.\n",
      "W0000 00:00:1732251959.539018    9705 inference_feedback_manager.cc:114] Feedback manager requires a model with a single signature inference. Disabling support for feedback tensors.\n",
      "W0000 00:00:1732251959.543906    9712 inference_feedback_manager.cc:114] Feedback manager requires a model with a single signature inference. Disabling support for feedback tensors.\n",
      "W0000 00:00:1732251959.553623    9717 inference_feedback_manager.cc:114] Feedback manager requires a model with a single signature inference. Disabling support for feedback tensors.\n",
      "W0000 00:00:1732251959.554496    9718 inference_feedback_manager.cc:114] Feedback manager requires a model with a single signature inference. Disabling support for feedback tensors.\n",
      "I0000 00:00:1732251959.573404    8496 gl_context_egl.cc:85] Successfully initialized EGL. Major : 1 Minor: 5\n",
      "I0000 00:00:1732251959.574815    9741 gl_context.cc:357] GL version: 3.2 (OpenGL ES 3.2 Mesa 23.2.1-1ubuntu3.1~22.04.2), renderer: GFX1103_R1 (gfx1103_r1, LLVM 15.0.7, DRM 3.57, 6.8.0-48-generic)\n"
     ]
    },
    {
     "name": "stdout",
     "output_type": "stream",
     "text": [
      "(33, 4)\n",
      "(468, 3)\n",
      "(21, 3)\n",
      "(21, 3)\n",
      "Numpy array for frame train/0/10/frames/10_51.png has been saved to train/0/10/points_arrays/10_51.npy\n",
      "(33, 4)\n",
      "(468, 3)\n",
      "(21, 3)\n",
      "(21, 3)\n",
      "Numpy array for frame train/0/10/frames/10_86.png has been saved to train/0/10/points_arrays/10_86.npy\n"
     ]
    },
    {
     "name": "stderr",
     "output_type": "stream",
     "text": [
      "W0000 00:00:1732251959.626724    9725 inference_feedback_manager.cc:114] Feedback manager requires a model with a single signature inference. Disabling support for feedback tensors.\n",
      "W0000 00:00:1732251959.650741    9729 inference_feedback_manager.cc:114] Feedback manager requires a model with a single signature inference. Disabling support for feedback tensors.\n",
      "W0000 00:00:1732251959.651947    9725 inference_feedback_manager.cc:114] Feedback manager requires a model with a single signature inference. Disabling support for feedback tensors.\n",
      "W0000 00:00:1732251959.652068    9736 inference_feedback_manager.cc:114] Feedback manager requires a model with a single signature inference. Disabling support for feedback tensors.\n",
      "W0000 00:00:1732251959.652656    9728 inference_feedback_manager.cc:114] Feedback manager requires a model with a single signature inference. Disabling support for feedback tensors.\n",
      "W0000 00:00:1732251959.656745    9725 inference_feedback_manager.cc:114] Feedback manager requires a model with a single signature inference. Disabling support for feedback tensors.\n",
      "W0000 00:00:1732251959.664414    9726 inference_feedback_manager.cc:114] Feedback manager requires a model with a single signature inference. Disabling support for feedback tensors.\n",
      "W0000 00:00:1732251959.670856    9736 inference_feedback_manager.cc:114] Feedback manager requires a model with a single signature inference. Disabling support for feedback tensors.\n",
      "I0000 00:00:1732251959.689941    8496 gl_context_egl.cc:85] Successfully initialized EGL. Major : 1 Minor: 5\n",
      "I0000 00:00:1732251959.691297    9760 gl_context.cc:357] GL version: 3.2 (OpenGL ES 3.2 Mesa 23.2.1-1ubuntu3.1~22.04.2), renderer: GFX1103_R1 (gfx1103_r1, LLVM 15.0.7, DRM 3.57, 6.8.0-48-generic)\n",
      "W0000 00:00:1732251959.740466    9744 inference_feedback_manager.cc:114] Feedback manager requires a model with a single signature inference. Disabling support for feedback tensors.\n",
      "W0000 00:00:1732251959.766813    9742 inference_feedback_manager.cc:114] Feedback manager requires a model with a single signature inference. Disabling support for feedback tensors.\n",
      "W0000 00:00:1732251959.767964    9749 inference_feedback_manager.cc:114] Feedback manager requires a model with a single signature inference. Disabling support for feedback tensors.\n",
      "W0000 00:00:1732251959.768647    9750 inference_feedback_manager.cc:114] Feedback manager requires a model with a single signature inference. Disabling support for feedback tensors.\n",
      "W0000 00:00:1732251959.769519    9754 inference_feedback_manager.cc:114] Feedback manager requires a model with a single signature inference. Disabling support for feedback tensors.\n",
      "W0000 00:00:1732251959.776582    9757 inference_feedback_manager.cc:114] Feedback manager requires a model with a single signature inference. Disabling support for feedback tensors.\n",
      "W0000 00:00:1732251959.782495    9746 inference_feedback_manager.cc:114] Feedback manager requires a model with a single signature inference. Disabling support for feedback tensors.\n",
      "W0000 00:00:1732251959.782864    9748 inference_feedback_manager.cc:114] Feedback manager requires a model with a single signature inference. Disabling support for feedback tensors.\n",
      "I0000 00:00:1732251959.802245    8496 gl_context_egl.cc:85] Successfully initialized EGL. Major : 1 Minor: 5\n",
      "I0000 00:00:1732251959.804256    9779 gl_context.cc:357] GL version: 3.2 (OpenGL ES 3.2 Mesa 23.2.1-1ubuntu3.1~22.04.2), renderer: GFX1103_R1 (gfx1103_r1, LLVM 15.0.7, DRM 3.57, 6.8.0-48-generic)\n"
     ]
    },
    {
     "name": "stdout",
     "output_type": "stream",
     "text": [
      "(33, 4)\n",
      "(468, 3)\n",
      "(21, 3)\n",
      "(21, 3)\n",
      "Numpy array for frame train/0/10/frames/10_17.png has been saved to train/0/10/points_arrays/10_17.npy\n",
      "(33, 4)\n",
      "(468, 3)\n",
      "(21, 3)\n",
      "(21, 3)\n",
      "Numpy array for frame train/0/10/frames/10_1.png has been saved to train/0/10/points_arrays/10_1.npy\n"
     ]
    },
    {
     "name": "stderr",
     "output_type": "stream",
     "text": [
      "W0000 00:00:1732251959.850402    9762 inference_feedback_manager.cc:114] Feedback manager requires a model with a single signature inference. Disabling support for feedback tensors.\n",
      "W0000 00:00:1732251959.875022    9773 inference_feedback_manager.cc:114] Feedback manager requires a model with a single signature inference. Disabling support for feedback tensors.\n",
      "W0000 00:00:1732251959.877092    9769 inference_feedback_manager.cc:114] Feedback manager requires a model with a single signature inference. Disabling support for feedback tensors.\n",
      "W0000 00:00:1732251959.877184    9761 inference_feedback_manager.cc:114] Feedback manager requires a model with a single signature inference. Disabling support for feedback tensors.\n",
      "W0000 00:00:1732251959.878666    9768 inference_feedback_manager.cc:114] Feedback manager requires a model with a single signature inference. Disabling support for feedback tensors.\n",
      "W0000 00:00:1732251959.885184    9763 inference_feedback_manager.cc:114] Feedback manager requires a model with a single signature inference. Disabling support for feedback tensors.\n",
      "W0000 00:00:1732251959.890453    9767 inference_feedback_manager.cc:114] Feedback manager requires a model with a single signature inference. Disabling support for feedback tensors.\n",
      "W0000 00:00:1732251959.892370    9770 inference_feedback_manager.cc:114] Feedback manager requires a model with a single signature inference. Disabling support for feedback tensors.\n",
      "I0000 00:00:1732251959.912641    8496 gl_context_egl.cc:85] Successfully initialized EGL. Major : 1 Minor: 5\n",
      "I0000 00:00:1732251959.913972    9798 gl_context.cc:357] GL version: 3.2 (OpenGL ES 3.2 Mesa 23.2.1-1ubuntu3.1~22.04.2), renderer: GFX1103_R1 (gfx1103_r1, LLVM 15.0.7, DRM 3.57, 6.8.0-48-generic)\n",
      "W0000 00:00:1732251959.961553    9782 inference_feedback_manager.cc:114] Feedback manager requires a model with a single signature inference. Disabling support for feedback tensors.\n",
      "W0000 00:00:1732251959.988985    9784 inference_feedback_manager.cc:114] Feedback manager requires a model with a single signature inference. Disabling support for feedback tensors.\n",
      "W0000 00:00:1732251959.990079    9782 inference_feedback_manager.cc:114] Feedback manager requires a model with a single signature inference. Disabling support for feedback tensors.\n",
      "W0000 00:00:1732251959.990757    9783 inference_feedback_manager.cc:114] Feedback manager requires a model with a single signature inference. Disabling support for feedback tensors.\n",
      "W0000 00:00:1732251959.992164    9793 inference_feedback_manager.cc:114] Feedback manager requires a model with a single signature inference. Disabling support for feedback tensors.\n",
      "W0000 00:00:1732251959.996420    9782 inference_feedback_manager.cc:114] Feedback manager requires a model with a single signature inference. Disabling support for feedback tensors.\n",
      "W0000 00:00:1732251960.003481    9795 inference_feedback_manager.cc:114] Feedback manager requires a model with a single signature inference. Disabling support for feedback tensors.\n",
      "W0000 00:00:1732251960.007644    9789 inference_feedback_manager.cc:114] Feedback manager requires a model with a single signature inference. Disabling support for feedback tensors.\n",
      "I0000 00:00:1732251960.025482    8496 gl_context_egl.cc:85] Successfully initialized EGL. Major : 1 Minor: 5\n",
      "I0000 00:00:1732251960.027724    9817 gl_context.cc:357] GL version: 3.2 (OpenGL ES 3.2 Mesa 23.2.1-1ubuntu3.1~22.04.2), renderer: GFX1103_R1 (gfx1103_r1, LLVM 15.0.7, DRM 3.57, 6.8.0-48-generic)\n"
     ]
    },
    {
     "name": "stdout",
     "output_type": "stream",
     "text": [
      "(33, 4)\n",
      "(468, 3)\n",
      "(21, 3)\n",
      "(21, 3)\n",
      "Numpy array for frame train/0/10/frames/10_18.png has been saved to train/0/10/points_arrays/10_18.npy\n",
      "(33, 4)\n",
      "(468, 3)\n",
      "(21, 3)\n",
      "(21, 3)\n",
      "Numpy array for frame train/0/10/frames/10_57.png has been saved to train/0/10/points_arrays/10_57.npy\n"
     ]
    },
    {
     "name": "stderr",
     "output_type": "stream",
     "text": [
      "W0000 00:00:1732251960.078729    9800 inference_feedback_manager.cc:114] Feedback manager requires a model with a single signature inference. Disabling support for feedback tensors.\n",
      "W0000 00:00:1732251960.106818    9807 inference_feedback_manager.cc:114] Feedback manager requires a model with a single signature inference. Disabling support for feedback tensors.\n",
      "W0000 00:00:1732251960.107963    9804 inference_feedback_manager.cc:114] Feedback manager requires a model with a single signature inference. Disabling support for feedback tensors.\n",
      "W0000 00:00:1732251960.108322    9808 inference_feedback_manager.cc:114] Feedback manager requires a model with a single signature inference. Disabling support for feedback tensors.\n",
      "W0000 00:00:1732251960.109451    9802 inference_feedback_manager.cc:114] Feedback manager requires a model with a single signature inference. Disabling support for feedback tensors.\n",
      "W0000 00:00:1732251960.117122    9808 inference_feedback_manager.cc:114] Feedback manager requires a model with a single signature inference. Disabling support for feedback tensors.\n",
      "W0000 00:00:1732251960.123003    9805 inference_feedback_manager.cc:114] Feedback manager requires a model with a single signature inference. Disabling support for feedback tensors.\n",
      "W0000 00:00:1732251960.123569    9800 inference_feedback_manager.cc:114] Feedback manager requires a model with a single signature inference. Disabling support for feedback tensors.\n",
      "I0000 00:00:1732251960.142980    8496 gl_context_egl.cc:85] Successfully initialized EGL. Major : 1 Minor: 5\n",
      "I0000 00:00:1732251960.144271    9836 gl_context.cc:357] GL version: 3.2 (OpenGL ES 3.2 Mesa 23.2.1-1ubuntu3.1~22.04.2), renderer: GFX1103_R1 (gfx1103_r1, LLVM 15.0.7, DRM 3.57, 6.8.0-48-generic)\n",
      "W0000 00:00:1732251960.195145    9821 inference_feedback_manager.cc:114] Feedback manager requires a model with a single signature inference. Disabling support for feedback tensors.\n",
      "W0000 00:00:1732251960.223106    9819 inference_feedback_manager.cc:114] Feedback manager requires a model with a single signature inference. Disabling support for feedback tensors.\n",
      "W0000 00:00:1732251960.225261    9825 inference_feedback_manager.cc:114] Feedback manager requires a model with a single signature inference. Disabling support for feedback tensors.\n",
      "W0000 00:00:1732251960.225317    9819 inference_feedback_manager.cc:114] Feedback manager requires a model with a single signature inference. Disabling support for feedback tensors.\n",
      "W0000 00:00:1732251960.226161    9826 inference_feedback_manager.cc:114] Feedback manager requires a model with a single signature inference. Disabling support for feedback tensors.\n",
      "W0000 00:00:1732251960.231322    9829 inference_feedback_manager.cc:114] Feedback manager requires a model with a single signature inference. Disabling support for feedback tensors.\n",
      "W0000 00:00:1732251960.243734    9827 inference_feedback_manager.cc:114] Feedback manager requires a model with a single signature inference. Disabling support for feedback tensors.\n",
      "W0000 00:00:1732251960.244311    9818 inference_feedback_manager.cc:114] Feedback manager requires a model with a single signature inference. Disabling support for feedback tensors.\n",
      "I0000 00:00:1732251960.266245    8496 gl_context_egl.cc:85] Successfully initialized EGL. Major : 1 Minor: 5\n",
      "I0000 00:00:1732251960.267294    9855 gl_context.cc:357] GL version: 3.2 (OpenGL ES 3.2 Mesa 23.2.1-1ubuntu3.1~22.04.2), renderer: GFX1103_R1 (gfx1103_r1, LLVM 15.0.7, DRM 3.57, 6.8.0-48-generic)\n"
     ]
    },
    {
     "name": "stdout",
     "output_type": "stream",
     "text": [
      "(33, 4)\n",
      "(468, 3)\n",
      "(21, 3)\n",
      "(21, 3)\n",
      "Numpy array for frame train/0/10/frames/10_12.png has been saved to train/0/10/points_arrays/10_12.npy\n",
      "(33, 4)\n",
      "(468, 3)\n",
      "(21, 3)\n",
      "(21, 3)\n",
      "Numpy array for frame train/0/10/frames/10_33.png has been saved to train/0/10/points_arrays/10_33.npy\n"
     ]
    },
    {
     "name": "stderr",
     "output_type": "stream",
     "text": [
      "W0000 00:00:1732251960.318771    9838 inference_feedback_manager.cc:114] Feedback manager requires a model with a single signature inference. Disabling support for feedback tensors.\n",
      "W0000 00:00:1732251960.346564    9839 inference_feedback_manager.cc:114] Feedback manager requires a model with a single signature inference. Disabling support for feedback tensors.\n",
      "W0000 00:00:1732251960.347451    9842 inference_feedback_manager.cc:114] Feedback manager requires a model with a single signature inference. Disabling support for feedback tensors.\n",
      "W0000 00:00:1732251960.347669    9838 inference_feedback_manager.cc:114] Feedback manager requires a model with a single signature inference. Disabling support for feedback tensors.\n",
      "W0000 00:00:1732251960.348956    9848 inference_feedback_manager.cc:114] Feedback manager requires a model with a single signature inference. Disabling support for feedback tensors.\n",
      "W0000 00:00:1732251960.353991    9850 inference_feedback_manager.cc:114] Feedback manager requires a model with a single signature inference. Disabling support for feedback tensors.\n",
      "W0000 00:00:1732251960.360087    9841 inference_feedback_manager.cc:114] Feedback manager requires a model with a single signature inference. Disabling support for feedback tensors.\n",
      "W0000 00:00:1732251960.362009    9847 inference_feedback_manager.cc:114] Feedback manager requires a model with a single signature inference. Disabling support for feedback tensors.\n",
      "I0000 00:00:1732251960.381808    8496 gl_context_egl.cc:85] Successfully initialized EGL. Major : 1 Minor: 5\n",
      "I0000 00:00:1732251960.383019    9874 gl_context.cc:357] GL version: 3.2 (OpenGL ES 3.2 Mesa 23.2.1-1ubuntu3.1~22.04.2), renderer: GFX1103_R1 (gfx1103_r1, LLVM 15.0.7, DRM 3.57, 6.8.0-48-generic)\n",
      "W0000 00:00:1732251960.433788    9858 inference_feedback_manager.cc:114] Feedback manager requires a model with a single signature inference. Disabling support for feedback tensors.\n",
      "W0000 00:00:1732251960.460992    9866 inference_feedback_manager.cc:114] Feedback manager requires a model with a single signature inference. Disabling support for feedback tensors.\n",
      "W0000 00:00:1732251960.462518    9860 inference_feedback_manager.cc:114] Feedback manager requires a model with a single signature inference. Disabling support for feedback tensors.\n",
      "W0000 00:00:1732251960.463349    9865 inference_feedback_manager.cc:114] Feedback manager requires a model with a single signature inference. Disabling support for feedback tensors.\n",
      "W0000 00:00:1732251960.464064    9858 inference_feedback_manager.cc:114] Feedback manager requires a model with a single signature inference. Disabling support for feedback tensors.\n",
      "W0000 00:00:1732251960.468942    9863 inference_feedback_manager.cc:114] Feedback manager requires a model with a single signature inference. Disabling support for feedback tensors.\n",
      "W0000 00:00:1732251960.478255    9866 inference_feedback_manager.cc:114] Feedback manager requires a model with a single signature inference. Disabling support for feedback tensors.\n",
      "W0000 00:00:1732251960.478490    9862 inference_feedback_manager.cc:114] Feedback manager requires a model with a single signature inference. Disabling support for feedback tensors.\n",
      "I0000 00:00:1732251960.497053    8496 gl_context_egl.cc:85] Successfully initialized EGL. Major : 1 Minor: 5\n",
      "I0000 00:00:1732251960.498040    9893 gl_context.cc:357] GL version: 3.2 (OpenGL ES 3.2 Mesa 23.2.1-1ubuntu3.1~22.04.2), renderer: GFX1103_R1 (gfx1103_r1, LLVM 15.0.7, DRM 3.57, 6.8.0-48-generic)\n"
     ]
    },
    {
     "name": "stdout",
     "output_type": "stream",
     "text": [
      "(33, 4)\n",
      "(468, 3)\n",
      "(21, 3)\n",
      "(21, 3)\n",
      "Numpy array for frame train/0/10/frames/10_45.png has been saved to train/0/10/points_arrays/10_45.npy\n",
      "(33, 4)\n",
      "(468, 3)\n",
      "(21, 3)\n",
      "(21, 3)\n",
      "Numpy array for frame train/0/10/frames/10_77.png has been saved to train/0/10/points_arrays/10_77.npy\n"
     ]
    },
    {
     "name": "stderr",
     "output_type": "stream",
     "text": [
      "W0000 00:00:1732251960.552116    9875 inference_feedback_manager.cc:114] Feedback manager requires a model with a single signature inference. Disabling support for feedback tensors.\n",
      "W0000 00:00:1732251960.578659    9880 inference_feedback_manager.cc:114] Feedback manager requires a model with a single signature inference. Disabling support for feedback tensors.\n",
      "W0000 00:00:1732251960.580131    9877 inference_feedback_manager.cc:114] Feedback manager requires a model with a single signature inference. Disabling support for feedback tensors.\n",
      "W0000 00:00:1732251960.581122    9878 inference_feedback_manager.cc:114] Feedback manager requires a model with a single signature inference. Disabling support for feedback tensors.\n",
      "W0000 00:00:1732251960.581510    9875 inference_feedback_manager.cc:114] Feedback manager requires a model with a single signature inference. Disabling support for feedback tensors.\n",
      "W0000 00:00:1732251960.587846    9877 inference_feedback_manager.cc:114] Feedback manager requires a model with a single signature inference. Disabling support for feedback tensors.\n",
      "W0000 00:00:1732251960.594019    9887 inference_feedback_manager.cc:114] Feedback manager requires a model with a single signature inference. Disabling support for feedback tensors.\n",
      "W0000 00:00:1732251960.594675    9879 inference_feedback_manager.cc:114] Feedback manager requires a model with a single signature inference. Disabling support for feedback tensors.\n",
      "I0000 00:00:1732251960.613643    8496 gl_context_egl.cc:85] Successfully initialized EGL. Major : 1 Minor: 5\n",
      "I0000 00:00:1732251960.614827    9912 gl_context.cc:357] GL version: 3.2 (OpenGL ES 3.2 Mesa 23.2.1-1ubuntu3.1~22.04.2), renderer: GFX1103_R1 (gfx1103_r1, LLVM 15.0.7, DRM 3.57, 6.8.0-48-generic)\n",
      "W0000 00:00:1732251960.660604    9894 inference_feedback_manager.cc:114] Feedback manager requires a model with a single signature inference. Disabling support for feedback tensors.\n",
      "W0000 00:00:1732251960.685675    9908 inference_feedback_manager.cc:114] Feedback manager requires a model with a single signature inference. Disabling support for feedback tensors.\n",
      "W0000 00:00:1732251960.686616    9907 inference_feedback_manager.cc:114] Feedback manager requires a model with a single signature inference. Disabling support for feedback tensors.\n",
      "W0000 00:00:1732251960.687141    9896 inference_feedback_manager.cc:114] Feedback manager requires a model with a single signature inference. Disabling support for feedback tensors.\n",
      "W0000 00:00:1732251960.688735    9895 inference_feedback_manager.cc:114] Feedback manager requires a model with a single signature inference. Disabling support for feedback tensors.\n",
      "W0000 00:00:1732251960.693517    9908 inference_feedback_manager.cc:114] Feedback manager requires a model with a single signature inference. Disabling support for feedback tensors.\n",
      "W0000 00:00:1732251960.702900    9900 inference_feedback_manager.cc:114] Feedback manager requires a model with a single signature inference. Disabling support for feedback tensors.\n",
      "W0000 00:00:1732251960.703197    9897 inference_feedback_manager.cc:114] Feedback manager requires a model with a single signature inference. Disabling support for feedback tensors.\n",
      "I0000 00:00:1732251960.722897    8496 gl_context_egl.cc:85] Successfully initialized EGL. Major : 1 Minor: 5\n",
      "I0000 00:00:1732251960.724373    9931 gl_context.cc:357] GL version: 3.2 (OpenGL ES 3.2 Mesa 23.2.1-1ubuntu3.1~22.04.2), renderer: GFX1103_R1 (gfx1103_r1, LLVM 15.0.7, DRM 3.57, 6.8.0-48-generic)\n"
     ]
    },
    {
     "name": "stdout",
     "output_type": "stream",
     "text": [
      "(33, 4)\n",
      "(468, 3)\n",
      "(21, 3)\n",
      "(21, 3)\n",
      "Numpy array for frame train/0/10/frames/10_58.png has been saved to train/0/10/points_arrays/10_58.npy\n",
      "(33, 4)\n",
      "(468, 3)\n",
      "(21, 3)\n",
      "(21, 3)\n",
      "Numpy array for frame train/0/10/frames/10_75.png has been saved to train/0/10/points_arrays/10_75.npy\n"
     ]
    },
    {
     "name": "stderr",
     "output_type": "stream",
     "text": [
      "W0000 00:00:1732251960.775113    9915 inference_feedback_manager.cc:114] Feedback manager requires a model with a single signature inference. Disabling support for feedback tensors.\n",
      "W0000 00:00:1732251960.802260    9923 inference_feedback_manager.cc:114] Feedback manager requires a model with a single signature inference. Disabling support for feedback tensors.\n",
      "W0000 00:00:1732251960.805259    9922 inference_feedback_manager.cc:114] Feedback manager requires a model with a single signature inference. Disabling support for feedback tensors.\n",
      "W0000 00:00:1732251960.805644    9918 inference_feedback_manager.cc:114] Feedback manager requires a model with a single signature inference. Disabling support for feedback tensors.\n",
      "W0000 00:00:1732251960.805938    9926 inference_feedback_manager.cc:114] Feedback manager requires a model with a single signature inference. Disabling support for feedback tensors.\n",
      "W0000 00:00:1732251960.815302    9927 inference_feedback_manager.cc:114] Feedback manager requires a model with a single signature inference. Disabling support for feedback tensors.\n",
      "W0000 00:00:1732251960.819004    9914 inference_feedback_manager.cc:114] Feedback manager requires a model with a single signature inference. Disabling support for feedback tensors.\n",
      "W0000 00:00:1732251960.820829    9917 inference_feedback_manager.cc:114] Feedback manager requires a model with a single signature inference. Disabling support for feedback tensors.\n",
      "I0000 00:00:1732251960.839969    8496 gl_context_egl.cc:85] Successfully initialized EGL. Major : 1 Minor: 5\n",
      "I0000 00:00:1732251960.841445    9950 gl_context.cc:357] GL version: 3.2 (OpenGL ES 3.2 Mesa 23.2.1-1ubuntu3.1~22.04.2), renderer: GFX1103_R1 (gfx1103_r1, LLVM 15.0.7, DRM 3.57, 6.8.0-48-generic)\n",
      "W0000 00:00:1732251960.888668    9934 inference_feedback_manager.cc:114] Feedback manager requires a model with a single signature inference. Disabling support for feedback tensors.\n",
      "W0000 00:00:1732251960.913841    9936 inference_feedback_manager.cc:114] Feedback manager requires a model with a single signature inference. Disabling support for feedback tensors.\n",
      "W0000 00:00:1732251960.915164    9934 inference_feedback_manager.cc:114] Feedback manager requires a model with a single signature inference. Disabling support for feedback tensors.\n",
      "W0000 00:00:1732251960.915408    9943 inference_feedback_manager.cc:114] Feedback manager requires a model with a single signature inference. Disabling support for feedback tensors.\n",
      "W0000 00:00:1732251960.916413    9939 inference_feedback_manager.cc:114] Feedback manager requires a model with a single signature inference. Disabling support for feedback tensors.\n",
      "W0000 00:00:1732251960.919712    9944 inference_feedback_manager.cc:114] Feedback manager requires a model with a single signature inference. Disabling support for feedback tensors.\n",
      "W0000 00:00:1732251960.929602    9942 inference_feedback_manager.cc:114] Feedback manager requires a model with a single signature inference. Disabling support for feedback tensors.\n",
      "W0000 00:00:1732251960.932696    9941 inference_feedback_manager.cc:114] Feedback manager requires a model with a single signature inference. Disabling support for feedback tensors.\n",
      "I0000 00:00:1732251960.953888    8496 gl_context_egl.cc:85] Successfully initialized EGL. Major : 1 Minor: 5\n",
      "I0000 00:00:1732251960.955168    9969 gl_context.cc:357] GL version: 3.2 (OpenGL ES 3.2 Mesa 23.2.1-1ubuntu3.1~22.04.2), renderer: GFX1103_R1 (gfx1103_r1, LLVM 15.0.7, DRM 3.57, 6.8.0-48-generic)\n"
     ]
    },
    {
     "name": "stdout",
     "output_type": "stream",
     "text": [
      "(33, 4)\n",
      "(468, 3)\n",
      "(21, 3)\n",
      "(21, 3)\n",
      "Numpy array for frame train/0/10/frames/10_10.png has been saved to train/0/10/points_arrays/10_10.npy\n",
      "(33, 4)\n",
      "(468, 3)\n",
      "(21, 3)\n",
      "(21, 3)\n",
      "Numpy array for frame train/0/10/frames/10_60.png has been saved to train/0/10/points_arrays/10_60.npy\n"
     ]
    },
    {
     "name": "stderr",
     "output_type": "stream",
     "text": [
      "W0000 00:00:1732251961.010599    9952 inference_feedback_manager.cc:114] Feedback manager requires a model with a single signature inference. Disabling support for feedback tensors.\n",
      "W0000 00:00:1732251961.033664    9964 inference_feedback_manager.cc:114] Feedback manager requires a model with a single signature inference. Disabling support for feedback tensors.\n",
      "W0000 00:00:1732251961.034978    9960 inference_feedback_manager.cc:114] Feedback manager requires a model with a single signature inference. Disabling support for feedback tensors.\n",
      "W0000 00:00:1732251961.036471    9966 inference_feedback_manager.cc:114] Feedback manager requires a model with a single signature inference. Disabling support for feedback tensors.\n",
      "W0000 00:00:1732251961.036627    9959 inference_feedback_manager.cc:114] Feedback manager requires a model with a single signature inference. Disabling support for feedback tensors.\n",
      "W0000 00:00:1732251961.042389    9960 inference_feedback_manager.cc:114] Feedback manager requires a model with a single signature inference. Disabling support for feedback tensors.\n",
      "W0000 00:00:1732251961.050660    9953 inference_feedback_manager.cc:114] Feedback manager requires a model with a single signature inference. Disabling support for feedback tensors.\n",
      "W0000 00:00:1732251961.051216    9965 inference_feedback_manager.cc:114] Feedback manager requires a model with a single signature inference. Disabling support for feedback tensors.\n",
      "I0000 00:00:1732251961.072444    8496 gl_context_egl.cc:85] Successfully initialized EGL. Major : 1 Minor: 5\n",
      "I0000 00:00:1732251961.073652    9988 gl_context.cc:357] GL version: 3.2 (OpenGL ES 3.2 Mesa 23.2.1-1ubuntu3.1~22.04.2), renderer: GFX1103_R1 (gfx1103_r1, LLVM 15.0.7, DRM 3.57, 6.8.0-48-generic)\n",
      "W0000 00:00:1732251961.126148    9970 inference_feedback_manager.cc:114] Feedback manager requires a model with a single signature inference. Disabling support for feedback tensors.\n",
      "W0000 00:00:1732251961.151447    9975 inference_feedback_manager.cc:114] Feedback manager requires a model with a single signature inference. Disabling support for feedback tensors.\n",
      "W0000 00:00:1732251961.152875    9977 inference_feedback_manager.cc:114] Feedback manager requires a model with a single signature inference. Disabling support for feedback tensors.\n",
      "W0000 00:00:1732251961.153711    9975 inference_feedback_manager.cc:114] Feedback manager requires a model with a single signature inference. Disabling support for feedback tensors.\n",
      "W0000 00:00:1732251961.154199    9985 inference_feedback_manager.cc:114] Feedback manager requires a model with a single signature inference. Disabling support for feedback tensors.\n",
      "W0000 00:00:1732251961.160165    9982 inference_feedback_manager.cc:114] Feedback manager requires a model with a single signature inference. Disabling support for feedback tensors.\n",
      "W0000 00:00:1732251961.168574    9981 inference_feedback_manager.cc:114] Feedback manager requires a model with a single signature inference. Disabling support for feedback tensors.\n",
      "W0000 00:00:1732251961.170886    9976 inference_feedback_manager.cc:114] Feedback manager requires a model with a single signature inference. Disabling support for feedback tensors.\n",
      "I0000 00:00:1732251961.189390    8496 gl_context_egl.cc:85] Successfully initialized EGL. Major : 1 Minor: 5\n",
      "I0000 00:00:1732251961.190572   10007 gl_context.cc:357] GL version: 3.2 (OpenGL ES 3.2 Mesa 23.2.1-1ubuntu3.1~22.04.2), renderer: GFX1103_R1 (gfx1103_r1, LLVM 15.0.7, DRM 3.57, 6.8.0-48-generic)\n"
     ]
    },
    {
     "name": "stdout",
     "output_type": "stream",
     "text": [
      "(33, 4)\n",
      "(468, 3)\n",
      "(21, 3)\n",
      "(21, 3)\n",
      "Numpy array for frame train/0/10/frames/10_69.png has been saved to train/0/10/points_arrays/10_69.npy\n",
      "(33, 4)\n",
      "(468, 3)\n",
      "(21, 3)\n",
      "(21, 3)\n",
      "Numpy array for frame train/0/10/frames/10_72.png has been saved to train/0/10/points_arrays/10_72.npy\n"
     ]
    },
    {
     "name": "stderr",
     "output_type": "stream",
     "text": [
      "W0000 00:00:1732251961.241019    9990 inference_feedback_manager.cc:114] Feedback manager requires a model with a single signature inference. Disabling support for feedback tensors.\n",
      "W0000 00:00:1732251961.265026    9998 inference_feedback_manager.cc:114] Feedback manager requires a model with a single signature inference. Disabling support for feedback tensors.\n",
      "W0000 00:00:1732251961.266424    9990 inference_feedback_manager.cc:114] Feedback manager requires a model with a single signature inference. Disabling support for feedback tensors.\n",
      "W0000 00:00:1732251961.266572   10004 inference_feedback_manager.cc:114] Feedback manager requires a model with a single signature inference. Disabling support for feedback tensors.\n",
      "W0000 00:00:1732251961.267069   10001 inference_feedback_manager.cc:114] Feedback manager requires a model with a single signature inference. Disabling support for feedback tensors.\n",
      "W0000 00:00:1732251961.271674    9990 inference_feedback_manager.cc:114] Feedback manager requires a model with a single signature inference. Disabling support for feedback tensors.\n",
      "W0000 00:00:1732251961.278257    9996 inference_feedback_manager.cc:114] Feedback manager requires a model with a single signature inference. Disabling support for feedback tensors.\n",
      "W0000 00:00:1732251961.282160   10002 inference_feedback_manager.cc:114] Feedback manager requires a model with a single signature inference. Disabling support for feedback tensors.\n",
      "I0000 00:00:1732251961.301594    8496 gl_context_egl.cc:85] Successfully initialized EGL. Major : 1 Minor: 5\n",
      "I0000 00:00:1732251961.302860   10026 gl_context.cc:357] GL version: 3.2 (OpenGL ES 3.2 Mesa 23.2.1-1ubuntu3.1~22.04.2), renderer: GFX1103_R1 (gfx1103_r1, LLVM 15.0.7, DRM 3.57, 6.8.0-48-generic)\n",
      "W0000 00:00:1732251961.355956   10010 inference_feedback_manager.cc:114] Feedback manager requires a model with a single signature inference. Disabling support for feedback tensors.\n",
      "W0000 00:00:1732251961.382280   10012 inference_feedback_manager.cc:114] Feedback manager requires a model with a single signature inference. Disabling support for feedback tensors.\n",
      "W0000 00:00:1732251961.383314   10008 inference_feedback_manager.cc:114] Feedback manager requires a model with a single signature inference. Disabling support for feedback tensors.\n",
      "W0000 00:00:1732251961.383770   10020 inference_feedback_manager.cc:114] Feedback manager requires a model with a single signature inference. Disabling support for feedback tensors.\n",
      "W0000 00:00:1732251961.383777   10017 inference_feedback_manager.cc:114] Feedback manager requires a model with a single signature inference. Disabling support for feedback tensors.\n",
      "W0000 00:00:1732251961.388577   10011 inference_feedback_manager.cc:114] Feedback manager requires a model with a single signature inference. Disabling support for feedback tensors.\n",
      "W0000 00:00:1732251961.398514   10019 inference_feedback_manager.cc:114] Feedback manager requires a model with a single signature inference. Disabling support for feedback tensors.\n",
      "W0000 00:00:1732251961.399867   10016 inference_feedback_manager.cc:114] Feedback manager requires a model with a single signature inference. Disabling support for feedback tensors.\n",
      "I0000 00:00:1732251961.420216    8496 gl_context_egl.cc:85] Successfully initialized EGL. Major : 1 Minor: 5\n",
      "I0000 00:00:1732251961.421546   10045 gl_context.cc:357] GL version: 3.2 (OpenGL ES 3.2 Mesa 23.2.1-1ubuntu3.1~22.04.2), renderer: GFX1103_R1 (gfx1103_r1, LLVM 15.0.7, DRM 3.57, 6.8.0-48-generic)\n"
     ]
    },
    {
     "name": "stdout",
     "output_type": "stream",
     "text": [
      "(33, 4)\n",
      "(468, 3)\n",
      "(21, 3)\n",
      "(21, 3)\n",
      "Numpy array for frame train/0/10/frames/10_20.png has been saved to train/0/10/points_arrays/10_20.npy\n",
      "(33, 4)\n",
      "(468, 3)\n",
      "(21, 3)\n",
      "(21, 3)\n",
      "Numpy array for frame train/0/10/frames/10_71.png has been saved to train/0/10/points_arrays/10_71.npy\n"
     ]
    },
    {
     "name": "stderr",
     "output_type": "stream",
     "text": [
      "W0000 00:00:1732251961.470378   10029 inference_feedback_manager.cc:114] Feedback manager requires a model with a single signature inference. Disabling support for feedback tensors.\n",
      "W0000 00:00:1732251961.498823   10035 inference_feedback_manager.cc:114] Feedback manager requires a model with a single signature inference. Disabling support for feedback tensors.\n",
      "W0000 00:00:1732251961.499850   10030 inference_feedback_manager.cc:114] Feedback manager requires a model with a single signature inference. Disabling support for feedback tensors.\n",
      "W0000 00:00:1732251961.500372   10041 inference_feedback_manager.cc:114] Feedback manager requires a model with a single signature inference. Disabling support for feedback tensors.\n",
      "W0000 00:00:1732251961.502230   10035 inference_feedback_manager.cc:114] Feedback manager requires a model with a single signature inference. Disabling support for feedback tensors.\n",
      "W0000 00:00:1732251961.509203   10036 inference_feedback_manager.cc:114] Feedback manager requires a model with a single signature inference. Disabling support for feedback tensors.\n",
      "W0000 00:00:1732251961.514948   10034 inference_feedback_manager.cc:114] Feedback manager requires a model with a single signature inference. Disabling support for feedback tensors.\n",
      "W0000 00:00:1732251961.515564   10027 inference_feedback_manager.cc:114] Feedback manager requires a model with a single signature inference. Disabling support for feedback tensors.\n",
      "I0000 00:00:1732251961.535551    8496 gl_context_egl.cc:85] Successfully initialized EGL. Major : 1 Minor: 5\n",
      "I0000 00:00:1732251961.536691   10064 gl_context.cc:357] GL version: 3.2 (OpenGL ES 3.2 Mesa 23.2.1-1ubuntu3.1~22.04.2), renderer: GFX1103_R1 (gfx1103_r1, LLVM 15.0.7, DRM 3.57, 6.8.0-48-generic)\n",
      "W0000 00:00:1732251961.582954   10048 inference_feedback_manager.cc:114] Feedback manager requires a model with a single signature inference. Disabling support for feedback tensors.\n",
      "W0000 00:00:1732251961.607623   10051 inference_feedback_manager.cc:114] Feedback manager requires a model with a single signature inference. Disabling support for feedback tensors.\n",
      "W0000 00:00:1732251961.610077   10052 inference_feedback_manager.cc:114] Feedback manager requires a model with a single signature inference. Disabling support for feedback tensors.\n",
      "W0000 00:00:1732251961.610077   10059 inference_feedback_manager.cc:114] Feedback manager requires a model with a single signature inference. Disabling support for feedback tensors.\n",
      "W0000 00:00:1732251961.610453   10060 inference_feedback_manager.cc:114] Feedback manager requires a model with a single signature inference. Disabling support for feedback tensors.\n",
      "W0000 00:00:1732251961.618168   10055 inference_feedback_manager.cc:114] Feedback manager requires a model with a single signature inference. Disabling support for feedback tensors.\n",
      "W0000 00:00:1732251961.623212   10058 inference_feedback_manager.cc:114] Feedback manager requires a model with a single signature inference. Disabling support for feedback tensors.\n",
      "W0000 00:00:1732251961.623266   10061 inference_feedback_manager.cc:114] Feedback manager requires a model with a single signature inference. Disabling support for feedback tensors.\n",
      "I0000 00:00:1732251961.643154    8496 gl_context_egl.cc:85] Successfully initialized EGL. Major : 1 Minor: 5\n",
      "I0000 00:00:1732251961.644495   10083 gl_context.cc:357] GL version: 3.2 (OpenGL ES 3.2 Mesa 23.2.1-1ubuntu3.1~22.04.2), renderer: GFX1103_R1 (gfx1103_r1, LLVM 15.0.7, DRM 3.57, 6.8.0-48-generic)\n"
     ]
    },
    {
     "name": "stdout",
     "output_type": "stream",
     "text": [
      "(33, 4)\n",
      "(468, 3)\n",
      "(21, 3)\n",
      "(21, 3)\n",
      "Numpy array for frame train/0/10/frames/10_39.png has been saved to train/0/10/points_arrays/10_39.npy\n",
      "(33, 4)\n",
      "(468, 3)\n",
      "(21, 3)\n",
      "(21, 3)\n",
      "Numpy array for frame train/0/10/frames/10_21.png has been saved to train/0/10/points_arrays/10_21.npy\n"
     ]
    },
    {
     "name": "stderr",
     "output_type": "stream",
     "text": [
      "W0000 00:00:1732251961.695736   10067 inference_feedback_manager.cc:114] Feedback manager requires a model with a single signature inference. Disabling support for feedback tensors.\n",
      "W0000 00:00:1732251961.724996   10072 inference_feedback_manager.cc:114] Feedback manager requires a model with a single signature inference. Disabling support for feedback tensors.\n",
      "W0000 00:00:1732251961.727228   10070 inference_feedback_manager.cc:114] Feedback manager requires a model with a single signature inference. Disabling support for feedback tensors.\n",
      "W0000 00:00:1732251961.727413   10078 inference_feedback_manager.cc:114] Feedback manager requires a model with a single signature inference. Disabling support for feedback tensors.\n",
      "W0000 00:00:1732251961.727546   10066 inference_feedback_manager.cc:114] Feedback manager requires a model with a single signature inference. Disabling support for feedback tensors.\n",
      "W0000 00:00:1732251961.732445   10080 inference_feedback_manager.cc:114] Feedback manager requires a model with a single signature inference. Disabling support for feedback tensors.\n",
      "W0000 00:00:1732251961.740137   10069 inference_feedback_manager.cc:114] Feedback manager requires a model with a single signature inference. Disabling support for feedback tensors.\n",
      "W0000 00:00:1732251961.742307   10073 inference_feedback_manager.cc:114] Feedback manager requires a model with a single signature inference. Disabling support for feedback tensors.\n",
      "I0000 00:00:1732251961.762806    8496 gl_context_egl.cc:85] Successfully initialized EGL. Major : 1 Minor: 5\n",
      "I0000 00:00:1732251961.764178   10102 gl_context.cc:357] GL version: 3.2 (OpenGL ES 3.2 Mesa 23.2.1-1ubuntu3.1~22.04.2), renderer: GFX1103_R1 (gfx1103_r1, LLVM 15.0.7, DRM 3.57, 6.8.0-48-generic)\n",
      "W0000 00:00:1732251961.810530   10086 inference_feedback_manager.cc:114] Feedback manager requires a model with a single signature inference. Disabling support for feedback tensors.\n",
      "W0000 00:00:1732251961.836541   10092 inference_feedback_manager.cc:114] Feedback manager requires a model with a single signature inference. Disabling support for feedback tensors.\n",
      "W0000 00:00:1732251961.839190   10094 inference_feedback_manager.cc:114] Feedback manager requires a model with a single signature inference. Disabling support for feedback tensors.\n",
      "W0000 00:00:1732251961.839207   10093 inference_feedback_manager.cc:114] Feedback manager requires a model with a single signature inference. Disabling support for feedback tensors.\n",
      "W0000 00:00:1732251961.839307   10099 inference_feedback_manager.cc:114] Feedback manager requires a model with a single signature inference. Disabling support for feedback tensors.\n",
      "W0000 00:00:1732251961.845282   10097 inference_feedback_manager.cc:114] Feedback manager requires a model with a single signature inference. Disabling support for feedback tensors.\n",
      "W0000 00:00:1732251961.852862   10086 inference_feedback_manager.cc:114] Feedback manager requires a model with a single signature inference. Disabling support for feedback tensors.\n",
      "W0000 00:00:1732251961.852891   10085 inference_feedback_manager.cc:114] Feedback manager requires a model with a single signature inference. Disabling support for feedback tensors.\n",
      "I0000 00:00:1732251961.874073    8496 gl_context_egl.cc:85] Successfully initialized EGL. Major : 1 Minor: 5\n",
      "I0000 00:00:1732251961.875439   10121 gl_context.cc:357] GL version: 3.2 (OpenGL ES 3.2 Mesa 23.2.1-1ubuntu3.1~22.04.2), renderer: GFX1103_R1 (gfx1103_r1, LLVM 15.0.7, DRM 3.57, 6.8.0-48-generic)\n"
     ]
    },
    {
     "name": "stdout",
     "output_type": "stream",
     "text": [
      "(33, 4)\n",
      "(468, 3)\n",
      "(21, 3)\n",
      "(21, 3)\n",
      "Numpy array for frame train/0/10/frames/10_54.png has been saved to train/0/10/points_arrays/10_54.npy\n",
      "(33, 4)\n",
      "(468, 3)\n",
      "(21, 3)\n",
      "(21, 3)\n",
      "Numpy array for frame train/0/10/frames/10_23.png has been saved to train/0/10/points_arrays/10_23.npy\n"
     ]
    },
    {
     "name": "stderr",
     "output_type": "stream",
     "text": [
      "W0000 00:00:1732251961.933563   10105 inference_feedback_manager.cc:114] Feedback manager requires a model with a single signature inference. Disabling support for feedback tensors.\n",
      "W0000 00:00:1732251961.956840   10113 inference_feedback_manager.cc:114] Feedback manager requires a model with a single signature inference. Disabling support for feedback tensors.\n",
      "W0000 00:00:1732251961.959431   10116 inference_feedback_manager.cc:114] Feedback manager requires a model with a single signature inference. Disabling support for feedback tensors.\n",
      "W0000 00:00:1732251961.959443   10118 inference_feedback_manager.cc:114] Feedback manager requires a model with a single signature inference. Disabling support for feedback tensors.\n",
      "W0000 00:00:1732251961.960354   10111 inference_feedback_manager.cc:114] Feedback manager requires a model with a single signature inference. Disabling support for feedback tensors.\n",
      "W0000 00:00:1732251961.967683   10105 inference_feedback_manager.cc:114] Feedback manager requires a model with a single signature inference. Disabling support for feedback tensors.\n",
      "W0000 00:00:1732251961.973230   10112 inference_feedback_manager.cc:114] Feedback manager requires a model with a single signature inference. Disabling support for feedback tensors.\n",
      "W0000 00:00:1732251961.975713   10104 inference_feedback_manager.cc:114] Feedback manager requires a model with a single signature inference. Disabling support for feedback tensors.\n",
      "I0000 00:00:1732251961.997225    8496 gl_context_egl.cc:85] Successfully initialized EGL. Major : 1 Minor: 5\n",
      "I0000 00:00:1732251961.999012   10140 gl_context.cc:357] GL version: 3.2 (OpenGL ES 3.2 Mesa 23.2.1-1ubuntu3.1~22.04.2), renderer: GFX1103_R1 (gfx1103_r1, LLVM 15.0.7, DRM 3.57, 6.8.0-48-generic)\n",
      "W0000 00:00:1732251962.046520   10125 inference_feedback_manager.cc:114] Feedback manager requires a model with a single signature inference. Disabling support for feedback tensors.\n",
      "W0000 00:00:1732251962.071355   10135 inference_feedback_manager.cc:114] Feedback manager requires a model with a single signature inference. Disabling support for feedback tensors.\n",
      "W0000 00:00:1732251962.072852   10137 inference_feedback_manager.cc:114] Feedback manager requires a model with a single signature inference. Disabling support for feedback tensors.\n",
      "W0000 00:00:1732251962.072881   10122 inference_feedback_manager.cc:114] Feedback manager requires a model with a single signature inference. Disabling support for feedback tensors.\n",
      "W0000 00:00:1732251962.073060   10126 inference_feedback_manager.cc:114] Feedback manager requires a model with a single signature inference. Disabling support for feedback tensors.\n",
      "W0000 00:00:1732251962.081936   10133 inference_feedback_manager.cc:114] Feedback manager requires a model with a single signature inference. Disabling support for feedback tensors.\n",
      "W0000 00:00:1732251962.086861   10125 inference_feedback_manager.cc:114] Feedback manager requires a model with a single signature inference. Disabling support for feedback tensors.\n",
      "W0000 00:00:1732251962.089516   10136 inference_feedback_manager.cc:114] Feedback manager requires a model with a single signature inference. Disabling support for feedback tensors.\n",
      "I0000 00:00:1732251962.108386    8496 gl_context_egl.cc:85] Successfully initialized EGL. Major : 1 Minor: 5\n",
      "I0000 00:00:1732251962.109536   10159 gl_context.cc:357] GL version: 3.2 (OpenGL ES 3.2 Mesa 23.2.1-1ubuntu3.1~22.04.2), renderer: GFX1103_R1 (gfx1103_r1, LLVM 15.0.7, DRM 3.57, 6.8.0-48-generic)\n"
     ]
    },
    {
     "name": "stdout",
     "output_type": "stream",
     "text": [
      "(33, 4)\n",
      "(468, 3)\n",
      "(21, 3)\n",
      "(21, 3)\n",
      "Numpy array for frame train/0/10/frames/10_6.png has been saved to train/0/10/points_arrays/10_6.npy\n",
      "(33, 4)\n",
      "(468, 3)\n",
      "(21, 3)\n",
      "(21, 3)\n",
      "Numpy array for frame train/0/10/frames/10_35.png has been saved to train/0/10/points_arrays/10_35.npy\n"
     ]
    },
    {
     "name": "stderr",
     "output_type": "stream",
     "text": [
      "W0000 00:00:1732251962.163901   10142 inference_feedback_manager.cc:114] Feedback manager requires a model with a single signature inference. Disabling support for feedback tensors.\n",
      "W0000 00:00:1732251962.189833   10146 inference_feedback_manager.cc:114] Feedback manager requires a model with a single signature inference. Disabling support for feedback tensors.\n",
      "W0000 00:00:1732251962.191925   10150 inference_feedback_manager.cc:114] Feedback manager requires a model with a single signature inference. Disabling support for feedback tensors.\n",
      "W0000 00:00:1732251962.192203   10147 inference_feedback_manager.cc:114] Feedback manager requires a model with a single signature inference. Disabling support for feedback tensors.\n",
      "W0000 00:00:1732251962.192204   10156 inference_feedback_manager.cc:114] Feedback manager requires a model with a single signature inference. Disabling support for feedback tensors.\n",
      "W0000 00:00:1732251962.197808   10143 inference_feedback_manager.cc:114] Feedback manager requires a model with a single signature inference. Disabling support for feedback tensors.\n",
      "W0000 00:00:1732251962.209892   10147 inference_feedback_manager.cc:114] Feedback manager requires a model with a single signature inference. Disabling support for feedback tensors.\n",
      "W0000 00:00:1732251962.210006   10156 inference_feedback_manager.cc:114] Feedback manager requires a model with a single signature inference. Disabling support for feedback tensors.\n",
      "I0000 00:00:1732251962.227381    8496 gl_context_egl.cc:85] Successfully initialized EGL. Major : 1 Minor: 5\n",
      "I0000 00:00:1732251962.229457   10178 gl_context.cc:357] GL version: 3.2 (OpenGL ES 3.2 Mesa 23.2.1-1ubuntu3.1~22.04.2), renderer: GFX1103_R1 (gfx1103_r1, LLVM 15.0.7, DRM 3.57, 6.8.0-48-generic)\n",
      "W0000 00:00:1732251962.278623   10165 inference_feedback_manager.cc:114] Feedback manager requires a model with a single signature inference. Disabling support for feedback tensors.\n",
      "W0000 00:00:1732251962.301885   10169 inference_feedback_manager.cc:114] Feedback manager requires a model with a single signature inference. Disabling support for feedback tensors.\n",
      "W0000 00:00:1732251962.303099   10171 inference_feedback_manager.cc:114] Feedback manager requires a model with a single signature inference. Disabling support for feedback tensors.\n",
      "W0000 00:00:1732251962.303239   10165 inference_feedback_manager.cc:114] Feedback manager requires a model with a single signature inference. Disabling support for feedback tensors.\n",
      "W0000 00:00:1732251962.307453   10175 inference_feedback_manager.cc:114] Feedback manager requires a model with a single signature inference. Disabling support for feedback tensors.\n",
      "W0000 00:00:1732251962.308804   10170 inference_feedback_manager.cc:114] Feedback manager requires a model with a single signature inference. Disabling support for feedback tensors.\n",
      "W0000 00:00:1732251962.318699   10163 inference_feedback_manager.cc:114] Feedback manager requires a model with a single signature inference. Disabling support for feedback tensors.\n",
      "W0000 00:00:1732251962.324511   10171 inference_feedback_manager.cc:114] Feedback manager requires a model with a single signature inference. Disabling support for feedback tensors.\n",
      "I0000 00:00:1732251962.343329    8496 gl_context_egl.cc:85] Successfully initialized EGL. Major : 1 Minor: 5\n",
      "I0000 00:00:1732251962.345913   10197 gl_context.cc:357] GL version: 3.2 (OpenGL ES 3.2 Mesa 23.2.1-1ubuntu3.1~22.04.2), renderer: GFX1103_R1 (gfx1103_r1, LLVM 15.0.7, DRM 3.57, 6.8.0-48-generic)\n"
     ]
    },
    {
     "name": "stdout",
     "output_type": "stream",
     "text": [
      "(33, 4)\n",
      "(468, 3)\n",
      "(21, 3)\n",
      "(21, 3)\n",
      "Numpy array for frame train/0/10/frames/10_73.png has been saved to train/0/10/points_arrays/10_73.npy\n",
      "(33, 4)\n",
      "(468, 3)\n",
      "(21, 3)\n",
      "(21, 3)\n",
      "Numpy array for frame train/0/10/frames/10_3.png has been saved to train/0/10/points_arrays/10_3.npy\n"
     ]
    },
    {
     "name": "stderr",
     "output_type": "stream",
     "text": [
      "W0000 00:00:1732251962.393826   10181 inference_feedback_manager.cc:114] Feedback manager requires a model with a single signature inference. Disabling support for feedback tensors.\n",
      "W0000 00:00:1732251962.419335   10190 inference_feedback_manager.cc:114] Feedback manager requires a model with a single signature inference. Disabling support for feedback tensors.\n",
      "W0000 00:00:1732251962.420830   10181 inference_feedback_manager.cc:114] Feedback manager requires a model with a single signature inference. Disabling support for feedback tensors.\n",
      "W0000 00:00:1732251962.420830   10187 inference_feedback_manager.cc:114] Feedback manager requires a model with a single signature inference. Disabling support for feedback tensors.\n",
      "W0000 00:00:1732251962.421066   10193 inference_feedback_manager.cc:114] Feedback manager requires a model with a single signature inference. Disabling support for feedback tensors.\n",
      "W0000 00:00:1732251962.426165   10182 inference_feedback_manager.cc:114] Feedback manager requires a model with a single signature inference. Disabling support for feedback tensors.\n",
      "W0000 00:00:1732251962.436591   10194 inference_feedback_manager.cc:114] Feedback manager requires a model with a single signature inference. Disabling support for feedback tensors.\n",
      "W0000 00:00:1732251962.436898   10189 inference_feedback_manager.cc:114] Feedback manager requires a model with a single signature inference. Disabling support for feedback tensors.\n",
      "I0000 00:00:1732251962.455694    8496 gl_context_egl.cc:85] Successfully initialized EGL. Major : 1 Minor: 5\n",
      "I0000 00:00:1732251962.457033   10216 gl_context.cc:357] GL version: 3.2 (OpenGL ES 3.2 Mesa 23.2.1-1ubuntu3.1~22.04.2), renderer: GFX1103_R1 (gfx1103_r1, LLVM 15.0.7, DRM 3.57, 6.8.0-48-generic)\n",
      "W0000 00:00:1732251962.507521   10200 inference_feedback_manager.cc:114] Feedback manager requires a model with a single signature inference. Disabling support for feedback tensors.\n",
      "W0000 00:00:1732251962.537054   10202 inference_feedback_manager.cc:114] Feedback manager requires a model with a single signature inference. Disabling support for feedback tensors.\n",
      "W0000 00:00:1732251962.538147   10200 inference_feedback_manager.cc:114] Feedback manager requires a model with a single signature inference. Disabling support for feedback tensors.\n",
      "W0000 00:00:1732251962.539210   10209 inference_feedback_manager.cc:114] Feedback manager requires a model with a single signature inference. Disabling support for feedback tensors.\n",
      "W0000 00:00:1732251962.539566   10202 inference_feedback_manager.cc:114] Feedback manager requires a model with a single signature inference. Disabling support for feedback tensors.\n",
      "W0000 00:00:1732251962.545087   10203 inference_feedback_manager.cc:114] Feedback manager requires a model with a single signature inference. Disabling support for feedback tensors.\n",
      "W0000 00:00:1732251962.553724   10210 inference_feedback_manager.cc:114] Feedback manager requires a model with a single signature inference. Disabling support for feedback tensors.\n",
      "W0000 00:00:1732251962.555862   10212 inference_feedback_manager.cc:114] Feedback manager requires a model with a single signature inference. Disabling support for feedback tensors.\n",
      "I0000 00:00:1732251962.576725    8496 gl_context_egl.cc:85] Successfully initialized EGL. Major : 1 Minor: 5\n",
      "I0000 00:00:1732251962.579271   10235 gl_context.cc:357] GL version: 3.2 (OpenGL ES 3.2 Mesa 23.2.1-1ubuntu3.1~22.04.2), renderer: GFX1103_R1 (gfx1103_r1, LLVM 15.0.7, DRM 3.57, 6.8.0-48-generic)\n"
     ]
    },
    {
     "name": "stdout",
     "output_type": "stream",
     "text": [
      "(33, 4)\n",
      "(468, 3)\n",
      "(21, 3)\n",
      "(21, 3)\n",
      "Numpy array for frame train/0/10/frames/10_83.png has been saved to train/0/10/points_arrays/10_83.npy\n",
      "(33, 4)\n",
      "(468, 3)\n",
      "(21, 3)\n",
      "(21, 3)\n",
      "Numpy array for frame train/0/10/frames/10_56.png has been saved to train/0/10/points_arrays/10_56.npy\n"
     ]
    },
    {
     "name": "stderr",
     "output_type": "stream",
     "text": [
      "W0000 00:00:1732251962.635807   10219 inference_feedback_manager.cc:114] Feedback manager requires a model with a single signature inference. Disabling support for feedback tensors.\n",
      "W0000 00:00:1732251962.662760   10222 inference_feedback_manager.cc:114] Feedback manager requires a model with a single signature inference. Disabling support for feedback tensors.\n",
      "W0000 00:00:1732251962.663850   10217 inference_feedback_manager.cc:114] Feedback manager requires a model with a single signature inference. Disabling support for feedback tensors.\n",
      "W0000 00:00:1732251962.665601   10223 inference_feedback_manager.cc:114] Feedback manager requires a model with a single signature inference. Disabling support for feedback tensors.\n",
      "W0000 00:00:1732251962.665706   10224 inference_feedback_manager.cc:114] Feedback manager requires a model with a single signature inference. Disabling support for feedback tensors.\n",
      "W0000 00:00:1732251962.669997   10218 inference_feedback_manager.cc:114] Feedback manager requires a model with a single signature inference. Disabling support for feedback tensors.\n",
      "W0000 00:00:1732251962.679052   10222 inference_feedback_manager.cc:114] Feedback manager requires a model with a single signature inference. Disabling support for feedback tensors.\n",
      "W0000 00:00:1732251962.681281   10219 inference_feedback_manager.cc:114] Feedback manager requires a model with a single signature inference. Disabling support for feedback tensors.\n",
      "I0000 00:00:1732251962.698869    8496 gl_context_egl.cc:85] Successfully initialized EGL. Major : 1 Minor: 5\n",
      "I0000 00:00:1732251962.699977   10254 gl_context.cc:357] GL version: 3.2 (OpenGL ES 3.2 Mesa 23.2.1-1ubuntu3.1~22.04.2), renderer: GFX1103_R1 (gfx1103_r1, LLVM 15.0.7, DRM 3.57, 6.8.0-48-generic)\n",
      "W0000 00:00:1732251962.753101   10239 inference_feedback_manager.cc:114] Feedback manager requires a model with a single signature inference. Disabling support for feedback tensors.\n",
      "W0000 00:00:1732251962.777185   10237 inference_feedback_manager.cc:114] Feedback manager requires a model with a single signature inference. Disabling support for feedback tensors.\n",
      "W0000 00:00:1732251962.778525   10247 inference_feedback_manager.cc:114] Feedback manager requires a model with a single signature inference. Disabling support for feedback tensors.\n",
      "W0000 00:00:1732251962.779068   10241 inference_feedback_manager.cc:114] Feedback manager requires a model with a single signature inference. Disabling support for feedback tensors.\n",
      "W0000 00:00:1732251962.780652   10242 inference_feedback_manager.cc:114] Feedback manager requires a model with a single signature inference. Disabling support for feedback tensors.\n",
      "W0000 00:00:1732251962.787207   10248 inference_feedback_manager.cc:114] Feedback manager requires a model with a single signature inference. Disabling support for feedback tensors.\n",
      "W0000 00:00:1732251962.793480   10245 inference_feedback_manager.cc:114] Feedback manager requires a model with a single signature inference. Disabling support for feedback tensors.\n",
      "W0000 00:00:1732251962.793603   10244 inference_feedback_manager.cc:114] Feedback manager requires a model with a single signature inference. Disabling support for feedback tensors.\n",
      "I0000 00:00:1732251962.815605    8496 gl_context_egl.cc:85] Successfully initialized EGL. Major : 1 Minor: 5\n",
      "I0000 00:00:1732251962.816924   10273 gl_context.cc:357] GL version: 3.2 (OpenGL ES 3.2 Mesa 23.2.1-1ubuntu3.1~22.04.2), renderer: GFX1103_R1 (gfx1103_r1, LLVM 15.0.7, DRM 3.57, 6.8.0-48-generic)\n"
     ]
    },
    {
     "name": "stdout",
     "output_type": "stream",
     "text": [
      "(33, 4)\n",
      "(468, 3)\n",
      "(21, 3)\n",
      "(21, 3)\n",
      "Numpy array for frame train/0/10/frames/10_65.png has been saved to train/0/10/points_arrays/10_65.npy\n",
      "(33, 4)\n",
      "(468, 3)\n",
      "(21, 3)\n",
      "(21, 3)\n",
      "Numpy array for frame train/0/10/frames/10_34.png has been saved to train/0/10/points_arrays/10_34.npy\n"
     ]
    },
    {
     "name": "stderr",
     "output_type": "stream",
     "text": [
      "W0000 00:00:1732251962.868515   10257 inference_feedback_manager.cc:114] Feedback manager requires a model with a single signature inference. Disabling support for feedback tensors.\n",
      "W0000 00:00:1732251962.896229   10270 inference_feedback_manager.cc:114] Feedback manager requires a model with a single signature inference. Disabling support for feedback tensors.\n",
      "W0000 00:00:1732251962.898204   10264 inference_feedback_manager.cc:114] Feedback manager requires a model with a single signature inference. Disabling support for feedback tensors.\n",
      "W0000 00:00:1732251962.898409   10257 inference_feedback_manager.cc:114] Feedback manager requires a model with a single signature inference. Disabling support for feedback tensors.\n",
      "W0000 00:00:1732251962.898645   10259 inference_feedback_manager.cc:114] Feedback manager requires a model with a single signature inference. Disabling support for feedback tensors.\n",
      "W0000 00:00:1732251962.904702   10257 inference_feedback_manager.cc:114] Feedback manager requires a model with a single signature inference. Disabling support for feedback tensors.\n",
      "W0000 00:00:1732251962.913105   10267 inference_feedback_manager.cc:114] Feedback manager requires a model with a single signature inference. Disabling support for feedback tensors.\n",
      "W0000 00:00:1732251962.916496   10262 inference_feedback_manager.cc:114] Feedback manager requires a model with a single signature inference. Disabling support for feedback tensors.\n",
      "I0000 00:00:1732251962.934640    8496 gl_context_egl.cc:85] Successfully initialized EGL. Major : 1 Minor: 5\n",
      "I0000 00:00:1732251962.935857   10292 gl_context.cc:357] GL version: 3.2 (OpenGL ES 3.2 Mesa 23.2.1-1ubuntu3.1~22.04.2), renderer: GFX1103_R1 (gfx1103_r1, LLVM 15.0.7, DRM 3.57, 6.8.0-48-generic)\n",
      "W0000 00:00:1732251962.982512   10277 inference_feedback_manager.cc:114] Feedback manager requires a model with a single signature inference. Disabling support for feedback tensors.\n",
      "W0000 00:00:1732251963.012526   10284 inference_feedback_manager.cc:114] Feedback manager requires a model with a single signature inference. Disabling support for feedback tensors.\n",
      "W0000 00:00:1732251963.013550   10276 inference_feedback_manager.cc:114] Feedback manager requires a model with a single signature inference. Disabling support for feedback tensors.\n",
      "W0000 00:00:1732251963.014632   10282 inference_feedback_manager.cc:114] Feedback manager requires a model with a single signature inference. Disabling support for feedback tensors.\n",
      "W0000 00:00:1732251963.014822   10287 inference_feedback_manager.cc:114] Feedback manager requires a model with a single signature inference. Disabling support for feedback tensors.\n",
      "W0000 00:00:1732251963.018932   10280 inference_feedback_manager.cc:114] Feedback manager requires a model with a single signature inference. Disabling support for feedback tensors.\n",
      "W0000 00:00:1732251963.027138   10275 inference_feedback_manager.cc:114] Feedback manager requires a model with a single signature inference. Disabling support for feedback tensors.\n",
      "W0000 00:00:1732251963.031834   10282 inference_feedback_manager.cc:114] Feedback manager requires a model with a single signature inference. Disabling support for feedback tensors.\n",
      "I0000 00:00:1732251963.049678    8496 gl_context_egl.cc:85] Successfully initialized EGL. Major : 1 Minor: 5\n",
      "I0000 00:00:1732251963.050965   10311 gl_context.cc:357] GL version: 3.2 (OpenGL ES 3.2 Mesa 23.2.1-1ubuntu3.1~22.04.2), renderer: GFX1103_R1 (gfx1103_r1, LLVM 15.0.7, DRM 3.57, 6.8.0-48-generic)\n"
     ]
    },
    {
     "name": "stdout",
     "output_type": "stream",
     "text": [
      "(33, 4)\n",
      "(468, 3)\n",
      "(21, 3)\n",
      "(21, 3)\n",
      "Numpy array for frame train/0/10/frames/10_36.png has been saved to train/0/10/points_arrays/10_36.npy\n",
      "(33, 4)\n",
      "(468, 3)\n",
      "(21, 3)\n",
      "(21, 3)\n",
      "Numpy array for frame train/0/10/frames/10_5.png has been saved to train/0/10/points_arrays/10_5.npy\n"
     ]
    },
    {
     "name": "stderr",
     "output_type": "stream",
     "text": [
      "W0000 00:00:1732251963.100715   10295 inference_feedback_manager.cc:114] Feedback manager requires a model with a single signature inference. Disabling support for feedback tensors.\n",
      "W0000 00:00:1732251963.125938   10304 inference_feedback_manager.cc:114] Feedback manager requires a model with a single signature inference. Disabling support for feedback tensors.\n",
      "W0000 00:00:1732251963.127816   10300 inference_feedback_manager.cc:114] Feedback manager requires a model with a single signature inference. Disabling support for feedback tensors.\n",
      "W0000 00:00:1732251963.129206   10294 inference_feedback_manager.cc:114] Feedback manager requires a model with a single signature inference. Disabling support for feedback tensors.\n",
      "W0000 00:00:1732251963.129556   10304 inference_feedback_manager.cc:114] Feedback manager requires a model with a single signature inference. Disabling support for feedback tensors.\n",
      "W0000 00:00:1732251963.136149   10307 inference_feedback_manager.cc:114] Feedback manager requires a model with a single signature inference. Disabling support for feedback tensors.\n",
      "W0000 00:00:1732251963.141031   10298 inference_feedback_manager.cc:114] Feedback manager requires a model with a single signature inference. Disabling support for feedback tensors.\n",
      "W0000 00:00:1732251963.141875   10306 inference_feedback_manager.cc:114] Feedback manager requires a model with a single signature inference. Disabling support for feedback tensors.\n",
      "I0000 00:00:1732251963.162701    8496 gl_context_egl.cc:85] Successfully initialized EGL. Major : 1 Minor: 5\n",
      "I0000 00:00:1732251963.163896   10330 gl_context.cc:357] GL version: 3.2 (OpenGL ES 3.2 Mesa 23.2.1-1ubuntu3.1~22.04.2), renderer: GFX1103_R1 (gfx1103_r1, LLVM 15.0.7, DRM 3.57, 6.8.0-48-generic)\n",
      "W0000 00:00:1732251963.213371   10314 inference_feedback_manager.cc:114] Feedback manager requires a model with a single signature inference. Disabling support for feedback tensors.\n",
      "W0000 00:00:1732251963.238597   10313 inference_feedback_manager.cc:114] Feedback manager requires a model with a single signature inference. Disabling support for feedback tensors.\n",
      "W0000 00:00:1732251963.240041   10316 inference_feedback_manager.cc:114] Feedback manager requires a model with a single signature inference. Disabling support for feedback tensors.\n",
      "W0000 00:00:1732251963.240272   10324 inference_feedback_manager.cc:114] Feedback manager requires a model with a single signature inference. Disabling support for feedback tensors.\n",
      "W0000 00:00:1732251963.241932   10326 inference_feedback_manager.cc:114] Feedback manager requires a model with a single signature inference. Disabling support for feedback tensors.\n",
      "W0000 00:00:1732251963.249176   10324 inference_feedback_manager.cc:114] Feedback manager requires a model with a single signature inference. Disabling support for feedback tensors.\n",
      "W0000 00:00:1732251963.253597   10319 inference_feedback_manager.cc:114] Feedback manager requires a model with a single signature inference. Disabling support for feedback tensors.\n",
      "W0000 00:00:1732251963.255334   10312 inference_feedback_manager.cc:114] Feedback manager requires a model with a single signature inference. Disabling support for feedback tensors.\n",
      "I0000 00:00:1732251963.273863    8496 gl_context_egl.cc:85] Successfully initialized EGL. Major : 1 Minor: 5\n",
      "I0000 00:00:1732251963.274992   10349 gl_context.cc:357] GL version: 3.2 (OpenGL ES 3.2 Mesa 23.2.1-1ubuntu3.1~22.04.2), renderer: GFX1103_R1 (gfx1103_r1, LLVM 15.0.7, DRM 3.57, 6.8.0-48-generic)\n"
     ]
    },
    {
     "name": "stdout",
     "output_type": "stream",
     "text": [
      "(33, 4)\n",
      "(468, 3)\n",
      "(21, 3)\n",
      "(21, 3)\n",
      "Numpy array for frame train/0/10/frames/10_81.png has been saved to train/0/10/points_arrays/10_81.npy\n",
      "(33, 4)\n",
      "(468, 3)\n",
      "(21, 3)\n",
      "(21, 3)\n",
      "Numpy array for frame train/0/10/frames/10_11.png has been saved to train/0/10/points_arrays/10_11.npy\n"
     ]
    },
    {
     "name": "stderr",
     "output_type": "stream",
     "text": [
      "W0000 00:00:1732251963.323334   10331 inference_feedback_manager.cc:114] Feedback manager requires a model with a single signature inference. Disabling support for feedback tensors.\n",
      "W0000 00:00:1732251963.353068   10338 inference_feedback_manager.cc:114] Feedback manager requires a model with a single signature inference. Disabling support for feedback tensors.\n",
      "W0000 00:00:1732251963.354240   10339 inference_feedback_manager.cc:114] Feedback manager requires a model with a single signature inference. Disabling support for feedback tensors.\n",
      "W0000 00:00:1732251963.354317   10342 inference_feedback_manager.cc:114] Feedback manager requires a model with a single signature inference. Disabling support for feedback tensors.\n",
      "W0000 00:00:1732251963.354928   10344 inference_feedback_manager.cc:114] Feedback manager requires a model with a single signature inference. Disabling support for feedback tensors.\n",
      "W0000 00:00:1732251963.360772   10334 inference_feedback_manager.cc:114] Feedback manager requires a model with a single signature inference. Disabling support for feedback tensors.\n",
      "W0000 00:00:1732251963.369245   10345 inference_feedback_manager.cc:114] Feedback manager requires a model with a single signature inference. Disabling support for feedback tensors.\n",
      "W0000 00:00:1732251963.370104   10341 inference_feedback_manager.cc:114] Feedback manager requires a model with a single signature inference. Disabling support for feedback tensors.\n",
      "I0000 00:00:1732251963.390773    8496 gl_context_egl.cc:85] Successfully initialized EGL. Major : 1 Minor: 5\n",
      "I0000 00:00:1732251963.392003   10368 gl_context.cc:357] GL version: 3.2 (OpenGL ES 3.2 Mesa 23.2.1-1ubuntu3.1~22.04.2), renderer: GFX1103_R1 (gfx1103_r1, LLVM 15.0.7, DRM 3.57, 6.8.0-48-generic)\n",
      "W0000 00:00:1732251963.448003   10360 inference_feedback_manager.cc:114] Feedback manager requires a model with a single signature inference. Disabling support for feedback tensors.\n",
      "W0000 00:00:1732251963.471867   10364 inference_feedback_manager.cc:114] Feedback manager requires a model with a single signature inference. Disabling support for feedback tensors.\n",
      "W0000 00:00:1732251963.473162   10358 inference_feedback_manager.cc:114] Feedback manager requires a model with a single signature inference. Disabling support for feedback tensors.\n",
      "W0000 00:00:1732251963.473991   10353 inference_feedback_manager.cc:114] Feedback manager requires a model with a single signature inference. Disabling support for feedback tensors.\n",
      "W0000 00:00:1732251963.474179   10357 inference_feedback_manager.cc:114] Feedback manager requires a model with a single signature inference. Disabling support for feedback tensors.\n",
      "W0000 00:00:1732251963.483917   10356 inference_feedback_manager.cc:114] Feedback manager requires a model with a single signature inference. Disabling support for feedback tensors.\n",
      "W0000 00:00:1732251963.485412   10352 inference_feedback_manager.cc:114] Feedback manager requires a model with a single signature inference. Disabling support for feedback tensors.\n",
      "W0000 00:00:1732251963.490434   10364 inference_feedback_manager.cc:114] Feedback manager requires a model with a single signature inference. Disabling support for feedback tensors.\n",
      "I0000 00:00:1732251963.512252    8496 gl_context_egl.cc:85] Successfully initialized EGL. Major : 1 Minor: 5\n",
      "I0000 00:00:1732251963.513541   10387 gl_context.cc:357] GL version: 3.2 (OpenGL ES 3.2 Mesa 23.2.1-1ubuntu3.1~22.04.2), renderer: GFX1103_R1 (gfx1103_r1, LLVM 15.0.7, DRM 3.57, 6.8.0-48-generic)\n"
     ]
    },
    {
     "name": "stdout",
     "output_type": "stream",
     "text": [
      "(33, 4)\n",
      "(468, 3)\n",
      "(21, 3)\n",
      "(21, 3)\n",
      "Numpy array for frame train/0/10/frames/10_7.png has been saved to train/0/10/points_arrays/10_7.npy\n",
      "(33, 4)\n",
      "(468, 3)\n",
      "(21, 3)\n",
      "(21, 3)\n",
      "Numpy array for frame train/0/10/frames/10_14.png has been saved to train/0/10/points_arrays/10_14.npy\n"
     ]
    },
    {
     "name": "stderr",
     "output_type": "stream",
     "text": [
      "W0000 00:00:1732251963.567582   10371 inference_feedback_manager.cc:114] Feedback manager requires a model with a single signature inference. Disabling support for feedback tensors.\n",
      "W0000 00:00:1732251963.592743   10381 inference_feedback_manager.cc:114] Feedback manager requires a model with a single signature inference. Disabling support for feedback tensors.\n",
      "W0000 00:00:1732251963.594881   10377 inference_feedback_manager.cc:114] Feedback manager requires a model with a single signature inference. Disabling support for feedback tensors.\n",
      "W0000 00:00:1732251963.595144   10383 inference_feedback_manager.cc:114] Feedback manager requires a model with a single signature inference. Disabling support for feedback tensors.\n",
      "W0000 00:00:1732251963.595189   10371 inference_feedback_manager.cc:114] Feedback manager requires a model with a single signature inference. Disabling support for feedback tensors.\n",
      "W0000 00:00:1732251963.601938   10383 inference_feedback_manager.cc:114] Feedback manager requires a model with a single signature inference. Disabling support for feedback tensors.\n",
      "W0000 00:00:1732251963.609545   10382 inference_feedback_manager.cc:114] Feedback manager requires a model with a single signature inference. Disabling support for feedback tensors.\n",
      "W0000 00:00:1732251963.609953   10371 inference_feedback_manager.cc:114] Feedback manager requires a model with a single signature inference. Disabling support for feedback tensors.\n",
      "I0000 00:00:1732251963.629500    8496 gl_context_egl.cc:85] Successfully initialized EGL. Major : 1 Minor: 5\n",
      "I0000 00:00:1732251963.630613   10406 gl_context.cc:357] GL version: 3.2 (OpenGL ES 3.2 Mesa 23.2.1-1ubuntu3.1~22.04.2), renderer: GFX1103_R1 (gfx1103_r1, LLVM 15.0.7, DRM 3.57, 6.8.0-48-generic)\n",
      "W0000 00:00:1732251963.679564   10390 inference_feedback_manager.cc:114] Feedback manager requires a model with a single signature inference. Disabling support for feedback tensors.\n",
      "W0000 00:00:1732251963.705407   10397 inference_feedback_manager.cc:114] Feedback manager requires a model with a single signature inference. Disabling support for feedback tensors.\n",
      "W0000 00:00:1732251963.706521   10399 inference_feedback_manager.cc:114] Feedback manager requires a model with a single signature inference. Disabling support for feedback tensors.\n",
      "W0000 00:00:1732251963.706688   10392 inference_feedback_manager.cc:114] Feedback manager requires a model with a single signature inference. Disabling support for feedback tensors.\n",
      "W0000 00:00:1732251963.708558   10396 inference_feedback_manager.cc:114] Feedback manager requires a model with a single signature inference. Disabling support for feedback tensors.\n",
      "W0000 00:00:1732251963.711931   10391 inference_feedback_manager.cc:114] Feedback manager requires a model with a single signature inference. Disabling support for feedback tensors.\n",
      "W0000 00:00:1732251963.724176   10390 inference_feedback_manager.cc:114] Feedback manager requires a model with a single signature inference. Disabling support for feedback tensors.\n",
      "W0000 00:00:1732251963.726094   10400 inference_feedback_manager.cc:114] Feedback manager requires a model with a single signature inference. Disabling support for feedback tensors.\n",
      "I0000 00:00:1732251963.749227    8496 gl_context_egl.cc:85] Successfully initialized EGL. Major : 1 Minor: 5\n",
      "I0000 00:00:1732251963.750438   10425 gl_context.cc:357] GL version: 3.2 (OpenGL ES 3.2 Mesa 23.2.1-1ubuntu3.1~22.04.2), renderer: GFX1103_R1 (gfx1103_r1, LLVM 15.0.7, DRM 3.57, 6.8.0-48-generic)\n"
     ]
    },
    {
     "name": "stdout",
     "output_type": "stream",
     "text": [
      "(33, 4)\n",
      "(468, 3)\n",
      "(21, 3)\n",
      "(21, 3)\n",
      "Numpy array for frame train/0/10/frames/10_79.png has been saved to train/0/10/points_arrays/10_79.npy\n",
      "(33, 4)\n",
      "(468, 3)\n",
      "(21, 3)\n",
      "(21, 3)\n",
      "Numpy array for frame train/0/10/frames/10_4.png has been saved to train/0/10/points_arrays/10_4.npy\n"
     ]
    },
    {
     "name": "stderr",
     "output_type": "stream",
     "text": [
      "W0000 00:00:1732251963.797795   10410 inference_feedback_manager.cc:114] Feedback manager requires a model with a single signature inference. Disabling support for feedback tensors.\n",
      "W0000 00:00:1732251963.823522   10414 inference_feedback_manager.cc:114] Feedback manager requires a model with a single signature inference. Disabling support for feedback tensors.\n",
      "W0000 00:00:1732251963.825011   10412 inference_feedback_manager.cc:114] Feedback manager requires a model with a single signature inference. Disabling support for feedback tensors.\n",
      "W0000 00:00:1732251963.825161   10411 inference_feedback_manager.cc:114] Feedback manager requires a model with a single signature inference. Disabling support for feedback tensors.\n",
      "W0000 00:00:1732251963.825321   10407 inference_feedback_manager.cc:114] Feedback manager requires a model with a single signature inference. Disabling support for feedback tensors.\n",
      "W0000 00:00:1732251963.830706   10408 inference_feedback_manager.cc:114] Feedback manager requires a model with a single signature inference. Disabling support for feedback tensors.\n",
      "W0000 00:00:1732251963.840147   10414 inference_feedback_manager.cc:114] Feedback manager requires a model with a single signature inference. Disabling support for feedback tensors.\n",
      "W0000 00:00:1732251963.840661   10418 inference_feedback_manager.cc:114] Feedback manager requires a model with a single signature inference. Disabling support for feedback tensors.\n",
      "I0000 00:00:1732251963.859354    8496 gl_context_egl.cc:85] Successfully initialized EGL. Major : 1 Minor: 5\n",
      "I0000 00:00:1732251963.860759   10444 gl_context.cc:357] GL version: 3.2 (OpenGL ES 3.2 Mesa 23.2.1-1ubuntu3.1~22.04.2), renderer: GFX1103_R1 (gfx1103_r1, LLVM 15.0.7, DRM 3.57, 6.8.0-48-generic)\n",
      "W0000 00:00:1732251963.914952   10436 inference_feedback_manager.cc:114] Feedback manager requires a model with a single signature inference. Disabling support for feedback tensors.\n",
      "W0000 00:00:1732251963.939557   10430 inference_feedback_manager.cc:114] Feedback manager requires a model with a single signature inference. Disabling support for feedback tensors.\n",
      "W0000 00:00:1732251963.940980   10431 inference_feedback_manager.cc:114] Feedback manager requires a model with a single signature inference. Disabling support for feedback tensors.\n",
      "W0000 00:00:1732251963.941044   10429 inference_feedback_manager.cc:114] Feedback manager requires a model with a single signature inference. Disabling support for feedback tensors.\n",
      "W0000 00:00:1732251963.941101   10438 inference_feedback_manager.cc:114] Feedback manager requires a model with a single signature inference. Disabling support for feedback tensors.\n",
      "W0000 00:00:1732251963.946239   10435 inference_feedback_manager.cc:114] Feedback manager requires a model with a single signature inference. Disabling support for feedback tensors.\n",
      "W0000 00:00:1732251963.957354   10436 inference_feedback_manager.cc:114] Feedback manager requires a model with a single signature inference. Disabling support for feedback tensors.\n",
      "W0000 00:00:1732251963.957405   10434 inference_feedback_manager.cc:114] Feedback manager requires a model with a single signature inference. Disabling support for feedback tensors.\n",
      "I0000 00:00:1732251963.975638    8496 gl_context_egl.cc:85] Successfully initialized EGL. Major : 1 Minor: 5\n",
      "I0000 00:00:1732251963.976965   10463 gl_context.cc:357] GL version: 3.2 (OpenGL ES 3.2 Mesa 23.2.1-1ubuntu3.1~22.04.2), renderer: GFX1103_R1 (gfx1103_r1, LLVM 15.0.7, DRM 3.57, 6.8.0-48-generic)\n"
     ]
    },
    {
     "name": "stdout",
     "output_type": "stream",
     "text": [
      "(33, 4)\n",
      "(468, 3)\n",
      "(21, 3)\n",
      "(21, 3)\n",
      "Numpy array for frame train/0/10/frames/10_85.png has been saved to train/0/10/points_arrays/10_85.npy\n",
      "(33, 4)\n",
      "(468, 3)\n",
      "(21, 3)\n",
      "(21, 3)\n",
      "Numpy array for frame train/0/10/frames/10_53.png has been saved to train/0/10/points_arrays/10_53.npy\n"
     ]
    },
    {
     "name": "stderr",
     "output_type": "stream",
     "text": [
      "W0000 00:00:1732251964.029890   10446 inference_feedback_manager.cc:114] Feedback manager requires a model with a single signature inference. Disabling support for feedback tensors.\n",
      "W0000 00:00:1732251964.056608   10454 inference_feedback_manager.cc:114] Feedback manager requires a model with a single signature inference. Disabling support for feedback tensors.\n",
      "W0000 00:00:1732251964.058100   10460 inference_feedback_manager.cc:114] Feedback manager requires a model with a single signature inference. Disabling support for feedback tensors.\n",
      "W0000 00:00:1732251964.058931   10455 inference_feedback_manager.cc:114] Feedback manager requires a model with a single signature inference. Disabling support for feedback tensors.\n",
      "W0000 00:00:1732251964.059307   10452 inference_feedback_manager.cc:114] Feedback manager requires a model with a single signature inference. Disabling support for feedback tensors.\n",
      "W0000 00:00:1732251964.065629   10460 inference_feedback_manager.cc:114] Feedback manager requires a model with a single signature inference. Disabling support for feedback tensors.\n",
      "W0000 00:00:1732251964.070068   10457 inference_feedback_manager.cc:114] Feedback manager requires a model with a single signature inference. Disabling support for feedback tensors.\n",
      "W0000 00:00:1732251964.073402   10458 inference_feedback_manager.cc:114] Feedback manager requires a model with a single signature inference. Disabling support for feedback tensors.\n",
      "I0000 00:00:1732251964.092242    8496 gl_context_egl.cc:85] Successfully initialized EGL. Major : 1 Minor: 5\n",
      "I0000 00:00:1732251964.093562   10482 gl_context.cc:357] GL version: 3.2 (OpenGL ES 3.2 Mesa 23.2.1-1ubuntu3.1~22.04.2), renderer: GFX1103_R1 (gfx1103_r1, LLVM 15.0.7, DRM 3.57, 6.8.0-48-generic)\n",
      "W0000 00:00:1732251964.143552   10467 inference_feedback_manager.cc:114] Feedback manager requires a model with a single signature inference. Disabling support for feedback tensors.\n",
      "W0000 00:00:1732251964.168879   10474 inference_feedback_manager.cc:114] Feedback manager requires a model with a single signature inference. Disabling support for feedback tensors.\n",
      "W0000 00:00:1732251964.170213   10477 inference_feedback_manager.cc:114] Feedback manager requires a model with a single signature inference. Disabling support for feedback tensors.\n",
      "W0000 00:00:1732251964.170213   10479 inference_feedback_manager.cc:114] Feedback manager requires a model with a single signature inference. Disabling support for feedback tensors.\n",
      "W0000 00:00:1732251964.171330   10476 inference_feedback_manager.cc:114] Feedback manager requires a model with a single signature inference. Disabling support for feedback tensors.\n",
      "W0000 00:00:1732251964.176120   10467 inference_feedback_manager.cc:114] Feedback manager requires a model with a single signature inference. Disabling support for feedback tensors.\n",
      "W0000 00:00:1732251964.186413   10473 inference_feedback_manager.cc:114] Feedback manager requires a model with a single signature inference. Disabling support for feedback tensors.\n",
      "W0000 00:00:1732251964.186504   10479 inference_feedback_manager.cc:114] Feedback manager requires a model with a single signature inference. Disabling support for feedback tensors.\n",
      "I0000 00:00:1732251964.205434    8496 gl_context_egl.cc:85] Successfully initialized EGL. Major : 1 Minor: 5\n",
      "I0000 00:00:1732251964.206820   10501 gl_context.cc:357] GL version: 3.2 (OpenGL ES 3.2 Mesa 23.2.1-1ubuntu3.1~22.04.2), renderer: GFX1103_R1 (gfx1103_r1, LLVM 15.0.7, DRM 3.57, 6.8.0-48-generic)\n"
     ]
    },
    {
     "name": "stdout",
     "output_type": "stream",
     "text": [
      "(33, 4)\n",
      "(468, 3)\n",
      "(21, 3)\n",
      "(21, 3)\n",
      "Numpy array for frame train/0/10/frames/10_19.png has been saved to train/0/10/points_arrays/10_19.npy\n",
      "(33, 4)\n",
      "(468, 3)\n",
      "(21, 3)\n",
      "(21, 3)\n",
      "Numpy array for frame train/0/10/frames/10_16.png has been saved to train/0/10/points_arrays/10_16.npy\n"
     ]
    },
    {
     "name": "stderr",
     "output_type": "stream",
     "text": [
      "W0000 00:00:1732251964.257570   10486 inference_feedback_manager.cc:114] Feedback manager requires a model with a single signature inference. Disabling support for feedback tensors.\n",
      "W0000 00:00:1732251964.280505   10492 inference_feedback_manager.cc:114] Feedback manager requires a model with a single signature inference. Disabling support for feedback tensors.\n",
      "W0000 00:00:1732251964.282495   10487 inference_feedback_manager.cc:114] Feedback manager requires a model with a single signature inference. Disabling support for feedback tensors.\n",
      "W0000 00:00:1732251964.282627   10497 inference_feedback_manager.cc:114] Feedback manager requires a model with a single signature inference. Disabling support for feedback tensors.\n",
      "W0000 00:00:1732251964.282754   10495 inference_feedback_manager.cc:114] Feedback manager requires a model with a single signature inference. Disabling support for feedback tensors.\n",
      "W0000 00:00:1732251964.288148   10496 inference_feedback_manager.cc:114] Feedback manager requires a model with a single signature inference. Disabling support for feedback tensors.\n",
      "W0000 00:00:1732251964.293792   10485 inference_feedback_manager.cc:114] Feedback manager requires a model with a single signature inference. Disabling support for feedback tensors.\n",
      "W0000 00:00:1732251964.298500   10494 inference_feedback_manager.cc:114] Feedback manager requires a model with a single signature inference. Disabling support for feedback tensors.\n",
      "I0000 00:00:1732251964.317033    8496 gl_context_egl.cc:85] Successfully initialized EGL. Major : 1 Minor: 5\n",
      "I0000 00:00:1732251964.318465   10520 gl_context.cc:357] GL version: 3.2 (OpenGL ES 3.2 Mesa 23.2.1-1ubuntu3.1~22.04.2), renderer: GFX1103_R1 (gfx1103_r1, LLVM 15.0.7, DRM 3.57, 6.8.0-48-generic)\n",
      "W0000 00:00:1732251964.366553   10504 inference_feedback_manager.cc:114] Feedback manager requires a model with a single signature inference. Disabling support for feedback tensors.\n",
      "W0000 00:00:1732251964.393113   10503 inference_feedback_manager.cc:114] Feedback manager requires a model with a single signature inference. Disabling support for feedback tensors.\n",
      "W0000 00:00:1732251964.394445   10504 inference_feedback_manager.cc:114] Feedback manager requires a model with a single signature inference. Disabling support for feedback tensors.\n",
      "W0000 00:00:1732251964.395014   10515 inference_feedback_manager.cc:114] Feedback manager requires a model with a single signature inference. Disabling support for feedback tensors.\n",
      "W0000 00:00:1732251964.395748   10502 inference_feedback_manager.cc:114] Feedback manager requires a model with a single signature inference. Disabling support for feedback tensors.\n",
      "W0000 00:00:1732251964.400191   10507 inference_feedback_manager.cc:114] Feedback manager requires a model with a single signature inference. Disabling support for feedback tensors.\n",
      "W0000 00:00:1732251964.408538   10504 inference_feedback_manager.cc:114] Feedback manager requires a model with a single signature inference. Disabling support for feedback tensors.\n",
      "W0000 00:00:1732251964.409286   10508 inference_feedback_manager.cc:114] Feedback manager requires a model with a single signature inference. Disabling support for feedback tensors.\n",
      "I0000 00:00:1732251964.432234    8496 gl_context_egl.cc:85] Successfully initialized EGL. Major : 1 Minor: 5\n",
      "I0000 00:00:1732251964.433807   10539 gl_context.cc:357] GL version: 3.2 (OpenGL ES 3.2 Mesa 23.2.1-1ubuntu3.1~22.04.2), renderer: GFX1103_R1 (gfx1103_r1, LLVM 15.0.7, DRM 3.57, 6.8.0-48-generic)\n"
     ]
    },
    {
     "name": "stdout",
     "output_type": "stream",
     "text": [
      "(33, 4)\n",
      "(468, 3)\n",
      "(21, 3)\n",
      "(21, 3)\n",
      "Numpy array for frame train/0/10/frames/10_66.png has been saved to train/0/10/points_arrays/10_66.npy\n",
      "(33, 4)\n",
      "(468, 3)\n",
      "(21, 3)\n",
      "(21, 3)\n",
      "Numpy array for frame train/0/10/frames/10_25.png has been saved to train/0/10/points_arrays/10_25.npy\n"
     ]
    },
    {
     "name": "stderr",
     "output_type": "stream",
     "text": [
      "W0000 00:00:1732251964.483912   10522 inference_feedback_manager.cc:114] Feedback manager requires a model with a single signature inference. Disabling support for feedback tensors.\n",
      "W0000 00:00:1732251964.508786   10532 inference_feedback_manager.cc:114] Feedback manager requires a model with a single signature inference. Disabling support for feedback tensors.\n",
      "W0000 00:00:1732251964.510166   10523 inference_feedback_manager.cc:114] Feedback manager requires a model with a single signature inference. Disabling support for feedback tensors.\n",
      "W0000 00:00:1732251964.510667   10526 inference_feedback_manager.cc:114] Feedback manager requires a model with a single signature inference. Disabling support for feedback tensors.\n",
      "W0000 00:00:1732251964.510847   10534 inference_feedback_manager.cc:114] Feedback manager requires a model with a single signature inference. Disabling support for feedback tensors.\n",
      "W0000 00:00:1732251964.517865   10522 inference_feedback_manager.cc:114] Feedback manager requires a model with a single signature inference. Disabling support for feedback tensors.\n",
      "W0000 00:00:1732251964.525919   10521 inference_feedback_manager.cc:114] Feedback manager requires a model with a single signature inference. Disabling support for feedback tensors.\n",
      "W0000 00:00:1732251964.529370   10528 inference_feedback_manager.cc:114] Feedback manager requires a model with a single signature inference. Disabling support for feedback tensors.\n",
      "I0000 00:00:1732251964.550985    8496 gl_context_egl.cc:85] Successfully initialized EGL. Major : 1 Minor: 5\n",
      "I0000 00:00:1732251964.552377   10558 gl_context.cc:357] GL version: 3.2 (OpenGL ES 3.2 Mesa 23.2.1-1ubuntu3.1~22.04.2), renderer: GFX1103_R1 (gfx1103_r1, LLVM 15.0.7, DRM 3.57, 6.8.0-48-generic)\n",
      "W0000 00:00:1732251964.600023   10542 inference_feedback_manager.cc:114] Feedback manager requires a model with a single signature inference. Disabling support for feedback tensors.\n",
      "W0000 00:00:1732251964.623104   10548 inference_feedback_manager.cc:114] Feedback manager requires a model with a single signature inference. Disabling support for feedback tensors.\n",
      "W0000 00:00:1732251964.624789   10540 inference_feedback_manager.cc:114] Feedback manager requires a model with a single signature inference. Disabling support for feedback tensors.\n",
      "W0000 00:00:1732251964.625208   10541 inference_feedback_manager.cc:114] Feedback manager requires a model with a single signature inference. Disabling support for feedback tensors.\n",
      "W0000 00:00:1732251964.625637   10548 inference_feedback_manager.cc:114] Feedback manager requires a model with a single signature inference. Disabling support for feedback tensors.\n",
      "W0000 00:00:1732251964.632022   10547 inference_feedback_manager.cc:114] Feedback manager requires a model with a single signature inference. Disabling support for feedback tensors.\n",
      "W0000 00:00:1732251964.641400   10541 inference_feedback_manager.cc:114] Feedback manager requires a model with a single signature inference. Disabling support for feedback tensors.\n",
      "W0000 00:00:1732251964.641402   10552 inference_feedback_manager.cc:114] Feedback manager requires a model with a single signature inference. Disabling support for feedback tensors.\n",
      "I0000 00:00:1732251964.666012    8496 gl_context_egl.cc:85] Successfully initialized EGL. Major : 1 Minor: 5\n",
      "I0000 00:00:1732251964.667722   10577 gl_context.cc:357] GL version: 3.2 (OpenGL ES 3.2 Mesa 23.2.1-1ubuntu3.1~22.04.2), renderer: GFX1103_R1 (gfx1103_r1, LLVM 15.0.7, DRM 3.57, 6.8.0-48-generic)\n"
     ]
    },
    {
     "name": "stdout",
     "output_type": "stream",
     "text": [
      "(33, 4)\n",
      "(468, 3)\n",
      "(21, 3)\n",
      "(21, 3)\n",
      "Numpy array for frame train/0/10/frames/10_13.png has been saved to train/0/10/points_arrays/10_13.npy\n",
      "(33, 4)\n",
      "(468, 3)\n",
      "(21, 3)\n",
      "(21, 3)\n",
      "Numpy array for frame train/0/10/frames/10_24.png has been saved to train/0/10/points_arrays/10_24.npy\n"
     ]
    },
    {
     "name": "stderr",
     "output_type": "stream",
     "text": [
      "W0000 00:00:1732251964.718433   10564 inference_feedback_manager.cc:114] Feedback manager requires a model with a single signature inference. Disabling support for feedback tensors.\n",
      "W0000 00:00:1732251964.751127   10570 inference_feedback_manager.cc:114] Feedback manager requires a model with a single signature inference. Disabling support for feedback tensors.\n",
      "W0000 00:00:1732251964.753269   10559 inference_feedback_manager.cc:114] Feedback manager requires a model with a single signature inference. Disabling support for feedback tensors.\n",
      "W0000 00:00:1732251964.753403   10569 inference_feedback_manager.cc:114] Feedback manager requires a model with a single signature inference. Disabling support for feedback tensors.\n",
      "W0000 00:00:1732251964.753939   10571 inference_feedback_manager.cc:114] Feedback manager requires a model with a single signature inference. Disabling support for feedback tensors.\n",
      "W0000 00:00:1732251964.760168   10569 inference_feedback_manager.cc:114] Feedback manager requires a model with a single signature inference. Disabling support for feedback tensors.\n",
      "W0000 00:00:1732251964.769146   10559 inference_feedback_manager.cc:114] Feedback manager requires a model with a single signature inference. Disabling support for feedback tensors.\n",
      "W0000 00:00:1732251964.769140   10561 inference_feedback_manager.cc:114] Feedback manager requires a model with a single signature inference. Disabling support for feedback tensors.\n",
      "I0000 00:00:1732251964.793371    8496 gl_context_egl.cc:85] Successfully initialized EGL. Major : 1 Minor: 5\n",
      "I0000 00:00:1732251964.796225   10596 gl_context.cc:357] GL version: 3.2 (OpenGL ES 3.2 Mesa 23.2.1-1ubuntu3.1~22.04.2), renderer: GFX1103_R1 (gfx1103_r1, LLVM 15.0.7, DRM 3.57, 6.8.0-48-generic)\n",
      "W0000 00:00:1732251964.843312   10578 inference_feedback_manager.cc:114] Feedback manager requires a model with a single signature inference. Disabling support for feedback tensors.\n",
      "W0000 00:00:1732251964.868851   10592 inference_feedback_manager.cc:114] Feedback manager requires a model with a single signature inference. Disabling support for feedback tensors.\n",
      "W0000 00:00:1732251964.870176   10588 inference_feedback_manager.cc:114] Feedback manager requires a model with a single signature inference. Disabling support for feedback tensors.\n",
      "W0000 00:00:1732251964.870646   10578 inference_feedback_manager.cc:114] Feedback manager requires a model with a single signature inference. Disabling support for feedback tensors.\n",
      "W0000 00:00:1732251964.871580   10589 inference_feedback_manager.cc:114] Feedback manager requires a model with a single signature inference. Disabling support for feedback tensors.\n",
      "W0000 00:00:1732251964.875717   10587 inference_feedback_manager.cc:114] Feedback manager requires a model with a single signature inference. Disabling support for feedback tensors.\n",
      "W0000 00:00:1732251964.886220   10585 inference_feedback_manager.cc:114] Feedback manager requires a model with a single signature inference. Disabling support for feedback tensors.\n",
      "W0000 00:00:1732251964.889665   10581 inference_feedback_manager.cc:114] Feedback manager requires a model with a single signature inference. Disabling support for feedback tensors.\n",
      "I0000 00:00:1732251964.907985    8496 gl_context_egl.cc:85] Successfully initialized EGL. Major : 1 Minor: 5\n",
      "I0000 00:00:1732251964.909248   10615 gl_context.cc:357] GL version: 3.2 (OpenGL ES 3.2 Mesa 23.2.1-1ubuntu3.1~22.04.2), renderer: GFX1103_R1 (gfx1103_r1, LLVM 15.0.7, DRM 3.57, 6.8.0-48-generic)\n"
     ]
    },
    {
     "name": "stdout",
     "output_type": "stream",
     "text": [
      "(33, 4)\n",
      "(468, 3)\n",
      "(21, 3)\n",
      "(21, 3)\n",
      "Numpy array for frame train/0/10/frames/10_41.png has been saved to train/0/10/points_arrays/10_41.npy\n",
      "(33, 4)\n",
      "(468, 3)\n",
      "(21, 3)\n",
      "(21, 3)\n",
      "Numpy array for frame train/0/10/frames/10_29.png has been saved to train/0/10/points_arrays/10_29.npy\n"
     ]
    },
    {
     "name": "stderr",
     "output_type": "stream",
     "text": [
      "W0000 00:00:1732251964.964619   10599 inference_feedback_manager.cc:114] Feedback manager requires a model with a single signature inference. Disabling support for feedback tensors.\n",
      "W0000 00:00:1732251964.990015   10606 inference_feedback_manager.cc:114] Feedback manager requires a model with a single signature inference. Disabling support for feedback tensors.\n",
      "W0000 00:00:1732251964.991980   10597 inference_feedback_manager.cc:114] Feedback manager requires a model with a single signature inference. Disabling support for feedback tensors.\n",
      "W0000 00:00:1732251964.992648   10600 inference_feedback_manager.cc:114] Feedback manager requires a model with a single signature inference. Disabling support for feedback tensors.\n",
      "W0000 00:00:1732251964.993466   10608 inference_feedback_manager.cc:114] Feedback manager requires a model with a single signature inference. Disabling support for feedback tensors.\n",
      "W0000 00:00:1732251965.000900   10607 inference_feedback_manager.cc:114] Feedback manager requires a model with a single signature inference. Disabling support for feedback tensors.\n",
      "W0000 00:00:1732251965.005317   10612 inference_feedback_manager.cc:114] Feedback manager requires a model with a single signature inference. Disabling support for feedback tensors.\n",
      "W0000 00:00:1732251965.008042   10605 inference_feedback_manager.cc:114] Feedback manager requires a model with a single signature inference. Disabling support for feedback tensors.\n",
      "I0000 00:00:1732251965.026197    8496 gl_context_egl.cc:85] Successfully initialized EGL. Major : 1 Minor: 5\n",
      "I0000 00:00:1732251965.027643   10634 gl_context.cc:357] GL version: 3.2 (OpenGL ES 3.2 Mesa 23.2.1-1ubuntu3.1~22.04.2), renderer: GFX1103_R1 (gfx1103_r1, LLVM 15.0.7, DRM 3.57, 6.8.0-48-generic)\n",
      "W0000 00:00:1732251965.077183   10620 inference_feedback_manager.cc:114] Feedback manager requires a model with a single signature inference. Disabling support for feedback tensors.\n",
      "W0000 00:00:1732251965.100987   10616 inference_feedback_manager.cc:114] Feedback manager requires a model with a single signature inference. Disabling support for feedback tensors.\n",
      "W0000 00:00:1732251965.102469   10628 inference_feedback_manager.cc:114] Feedback manager requires a model with a single signature inference. Disabling support for feedback tensors.\n",
      "W0000 00:00:1732251965.103424   10621 inference_feedback_manager.cc:114] Feedback manager requires a model with a single signature inference. Disabling support for feedback tensors.\n",
      "W0000 00:00:1732251965.103924   10627 inference_feedback_manager.cc:114] Feedback manager requires a model with a single signature inference. Disabling support for feedback tensors.\n",
      "W0000 00:00:1732251965.109929   10621 inference_feedback_manager.cc:114] Feedback manager requires a model with a single signature inference. Disabling support for feedback tensors.\n",
      "W0000 00:00:1732251965.117203   10625 inference_feedback_manager.cc:114] Feedback manager requires a model with a single signature inference. Disabling support for feedback tensors.\n",
      "W0000 00:00:1732251965.119320   10616 inference_feedback_manager.cc:114] Feedback manager requires a model with a single signature inference. Disabling support for feedback tensors.\n",
      "I0000 00:00:1732251965.138207    8496 gl_context_egl.cc:85] Successfully initialized EGL. Major : 1 Minor: 5\n",
      "I0000 00:00:1732251965.139580   10653 gl_context.cc:357] GL version: 3.2 (OpenGL ES 3.2 Mesa 23.2.1-1ubuntu3.1~22.04.2), renderer: GFX1103_R1 (gfx1103_r1, LLVM 15.0.7, DRM 3.57, 6.8.0-48-generic)\n"
     ]
    },
    {
     "name": "stdout",
     "output_type": "stream",
     "text": [
      "(33, 4)\n",
      "(468, 3)\n",
      "(21, 3)\n",
      "(21, 3)\n",
      "Numpy array for frame train/0/10/frames/10_9.png has been saved to train/0/10/points_arrays/10_9.npy\n",
      "(33, 4)\n",
      "(468, 3)\n",
      "(21, 3)\n",
      "(21, 3)\n",
      "Numpy array for frame train/0/10/frames/10_47.png has been saved to train/0/10/points_arrays/10_47.npy\n"
     ]
    },
    {
     "name": "stderr",
     "output_type": "stream",
     "text": [
      "W0000 00:00:1732251965.191736   10637 inference_feedback_manager.cc:114] Feedback manager requires a model with a single signature inference. Disabling support for feedback tensors.\n",
      "W0000 00:00:1732251965.219352   10647 inference_feedback_manager.cc:114] Feedback manager requires a model with a single signature inference. Disabling support for feedback tensors.\n",
      "W0000 00:00:1732251965.220298   10636 inference_feedback_manager.cc:114] Feedback manager requires a model with a single signature inference. Disabling support for feedback tensors.\n",
      "W0000 00:00:1732251965.221882   10646 inference_feedback_manager.cc:114] Feedback manager requires a model with a single signature inference. Disabling support for feedback tensors.\n",
      "W0000 00:00:1732251965.222801   10637 inference_feedback_manager.cc:114] Feedback manager requires a model with a single signature inference. Disabling support for feedback tensors.\n",
      "W0000 00:00:1732251965.229216   10639 inference_feedback_manager.cc:114] Feedback manager requires a model with a single signature inference. Disabling support for feedback tensors.\n",
      "W0000 00:00:1732251965.235615   10650 inference_feedback_manager.cc:114] Feedback manager requires a model with a single signature inference. Disabling support for feedback tensors.\n",
      "W0000 00:00:1732251965.238310   10638 inference_feedback_manager.cc:114] Feedback manager requires a model with a single signature inference. Disabling support for feedback tensors.\n",
      "I0000 00:00:1732251965.256752    8496 gl_context_egl.cc:85] Successfully initialized EGL. Major : 1 Minor: 5\n",
      "I0000 00:00:1732251965.257909   10672 gl_context.cc:357] GL version: 3.2 (OpenGL ES 3.2 Mesa 23.2.1-1ubuntu3.1~22.04.2), renderer: GFX1103_R1 (gfx1103_r1, LLVM 15.0.7, DRM 3.57, 6.8.0-48-generic)\n",
      "W0000 00:00:1732251965.307251   10656 inference_feedback_manager.cc:114] Feedback manager requires a model with a single signature inference. Disabling support for feedback tensors.\n",
      "W0000 00:00:1732251965.332894   10663 inference_feedback_manager.cc:114] Feedback manager requires a model with a single signature inference. Disabling support for feedback tensors.\n",
      "W0000 00:00:1732251965.335150   10668 inference_feedback_manager.cc:114] Feedback manager requires a model with a single signature inference. Disabling support for feedback tensors.\n",
      "W0000 00:00:1732251965.335156   10661 inference_feedback_manager.cc:114] Feedback manager requires a model with a single signature inference. Disabling support for feedback tensors.\n",
      "W0000 00:00:1732251965.335203   10662 inference_feedback_manager.cc:114] Feedback manager requires a model with a single signature inference. Disabling support for feedback tensors.\n",
      "W0000 00:00:1732251965.338871   10666 inference_feedback_manager.cc:114] Feedback manager requires a model with a single signature inference. Disabling support for feedback tensors.\n",
      "W0000 00:00:1732251965.355123   10669 inference_feedback_manager.cc:114] Feedback manager requires a model with a single signature inference. Disabling support for feedback tensors.\n",
      "W0000 00:00:1732251965.355159   10667 inference_feedback_manager.cc:114] Feedback manager requires a model with a single signature inference. Disabling support for feedback tensors.\n",
      "I0000 00:00:1732251965.373881    8496 gl_context_egl.cc:85] Successfully initialized EGL. Major : 1 Minor: 5\n",
      "I0000 00:00:1732251965.375117   10691 gl_context.cc:357] GL version: 3.2 (OpenGL ES 3.2 Mesa 23.2.1-1ubuntu3.1~22.04.2), renderer: GFX1103_R1 (gfx1103_r1, LLVM 15.0.7, DRM 3.57, 6.8.0-48-generic)\n"
     ]
    },
    {
     "name": "stdout",
     "output_type": "stream",
     "text": [
      "(33, 4)\n",
      "(468, 3)\n",
      "(21, 3)\n",
      "(21, 3)\n",
      "Numpy array for frame train/0/10/frames/10_26.png has been saved to train/0/10/points_arrays/10_26.npy\n",
      "(33, 4)\n",
      "(468, 3)\n",
      "(21, 3)\n",
      "(21, 3)\n",
      "Numpy array for frame train/0/10/frames/10_31.png has been saved to train/0/10/points_arrays/10_31.npy\n"
     ]
    },
    {
     "name": "stderr",
     "output_type": "stream",
     "text": [
      "W0000 00:00:1732251965.428458   10676 inference_feedback_manager.cc:114] Feedback manager requires a model with a single signature inference. Disabling support for feedback tensors.\n",
      "W0000 00:00:1732251965.458272   10682 inference_feedback_manager.cc:114] Feedback manager requires a model with a single signature inference. Disabling support for feedback tensors.\n",
      "W0000 00:00:1732251965.459417   10686 inference_feedback_manager.cc:114] Feedback manager requires a model with a single signature inference. Disabling support for feedback tensors.\n",
      "W0000 00:00:1732251965.459836   10679 inference_feedback_manager.cc:114] Feedback manager requires a model with a single signature inference. Disabling support for feedback tensors.\n",
      "W0000 00:00:1732251965.460967   10680 inference_feedback_manager.cc:114] Feedback manager requires a model with a single signature inference. Disabling support for feedback tensors.\n",
      "W0000 00:00:1732251965.465584   10677 inference_feedback_manager.cc:114] Feedback manager requires a model with a single signature inference. Disabling support for feedback tensors.\n",
      "W0000 00:00:1732251965.473162   10681 inference_feedback_manager.cc:114] Feedback manager requires a model with a single signature inference. Disabling support for feedback tensors.\n",
      "W0000 00:00:1732251965.475243   10676 inference_feedback_manager.cc:114] Feedback manager requires a model with a single signature inference. Disabling support for feedback tensors.\n",
      "I0000 00:00:1732251965.496316    8496 gl_context_egl.cc:85] Successfully initialized EGL. Major : 1 Minor: 5\n",
      "I0000 00:00:1732251965.497671   10710 gl_context.cc:357] GL version: 3.2 (OpenGL ES 3.2 Mesa 23.2.1-1ubuntu3.1~22.04.2), renderer: GFX1103_R1 (gfx1103_r1, LLVM 15.0.7, DRM 3.57, 6.8.0-48-generic)\n",
      "W0000 00:00:1732251965.544534   10694 inference_feedback_manager.cc:114] Feedback manager requires a model with a single signature inference. Disabling support for feedback tensors.\n",
      "W0000 00:00:1732251965.571446   10699 inference_feedback_manager.cc:114] Feedback manager requires a model with a single signature inference. Disabling support for feedback tensors.\n",
      "W0000 00:00:1732251965.573570   10701 inference_feedback_manager.cc:114] Feedback manager requires a model with a single signature inference. Disabling support for feedback tensors.\n",
      "W0000 00:00:1732251965.573600   10696 inference_feedback_manager.cc:114] Feedback manager requires a model with a single signature inference. Disabling support for feedback tensors.\n",
      "W0000 00:00:1732251965.574492   10698 inference_feedback_manager.cc:114] Feedback manager requires a model with a single signature inference. Disabling support for feedback tensors.\n",
      "W0000 00:00:1732251965.579306   10695 inference_feedback_manager.cc:114] Feedback manager requires a model with a single signature inference. Disabling support for feedback tensors.\n",
      "W0000 00:00:1732251965.589841   10693 inference_feedback_manager.cc:114] Feedback manager requires a model with a single signature inference. Disabling support for feedback tensors.\n",
      "W0000 00:00:1732251965.590931   10706 inference_feedback_manager.cc:114] Feedback manager requires a model with a single signature inference. Disabling support for feedback tensors.\n",
      "I0000 00:00:1732251965.617884    8496 gl_context_egl.cc:85] Successfully initialized EGL. Major : 1 Minor: 5\n",
      "I0000 00:00:1732251965.619242   10729 gl_context.cc:357] GL version: 3.2 (OpenGL ES 3.2 Mesa 23.2.1-1ubuntu3.1~22.04.2), renderer: GFX1103_R1 (gfx1103_r1, LLVM 15.0.7, DRM 3.57, 6.8.0-48-generic)\n"
     ]
    },
    {
     "name": "stdout",
     "output_type": "stream",
     "text": [
      "(33, 4)\n",
      "(468, 3)\n",
      "(21, 3)\n",
      "(21, 3)\n",
      "Numpy array for frame train/0/10/frames/10_27.png has been saved to train/0/10/points_arrays/10_27.npy\n",
      "(33, 4)\n",
      "(468, 3)\n",
      "(21, 3)\n",
      "(21, 3)\n",
      "Numpy array for frame train/0/10/frames/10_44.png has been saved to train/0/10/points_arrays/10_44.npy\n"
     ]
    },
    {
     "name": "stderr",
     "output_type": "stream",
     "text": [
      "W0000 00:00:1732251965.669182   10713 inference_feedback_manager.cc:114] Feedback manager requires a model with a single signature inference. Disabling support for feedback tensors.\n",
      "W0000 00:00:1732251965.694630   10718 inference_feedback_manager.cc:114] Feedback manager requires a model with a single signature inference. Disabling support for feedback tensors.\n",
      "W0000 00:00:1732251965.696213   10722 inference_feedback_manager.cc:114] Feedback manager requires a model with a single signature inference. Disabling support for feedback tensors.\n",
      "W0000 00:00:1732251965.697088   10724 inference_feedback_manager.cc:114] Feedback manager requires a model with a single signature inference. Disabling support for feedback tensors.\n",
      "W0000 00:00:1732251965.698256   10715 inference_feedback_manager.cc:114] Feedback manager requires a model with a single signature inference. Disabling support for feedback tensors.\n",
      "W0000 00:00:1732251965.703719   10711 inference_feedback_manager.cc:114] Feedback manager requires a model with a single signature inference. Disabling support for feedback tensors.\n",
      "W0000 00:00:1732251965.711182   10717 inference_feedback_manager.cc:114] Feedback manager requires a model with a single signature inference. Disabling support for feedback tensors.\n",
      "W0000 00:00:1732251965.716083   10718 inference_feedback_manager.cc:114] Feedback manager requires a model with a single signature inference. Disabling support for feedback tensors.\n",
      "I0000 00:00:1732251965.734403    8496 gl_context_egl.cc:85] Successfully initialized EGL. Major : 1 Minor: 5\n",
      "I0000 00:00:1732251965.735726   10748 gl_context.cc:357] GL version: 3.2 (OpenGL ES 3.2 Mesa 23.2.1-1ubuntu3.1~22.04.2), renderer: GFX1103_R1 (gfx1103_r1, LLVM 15.0.7, DRM 3.57, 6.8.0-48-generic)\n",
      "W0000 00:00:1732251965.781924   10730 inference_feedback_manager.cc:114] Feedback manager requires a model with a single signature inference. Disabling support for feedback tensors.\n",
      "W0000 00:00:1732251965.806345   10740 inference_feedback_manager.cc:114] Feedback manager requires a model with a single signature inference. Disabling support for feedback tensors.\n",
      "W0000 00:00:1732251965.807471   10745 inference_feedback_manager.cc:114] Feedback manager requires a model with a single signature inference. Disabling support for feedback tensors.\n",
      "W0000 00:00:1732251965.807581   10730 inference_feedback_manager.cc:114] Feedback manager requires a model with a single signature inference. Disabling support for feedback tensors.\n",
      "W0000 00:00:1732251965.808719   10744 inference_feedback_manager.cc:114] Feedback manager requires a model with a single signature inference. Disabling support for feedback tensors.\n",
      "W0000 00:00:1732251965.815608   10741 inference_feedback_manager.cc:114] Feedback manager requires a model with a single signature inference. Disabling support for feedback tensors.\n",
      "W0000 00:00:1732251965.823457   10742 inference_feedback_manager.cc:114] Feedback manager requires a model with a single signature inference. Disabling support for feedback tensors.\n",
      "W0000 00:00:1732251965.824529   10731 inference_feedback_manager.cc:114] Feedback manager requires a model with a single signature inference. Disabling support for feedback tensors.\n",
      "I0000 00:00:1732251965.843037    8496 gl_context_egl.cc:85] Successfully initialized EGL. Major : 1 Minor: 5\n",
      "I0000 00:00:1732251965.844416   10767 gl_context.cc:357] GL version: 3.2 (OpenGL ES 3.2 Mesa 23.2.1-1ubuntu3.1~22.04.2), renderer: GFX1103_R1 (gfx1103_r1, LLVM 15.0.7, DRM 3.57, 6.8.0-48-generic)\n"
     ]
    },
    {
     "name": "stdout",
     "output_type": "stream",
     "text": [
      "(33, 4)\n",
      "(468, 3)\n",
      "(21, 3)\n",
      "(21, 3)\n",
      "Numpy array for frame train/0/10/frames/10_49.png has been saved to train/0/10/points_arrays/10_49.npy\n",
      "(33, 4)\n",
      "(468, 3)\n",
      "(21, 3)\n",
      "(21, 3)\n",
      "Numpy array for frame train/0/10/frames/10_55.png has been saved to train/0/10/points_arrays/10_55.npy\n"
     ]
    },
    {
     "name": "stderr",
     "output_type": "stream",
     "text": [
      "W0000 00:00:1732251965.899832   10751 inference_feedback_manager.cc:114] Feedback manager requires a model with a single signature inference. Disabling support for feedback tensors.\n",
      "W0000 00:00:1732251965.929652   10759 inference_feedback_manager.cc:114] Feedback manager requires a model with a single signature inference. Disabling support for feedback tensors.\n",
      "W0000 00:00:1732251965.930510   10749 inference_feedback_manager.cc:114] Feedback manager requires a model with a single signature inference. Disabling support for feedback tensors.\n",
      "W0000 00:00:1732251965.931361   10750 inference_feedback_manager.cc:114] Feedback manager requires a model with a single signature inference. Disabling support for feedback tensors.\n",
      "W0000 00:00:1732251965.931614   10758 inference_feedback_manager.cc:114] Feedback manager requires a model with a single signature inference. Disabling support for feedback tensors.\n",
      "W0000 00:00:1732251965.936401   10749 inference_feedback_manager.cc:114] Feedback manager requires a model with a single signature inference. Disabling support for feedback tensors.\n",
      "W0000 00:00:1732251965.944469   10753 inference_feedback_manager.cc:114] Feedback manager requires a model with a single signature inference. Disabling support for feedback tensors.\n",
      "W0000 00:00:1732251965.946092   10754 inference_feedback_manager.cc:114] Feedback manager requires a model with a single signature inference. Disabling support for feedback tensors.\n",
      "I0000 00:00:1732251965.965690    8496 gl_context_egl.cc:85] Successfully initialized EGL. Major : 1 Minor: 5\n",
      "I0000 00:00:1732251965.966956   10786 gl_context.cc:357] GL version: 3.2 (OpenGL ES 3.2 Mesa 23.2.1-1ubuntu3.1~22.04.2), renderer: GFX1103_R1 (gfx1103_r1, LLVM 15.0.7, DRM 3.57, 6.8.0-48-generic)\n",
      "W0000 00:00:1732251966.014393   10770 inference_feedback_manager.cc:114] Feedback manager requires a model with a single signature inference. Disabling support for feedback tensors.\n",
      "W0000 00:00:1732251966.040136   10777 inference_feedback_manager.cc:114] Feedback manager requires a model with a single signature inference. Disabling support for feedback tensors.\n",
      "W0000 00:00:1732251966.041331   10770 inference_feedback_manager.cc:114] Feedback manager requires a model with a single signature inference. Disabling support for feedback tensors.\n",
      "W0000 00:00:1732251966.042452   10773 inference_feedback_manager.cc:114] Feedback manager requires a model with a single signature inference. Disabling support for feedback tensors.\n",
      "W0000 00:00:1732251966.042803   10774 inference_feedback_manager.cc:114] Feedback manager requires a model with a single signature inference. Disabling support for feedback tensors.\n",
      "W0000 00:00:1732251966.051003   10775 inference_feedback_manager.cc:114] Feedback manager requires a model with a single signature inference. Disabling support for feedback tensors.\n",
      "W0000 00:00:1732251966.060682   10779 inference_feedback_manager.cc:114] Feedback manager requires a model with a single signature inference. Disabling support for feedback tensors.\n",
      "W0000 00:00:1732251966.061218   10776 inference_feedback_manager.cc:114] Feedback manager requires a model with a single signature inference. Disabling support for feedback tensors.\n",
      "I0000 00:00:1732251966.087494    8496 gl_context_egl.cc:85] Successfully initialized EGL. Major : 1 Minor: 5\n",
      "I0000 00:00:1732251966.088732   10805 gl_context.cc:357] GL version: 3.2 (OpenGL ES 3.2 Mesa 23.2.1-1ubuntu3.1~22.04.2), renderer: GFX1103_R1 (gfx1103_r1, LLVM 15.0.7, DRM 3.57, 6.8.0-48-generic)\n"
     ]
    },
    {
     "name": "stdout",
     "output_type": "stream",
     "text": [
      "(33, 4)\n",
      "(468, 3)\n",
      "(21, 3)\n",
      "(21, 3)\n",
      "Numpy array for frame train/0/10/frames/10_70.png has been saved to train/0/10/points_arrays/10_70.npy\n",
      "(33, 4)\n",
      "(468, 3)\n",
      "(21, 3)\n",
      "(21, 3)\n",
      "Numpy array for frame train/0/10/frames/10_50.png has been saved to train/0/10/points_arrays/10_50.npy\n"
     ]
    },
    {
     "name": "stderr",
     "output_type": "stream",
     "text": [
      "W0000 00:00:1732251966.139762   10789 inference_feedback_manager.cc:114] Feedback manager requires a model with a single signature inference. Disabling support for feedback tensors.\n",
      "W0000 00:00:1732251966.169501   10787 inference_feedback_manager.cc:114] Feedback manager requires a model with a single signature inference. Disabling support for feedback tensors.\n",
      "W0000 00:00:1732251966.172196   10795 inference_feedback_manager.cc:114] Feedback manager requires a model with a single signature inference. Disabling support for feedback tensors.\n",
      "W0000 00:00:1732251966.172236   10789 inference_feedback_manager.cc:114] Feedback manager requires a model with a single signature inference. Disabling support for feedback tensors.\n",
      "W0000 00:00:1732251966.172548   10802 inference_feedback_manager.cc:114] Feedback manager requires a model with a single signature inference. Disabling support for feedback tensors.\n",
      "W0000 00:00:1732251966.179516   10795 inference_feedback_manager.cc:114] Feedback manager requires a model with a single signature inference. Disabling support for feedback tensors.\n",
      "W0000 00:00:1732251966.187962   10792 inference_feedback_manager.cc:114] Feedback manager requires a model with a single signature inference. Disabling support for feedback tensors.\n",
      "W0000 00:00:1732251966.188659   10801 inference_feedback_manager.cc:114] Feedback manager requires a model with a single signature inference. Disabling support for feedback tensors.\n",
      "I0000 00:00:1732251966.207088    8496 gl_context_egl.cc:85] Successfully initialized EGL. Major : 1 Minor: 5\n",
      "I0000 00:00:1732251966.208585   10824 gl_context.cc:357] GL version: 3.2 (OpenGL ES 3.2 Mesa 23.2.1-1ubuntu3.1~22.04.2), renderer: GFX1103_R1 (gfx1103_r1, LLVM 15.0.7, DRM 3.57, 6.8.0-48-generic)\n",
      "W0000 00:00:1732251966.257028   10806 inference_feedback_manager.cc:114] Feedback manager requires a model with a single signature inference. Disabling support for feedback tensors.\n",
      "W0000 00:00:1732251966.280923   10820 inference_feedback_manager.cc:114] Feedback manager requires a model with a single signature inference. Disabling support for feedback tensors.\n",
      "W0000 00:00:1732251966.282747   10813 inference_feedback_manager.cc:114] Feedback manager requires a model with a single signature inference. Disabling support for feedback tensors.\n",
      "W0000 00:00:1732251966.284058   10809 inference_feedback_manager.cc:114] Feedback manager requires a model with a single signature inference. Disabling support for feedback tensors.\n",
      "W0000 00:00:1732251966.284314   10808 inference_feedback_manager.cc:114] Feedback manager requires a model with a single signature inference. Disabling support for feedback tensors.\n",
      "W0000 00:00:1732251966.290490   10821 inference_feedback_manager.cc:114] Feedback manager requires a model with a single signature inference. Disabling support for feedback tensors.\n",
      "W0000 00:00:1732251966.294297   10807 inference_feedback_manager.cc:114] Feedback manager requires a model with a single signature inference. Disabling support for feedback tensors.\n",
      "W0000 00:00:1732251966.301879   10815 inference_feedback_manager.cc:114] Feedback manager requires a model with a single signature inference. Disabling support for feedback tensors.\n",
      "I0000 00:00:1732251966.320502    8496 gl_context_egl.cc:85] Successfully initialized EGL. Major : 1 Minor: 5\n",
      "I0000 00:00:1732251966.321981   10843 gl_context.cc:357] GL version: 3.2 (OpenGL ES 3.2 Mesa 23.2.1-1ubuntu3.1~22.04.2), renderer: GFX1103_R1 (gfx1103_r1, LLVM 15.0.7, DRM 3.57, 6.8.0-48-generic)\n"
     ]
    },
    {
     "name": "stdout",
     "output_type": "stream",
     "text": [
      "(33, 4)\n",
      "(468, 3)\n",
      "(21, 3)\n",
      "(21, 3)\n",
      "Numpy array for frame train/0/10/frames/10_8.png has been saved to train/0/10/points_arrays/10_8.npy\n",
      "(33, 4)\n",
      "(468, 3)\n",
      "(21, 3)\n",
      "(21, 3)\n",
      "Numpy array for frame train/0/10/frames/10_37.png has been saved to train/0/10/points_arrays/10_37.npy\n"
     ]
    },
    {
     "name": "stderr",
     "output_type": "stream",
     "text": [
      "W0000 00:00:1732251966.372524   10827 inference_feedback_manager.cc:114] Feedback manager requires a model with a single signature inference. Disabling support for feedback tensors.\n",
      "W0000 00:00:1732251966.397143   10829 inference_feedback_manager.cc:114] Feedback manager requires a model with a single signature inference. Disabling support for feedback tensors.\n",
      "W0000 00:00:1732251966.398864   10833 inference_feedback_manager.cc:114] Feedback manager requires a model with a single signature inference. Disabling support for feedback tensors.\n",
      "W0000 00:00:1732251966.399082   10836 inference_feedback_manager.cc:114] Feedback manager requires a model with a single signature inference. Disabling support for feedback tensors.\n",
      "W0000 00:00:1732251966.399750   10832 inference_feedback_manager.cc:114] Feedback manager requires a model with a single signature inference. Disabling support for feedback tensors.\n",
      "W0000 00:00:1732251966.405487   10840 inference_feedback_manager.cc:114] Feedback manager requires a model with a single signature inference. Disabling support for feedback tensors.\n",
      "W0000 00:00:1732251966.414608   10834 inference_feedback_manager.cc:114] Feedback manager requires a model with a single signature inference. Disabling support for feedback tensors.\n",
      "W0000 00:00:1732251966.415313   10828 inference_feedback_manager.cc:114] Feedback manager requires a model with a single signature inference. Disabling support for feedback tensors.\n",
      "I0000 00:00:1732251966.436417    8496 gl_context_egl.cc:85] Successfully initialized EGL. Major : 1 Minor: 5\n",
      "I0000 00:00:1732251966.437572   10862 gl_context.cc:357] GL version: 3.2 (OpenGL ES 3.2 Mesa 23.2.1-1ubuntu3.1~22.04.2), renderer: GFX1103_R1 (gfx1103_r1, LLVM 15.0.7, DRM 3.57, 6.8.0-48-generic)\n",
      "W0000 00:00:1732251966.484584   10846 inference_feedback_manager.cc:114] Feedback manager requires a model with a single signature inference. Disabling support for feedback tensors.\n",
      "W0000 00:00:1732251966.510230   10851 inference_feedback_manager.cc:114] Feedback manager requires a model with a single signature inference. Disabling support for feedback tensors.\n",
      "W0000 00:00:1732251966.511698   10854 inference_feedback_manager.cc:114] Feedback manager requires a model with a single signature inference. Disabling support for feedback tensors.\n",
      "W0000 00:00:1732251966.511874   10858 inference_feedback_manager.cc:114] Feedback manager requires a model with a single signature inference. Disabling support for feedback tensors.\n",
      "W0000 00:00:1732251966.512499   10845 inference_feedback_manager.cc:114] Feedback manager requires a model with a single signature inference. Disabling support for feedback tensors.\n",
      "W0000 00:00:1732251966.518988   10852 inference_feedback_manager.cc:114] Feedback manager requires a model with a single signature inference. Disabling support for feedback tensors.\n",
      "W0000 00:00:1732251966.527034   10855 inference_feedback_manager.cc:114] Feedback manager requires a model with a single signature inference. Disabling support for feedback tensors.\n",
      "W0000 00:00:1732251966.528256   10856 inference_feedback_manager.cc:114] Feedback manager requires a model with a single signature inference. Disabling support for feedback tensors.\n",
      "I0000 00:00:1732251966.548793    8496 gl_context_egl.cc:85] Successfully initialized EGL. Major : 1 Minor: 5\n",
      "I0000 00:00:1732251966.550248   10881 gl_context.cc:357] GL version: 3.2 (OpenGL ES 3.2 Mesa 23.2.1-1ubuntu3.1~22.04.2), renderer: GFX1103_R1 (gfx1103_r1, LLVM 15.0.7, DRM 3.57, 6.8.0-48-generic)\n"
     ]
    },
    {
     "name": "stdout",
     "output_type": "stream",
     "text": [
      "(33, 4)\n",
      "(468, 3)\n",
      "(21, 3)\n",
      "(21, 3)\n",
      "Numpy array for frame train/0/10/frames/10_42.png has been saved to train/0/10/points_arrays/10_42.npy\n",
      "(33, 4)\n",
      "(468, 3)\n",
      "(21, 3)\n",
      "(21, 3)\n",
      "Numpy array for frame train/0/10/frames/10_87.png has been saved to train/0/10/points_arrays/10_87.npy\n"
     ]
    },
    {
     "name": "stderr",
     "output_type": "stream",
     "text": [
      "W0000 00:00:1732251966.597234   10863 inference_feedback_manager.cc:114] Feedback manager requires a model with a single signature inference. Disabling support for feedback tensors.\n",
      "W0000 00:00:1732251966.623160   10869 inference_feedback_manager.cc:114] Feedback manager requires a model with a single signature inference. Disabling support for feedback tensors.\n",
      "W0000 00:00:1732251966.624980   10876 inference_feedback_manager.cc:114] Feedback manager requires a model with a single signature inference. Disabling support for feedback tensors.\n",
      "W0000 00:00:1732251966.624999   10867 inference_feedback_manager.cc:114] Feedback manager requires a model with a single signature inference. Disabling support for feedback tensors.\n",
      "W0000 00:00:1732251966.625481   10869 inference_feedback_manager.cc:114] Feedback manager requires a model with a single signature inference. Disabling support for feedback tensors.\n",
      "W0000 00:00:1732251966.633399   10877 inference_feedback_manager.cc:114] Feedback manager requires a model with a single signature inference. Disabling support for feedback tensors.\n",
      "W0000 00:00:1732251966.637537   10868 inference_feedback_manager.cc:114] Feedback manager requires a model with a single signature inference. Disabling support for feedback tensors.\n",
      "W0000 00:00:1732251966.640357   10870 inference_feedback_manager.cc:114] Feedback manager requires a model with a single signature inference. Disabling support for feedback tensors.\n",
      "I0000 00:00:1732251966.663685    8496 gl_context_egl.cc:85] Successfully initialized EGL. Major : 1 Minor: 5\n",
      "I0000 00:00:1732251966.664919   10900 gl_context.cc:357] GL version: 3.2 (OpenGL ES 3.2 Mesa 23.2.1-1ubuntu3.1~22.04.2), renderer: GFX1103_R1 (gfx1103_r1, LLVM 15.0.7, DRM 3.57, 6.8.0-48-generic)\n",
      "W0000 00:00:1732251966.713879   10886 inference_feedback_manager.cc:114] Feedback manager requires a model with a single signature inference. Disabling support for feedback tensors.\n",
      "W0000 00:00:1732251966.739174   10894 inference_feedback_manager.cc:114] Feedback manager requires a model with a single signature inference. Disabling support for feedback tensors.\n",
      "W0000 00:00:1732251966.740489   10888 inference_feedback_manager.cc:114] Feedback manager requires a model with a single signature inference. Disabling support for feedback tensors.\n",
      "W0000 00:00:1732251966.740626   10889 inference_feedback_manager.cc:114] Feedback manager requires a model with a single signature inference. Disabling support for feedback tensors.\n",
      "W0000 00:00:1732251966.741373   10893 inference_feedback_manager.cc:114] Feedback manager requires a model with a single signature inference. Disabling support for feedback tensors.\n",
      "W0000 00:00:1732251966.746707   10887 inference_feedback_manager.cc:114] Feedback manager requires a model with a single signature inference. Disabling support for feedback tensors.\n",
      "W0000 00:00:1732251966.755381   10890 inference_feedback_manager.cc:114] Feedback manager requires a model with a single signature inference. Disabling support for feedback tensors.\n",
      "W0000 00:00:1732251966.757751   10883 inference_feedback_manager.cc:114] Feedback manager requires a model with a single signature inference. Disabling support for feedback tensors.\n",
      "I0000 00:00:1732251966.776452    8496 gl_context_egl.cc:85] Successfully initialized EGL. Major : 1 Minor: 5\n",
      "I0000 00:00:1732251966.777654   10919 gl_context.cc:357] GL version: 3.2 (OpenGL ES 3.2 Mesa 23.2.1-1ubuntu3.1~22.04.2), renderer: GFX1103_R1 (gfx1103_r1, LLVM 15.0.7, DRM 3.57, 6.8.0-48-generic)\n"
     ]
    },
    {
     "name": "stdout",
     "output_type": "stream",
     "text": [
      "(33, 4)\n",
      "(468, 3)\n",
      "(21, 3)\n",
      "(21, 3)\n",
      "Numpy array for frame train/0/10/frames/10_78.png has been saved to train/0/10/points_arrays/10_78.npy\n",
      "(33, 4)\n",
      "(468, 3)\n",
      "(21, 3)\n",
      "(21, 3)\n",
      "Numpy array for frame train/0/10/frames/10_38.png has been saved to train/0/10/points_arrays/10_38.npy\n"
     ]
    },
    {
     "name": "stderr",
     "output_type": "stream",
     "text": [
      "W0000 00:00:1732251966.829490   10904 inference_feedback_manager.cc:114] Feedback manager requires a model with a single signature inference. Disabling support for feedback tensors.\n",
      "W0000 00:00:1732251966.854785   10906 inference_feedback_manager.cc:114] Feedback manager requires a model with a single signature inference. Disabling support for feedback tensors.\n",
      "W0000 00:00:1732251966.856153   10904 inference_feedback_manager.cc:114] Feedback manager requires a model with a single signature inference. Disabling support for feedback tensors.\n",
      "W0000 00:00:1732251966.856972   10901 inference_feedback_manager.cc:114] Feedback manager requires a model with a single signature inference. Disabling support for feedback tensors.\n",
      "W0000 00:00:1732251966.857696   10905 inference_feedback_manager.cc:114] Feedback manager requires a model with a single signature inference. Disabling support for feedback tensors.\n",
      "W0000 00:00:1732251966.864779   10902 inference_feedback_manager.cc:114] Feedback manager requires a model with a single signature inference. Disabling support for feedback tensors.\n",
      "W0000 00:00:1732251966.871532   10903 inference_feedback_manager.cc:114] Feedback manager requires a model with a single signature inference. Disabling support for feedback tensors.\n",
      "W0000 00:00:1732251966.871798   10914 inference_feedback_manager.cc:114] Feedback manager requires a model with a single signature inference. Disabling support for feedback tensors.\n",
      "I0000 00:00:1732251966.891178    8496 gl_context_egl.cc:85] Successfully initialized EGL. Major : 1 Minor: 5\n",
      "I0000 00:00:1732251966.892528   10938 gl_context.cc:357] GL version: 3.2 (OpenGL ES 3.2 Mesa 23.2.1-1ubuntu3.1~22.04.2), renderer: GFX1103_R1 (gfx1103_r1, LLVM 15.0.7, DRM 3.57, 6.8.0-48-generic)\n",
      "W0000 00:00:1732251966.947030   10930 inference_feedback_manager.cc:114] Feedback manager requires a model with a single signature inference. Disabling support for feedback tensors.\n",
      "W0000 00:00:1732251966.973387   10920 inference_feedback_manager.cc:114] Feedback manager requires a model with a single signature inference. Disabling support for feedback tensors.\n",
      "W0000 00:00:1732251966.974818   10935 inference_feedback_manager.cc:114] Feedback manager requires a model with a single signature inference. Disabling support for feedback tensors.\n",
      "W0000 00:00:1732251966.975313   10932 inference_feedback_manager.cc:114] Feedback manager requires a model with a single signature inference. Disabling support for feedback tensors.\n",
      "W0000 00:00:1732251966.976531   10926 inference_feedback_manager.cc:114] Feedback manager requires a model with a single signature inference. Disabling support for feedback tensors.\n",
      "W0000 00:00:1732251966.982025   10933 inference_feedback_manager.cc:114] Feedback manager requires a model with a single signature inference. Disabling support for feedback tensors.\n",
      "W0000 00:00:1732251966.989708   10934 inference_feedback_manager.cc:114] Feedback manager requires a model with a single signature inference. Disabling support for feedback tensors.\n",
      "W0000 00:00:1732251966.990511   10921 inference_feedback_manager.cc:114] Feedback manager requires a model with a single signature inference. Disabling support for feedback tensors.\n",
      "I0000 00:00:1732251967.011859    8496 gl_context_egl.cc:85] Successfully initialized EGL. Major : 1 Minor: 5\n",
      "I0000 00:00:1732251967.013694   10957 gl_context.cc:357] GL version: 3.2 (OpenGL ES 3.2 Mesa 23.2.1-1ubuntu3.1~22.04.2), renderer: GFX1103_R1 (gfx1103_r1, LLVM 15.0.7, DRM 3.57, 6.8.0-48-generic)\n"
     ]
    },
    {
     "name": "stdout",
     "output_type": "stream",
     "text": [
      "(33, 4)\n",
      "(468, 3)\n",
      "(21, 3)\n",
      "(21, 3)\n",
      "Numpy array for frame train/0/10/frames/10_63.png has been saved to train/0/10/points_arrays/10_63.npy\n",
      "(33, 4)\n",
      "(468, 3)\n",
      "(21, 3)\n",
      "(21, 3)\n",
      "Numpy array for frame train/0/10/frames/10_82.png has been saved to train/0/10/points_arrays/10_82.npy\n"
     ]
    },
    {
     "name": "stderr",
     "output_type": "stream",
     "text": [
      "W0000 00:00:1732251967.063828   10943 inference_feedback_manager.cc:114] Feedback manager requires a model with a single signature inference. Disabling support for feedback tensors.\n",
      "W0000 00:00:1732251967.090577   10948 inference_feedback_manager.cc:114] Feedback manager requires a model with a single signature inference. Disabling support for feedback tensors.\n",
      "W0000 00:00:1732251967.092313   10949 inference_feedback_manager.cc:114] Feedback manager requires a model with a single signature inference. Disabling support for feedback tensors.\n",
      "W0000 00:00:1732251967.092792   10941 inference_feedback_manager.cc:114] Feedback manager requires a model with a single signature inference. Disabling support for feedback tensors.\n",
      "W0000 00:00:1732251967.094100   10950 inference_feedback_manager.cc:114] Feedback manager requires a model with a single signature inference. Disabling support for feedback tensors.\n",
      "W0000 00:00:1732251967.100170   10953 inference_feedback_manager.cc:114] Feedback manager requires a model with a single signature inference. Disabling support for feedback tensors.\n",
      "W0000 00:00:1732251967.107931   10951 inference_feedback_manager.cc:114] Feedback manager requires a model with a single signature inference. Disabling support for feedback tensors.\n",
      "W0000 00:00:1732251967.109831   10940 inference_feedback_manager.cc:114] Feedback manager requires a model with a single signature inference. Disabling support for feedback tensors.\n",
      "I0000 00:00:1732251967.129222    8496 gl_context_egl.cc:85] Successfully initialized EGL. Major : 1 Minor: 5\n",
      "I0000 00:00:1732251967.130557   10976 gl_context.cc:357] GL version: 3.2 (OpenGL ES 3.2 Mesa 23.2.1-1ubuntu3.1~22.04.2), renderer: GFX1103_R1 (gfx1103_r1, LLVM 15.0.7, DRM 3.57, 6.8.0-48-generic)\n",
      "W0000 00:00:1732251967.180169   10960 inference_feedback_manager.cc:114] Feedback manager requires a model with a single signature inference. Disabling support for feedback tensors.\n",
      "W0000 00:00:1732251967.205646   10962 inference_feedback_manager.cc:114] Feedback manager requires a model with a single signature inference. Disabling support for feedback tensors.\n",
      "W0000 00:00:1732251967.207066   10959 inference_feedback_manager.cc:114] Feedback manager requires a model with a single signature inference. Disabling support for feedback tensors.\n",
      "W0000 00:00:1732251967.208039   10966 inference_feedback_manager.cc:114] Feedback manager requires a model with a single signature inference. Disabling support for feedback tensors.\n",
      "W0000 00:00:1732251967.208309   10962 inference_feedback_manager.cc:114] Feedback manager requires a model with a single signature inference. Disabling support for feedback tensors.\n",
      "W0000 00:00:1732251967.215702   10970 inference_feedback_manager.cc:114] Feedback manager requires a model with a single signature inference. Disabling support for feedback tensors.\n",
      "W0000 00:00:1732251967.220389   10961 inference_feedback_manager.cc:114] Feedback manager requires a model with a single signature inference. Disabling support for feedback tensors.\n",
      "W0000 00:00:1732251967.224812   10973 inference_feedback_manager.cc:114] Feedback manager requires a model with a single signature inference. Disabling support for feedback tensors.\n",
      "I0000 00:00:1732251967.244056    8496 gl_context_egl.cc:85] Successfully initialized EGL. Major : 1 Minor: 5\n",
      "I0000 00:00:1732251967.245841   10995 gl_context.cc:357] GL version: 3.2 (OpenGL ES 3.2 Mesa 23.2.1-1ubuntu3.1~22.04.2), renderer: GFX1103_R1 (gfx1103_r1, LLVM 15.0.7, DRM 3.57, 6.8.0-48-generic)\n"
     ]
    },
    {
     "name": "stdout",
     "output_type": "stream",
     "text": [
      "(33, 4)\n",
      "(468, 3)\n",
      "(21, 3)\n",
      "(21, 3)\n",
      "Numpy array for frame train/0/10/frames/10_67.png has been saved to train/0/10/points_arrays/10_67.npy\n",
      "(33, 4)\n",
      "(468, 3)\n",
      "(21, 3)\n",
      "(21, 3)\n",
      "Numpy array for frame train/0/10/frames/10_52.png has been saved to train/0/10/points_arrays/10_52.npy\n"
     ]
    },
    {
     "name": "stderr",
     "output_type": "stream",
     "text": [
      "W0000 00:00:1732251967.300742   10980 inference_feedback_manager.cc:114] Feedback manager requires a model with a single signature inference. Disabling support for feedback tensors.\n",
      "W0000 00:00:1732251967.324164   10983 inference_feedback_manager.cc:114] Feedback manager requires a model with a single signature inference. Disabling support for feedback tensors.\n",
      "W0000 00:00:1732251967.325417   10981 inference_feedback_manager.cc:114] Feedback manager requires a model with a single signature inference. Disabling support for feedback tensors.\n",
      "W0000 00:00:1732251967.325563   10977 inference_feedback_manager.cc:114] Feedback manager requires a model with a single signature inference. Disabling support for feedback tensors.\n",
      "W0000 00:00:1732251967.326929   10985 inference_feedback_manager.cc:114] Feedback manager requires a model with a single signature inference. Disabling support for feedback tensors.\n",
      "W0000 00:00:1732251967.332928   10980 inference_feedback_manager.cc:114] Feedback manager requires a model with a single signature inference. Disabling support for feedback tensors.\n",
      "W0000 00:00:1732251967.340520   10989 inference_feedback_manager.cc:114] Feedback manager requires a model with a single signature inference. Disabling support for feedback tensors.\n",
      "W0000 00:00:1732251967.343392   10986 inference_feedback_manager.cc:114] Feedback manager requires a model with a single signature inference. Disabling support for feedback tensors.\n",
      "I0000 00:00:1732251967.362987    8496 gl_context_egl.cc:85] Successfully initialized EGL. Major : 1 Minor: 5\n",
      "I0000 00:00:1732251967.364105   11014 gl_context.cc:357] GL version: 3.2 (OpenGL ES 3.2 Mesa 23.2.1-1ubuntu3.1~22.04.2), renderer: GFX1103_R1 (gfx1103_r1, LLVM 15.0.7, DRM 3.57, 6.8.0-48-generic)\n",
      "W0000 00:00:1732251967.417330   10999 inference_feedback_manager.cc:114] Feedback manager requires a model with a single signature inference. Disabling support for feedback tensors.\n",
      "W0000 00:00:1732251967.445240   11010 inference_feedback_manager.cc:114] Feedback manager requires a model with a single signature inference. Disabling support for feedback tensors.\n",
      "W0000 00:00:1732251967.446505   11000 inference_feedback_manager.cc:114] Feedback manager requires a model with a single signature inference. Disabling support for feedback tensors.\n",
      "W0000 00:00:1732251967.446515   11002 inference_feedback_manager.cc:114] Feedback manager requires a model with a single signature inference. Disabling support for feedback tensors.\n",
      "W0000 00:00:1732251967.447116   11008 inference_feedback_manager.cc:114] Feedback manager requires a model with a single signature inference. Disabling support for feedback tensors.\n",
      "W0000 00:00:1732251967.453946   10999 inference_feedback_manager.cc:114] Feedback manager requires a model with a single signature inference. Disabling support for feedback tensors.\n",
      "W0000 00:00:1732251967.461291   11000 inference_feedback_manager.cc:114] Feedback manager requires a model with a single signature inference. Disabling support for feedback tensors.\n",
      "W0000 00:00:1732251967.463466   11004 inference_feedback_manager.cc:114] Feedback manager requires a model with a single signature inference. Disabling support for feedback tensors.\n",
      "I0000 00:00:1732251967.489100    8496 gl_context_egl.cc:85] Successfully initialized EGL. Major : 1 Minor: 5\n",
      "I0000 00:00:1732251967.490274   11033 gl_context.cc:357] GL version: 3.2 (OpenGL ES 3.2 Mesa 23.2.1-1ubuntu3.1~22.04.2), renderer: GFX1103_R1 (gfx1103_r1, LLVM 15.0.7, DRM 3.57, 6.8.0-48-generic)\n"
     ]
    },
    {
     "name": "stdout",
     "output_type": "stream",
     "text": [
      "(33, 4)\n",
      "(468, 3)\n",
      "(21, 3)\n",
      "(21, 3)\n",
      "Numpy array for frame train/0/10/frames/10_46.png has been saved to train/0/10/points_arrays/10_46.npy\n",
      "(33, 4)\n",
      "(468, 3)\n",
      "(21, 3)\n",
      "(21, 3)\n",
      "Numpy array for frame train/0/10/frames/10_61.png has been saved to train/0/10/points_arrays/10_61.npy\n"
     ]
    },
    {
     "name": "stderr",
     "output_type": "stream",
     "text": [
      "W0000 00:00:1732251967.547661   11016 inference_feedback_manager.cc:114] Feedback manager requires a model with a single signature inference. Disabling support for feedback tensors.\n",
      "W0000 00:00:1732251967.573381   11022 inference_feedback_manager.cc:114] Feedback manager requires a model with a single signature inference. Disabling support for feedback tensors.\n",
      "W0000 00:00:1732251967.574490   11019 inference_feedback_manager.cc:114] Feedback manager requires a model with a single signature inference. Disabling support for feedback tensors.\n",
      "W0000 00:00:1732251967.575126   11023 inference_feedback_manager.cc:114] Feedback manager requires a model with a single signature inference. Disabling support for feedback tensors.\n",
      "W0000 00:00:1732251967.575709   11015 inference_feedback_manager.cc:114] Feedback manager requires a model with a single signature inference. Disabling support for feedback tensors.\n",
      "W0000 00:00:1732251967.583503   11030 inference_feedback_manager.cc:114] Feedback manager requires a model with a single signature inference. Disabling support for feedback tensors.\n",
      "W0000 00:00:1732251967.587034   11018 inference_feedback_manager.cc:114] Feedback manager requires a model with a single signature inference. Disabling support for feedback tensors.\n",
      "W0000 00:00:1732251967.591757   11022 inference_feedback_manager.cc:114] Feedback manager requires a model with a single signature inference. Disabling support for feedback tensors.\n",
      "I0000 00:00:1732251967.610332    8496 gl_context_egl.cc:85] Successfully initialized EGL. Major : 1 Minor: 5\n",
      "I0000 00:00:1732251967.612674   11052 gl_context.cc:357] GL version: 3.2 (OpenGL ES 3.2 Mesa 23.2.1-1ubuntu3.1~22.04.2), renderer: GFX1103_R1 (gfx1103_r1, LLVM 15.0.7, DRM 3.57, 6.8.0-48-generic)\n",
      "W0000 00:00:1732251967.659425   11036 inference_feedback_manager.cc:114] Feedback manager requires a model with a single signature inference. Disabling support for feedback tensors.\n",
      "W0000 00:00:1732251967.683834   11038 inference_feedback_manager.cc:114] Feedback manager requires a model with a single signature inference. Disabling support for feedback tensors.\n",
      "W0000 00:00:1732251967.685746   11037 inference_feedback_manager.cc:114] Feedback manager requires a model with a single signature inference. Disabling support for feedback tensors.\n",
      "W0000 00:00:1732251967.686430   11042 inference_feedback_manager.cc:114] Feedback manager requires a model with a single signature inference. Disabling support for feedback tensors.\n",
      "W0000 00:00:1732251967.686906   11043 inference_feedback_manager.cc:114] Feedback manager requires a model with a single signature inference. Disabling support for feedback tensors.\n",
      "W0000 00:00:1732251967.690572   11040 inference_feedback_manager.cc:114] Feedback manager requires a model with a single signature inference. Disabling support for feedback tensors.\n",
      "W0000 00:00:1732251967.702953   11045 inference_feedback_manager.cc:114] Feedback manager requires a model with a single signature inference. Disabling support for feedback tensors.\n",
      "W0000 00:00:1732251967.704396   11038 inference_feedback_manager.cc:114] Feedback manager requires a model with a single signature inference. Disabling support for feedback tensors.\n",
      "I0000 00:00:1732251967.722997    8496 gl_context_egl.cc:85] Successfully initialized EGL. Major : 1 Minor: 5\n",
      "I0000 00:00:1732251967.724200   11071 gl_context.cc:357] GL version: 3.2 (OpenGL ES 3.2 Mesa 23.2.1-1ubuntu3.1~22.04.2), renderer: GFX1103_R1 (gfx1103_r1, LLVM 15.0.7, DRM 3.57, 6.8.0-48-generic)\n"
     ]
    },
    {
     "name": "stdout",
     "output_type": "stream",
     "text": [
      "(33, 4)\n",
      "(468, 3)\n",
      "(21, 3)\n",
      "(21, 3)\n",
      "Numpy array for frame train/0/10/frames/10_43.png has been saved to train/0/10/points_arrays/10_43.npy\n",
      "(33, 4)\n",
      "(468, 3)\n",
      "(21, 3)\n",
      "(21, 3)\n",
      "Numpy array for frame train/0/10/frames/10_74.png has been saved to train/0/10/points_arrays/10_74.npy\n"
     ]
    },
    {
     "name": "stderr",
     "output_type": "stream",
     "text": [
      "W0000 00:00:1732251967.781233   11054 inference_feedback_manager.cc:114] Feedback manager requires a model with a single signature inference. Disabling support for feedback tensors.\n",
      "W0000 00:00:1732251967.807106   11066 inference_feedback_manager.cc:114] Feedback manager requires a model with a single signature inference. Disabling support for feedback tensors.\n",
      "W0000 00:00:1732251967.808371   11068 inference_feedback_manager.cc:114] Feedback manager requires a model with a single signature inference. Disabling support for feedback tensors.\n",
      "W0000 00:00:1732251967.809084   11055 inference_feedback_manager.cc:114] Feedback manager requires a model with a single signature inference. Disabling support for feedback tensors.\n",
      "W0000 00:00:1732251967.809925   11062 inference_feedback_manager.cc:114] Feedback manager requires a model with a single signature inference. Disabling support for feedback tensors.\n",
      "W0000 00:00:1732251967.817874   11053 inference_feedback_manager.cc:114] Feedback manager requires a model with a single signature inference. Disabling support for feedback tensors.\n",
      "W0000 00:00:1732251967.820859   11057 inference_feedback_manager.cc:114] Feedback manager requires a model with a single signature inference. Disabling support for feedback tensors.\n",
      "W0000 00:00:1732251967.826618   11059 inference_feedback_manager.cc:114] Feedback manager requires a model with a single signature inference. Disabling support for feedback tensors.\n",
      "I0000 00:00:1732251967.845522    8496 gl_context_egl.cc:85] Successfully initialized EGL. Major : 1 Minor: 5\n",
      "I0000 00:00:1732251967.846713   11090 gl_context.cc:357] GL version: 3.2 (OpenGL ES 3.2 Mesa 23.2.1-1ubuntu3.1~22.04.2), renderer: GFX1103_R1 (gfx1103_r1, LLVM 15.0.7, DRM 3.57, 6.8.0-48-generic)\n",
      "W0000 00:00:1732251967.894074   11073 inference_feedback_manager.cc:114] Feedback manager requires a model with a single signature inference. Disabling support for feedback tensors.\n",
      "W0000 00:00:1732251967.923948   11075 inference_feedback_manager.cc:114] Feedback manager requires a model with a single signature inference. Disabling support for feedback tensors.\n",
      "W0000 00:00:1732251967.925375   11083 inference_feedback_manager.cc:114] Feedback manager requires a model with a single signature inference. Disabling support for feedback tensors.\n",
      "W0000 00:00:1732251967.925483   11078 inference_feedback_manager.cc:114] Feedback manager requires a model with a single signature inference. Disabling support for feedback tensors.\n",
      "W0000 00:00:1732251967.926942   11081 inference_feedback_manager.cc:114] Feedback manager requires a model with a single signature inference. Disabling support for feedback tensors.\n",
      "W0000 00:00:1732251967.933893   11082 inference_feedback_manager.cc:114] Feedback manager requires a model with a single signature inference. Disabling support for feedback tensors.\n",
      "W0000 00:00:1732251967.940039   11074 inference_feedback_manager.cc:114] Feedback manager requires a model with a single signature inference. Disabling support for feedback tensors.\n",
      "W0000 00:00:1732251967.942746   11077 inference_feedback_manager.cc:114] Feedback manager requires a model with a single signature inference. Disabling support for feedback tensors.\n",
      "I0000 00:00:1732251967.962685    8496 gl_context_egl.cc:85] Successfully initialized EGL. Major : 1 Minor: 5\n",
      "I0000 00:00:1732251967.963944   11109 gl_context.cc:357] GL version: 3.2 (OpenGL ES 3.2 Mesa 23.2.1-1ubuntu3.1~22.04.2), renderer: GFX1103_R1 (gfx1103_r1, LLVM 15.0.7, DRM 3.57, 6.8.0-48-generic)\n"
     ]
    },
    {
     "name": "stdout",
     "output_type": "stream",
     "text": [
      "(33, 4)\n",
      "(468, 3)\n",
      "(21, 3)\n",
      "(21, 3)\n",
      "Numpy array for frame train/0/10/frames/10_48.png has been saved to train/0/10/points_arrays/10_48.npy\n",
      "(33, 4)\n",
      "(468, 3)\n",
      "(21, 3)\n",
      "(21, 3)\n",
      "Numpy array for frame train/0/10/frames/10_32.png has been saved to train/0/10/points_arrays/10_32.npy\n"
     ]
    },
    {
     "name": "stderr",
     "output_type": "stream",
     "text": [
      "W0000 00:00:1732251968.019126   11091 inference_feedback_manager.cc:114] Feedback manager requires a model with a single signature inference. Disabling support for feedback tensors.\n",
      "W0000 00:00:1732251968.046641   11096 inference_feedback_manager.cc:114] Feedback manager requires a model with a single signature inference. Disabling support for feedback tensors.\n",
      "W0000 00:00:1732251968.050362   11098 inference_feedback_manager.cc:114] Feedback manager requires a model with a single signature inference. Disabling support for feedback tensors.\n",
      "W0000 00:00:1732251968.050585   11091 inference_feedback_manager.cc:114] Feedback manager requires a model with a single signature inference. Disabling support for feedback tensors.\n",
      "W0000 00:00:1732251968.051004   11099 inference_feedback_manager.cc:114] Feedback manager requires a model with a single signature inference. Disabling support for feedback tensors.\n",
      "W0000 00:00:1732251968.062065   11091 inference_feedback_manager.cc:114] Feedback manager requires a model with a single signature inference. Disabling support for feedback tensors.\n",
      "W0000 00:00:1732251968.067885   11105 inference_feedback_manager.cc:114] Feedback manager requires a model with a single signature inference. Disabling support for feedback tensors.\n",
      "W0000 00:00:1732251968.068179   11095 inference_feedback_manager.cc:114] Feedback manager requires a model with a single signature inference. Disabling support for feedback tensors.\n",
      "I0000 00:00:1732251968.087443    8496 gl_context_egl.cc:85] Successfully initialized EGL. Major : 1 Minor: 5\n",
      "I0000 00:00:1732251968.088767   11128 gl_context.cc:357] GL version: 3.2 (OpenGL ES 3.2 Mesa 23.2.1-1ubuntu3.1~22.04.2), renderer: GFX1103_R1 (gfx1103_r1, LLVM 15.0.7, DRM 3.57, 6.8.0-48-generic)\n",
      "W0000 00:00:1732251968.151605   11111 inference_feedback_manager.cc:114] Feedback manager requires a model with a single signature inference. Disabling support for feedback tensors.\n",
      "W0000 00:00:1732251968.178231   11119 inference_feedback_manager.cc:114] Feedback manager requires a model with a single signature inference. Disabling support for feedback tensors.\n",
      "W0000 00:00:1732251968.179562   11115 inference_feedback_manager.cc:114] Feedback manager requires a model with a single signature inference. Disabling support for feedback tensors.\n",
      "W0000 00:00:1732251968.182137   11125 inference_feedback_manager.cc:114] Feedback manager requires a model with a single signature inference. Disabling support for feedback tensors.\n",
      "W0000 00:00:1732251968.182135   11114 inference_feedback_manager.cc:114] Feedback manager requires a model with a single signature inference. Disabling support for feedback tensors.\n",
      "W0000 00:00:1732251968.190509   11119 inference_feedback_manager.cc:114] Feedback manager requires a model with a single signature inference. Disabling support for feedback tensors.\n",
      "W0000 00:00:1732251968.198100   11123 inference_feedback_manager.cc:114] Feedback manager requires a model with a single signature inference. Disabling support for feedback tensors.\n",
      "W0000 00:00:1732251968.198604   11110 inference_feedback_manager.cc:114] Feedback manager requires a model with a single signature inference. Disabling support for feedback tensors.\n"
     ]
    },
    {
     "name": "stdout",
     "output_type": "stream",
     "text": [
      "(33, 4)\n",
      "(468, 3)\n",
      "(21, 3)\n",
      "(21, 3)\n",
      "Numpy array for frame train/0/10/frames/10_59.png has been saved to train/0/10/points_arrays/10_59.npy\n",
      "(33, 4)\n",
      "(468, 3)\n",
      "(21, 3)\n",
      "(21, 3)\n",
      "Numpy array for frame train/0/10/frames/10_62.png has been saved to train/0/10/points_arrays/10_62.npy\n"
     ]
    },
    {
     "name": "stderr",
     "output_type": "stream",
     "text": [
      "I0000 00:00:1732251968.221637    8496 gl_context_egl.cc:85] Successfully initialized EGL. Major : 1 Minor: 5\n",
      "I0000 00:00:1732251968.222874   11147 gl_context.cc:357] GL version: 3.2 (OpenGL ES 3.2 Mesa 23.2.1-1ubuntu3.1~22.04.2), renderer: GFX1103_R1 (gfx1103_r1, LLVM 15.0.7, DRM 3.57, 6.8.0-48-generic)\n",
      "W0000 00:00:1732251968.274186   11131 inference_feedback_manager.cc:114] Feedback manager requires a model with a single signature inference. Disabling support for feedback tensors.\n",
      "W0000 00:00:1732251968.304598   11135 inference_feedback_manager.cc:114] Feedback manager requires a model with a single signature inference. Disabling support for feedback tensors.\n",
      "W0000 00:00:1732251968.306428   11131 inference_feedback_manager.cc:114] Feedback manager requires a model with a single signature inference. Disabling support for feedback tensors.\n",
      "W0000 00:00:1732251968.307238   11143 inference_feedback_manager.cc:114] Feedback manager requires a model with a single signature inference. Disabling support for feedback tensors.\n",
      "W0000 00:00:1732251968.308196   11135 inference_feedback_manager.cc:114] Feedback manager requires a model with a single signature inference. Disabling support for feedback tensors.\n",
      "W0000 00:00:1732251968.315939   11142 inference_feedback_manager.cc:114] Feedback manager requires a model with a single signature inference. Disabling support for feedback tensors.\n",
      "W0000 00:00:1732251968.321912   11141 inference_feedback_manager.cc:114] Feedback manager requires a model with a single signature inference. Disabling support for feedback tensors.\n",
      "W0000 00:00:1732251968.330327   11130 inference_feedback_manager.cc:114] Feedback manager requires a model with a single signature inference. Disabling support for feedback tensors.\n",
      "I0000 00:00:1732251968.353729    8496 gl_context_egl.cc:85] Successfully initialized EGL. Major : 1 Minor: 5\n",
      "I0000 00:00:1732251968.355115   11166 gl_context.cc:357] GL version: 3.2 (OpenGL ES 3.2 Mesa 23.2.1-1ubuntu3.1~22.04.2), renderer: GFX1103_R1 (gfx1103_r1, LLVM 15.0.7, DRM 3.57, 6.8.0-48-generic)\n",
      "W0000 00:00:1732251968.410879   11151 inference_feedback_manager.cc:114] Feedback manager requires a model with a single signature inference. Disabling support for feedback tensors.\n",
      "W0000 00:00:1732251968.441946   11163 inference_feedback_manager.cc:114] Feedback manager requires a model with a single signature inference. Disabling support for feedback tensors.\n",
      "W0000 00:00:1732251968.443520   11150 inference_feedback_manager.cc:114] Feedback manager requires a model with a single signature inference. Disabling support for feedback tensors.\n",
      "W0000 00:00:1732251968.444254   11149 inference_feedback_manager.cc:114] Feedback manager requires a model with a single signature inference. Disabling support for feedback tensors.\n",
      "W0000 00:00:1732251968.444489   11155 inference_feedback_manager.cc:114] Feedback manager requires a model with a single signature inference. Disabling support for feedback tensors.\n",
      "W0000 00:00:1732251968.449951   11156 inference_feedback_manager.cc:114] Feedback manager requires a model with a single signature inference. Disabling support for feedback tensors.\n",
      "W0000 00:00:1732251968.463144   11157 inference_feedback_manager.cc:114] Feedback manager requires a model with a single signature inference. Disabling support for feedback tensors.\n",
      "W0000 00:00:1732251968.463309   11158 inference_feedback_manager.cc:114] Feedback manager requires a model with a single signature inference. Disabling support for feedback tensors.\n",
      "I0000 00:00:1732251968.487419    8496 gl_context_egl.cc:85] Successfully initialized EGL. Major : 1 Minor: 5\n",
      "I0000 00:00:1732251968.489166   11185 gl_context.cc:357] GL version: 3.2 (OpenGL ES 3.2 Mesa 23.2.1-1ubuntu3.1~22.04.2), renderer: GFX1103_R1 (gfx1103_r1, LLVM 15.0.7, DRM 3.57, 6.8.0-48-generic)\n",
      "W0000 00:00:1732251968.543162   11172 inference_feedback_manager.cc:114] Feedback manager requires a model with a single signature inference. Disabling support for feedback tensors.\n",
      "W0000 00:00:1732251968.573487   11176 inference_feedback_manager.cc:114] Feedback manager requires a model with a single signature inference. Disabling support for feedback tensors.\n",
      "W0000 00:00:1732251968.575681   11171 inference_feedback_manager.cc:114] Feedback manager requires a model with a single signature inference. Disabling support for feedback tensors.\n",
      "W0000 00:00:1732251968.576178   11180 inference_feedback_manager.cc:114] Feedback manager requires a model with a single signature inference. Disabling support for feedback tensors.\n",
      "W0000 00:00:1732251968.577482   11181 inference_feedback_manager.cc:114] Feedback manager requires a model with a single signature inference. Disabling support for feedback tensors.\n",
      "W0000 00:00:1732251968.582730   11169 inference_feedback_manager.cc:114] Feedback manager requires a model with a single signature inference. Disabling support for feedback tensors.\n",
      "W0000 00:00:1732251968.589825   11177 inference_feedback_manager.cc:114] Feedback manager requires a model with a single signature inference. Disabling support for feedback tensors.\n",
      "W0000 00:00:1732251968.593044   11178 inference_feedback_manager.cc:114] Feedback manager requires a model with a single signature inference. Disabling support for feedback tensors.\n",
      "I0000 00:00:1732251968.618591    8496 gl_context_egl.cc:85] Successfully initialized EGL. Major : 1 Minor: 5\n",
      "I0000 00:00:1732251968.620032   11204 gl_context.cc:357] GL version: 3.2 (OpenGL ES 3.2 Mesa 23.2.1-1ubuntu3.1~22.04.2), renderer: GFX1103_R1 (gfx1103_r1, LLVM 15.0.7, DRM 3.57, 6.8.0-48-generic)\n"
     ]
    },
    {
     "name": "stdout",
     "output_type": "stream",
     "text": [
      "(33, 4)\n",
      "(468, 3)\n",
      "(21, 3)\n",
      "(21, 3)\n",
      "Numpy array for frame train/0/10/frames/10_80.png has been saved to train/0/10/points_arrays/10_80.npy\n",
      "(33, 4)\n",
      "(468, 3)\n",
      "(21, 3)\n",
      "(21, 3)\n",
      "Numpy array for frame train/0/10/frames/10_76.png has been saved to train/0/10/points_arrays/10_76.npy\n",
      "No directory called train/0/28/points_arrays/. Creating one now\n"
     ]
    },
    {
     "name": "stderr",
     "output_type": "stream",
     "text": [
      "W0000 00:00:1732251968.672269   11190 inference_feedback_manager.cc:114] Feedback manager requires a model with a single signature inference. Disabling support for feedback tensors.\n",
      "W0000 00:00:1732251968.701991   11186 inference_feedback_manager.cc:114] Feedback manager requires a model with a single signature inference. Disabling support for feedback tensors.\n",
      "W0000 00:00:1732251968.703635   11196 inference_feedback_manager.cc:114] Feedback manager requires a model with a single signature inference. Disabling support for feedback tensors.\n",
      "W0000 00:00:1732251968.703635   11194 inference_feedback_manager.cc:114] Feedback manager requires a model with a single signature inference. Disabling support for feedback tensors.\n",
      "W0000 00:00:1732251968.703839   11187 inference_feedback_manager.cc:114] Feedback manager requires a model with a single signature inference. Disabling support for feedback tensors.\n",
      "W0000 00:00:1732251968.709326   11192 inference_feedback_manager.cc:114] Feedback manager requires a model with a single signature inference. Disabling support for feedback tensors.\n",
      "W0000 00:00:1732251968.717539   11200 inference_feedback_manager.cc:114] Feedback manager requires a model with a single signature inference. Disabling support for feedback tensors.\n",
      "W0000 00:00:1732251968.721988   11197 inference_feedback_manager.cc:114] Feedback manager requires a model with a single signature inference. Disabling support for feedback tensors.\n",
      "I0000 00:00:1732251968.740830    8496 gl_context_egl.cc:85] Successfully initialized EGL. Major : 1 Minor: 5\n",
      "I0000 00:00:1732251968.742198   11223 gl_context.cc:357] GL version: 3.2 (OpenGL ES 3.2 Mesa 23.2.1-1ubuntu3.1~22.04.2), renderer: GFX1103_R1 (gfx1103_r1, LLVM 15.0.7, DRM 3.57, 6.8.0-48-generic)\n",
      "W0000 00:00:1732251968.797493   11207 inference_feedback_manager.cc:114] Feedback manager requires a model with a single signature inference. Disabling support for feedback tensors.\n",
      "W0000 00:00:1732251968.830095   11209 inference_feedback_manager.cc:114] Feedback manager requires a model with a single signature inference. Disabling support for feedback tensors.\n",
      "W0000 00:00:1732251968.834864   11208 inference_feedback_manager.cc:114] Feedback manager requires a model with a single signature inference. Disabling support for feedback tensors.\n",
      "W0000 00:00:1732251968.836356   11210 inference_feedback_manager.cc:114] Feedback manager requires a model with a single signature inference. Disabling support for feedback tensors.\n",
      "W0000 00:00:1732251968.836553   11206 inference_feedback_manager.cc:114] Feedback manager requires a model with a single signature inference. Disabling support for feedback tensors.\n",
      "W0000 00:00:1732251968.848915   11212 inference_feedback_manager.cc:114] Feedback manager requires a model with a single signature inference. Disabling support for feedback tensors.\n",
      "W0000 00:00:1732251968.858320   11213 inference_feedback_manager.cc:114] Feedback manager requires a model with a single signature inference. Disabling support for feedback tensors.\n",
      "W0000 00:00:1732251968.861049   11217 inference_feedback_manager.cc:114] Feedback manager requires a model with a single signature inference. Disabling support for feedback tensors.\n"
     ]
    },
    {
     "name": "stdout",
     "output_type": "stream",
     "text": [
      "(33, 4)\n",
      "(468, 3)\n",
      "(21, 3)\n",
      "(21, 3)\n",
      "Numpy array for frame train/0/28/frames/28_23.png has been saved to train/0/28/points_arrays/28_23.npy\n",
      "(33, 4)\n",
      "(468, 3)\n",
      "(21, 3)\n",
      "(21, 3)\n",
      "Numpy array for frame train/0/28/frames/28_70.png has been saved to train/0/28/points_arrays/28_70.npy\n"
     ]
    },
    {
     "ename": "",
     "evalue": "",
     "output_type": "error",
     "traceback": [
      "\u001b[1;31mThe Kernel crashed while executing code in the current cell or a previous cell. \n",
      "\u001b[1;31mPlease review the code in the cell(s) to identify a possible cause of the failure. \n",
      "\u001b[1;31mClick <a href='https://aka.ms/vscodeJupyterKernelCrash'>here</a> for more info. \n",
      "\u001b[1;31mView Jupyter <a href='command:jupyter.viewOutput'>log</a> for further details."
     ]
    }
   ],
   "source": [
    "count_lm_saved = words_frames_to_points()"
   ]
  },
  {
   "cell_type": "code",
   "execution_count": null,
   "metadata": {},
   "outputs": [],
   "source": []
  }
 ],
 "metadata": {
  "kernelspec": {
   "display_name": "ece5831-2024",
   "language": "python",
   "name": "python3"
  },
  "language_info": {
   "codemirror_mode": {
    "name": "ipython",
    "version": 3
   },
   "file_extension": ".py",
   "mimetype": "text/x-python",
   "name": "python",
   "nbconvert_exporter": "python",
   "pygments_lexer": "ipython3",
   "version": "3.10.15"
  }
 },
 "nbformat": 4,
 "nbformat_minor": 2
}
