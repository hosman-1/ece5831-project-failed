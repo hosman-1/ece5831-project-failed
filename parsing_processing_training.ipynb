{
 "cells": [
  {
   "cell_type": "markdown",
   "metadata": {},
   "source": [
    "# WLASL (World Level American Sign Language)"
   ]
  },
  {
   "cell_type": "markdown",
   "metadata": {},
   "source": [
    "I am using a dataset that I downloaded from Kaggle. This dataset has 2,000 words, and over 20,000 videos of these 2,000 words in total."
   ]
  },
  {
   "cell_type": "markdown",
   "metadata": {},
   "source": [
    "## JSON Parsing and Organizing Videos/Frames"
   ]
  },
  {
   "cell_type": "markdown",
   "metadata": {},
   "source": [
    "The video names represent the video-id of that video. To find out what word the video is showing, I have to find the video ID in the WLASL_v0.3.json file and see what word that video ID belongs to. The structure of the json file is as follows:\n",
    "\n",
    "```\n",
    "[\n",
    "    {\n",
    "        \"gloss\": \"<word>\",\n",
    "        \"instances\": [\n",
    "            {\n",
    "                ...,\n",
    "                ...,\n",
    "                ...,\n",
    "                \"video_id\": \"<video_id_num>\"\n",
    "            },\n",
    "            {\n",
    "                ...,\n",
    "                ...,\n",
    "                ...,\n",
    "                \"video_id\": \"video_id_num\"\n",
    "            },\n",
    "            ...\n",
    "        ]\n",
    "    },\n",
    "    {\n",
    "        \"gloss\": \"<word>\",\n",
    "        \"instances\": [\n",
    "            {\n",
    "                ...,\n",
    "                ...,\n",
    "                ...,\n",
    "                \"video_id\": \"<video_id_num>\"\n",
    "            },\n",
    "            ...\n",
    "        ]\n",
    "    },\n",
    "    ...\n",
    "]\n",
    "```"
   ]
  },
  {
   "cell_type": "markdown",
   "metadata": {},
   "source": [
    "To read and parse through json files, there is a json module that is downloaded alongside python. I will use this to parse through the json file and organize all the videos into their own directory in one of the three splits: Train, Test, or Validation. In addition, each video will be split into individual frames and the frames will be saved as png images. The final directory structure will look like:\n",
    "```\n",
    "/Videos\n",
    "|--<split_type>\n",
    "|   |--<word_id>\n",
    "|   |   |--<word_id>-<instance_id>\n",
    "|   |   |   |--<word_id>-<instance_id>-<frame_num>.png\n",
    "|   |   |   |--<word_id>-<instance_id>-<frame_num>.png\n",
    "|   |   |   ...\n",
    "|   |   |--<word_id>-<instance_id>\n",
    "|   |   |   |--<word_id>-<instance_id>-<frame_num>.png\n",
    "|   |   |   |--<word_id>-<instance_id>-<frame_num>.png\n",
    "|   |   |   ...\n",
    "|   |   ...\n",
    "|   |--<word_id>\n",
    "|   ...\n",
    "|...\n",
    "```"
   ]
  },
  {
   "cell_type": "code",
   "execution_count": 2,
   "metadata": {},
   "outputs": [],
   "source": [
    "import json"
   ]
  },
  {
   "cell_type": "markdown",
   "metadata": {},
   "source": [
    "Next, I will load the json file as an object. This will make it easy to work with in python."
   ]
  },
  {
   "cell_type": "code",
   "execution_count": 3,
   "metadata": {},
   "outputs": [],
   "source": [
    "with open('WLASL/WLASL_v0.3.json', 'r') as file:\n",
    "    data = json.load(file)"
   ]
  },
  {
   "cell_type": "markdown",
   "metadata": {},
   "source": [
    "The json file is now loaded as an object in python"
   ]
  },
  {
   "cell_type": "markdown",
   "metadata": {},
   "source": [
    "Now I will test out how this json module works and how to parse the different properties I need."
   ]
  },
  {
   "cell_type": "markdown",
   "metadata": {},
   "source": [
    "The bracket character [] represents a list, and the curly brackets {} represent objects that have name:value pairs.\n",
    "\n",
    "The json file starts with [], which is a list of objects. Each object has a word and another list for all the instances of that word. Each instance is an object that has name:value pairs for that instance such as: video URL, video id, start time, end time, fps, and more."
   ]
  },
  {
   "cell_type": "markdown",
   "metadata": {},
   "source": [
    "The object for the first word can be accessed by accessing the first element of the list in the data json object:"
   ]
  },
  {
   "cell_type": "code",
   "execution_count": 4,
   "metadata": {},
   "outputs": [
    {
     "data": {
      "text/plain": [
       "{'gloss': 'book',\n",
       " 'instances': [{'bbox': [385, 37, 885, 720],\n",
       "   'fps': 25,\n",
       "   'frame_end': -1,\n",
       "   'frame_start': 1,\n",
       "   'instance_id': 0,\n",
       "   'signer_id': 118,\n",
       "   'source': 'aslbrick',\n",
       "   'split': 'train',\n",
       "   'url': 'http://aslbricks.org/New/ASL-Videos/book.mp4',\n",
       "   'variation_id': 0,\n",
       "   'video_id': '69241'},\n",
       "  {'bbox': [190, 25, 489, 370],\n",
       "   'fps': 25,\n",
       "   'frame_end': -1,\n",
       "   'frame_start': 1,\n",
       "   'instance_id': 1,\n",
       "   'signer_id': 90,\n",
       "   'source': 'aslsignbank',\n",
       "   'split': 'train',\n",
       "   'url': 'https://aslsignbank.haskins.yale.edu/dictionary/protected_media/glossvideo/ASL/BO/BOOK-418.mp4',\n",
       "   'variation_id': 0,\n",
       "   'video_id': '65225'},\n",
       "  {'bbox': [262, 1, 652, 480],\n",
       "   'fps': 25,\n",
       "   'frame_end': -1,\n",
       "   'frame_start': 1,\n",
       "   'instance_id': 2,\n",
       "   'signer_id': 110,\n",
       "   'source': 'valencia-asl',\n",
       "   'split': 'train',\n",
       "   'url': 'https://www.youtube.com/watch?v=0UsjUE-TXns',\n",
       "   'variation_id': 0,\n",
       "   'video_id': '68011'},\n",
       "  {'bbox': [123, 19, 516, 358],\n",
       "   'fps': 25,\n",
       "   'frame_end': 60,\n",
       "   'frame_start': 1,\n",
       "   'instance_id': 3,\n",
       "   'signer_id': 113,\n",
       "   'source': 'lillybauer',\n",
       "   'split': 'train',\n",
       "   'url': 'https://www.youtube.com/watch?v=1QOYOZ3g-aY',\n",
       "   'variation_id': 0,\n",
       "   'video_id': '68208'},\n",
       "  {'bbox': [95, 0, 1180, 720],\n",
       "   'fps': 25,\n",
       "   'frame_end': -1,\n",
       "   'frame_start': 1,\n",
       "   'instance_id': 4,\n",
       "   'signer_id': 109,\n",
       "   'source': 'valencia-asl',\n",
       "   'split': 'train',\n",
       "   'url': 'https://www.youtube.com/watch?v=aGtIHKEdCds',\n",
       "   'variation_id': 0,\n",
       "   'video_id': '68012'},\n",
       "  {'bbox': [110, 25, 274, 240],\n",
       "   'fps': 25,\n",
       "   'frame_end': 2249,\n",
       "   'frame_start': 2150,\n",
       "   'instance_id': 5,\n",
       "   'signer_id': 121,\n",
       "   'source': 'northtexas',\n",
       "   'split': 'val',\n",
       "   'url': 'https://www.youtube.com/watch?v=hjS0dQDgbjo',\n",
       "   'variation_id': 0,\n",
       "   'video_id': '70212'},\n",
       "  {'bbox': [153, 38, 395, 360],\n",
       "   'fps': 25,\n",
       "   'frame_end': 3852,\n",
       "   'frame_start': 3732,\n",
       "   'instance_id': 6,\n",
       "   'signer_id': 121,\n",
       "   'source': 'northtexas',\n",
       "   'split': 'train',\n",
       "   'url': 'https://www.youtube.com/watch?v=WGfiiDgrq1I',\n",
       "   'variation_id': 0,\n",
       "   'video_id': '70266'},\n",
       "  {'bbox': [16, 2, 235, 240],\n",
       "   'fps': 25,\n",
       "   'frame_end': -1,\n",
       "   'frame_start': 1,\n",
       "   'instance_id': 7,\n",
       "   'signer_id': 49,\n",
       "   'source': 'aslpro',\n",
       "   'split': 'train',\n",
       "   'url': 'http://www.aslpro.com/main/b/book_english_grammar.swf',\n",
       "   'variation_id': 0,\n",
       "   'video_id': '07085'},\n",
       "  {'bbox': [16, 4, 239, 240],\n",
       "   'fps': 25,\n",
       "   'frame_end': -1,\n",
       "   'frame_start': 1,\n",
       "   'instance_id': 8,\n",
       "   'signer_id': 49,\n",
       "   'source': 'aslpro',\n",
       "   'split': 'train',\n",
       "   'url': 'http://www.aslpro.com/main/b/book_geography.swf',\n",
       "   'variation_id': 0,\n",
       "   'video_id': '07086'},\n",
       "  {'bbox': [8, 1, 253, 240],\n",
       "   'fps': 25,\n",
       "   'frame_end': -1,\n",
       "   'frame_start': 1,\n",
       "   'instance_id': 9,\n",
       "   'signer_id': 18,\n",
       "   'source': 'aslpro',\n",
       "   'split': 'train',\n",
       "   'url': 'http://www.aslpro.com/main/b/book_geometry.swf',\n",
       "   'variation_id': 0,\n",
       "   'video_id': '07087'},\n",
       "  {'bbox': [462, 44, 949, 720],\n",
       "   'fps': 25,\n",
       "   'frame_end': -1,\n",
       "   'frame_start': 1,\n",
       "   'instance_id': 10,\n",
       "   'signer_id': 31,\n",
       "   'source': 'signschool',\n",
       "   'split': 'train',\n",
       "   'url': 'https://signstock.blob.core.windows.net/signschool/videos/SignSchool%20Book.mp4',\n",
       "   'variation_id': 0,\n",
       "   'video_id': '07069'},\n",
       "  {'bbox': [29, 4, 227, 240],\n",
       "   'fps': 25,\n",
       "   'frame_end': -1,\n",
       "   'frame_start': 1,\n",
       "   'instance_id': 11,\n",
       "   'signer_id': 18,\n",
       "   'source': 'aslpro',\n",
       "   'split': 'train',\n",
       "   'url': 'http://www.aslpro.com/main/b/book_history.swf',\n",
       "   'variation_id': 0,\n",
       "   'video_id': '07088'},\n",
       "  {'bbox': [22, 0, 226, 240],\n",
       "   'fps': 25,\n",
       "   'frame_end': -1,\n",
       "   'frame_start': 1,\n",
       "   'instance_id': 12,\n",
       "   'signer_id': 18,\n",
       "   'source': 'aslpro',\n",
       "   'split': 'train',\n",
       "   'url': 'http://www.aslpro.com/main/b/book_law.swf',\n",
       "   'variation_id': 0,\n",
       "   'video_id': '07089'},\n",
       "  {'bbox': [34, 2, 229, 240],\n",
       "   'fps': 25,\n",
       "   'frame_end': -1,\n",
       "   'frame_start': 1,\n",
       "   'instance_id': 13,\n",
       "   'signer_id': 18,\n",
       "   'source': 'aslpro',\n",
       "   'split': 'train',\n",
       "   'url': 'http://www.aslpro.com/main/b/book_literature.swf',\n",
       "   'variation_id': 0,\n",
       "   'video_id': '07090'},\n",
       "  {'bbox': [23, 1, 226, 240],\n",
       "   'fps': 25,\n",
       "   'frame_end': -1,\n",
       "   'frame_start': 1,\n",
       "   'instance_id': 14,\n",
       "   'signer_id': 18,\n",
       "   'source': 'aslpro',\n",
       "   'split': 'train',\n",
       "   'url': 'http://www.aslpro.com/main/b/book_math.swf',\n",
       "   'variation_id': 0,\n",
       "   'video_id': '07091'},\n",
       "  {'bbox': [31, 4, 220, 240],\n",
       "   'fps': 25,\n",
       "   'frame_end': -1,\n",
       "   'frame_start': 1,\n",
       "   'instance_id': 15,\n",
       "   'signer_id': 49,\n",
       "   'source': 'aslpro',\n",
       "   'split': 'test',\n",
       "   'url': 'http://www.aslpro.com/main/b/book_medicine.swf',\n",
       "   'variation_id': 0,\n",
       "   'video_id': '07092'},\n",
       "  {'bbox': [25, 0, 220, 240],\n",
       "   'fps': 25,\n",
       "   'frame_end': -1,\n",
       "   'frame_start': 1,\n",
       "   'instance_id': 16,\n",
       "   'signer_id': 18,\n",
       "   'source': 'aslpro',\n",
       "   'split': 'test',\n",
       "   'url': 'http://www.aslpro.com/main/b/book_music.swf',\n",
       "   'variation_id': 0,\n",
       "   'video_id': '07093'},\n",
       "  {'bbox': [234, 17, 524, 414],\n",
       "   'fps': 25,\n",
       "   'frame_end': -1,\n",
       "   'frame_start': 1,\n",
       "   'instance_id': 17,\n",
       "   'signer_id': 36,\n",
       "   'source': 'startasl',\n",
       "   'split': 'train',\n",
       "   'url': 'https://s3-us-west-1.amazonaws.com/files.startasl.com/asldictionary/book.mp4',\n",
       "   'variation_id': 0,\n",
       "   'video_id': '07068'},\n",
       "  {'bbox': [22, 2, 231, 240],\n",
       "   'fps': 25,\n",
       "   'frame_end': -1,\n",
       "   'frame_start': 1,\n",
       "   'instance_id': 18,\n",
       "   'signer_id': 18,\n",
       "   'source': 'aslpro',\n",
       "   'split': 'val',\n",
       "   'url': 'http://www.aslpro.com/main/b/book_photography.swf',\n",
       "   'variation_id': 0,\n",
       "   'video_id': '07094'},\n",
       "  {'bbox': [3, 2, 260, 240],\n",
       "   'fps': 25,\n",
       "   'frame_end': -1,\n",
       "   'frame_start': 1,\n",
       "   'instance_id': 19,\n",
       "   'signer_id': 18,\n",
       "   'source': 'aslpro',\n",
       "   'split': 'test',\n",
       "   'url': 'http://www.aslpro.com/main/b/book_science.swf',\n",
       "   'variation_id': 0,\n",
       "   'video_id': '07095'},\n",
       "  {'bbox': [21, 2, 228, 240],\n",
       "   'fps': 25,\n",
       "   'frame_end': -1,\n",
       "   'frame_start': 1,\n",
       "   'instance_id': 20,\n",
       "   'signer_id': 18,\n",
       "   'source': 'aslpro',\n",
       "   'split': 'val',\n",
       "   'url': 'http://www.aslpro.com/main/b/book_spelling.swf',\n",
       "   'variation_id': 0,\n",
       "   'video_id': '07096'},\n",
       "  {'bbox': [26, 3, 226, 240],\n",
       "   'fps': 25,\n",
       "   'frame_end': -1,\n",
       "   'frame_start': 1,\n",
       "   'instance_id': 21,\n",
       "   'signer_id': 49,\n",
       "   'source': 'aslpro',\n",
       "   'split': 'train',\n",
       "   'url': 'http://www.aslpro.com/main/b/book.swf',\n",
       "   'variation_id': 0,\n",
       "   'video_id': '07097'},\n",
       "  {'bbox': [131, 26, 526, 480],\n",
       "   'fps': 25,\n",
       "   'frame_end': -1,\n",
       "   'frame_start': 1,\n",
       "   'instance_id': 22,\n",
       "   'signer_id': 59,\n",
       "   'source': 'asldeafined',\n",
       "   'split': 'train',\n",
       "   'url': 'https://media.asldeafined.com/vocabulary/1466684225.687.mp4',\n",
       "   'variation_id': 0,\n",
       "   'video_id': '07070'},\n",
       "  {'bbox': [21, 3, 231, 240],\n",
       "   'fps': 25,\n",
       "   'frame_end': -1,\n",
       "   'frame_start': 1,\n",
       "   'instance_id': 23,\n",
       "   'signer_id': 18,\n",
       "   'source': 'aslpro',\n",
       "   'split': 'val',\n",
       "   'url': 'http://www.aslpro.com/main/b/book_trigonometry.swf',\n",
       "   'variation_id': 0,\n",
       "   'video_id': '07098'},\n",
       "  {'bbox': [162, 54, 528, 400],\n",
       "   'fps': 25,\n",
       "   'frame_end': -1,\n",
       "   'frame_start': 1,\n",
       "   'instance_id': 24,\n",
       "   'signer_id': 12,\n",
       "   'source': 'aslsearch',\n",
       "   'split': 'val',\n",
       "   'url': 'http://www.aslsearch.com/signs/videos/book.mp4',\n",
       "   'variation_id': 0,\n",
       "   'video_id': '07099'},\n",
       "  {'bbox': [70, 0, 268, 240],\n",
       "   'fps': 25,\n",
       "   'frame_end': -1,\n",
       "   'frame_start': 1,\n",
       "   'instance_id': 25,\n",
       "   'signer_id': 14,\n",
       "   'source': 'handspeak',\n",
       "   'split': 'train',\n",
       "   'url': 'https://www.handspeak.com/word/b/book2.mp4',\n",
       "   'variation_id': 0,\n",
       "   'video_id': '07071'},\n",
       "  {'bbox': [75, 0, 270, 240],\n",
       "   'fps': 25,\n",
       "   'frame_end': -1,\n",
       "   'frame_start': 1,\n",
       "   'instance_id': 26,\n",
       "   'signer_id': 14,\n",
       "   'source': 'handspeak',\n",
       "   'split': 'test',\n",
       "   'url': 'https://www.handspeak.com/word/b/book.mp4',\n",
       "   'variation_id': 0,\n",
       "   'video_id': '07072'},\n",
       "  {'bbox': [64, 0, 273, 240],\n",
       "   'fps': 25,\n",
       "   'frame_end': -1,\n",
       "   'frame_start': 1,\n",
       "   'instance_id': 27,\n",
       "   'signer_id': 14,\n",
       "   'source': 'handspeak',\n",
       "   'split': 'train',\n",
       "   'url': 'https://www.handspeak.com/word/b/books-pile.mp4',\n",
       "   'variation_id': 0,\n",
       "   'video_id': '07073'},\n",
       "  {'bbox': [128, 20, 383, 360],\n",
       "   'fps': 25,\n",
       "   'frame_end': -1,\n",
       "   'frame_start': 1,\n",
       "   'instance_id': 28,\n",
       "   'signer_id': 109,\n",
       "   'source': 'asllex',\n",
       "   'split': 'train',\n",
       "   'url': 'https://youtu.be/3-GrhsVs830',\n",
       "   'variation_id': 0,\n",
       "   'video_id': '67424'},\n",
       "  {'bbox': [82, 11, 212, 192],\n",
       "   'fps': 25,\n",
       "   'frame_end': -1,\n",
       "   'frame_start': 1,\n",
       "   'instance_id': 29,\n",
       "   'signer_id': 11,\n",
       "   'source': 'signingsavvy',\n",
       "   'split': 'train',\n",
       "   'url': 'https://www.signingsavvy.com/signs/mp4/14/14326.mp4',\n",
       "   'variation_id': 0,\n",
       "   'video_id': '07074'},\n",
       "  {'bbox': [386, 48, 942, 720],\n",
       "   'fps': 25,\n",
       "   'frame_end': -1,\n",
       "   'frame_start': 1,\n",
       "   'instance_id': 30,\n",
       "   'signer_id': 5,\n",
       "   'source': 'aslu',\n",
       "   'split': 'train',\n",
       "   'url': 'https://www.youtube.com/watch?v=Kwvw-K6GYW8',\n",
       "   'variation_id': 0,\n",
       "   'video_id': '07075'},\n",
       "  {'bbox': [362, 43, 945, 720],\n",
       "   'fps': 25,\n",
       "   'frame_end': -1,\n",
       "   'frame_start': 1,\n",
       "   'instance_id': 31,\n",
       "   'signer_id': 5,\n",
       "   'source': 'aslu',\n",
       "   'split': 'train',\n",
       "   'url': 'https://www.youtube.com/watch?v=XjWSfh50kAU',\n",
       "   'variation_id': 0,\n",
       "   'video_id': '07076'},\n",
       "  {'bbox': [25, 4, 223, 240],\n",
       "   'fps': 25,\n",
       "   'frame_end': -1,\n",
       "   'frame_start': 1,\n",
       "   'instance_id': 32,\n",
       "   'signer_id': 49,\n",
       "   'source': 'aslpro',\n",
       "   'split': 'train',\n",
       "   'url': 'http://www.aslpro.com/main/b/book_accounting.swf',\n",
       "   'variation_id': 0,\n",
       "   'video_id': '07077'},\n",
       "  {'bbox': [28, 4, 226, 240],\n",
       "   'fps': 25,\n",
       "   'frame_end': -1,\n",
       "   'frame_start': 1,\n",
       "   'instance_id': 33,\n",
       "   'signer_id': 18,\n",
       "   'source': 'aslpro',\n",
       "   'split': 'train',\n",
       "   'url': 'http://www.aslpro.com/main/b/book_algebra.swf',\n",
       "   'variation_id': 0,\n",
       "   'video_id': '07078'},\n",
       "  {'bbox': [15, 2, 238, 240],\n",
       "   'fps': 25,\n",
       "   'frame_end': -1,\n",
       "   'frame_start': 1,\n",
       "   'instance_id': 34,\n",
       "   'signer_id': 49,\n",
       "   'source': 'aslpro',\n",
       "   'split': 'train',\n",
       "   'url': 'http://www.aslpro.com/main/b/book_anatomy.swf',\n",
       "   'variation_id': 0,\n",
       "   'video_id': '07079'},\n",
       "  {'bbox': [28, 2, 226, 240],\n",
       "   'fps': 25,\n",
       "   'frame_end': -1,\n",
       "   'frame_start': 1,\n",
       "   'instance_id': 35,\n",
       "   'signer_id': 18,\n",
       "   'source': 'aslpro',\n",
       "   'split': 'train',\n",
       "   'url': 'http://www.aslpro.com/main/b/book_art_history.swf',\n",
       "   'variation_id': 0,\n",
       "   'video_id': '07080'},\n",
       "  {'bbox': [23, 2, 226, 240],\n",
       "   'fps': 25,\n",
       "   'frame_end': -1,\n",
       "   'frame_start': 1,\n",
       "   'instance_id': 36,\n",
       "   'signer_id': 18,\n",
       "   'source': 'aslpro',\n",
       "   'split': 'train',\n",
       "   'url': 'http://www.aslpro.com/main/b/book_art.swf',\n",
       "   'variation_id': 0,\n",
       "   'video_id': '07081'},\n",
       "  {'bbox': [30, 3, 228, 240],\n",
       "   'fps': 25,\n",
       "   'frame_end': -1,\n",
       "   'frame_start': 1,\n",
       "   'instance_id': 37,\n",
       "   'signer_id': 18,\n",
       "   'source': 'aslpro',\n",
       "   'split': 'train',\n",
       "   'url': 'http://www.aslpro.com/main/b/book_business.swf',\n",
       "   'variation_id': 0,\n",
       "   'video_id': '07082'},\n",
       "  {'bbox': [0, 3, 260, 240],\n",
       "   'fps': 25,\n",
       "   'frame_end': -1,\n",
       "   'frame_start': 1,\n",
       "   'instance_id': 38,\n",
       "   'signer_id': 18,\n",
       "   'source': 'aslpro',\n",
       "   'split': 'val',\n",
       "   'url': 'http://www.aslpro.com/main/b/book_chemistry.swf',\n",
       "   'variation_id': 0,\n",
       "   'video_id': '07083'},\n",
       "  {'bbox': [29, 4, 225, 240],\n",
       "   'fps': 25,\n",
       "   'frame_end': -1,\n",
       "   'frame_start': 1,\n",
       "   'instance_id': 39,\n",
       "   'signer_id': 18,\n",
       "   'source': 'aslpro',\n",
       "   'split': 'train',\n",
       "   'url': 'http://www.aslpro.com/main/b/book_coloring.swf',\n",
       "   'variation_id': 0,\n",
       "   'video_id': '07084'}]}"
      ]
     },
     "execution_count": 4,
     "metadata": {},
     "output_type": "execute_result"
    }
   ],
   "source": [
    "data[0]"
   ]
  },
  {
   "cell_type": "markdown",
   "metadata": {},
   "source": [
    "The number of words in this object should be 2000. Getting the length of how many dictionary objects are in the first list should result in 2000."
   ]
  },
  {
   "cell_type": "code",
   "execution_count": 14,
   "metadata": {},
   "outputs": [
    {
     "data": {
      "text/plain": [
       "2000"
      ]
     },
     "execution_count": 14,
     "metadata": {},
     "output_type": "execute_result"
    }
   ],
   "source": [
    "len(data)"
   ]
  },
  {
   "cell_type": "markdown",
   "metadata": {},
   "source": [
    "This means all the words are in the json object"
   ]
  },
  {
   "cell_type": "markdown",
   "metadata": {},
   "source": [
    "To access the word, I specify the key of the value I want. In this case, the word is the value for the key called 'gloss':"
   ]
  },
  {
   "cell_type": "code",
   "execution_count": 9,
   "metadata": {},
   "outputs": [
    {
     "data": {
      "text/plain": [
       "'book'"
      ]
     },
     "execution_count": 9,
     "metadata": {},
     "output_type": "execute_result"
    }
   ],
   "source": [
    "data[0]['gloss']"
   ]
  },
  {
   "cell_type": "markdown",
   "metadata": {},
   "source": [
    "So from this, the first word in the json file is 'book'"
   ]
  },
  {
   "cell_type": "markdown",
   "metadata": {},
   "source": [
    "The first instance of book is then accessed by appending [0]:"
   ]
  },
  {
   "cell_type": "code",
   "execution_count": 10,
   "metadata": {},
   "outputs": [
    {
     "data": {
      "text/plain": [
       "{'bbox': [385, 37, 885, 720],\n",
       " 'fps': 25,\n",
       " 'frame_end': -1,\n",
       " 'frame_start': 1,\n",
       " 'instance_id': 0,\n",
       " 'signer_id': 118,\n",
       " 'source': 'aslbrick',\n",
       " 'split': 'train',\n",
       " 'url': 'http://aslbricks.org/New/ASL-Videos/book.mp4',\n",
       " 'variation_id': 0,\n",
       " 'video_id': '69241'}"
      ]
     },
     "execution_count": 10,
     "metadata": {},
     "output_type": "execute_result"
    }
   ],
   "source": [
    "data[0]['instances'][0]"
   ]
  },
  {
   "cell_type": "markdown",
   "metadata": {},
   "source": [
    "The len() function can be used again here to get how many instances the word 'book' has."
   ]
  },
  {
   "cell_type": "code",
   "execution_count": 15,
   "metadata": {},
   "outputs": [
    {
     "data": {
      "text/plain": [
       "40"
      ]
     },
     "execution_count": 15,
     "metadata": {},
     "output_type": "execute_result"
    }
   ],
   "source": [
    "len(data[0]['instances'])"
   ]
  },
  {
   "cell_type": "markdown",
   "metadata": {},
   "source": [
    "The word 'book' has 40 instances."
   ]
  },
  {
   "cell_type": "markdown",
   "metadata": {},
   "source": [
    "Finally, to get the video-id to open the correct video, I use the video_id name."
   ]
  },
  {
   "cell_type": "code",
   "execution_count": 11,
   "metadata": {},
   "outputs": [
    {
     "data": {
      "text/plain": [
       "'69241'"
      ]
     },
     "execution_count": 11,
     "metadata": {},
     "output_type": "execute_result"
    }
   ],
   "source": [
    "data[0]['instances'][0]['video_id']"
   ]
  },
  {
   "cell_type": "markdown",
   "metadata": {},
   "source": [
    "This means that the video named 69241.mp4 is the video for the first instance of the word 'book'."
   ]
  },
  {
   "cell_type": "markdown",
   "metadata": {},
   "source": [
    "The same process can be used to extract the split (train, test, or validation) that this video is a part of, and how many frames are in this video clip.\n",
    "\n",
    "note: This dataset already has the videos so there is no need to download the video again from the URL. But that would be an extra step if the dataset did not have the videos already."
   ]
  },
  {
   "cell_type": "markdown",
   "metadata": {},
   "source": [
    "Now that I know how to access the different name-value pairs, I can begin organizing the videos into train, test, and validation splits. Then, splitting the videos into frames."
   ]
  },
  {
   "cell_type": "markdown",
   "metadata": {},
   "source": [
    "### Saving Video Frames"
   ]
  },
  {
   "cell_type": "markdown",
   "metadata": {},
   "source": [
    "To do this, I will navigate through the json file into each instance and create a string to save the video at. The string will be in the format: ```<split>/<word_id>/<word_id>-<instance_id>/<word_id>-<instance_id>-<frame_num>```"
   ]
  },
  {
   "cell_type": "markdown",
   "metadata": {},
   "source": [
    "To split the video into frames, I will load the video using opencv, and save each frame as a png image:"
   ]
  },
  {
   "cell_type": "code",
   "execution_count": 31,
   "metadata": {},
   "outputs": [],
   "source": [
    "import cv2\n",
    "import os"
   ]
  },
  {
   "cell_type": "code",
   "execution_count": 32,
   "metadata": {},
   "outputs": [],
   "source": [
    "def save_video_frames(video_name, output_path):\n",
    "    video_path = 'WLASL/videos/' + video_name\n",
    "    cap = cv2.VideoCapture(video_path)\n",
    "\n",
    "    if not os.path.exists(output_path):\n",
    "        print(f'No directory called {output_path}. Creating one now')\n",
    "        os.makedirs(output_path)\n",
    "\n",
    "    frame_num = 0\n",
    "\n",
    "    while True:\n",
    "        # Read next frame\n",
    "        ret, frame = cap.read()\n",
    "\n",
    "        # If no more frames, stop.\n",
    "        if not ret:\n",
    "            break\n",
    "\n",
    "        # increment frame number\n",
    "        frame_num += 1\n",
    "\n",
    "        # Save frame\n",
    "        frame_path = os.path.join(output_path, f'{frame_num}.png')\n",
    "        cv2.imwrite(frame_path, frame)\n",
    "\n",
    "        print(f'Frame {frame_num} has been saved to {frame_path}')\n",
    "    \n",
    "    # Release video capture\n",
    "    cap.release()\n",
    "    print(f'All frames for the video {video_name} have been successfully saved')\n"
   ]
  },
  {
   "cell_type": "markdown",
   "metadata": {},
   "source": [
    "Testing this with one video:"
   ]
  },
  {
   "cell_type": "code",
   "execution_count": 23,
   "metadata": {},
   "outputs": [
    {
     "name": "stdout",
     "output_type": "stream",
     "text": [
      "No directory called ./test/. Creating one now\n",
      "Frame 1 has been saved to ./test/1.png\n",
      "Frame 2 has been saved to ./test/2.png\n",
      "Frame 3 has been saved to ./test/3.png\n",
      "Frame 4 has been saved to ./test/4.png\n",
      "Frame 5 has been saved to ./test/5.png\n",
      "Frame 6 has been saved to ./test/6.png\n",
      "Frame 7 has been saved to ./test/7.png\n",
      "Frame 8 has been saved to ./test/8.png\n",
      "Frame 9 has been saved to ./test/9.png\n",
      "Frame 10 has been saved to ./test/10.png\n",
      "Frame 11 has been saved to ./test/11.png\n",
      "Frame 12 has been saved to ./test/12.png\n",
      "Frame 13 has been saved to ./test/13.png\n",
      "Frame 14 has been saved to ./test/14.png\n",
      "Frame 15 has been saved to ./test/15.png\n",
      "Frame 16 has been saved to ./test/16.png\n",
      "Frame 17 has been saved to ./test/17.png\n",
      "Frame 18 has been saved to ./test/18.png\n",
      "Frame 19 has been saved to ./test/19.png\n",
      "Frame 20 has been saved to ./test/20.png\n",
      "Frame 21 has been saved to ./test/21.png\n",
      "Frame 22 has been saved to ./test/22.png\n",
      "Frame 23 has been saved to ./test/23.png\n",
      "Frame 24 has been saved to ./test/24.png\n",
      "Frame 25 has been saved to ./test/25.png\n",
      "Frame 26 has been saved to ./test/26.png\n",
      "Frame 27 has been saved to ./test/27.png\n",
      "Frame 28 has been saved to ./test/28.png\n",
      "Frame 29 has been saved to ./test/29.png\n",
      "Frame 30 has been saved to ./test/30.png\n",
      "Frame 31 has been saved to ./test/31.png\n",
      "Frame 32 has been saved to ./test/32.png\n",
      "Frame 33 has been saved to ./test/33.png\n",
      "Frame 34 has been saved to ./test/34.png\n",
      "Frame 35 has been saved to ./test/35.png\n",
      "Frame 36 has been saved to ./test/36.png\n",
      "Frame 37 has been saved to ./test/37.png\n",
      "Frame 38 has been saved to ./test/38.png\n",
      "Frame 39 has been saved to ./test/39.png\n",
      "Frame 40 has been saved to ./test/40.png\n",
      "Frame 41 has been saved to ./test/41.png\n",
      "Frame 42 has been saved to ./test/42.png\n",
      "Frame 43 has been saved to ./test/43.png\n",
      "Frame 44 has been saved to ./test/44.png\n",
      "Frame 45 has been saved to ./test/45.png\n",
      "Frame 46 has been saved to ./test/46.png\n",
      "Frame 47 has been saved to ./test/47.png\n",
      "Frame 48 has been saved to ./test/48.png\n",
      "Frame 49 has been saved to ./test/49.png\n",
      "Frame 50 has been saved to ./test/50.png\n",
      "Frame 51 has been saved to ./test/51.png\n",
      "Frame 52 has been saved to ./test/52.png\n",
      "Frame 53 has been saved to ./test/53.png\n",
      "Frame 54 has been saved to ./test/54.png\n",
      "Frame 55 has been saved to ./test/55.png\n",
      "Frame 56 has been saved to ./test/56.png\n",
      "Frame 57 has been saved to ./test/57.png\n",
      "Frame 58 has been saved to ./test/58.png\n",
      "Frame 59 has been saved to ./test/59.png\n",
      "Frame 60 has been saved to ./test/60.png\n",
      "Frame 61 has been saved to ./test/61.png\n",
      "Frame 62 has been saved to ./test/62.png\n",
      "Frame 63 has been saved to ./test/63.png\n",
      "Frame 64 has been saved to ./test/64.png\n",
      "All frames for the video 69241.mp4 have been successfully saved\n"
     ]
    }
   ],
   "source": [
    "save_video_frames('69241.mp4', './test/')"
   ]
  },
  {
   "cell_type": "markdown",
   "metadata": {},
   "source": [
    "This works great. So now I will use this in a loop to do this for every video."
   ]
  },
  {
   "cell_type": "code",
   "execution_count": 41,
   "metadata": {},
   "outputs": [
    {
     "name": "stdout",
     "output_type": "stream",
     "text": [
      "No directory called ./train/1/1/. Creating one now\n"
     ]
    }
   ],
   "source": [
    "if not os.path.exists('./train/1/1/'):\n",
    "    print(f'No directory called ./train/1/1/. Creating one now')\n",
    "    os.makedirs('./train/1/1/')"
   ]
  },
  {
   "cell_type": "code",
   "execution_count": 54,
   "metadata": {},
   "outputs": [],
   "source": [
    "def copy_video(directory_path, video_id):\n",
    "    if not os.path.exists(directory_path):\n",
    "        print(f'No directory called {directory_path}. Creating one now')\n",
    "        os.makedirs(directory_path)\n",
    "\n",
    "    copy_command = 'cp WLASL/videos/' + video_id + '.mp4' + ' ' + directory_path + '/' + video_id + '.mp4'\n",
    "    os.system(copy_command)\n",
    "\n",
    "\n",
    "def organize_words(end_word, start_word=0):\n",
    "    for word_id in range(start_word, end_word):\n",
    "        # List of dictionary objects for each word\n",
    "        word = data[word_id]['gloss']\n",
    "        train_instance = 0\n",
    "        test_instance = 0\n",
    "        val_instance = 0\n",
    "        for instance in range(0,len(data[word_id]['instances'])):\n",
    "            video_id = data[word_id]['instances'][instance]['video_id']\n",
    "            split_type = data[word_id]['instances'][instance]['split']\n",
    "            match split_type:\n",
    "                case 'train':\n",
    "                    directory_path = os.path.join(split_type, str(word_id), str(train_instance))\n",
    "                    copy_video(directory_path, video_id)\n",
    "                    train_instance += 1\n",
    "                case 'test':\n",
    "                    directory_path = os.path.join(split_type, str(word_id), str(test_instance))\n",
    "                    copy_video(directory_path, video_id)\n",
    "                    test_instance += 1\n",
    "                case 'val':\n",
    "                    directory_path = os.path.join(split_type, str(word_id), str(val_instance))\n",
    "                    #if not os.path.exists(directory_path):\n",
    "                    #    print(f'No directory called {directory_path}. Creating one now')\n",
    "                    #    os.makedirs(directory_path)\n",
    "                    #copy_command = 'cp WLASL/videos/' + video_id + '.mp4' + ' ' + directory_path + '/' + video_id + '.mp4'\n",
    "                    #os.system(copy_command)\n",
    "                    copy_video(directory_path, video_id)\n",
    "                    val_instance += 1                       "
   ]
  },
  {
   "cell_type": "code",
   "execution_count": 55,
   "metadata": {},
   "outputs": [
    {
     "name": "stdout",
     "output_type": "stream",
     "text": [
      "No directory called train/0/0. Creating one now\n",
      "No directory called train/0/1. Creating one now\n",
      "No directory called train/0/2. Creating one now\n",
      "No directory called train/0/3. Creating one now\n",
      "No directory called train/0/4. Creating one now\n",
      "No directory called val/0/0. Creating one now\n",
      "No directory called train/0/5. Creating one now\n",
      "No directory called train/0/6. Creating one now\n",
      "No directory called train/0/7. Creating one now\n",
      "No directory called train/0/8. Creating one now\n",
      "No directory called train/0/9. Creating one now\n",
      "No directory called train/0/10. Creating one now\n",
      "No directory called train/0/11. Creating one now\n",
      "No directory called train/0/12. Creating one now\n",
      "No directory called train/0/13. Creating one now\n",
      "No directory called test/0/0. Creating one now\n",
      "No directory called test/0/1. Creating one now\n",
      "No directory called train/0/14. Creating one now\n",
      "No directory called val/0/1. Creating one now\n",
      "No directory called test/0/2. Creating one now\n",
      "No directory called val/0/2. Creating one now\n",
      "No directory called train/0/15. Creating one now\n",
      "No directory called train/0/16. Creating one now\n",
      "No directory called val/0/3. Creating one now\n",
      "No directory called val/0/4. Creating one now\n",
      "No directory called train/0/17. Creating one now\n",
      "No directory called test/0/3. Creating one now\n",
      "No directory called train/0/18. Creating one now\n",
      "No directory called train/0/19. Creating one now\n",
      "No directory called train/0/20. Creating one now\n",
      "No directory called train/0/21. Creating one now\n",
      "No directory called train/0/22. Creating one now\n",
      "No directory called train/0/23. Creating one now\n",
      "No directory called train/0/24. Creating one now\n",
      "No directory called train/0/25. Creating one now\n",
      "No directory called train/0/26. Creating one now\n",
      "No directory called train/0/27. Creating one now\n",
      "No directory called train/0/28. Creating one now\n",
      "No directory called val/0/5. Creating one now\n",
      "No directory called train/0/29. Creating one now\n"
     ]
    }
   ],
   "source": [
    "organize_words(1, start_word=0)"
   ]
  },
  {
   "cell_type": "code",
   "execution_count": null,
   "metadata": {},
   "outputs": [],
   "source": []
  }
 ],
 "metadata": {
  "kernelspec": {
   "display_name": "ece5831-2024",
   "language": "python",
   "name": "python3"
  },
  "language_info": {
   "codemirror_mode": {
    "name": "ipython",
    "version": 3
   },
   "file_extension": ".py",
   "mimetype": "text/x-python",
   "name": "python",
   "nbconvert_exporter": "python",
   "pygments_lexer": "ipython3",
   "version": "3.10.15"
  }
 },
 "nbformat": 4,
 "nbformat_minor": 2
}
