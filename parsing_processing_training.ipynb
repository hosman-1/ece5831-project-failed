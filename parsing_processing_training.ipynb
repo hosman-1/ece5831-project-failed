{
 "cells": [
  {
   "cell_type": "markdown",
   "metadata": {},
   "source": [
    "# WLASL (World Level American Sign Language)"
   ]
  },
  {
   "cell_type": "markdown",
   "metadata": {},
   "source": [
    "I am using a dataset that I downloaded from Kaggle. This dataset has 2,000 words, and over 20,000 videos of these 2,000 words in total."
   ]
  },
  {
   "cell_type": "markdown",
   "metadata": {},
   "source": [
    "## JSON Parsing and Organizing Videos/Frames"
   ]
  },
  {
   "cell_type": "markdown",
   "metadata": {},
   "source": [
    "The video names represent the video-id of that video. To find out what word the video is showing, I have to find the video ID in the WLASL_v0.3.json file and see what word that video ID belongs to. The structure of the json file is as follows:\n",
    "\n",
    "```\n",
    "[\n",
    "    {\n",
    "        \"gloss\": \"<word>\",\n",
    "        \"instances\": [\n",
    "            {\n",
    "                ...,\n",
    "                ...,\n",
    "                ...,\n",
    "                \"video_id\": \"<video_id_num>\"\n",
    "            },\n",
    "            {\n",
    "                ...,\n",
    "                ...,\n",
    "                ...,\n",
    "                \"video_id\": \"video_id_num\"\n",
    "            },\n",
    "            ...\n",
    "        ]\n",
    "    },\n",
    "    {\n",
    "        \"gloss\": \"<word>\",\n",
    "        \"instances\": [\n",
    "            {\n",
    "                ...,\n",
    "                ...,\n",
    "                ...,\n",
    "                \"video_id\": \"<video_id_num>\"\n",
    "            },\n",
    "            ...\n",
    "        ]\n",
    "    },\n",
    "    ...\n",
    "]\n",
    "```"
   ]
  },
  {
   "cell_type": "markdown",
   "metadata": {},
   "source": [
    "To read and parse through json files, there is a json module that is downloaded alongside python. I will use this to parse through the json file and organize all the videos into their own directory in one of the three splits: Train, Test, or Validation. In addition, each video will be split into individual frames and the frames will be saved as png images. The final directory structure will look like:\n",
    "```\n",
    "/Videos\n",
    "|--<split_type>\n",
    "|   |--<word_id>\n",
    "|   |   |--<instance_id>\n",
    "|   |   |   |--<instance_id>_<frame_num>.png\n",
    "|   |   |   |--<instance_id>_<frame_num>.png\n",
    "|   |   |   ...\n",
    "|   |   |--<instance_id>\n",
    "|   |   |   |--<instance_id>_<frame_num>.png\n",
    "|   |   |   |--<instance_id>_<frame_num>.png\n",
    "|   |   |   ...\n",
    "|   |   ...\n",
    "|   |--<word_id>\n",
    "|   ...\n",
    "|...\n",
    "```"
   ]
  },
  {
   "cell_type": "code",
   "execution_count": 16,
   "metadata": {},
   "outputs": [],
   "source": [
    "import json"
   ]
  },
  {
   "cell_type": "markdown",
   "metadata": {},
   "source": [
    "Next, I will load the json file as an object. This will make it easy to work with in python."
   ]
  },
  {
   "cell_type": "code",
   "execution_count": 17,
   "metadata": {},
   "outputs": [],
   "source": [
    "with open('WLASL/WLASL_v0.3.json', 'r') as file:\n",
    "    data = json.load(file)"
   ]
  },
  {
   "cell_type": "markdown",
   "metadata": {},
   "source": [
    "The json file is now loaded as an object in python"
   ]
  },
  {
   "cell_type": "markdown",
   "metadata": {},
   "source": [
    "Now I will test out how this json module works and how to parse the different properties I need."
   ]
  },
  {
   "cell_type": "markdown",
   "metadata": {},
   "source": [
    "The bracket character [] represents a list, and the curly brackets {} represent objects that have name:value pairs.\n",
    "\n",
    "The json file starts with [], which is a list of objects. Each object has a word and another list for all the instances of that word. Each instance is an object that has name:value pairs for that instance such as: video URL, video id, start time, end time, fps, and more."
   ]
  },
  {
   "cell_type": "markdown",
   "metadata": {},
   "source": [
    "The object for the first word can be accessed by accessing the first element of the list in the data json object:"
   ]
  },
  {
   "cell_type": "code",
   "execution_count": 18,
   "metadata": {},
   "outputs": [
    {
     "data": {
      "text/plain": [
       "{'gloss': 'book',\n",
       " 'instances': [{'bbox': [385, 37, 885, 720],\n",
       "   'fps': 25,\n",
       "   'frame_end': -1,\n",
       "   'frame_start': 1,\n",
       "   'instance_id': 0,\n",
       "   'signer_id': 118,\n",
       "   'source': 'aslbrick',\n",
       "   'split': 'train',\n",
       "   'url': 'http://aslbricks.org/New/ASL-Videos/book.mp4',\n",
       "   'variation_id': 0,\n",
       "   'video_id': '69241'},\n",
       "  {'bbox': [190, 25, 489, 370],\n",
       "   'fps': 25,\n",
       "   'frame_end': -1,\n",
       "   'frame_start': 1,\n",
       "   'instance_id': 1,\n",
       "   'signer_id': 90,\n",
       "   'source': 'aslsignbank',\n",
       "   'split': 'train',\n",
       "   'url': 'https://aslsignbank.haskins.yale.edu/dictionary/protected_media/glossvideo/ASL/BO/BOOK-418.mp4',\n",
       "   'variation_id': 0,\n",
       "   'video_id': '65225'},\n",
       "  {'bbox': [262, 1, 652, 480],\n",
       "   'fps': 25,\n",
       "   'frame_end': -1,\n",
       "   'frame_start': 1,\n",
       "   'instance_id': 2,\n",
       "   'signer_id': 110,\n",
       "   'source': 'valencia-asl',\n",
       "   'split': 'train',\n",
       "   'url': 'https://www.youtube.com/watch?v=0UsjUE-TXns',\n",
       "   'variation_id': 0,\n",
       "   'video_id': '68011'},\n",
       "  {'bbox': [123, 19, 516, 358],\n",
       "   'fps': 25,\n",
       "   'frame_end': 60,\n",
       "   'frame_start': 1,\n",
       "   'instance_id': 3,\n",
       "   'signer_id': 113,\n",
       "   'source': 'lillybauer',\n",
       "   'split': 'train',\n",
       "   'url': 'https://www.youtube.com/watch?v=1QOYOZ3g-aY',\n",
       "   'variation_id': 0,\n",
       "   'video_id': '68208'},\n",
       "  {'bbox': [95, 0, 1180, 720],\n",
       "   'fps': 25,\n",
       "   'frame_end': -1,\n",
       "   'frame_start': 1,\n",
       "   'instance_id': 4,\n",
       "   'signer_id': 109,\n",
       "   'source': 'valencia-asl',\n",
       "   'split': 'train',\n",
       "   'url': 'https://www.youtube.com/watch?v=aGtIHKEdCds',\n",
       "   'variation_id': 0,\n",
       "   'video_id': '68012'},\n",
       "  {'bbox': [110, 25, 274, 240],\n",
       "   'fps': 25,\n",
       "   'frame_end': 2249,\n",
       "   'frame_start': 2150,\n",
       "   'instance_id': 5,\n",
       "   'signer_id': 121,\n",
       "   'source': 'northtexas',\n",
       "   'split': 'val',\n",
       "   'url': 'https://www.youtube.com/watch?v=hjS0dQDgbjo',\n",
       "   'variation_id': 0,\n",
       "   'video_id': '70212'},\n",
       "  {'bbox': [153, 38, 395, 360],\n",
       "   'fps': 25,\n",
       "   'frame_end': 3852,\n",
       "   'frame_start': 3732,\n",
       "   'instance_id': 6,\n",
       "   'signer_id': 121,\n",
       "   'source': 'northtexas',\n",
       "   'split': 'train',\n",
       "   'url': 'https://www.youtube.com/watch?v=WGfiiDgrq1I',\n",
       "   'variation_id': 0,\n",
       "   'video_id': '70266'},\n",
       "  {'bbox': [16, 2, 235, 240],\n",
       "   'fps': 25,\n",
       "   'frame_end': -1,\n",
       "   'frame_start': 1,\n",
       "   'instance_id': 7,\n",
       "   'signer_id': 49,\n",
       "   'source': 'aslpro',\n",
       "   'split': 'train',\n",
       "   'url': 'http://www.aslpro.com/main/b/book_english_grammar.swf',\n",
       "   'variation_id': 0,\n",
       "   'video_id': '07085'},\n",
       "  {'bbox': [16, 4, 239, 240],\n",
       "   'fps': 25,\n",
       "   'frame_end': -1,\n",
       "   'frame_start': 1,\n",
       "   'instance_id': 8,\n",
       "   'signer_id': 49,\n",
       "   'source': 'aslpro',\n",
       "   'split': 'train',\n",
       "   'url': 'http://www.aslpro.com/main/b/book_geography.swf',\n",
       "   'variation_id': 0,\n",
       "   'video_id': '07086'},\n",
       "  {'bbox': [8, 1, 253, 240],\n",
       "   'fps': 25,\n",
       "   'frame_end': -1,\n",
       "   'frame_start': 1,\n",
       "   'instance_id': 9,\n",
       "   'signer_id': 18,\n",
       "   'source': 'aslpro',\n",
       "   'split': 'train',\n",
       "   'url': 'http://www.aslpro.com/main/b/book_geometry.swf',\n",
       "   'variation_id': 0,\n",
       "   'video_id': '07087'},\n",
       "  {'bbox': [462, 44, 949, 720],\n",
       "   'fps': 25,\n",
       "   'frame_end': -1,\n",
       "   'frame_start': 1,\n",
       "   'instance_id': 10,\n",
       "   'signer_id': 31,\n",
       "   'source': 'signschool',\n",
       "   'split': 'train',\n",
       "   'url': 'https://signstock.blob.core.windows.net/signschool/videos/SignSchool%20Book.mp4',\n",
       "   'variation_id': 0,\n",
       "   'video_id': '07069'},\n",
       "  {'bbox': [29, 4, 227, 240],\n",
       "   'fps': 25,\n",
       "   'frame_end': -1,\n",
       "   'frame_start': 1,\n",
       "   'instance_id': 11,\n",
       "   'signer_id': 18,\n",
       "   'source': 'aslpro',\n",
       "   'split': 'train',\n",
       "   'url': 'http://www.aslpro.com/main/b/book_history.swf',\n",
       "   'variation_id': 0,\n",
       "   'video_id': '07088'},\n",
       "  {'bbox': [22, 0, 226, 240],\n",
       "   'fps': 25,\n",
       "   'frame_end': -1,\n",
       "   'frame_start': 1,\n",
       "   'instance_id': 12,\n",
       "   'signer_id': 18,\n",
       "   'source': 'aslpro',\n",
       "   'split': 'train',\n",
       "   'url': 'http://www.aslpro.com/main/b/book_law.swf',\n",
       "   'variation_id': 0,\n",
       "   'video_id': '07089'},\n",
       "  {'bbox': [34, 2, 229, 240],\n",
       "   'fps': 25,\n",
       "   'frame_end': -1,\n",
       "   'frame_start': 1,\n",
       "   'instance_id': 13,\n",
       "   'signer_id': 18,\n",
       "   'source': 'aslpro',\n",
       "   'split': 'train',\n",
       "   'url': 'http://www.aslpro.com/main/b/book_literature.swf',\n",
       "   'variation_id': 0,\n",
       "   'video_id': '07090'},\n",
       "  {'bbox': [23, 1, 226, 240],\n",
       "   'fps': 25,\n",
       "   'frame_end': -1,\n",
       "   'frame_start': 1,\n",
       "   'instance_id': 14,\n",
       "   'signer_id': 18,\n",
       "   'source': 'aslpro',\n",
       "   'split': 'train',\n",
       "   'url': 'http://www.aslpro.com/main/b/book_math.swf',\n",
       "   'variation_id': 0,\n",
       "   'video_id': '07091'},\n",
       "  {'bbox': [31, 4, 220, 240],\n",
       "   'fps': 25,\n",
       "   'frame_end': -1,\n",
       "   'frame_start': 1,\n",
       "   'instance_id': 15,\n",
       "   'signer_id': 49,\n",
       "   'source': 'aslpro',\n",
       "   'split': 'test',\n",
       "   'url': 'http://www.aslpro.com/main/b/book_medicine.swf',\n",
       "   'variation_id': 0,\n",
       "   'video_id': '07092'},\n",
       "  {'bbox': [25, 0, 220, 240],\n",
       "   'fps': 25,\n",
       "   'frame_end': -1,\n",
       "   'frame_start': 1,\n",
       "   'instance_id': 16,\n",
       "   'signer_id': 18,\n",
       "   'source': 'aslpro',\n",
       "   'split': 'test',\n",
       "   'url': 'http://www.aslpro.com/main/b/book_music.swf',\n",
       "   'variation_id': 0,\n",
       "   'video_id': '07093'},\n",
       "  {'bbox': [234, 17, 524, 414],\n",
       "   'fps': 25,\n",
       "   'frame_end': -1,\n",
       "   'frame_start': 1,\n",
       "   'instance_id': 17,\n",
       "   'signer_id': 36,\n",
       "   'source': 'startasl',\n",
       "   'split': 'train',\n",
       "   'url': 'https://s3-us-west-1.amazonaws.com/files.startasl.com/asldictionary/book.mp4',\n",
       "   'variation_id': 0,\n",
       "   'video_id': '07068'},\n",
       "  {'bbox': [22, 2, 231, 240],\n",
       "   'fps': 25,\n",
       "   'frame_end': -1,\n",
       "   'frame_start': 1,\n",
       "   'instance_id': 18,\n",
       "   'signer_id': 18,\n",
       "   'source': 'aslpro',\n",
       "   'split': 'val',\n",
       "   'url': 'http://www.aslpro.com/main/b/book_photography.swf',\n",
       "   'variation_id': 0,\n",
       "   'video_id': '07094'},\n",
       "  {'bbox': [3, 2, 260, 240],\n",
       "   'fps': 25,\n",
       "   'frame_end': -1,\n",
       "   'frame_start': 1,\n",
       "   'instance_id': 19,\n",
       "   'signer_id': 18,\n",
       "   'source': 'aslpro',\n",
       "   'split': 'test',\n",
       "   'url': 'http://www.aslpro.com/main/b/book_science.swf',\n",
       "   'variation_id': 0,\n",
       "   'video_id': '07095'},\n",
       "  {'bbox': [21, 2, 228, 240],\n",
       "   'fps': 25,\n",
       "   'frame_end': -1,\n",
       "   'frame_start': 1,\n",
       "   'instance_id': 20,\n",
       "   'signer_id': 18,\n",
       "   'source': 'aslpro',\n",
       "   'split': 'val',\n",
       "   'url': 'http://www.aslpro.com/main/b/book_spelling.swf',\n",
       "   'variation_id': 0,\n",
       "   'video_id': '07096'},\n",
       "  {'bbox': [26, 3, 226, 240],\n",
       "   'fps': 25,\n",
       "   'frame_end': -1,\n",
       "   'frame_start': 1,\n",
       "   'instance_id': 21,\n",
       "   'signer_id': 49,\n",
       "   'source': 'aslpro',\n",
       "   'split': 'train',\n",
       "   'url': 'http://www.aslpro.com/main/b/book.swf',\n",
       "   'variation_id': 0,\n",
       "   'video_id': '07097'},\n",
       "  {'bbox': [131, 26, 526, 480],\n",
       "   'fps': 25,\n",
       "   'frame_end': -1,\n",
       "   'frame_start': 1,\n",
       "   'instance_id': 22,\n",
       "   'signer_id': 59,\n",
       "   'source': 'asldeafined',\n",
       "   'split': 'train',\n",
       "   'url': 'https://media.asldeafined.com/vocabulary/1466684225.687.mp4',\n",
       "   'variation_id': 0,\n",
       "   'video_id': '07070'},\n",
       "  {'bbox': [21, 3, 231, 240],\n",
       "   'fps': 25,\n",
       "   'frame_end': -1,\n",
       "   'frame_start': 1,\n",
       "   'instance_id': 23,\n",
       "   'signer_id': 18,\n",
       "   'source': 'aslpro',\n",
       "   'split': 'val',\n",
       "   'url': 'http://www.aslpro.com/main/b/book_trigonometry.swf',\n",
       "   'variation_id': 0,\n",
       "   'video_id': '07098'},\n",
       "  {'bbox': [162, 54, 528, 400],\n",
       "   'fps': 25,\n",
       "   'frame_end': -1,\n",
       "   'frame_start': 1,\n",
       "   'instance_id': 24,\n",
       "   'signer_id': 12,\n",
       "   'source': 'aslsearch',\n",
       "   'split': 'val',\n",
       "   'url': 'http://www.aslsearch.com/signs/videos/book.mp4',\n",
       "   'variation_id': 0,\n",
       "   'video_id': '07099'},\n",
       "  {'bbox': [70, 0, 268, 240],\n",
       "   'fps': 25,\n",
       "   'frame_end': -1,\n",
       "   'frame_start': 1,\n",
       "   'instance_id': 25,\n",
       "   'signer_id': 14,\n",
       "   'source': 'handspeak',\n",
       "   'split': 'train',\n",
       "   'url': 'https://www.handspeak.com/word/b/book2.mp4',\n",
       "   'variation_id': 0,\n",
       "   'video_id': '07071'},\n",
       "  {'bbox': [75, 0, 270, 240],\n",
       "   'fps': 25,\n",
       "   'frame_end': -1,\n",
       "   'frame_start': 1,\n",
       "   'instance_id': 26,\n",
       "   'signer_id': 14,\n",
       "   'source': 'handspeak',\n",
       "   'split': 'test',\n",
       "   'url': 'https://www.handspeak.com/word/b/book.mp4',\n",
       "   'variation_id': 0,\n",
       "   'video_id': '07072'},\n",
       "  {'bbox': [64, 0, 273, 240],\n",
       "   'fps': 25,\n",
       "   'frame_end': -1,\n",
       "   'frame_start': 1,\n",
       "   'instance_id': 27,\n",
       "   'signer_id': 14,\n",
       "   'source': 'handspeak',\n",
       "   'split': 'train',\n",
       "   'url': 'https://www.handspeak.com/word/b/books-pile.mp4',\n",
       "   'variation_id': 0,\n",
       "   'video_id': '07073'},\n",
       "  {'bbox': [128, 20, 383, 360],\n",
       "   'fps': 25,\n",
       "   'frame_end': -1,\n",
       "   'frame_start': 1,\n",
       "   'instance_id': 28,\n",
       "   'signer_id': 109,\n",
       "   'source': 'asllex',\n",
       "   'split': 'train',\n",
       "   'url': 'https://youtu.be/3-GrhsVs830',\n",
       "   'variation_id': 0,\n",
       "   'video_id': '67424'},\n",
       "  {'bbox': [82, 11, 212, 192],\n",
       "   'fps': 25,\n",
       "   'frame_end': -1,\n",
       "   'frame_start': 1,\n",
       "   'instance_id': 29,\n",
       "   'signer_id': 11,\n",
       "   'source': 'signingsavvy',\n",
       "   'split': 'train',\n",
       "   'url': 'https://www.signingsavvy.com/signs/mp4/14/14326.mp4',\n",
       "   'variation_id': 0,\n",
       "   'video_id': '07074'},\n",
       "  {'bbox': [386, 48, 942, 720],\n",
       "   'fps': 25,\n",
       "   'frame_end': -1,\n",
       "   'frame_start': 1,\n",
       "   'instance_id': 30,\n",
       "   'signer_id': 5,\n",
       "   'source': 'aslu',\n",
       "   'split': 'train',\n",
       "   'url': 'https://www.youtube.com/watch?v=Kwvw-K6GYW8',\n",
       "   'variation_id': 0,\n",
       "   'video_id': '07075'},\n",
       "  {'bbox': [362, 43, 945, 720],\n",
       "   'fps': 25,\n",
       "   'frame_end': -1,\n",
       "   'frame_start': 1,\n",
       "   'instance_id': 31,\n",
       "   'signer_id': 5,\n",
       "   'source': 'aslu',\n",
       "   'split': 'train',\n",
       "   'url': 'https://www.youtube.com/watch?v=XjWSfh50kAU',\n",
       "   'variation_id': 0,\n",
       "   'video_id': '07076'},\n",
       "  {'bbox': [25, 4, 223, 240],\n",
       "   'fps': 25,\n",
       "   'frame_end': -1,\n",
       "   'frame_start': 1,\n",
       "   'instance_id': 32,\n",
       "   'signer_id': 49,\n",
       "   'source': 'aslpro',\n",
       "   'split': 'train',\n",
       "   'url': 'http://www.aslpro.com/main/b/book_accounting.swf',\n",
       "   'variation_id': 0,\n",
       "   'video_id': '07077'},\n",
       "  {'bbox': [28, 4, 226, 240],\n",
       "   'fps': 25,\n",
       "   'frame_end': -1,\n",
       "   'frame_start': 1,\n",
       "   'instance_id': 33,\n",
       "   'signer_id': 18,\n",
       "   'source': 'aslpro',\n",
       "   'split': 'train',\n",
       "   'url': 'http://www.aslpro.com/main/b/book_algebra.swf',\n",
       "   'variation_id': 0,\n",
       "   'video_id': '07078'},\n",
       "  {'bbox': [15, 2, 238, 240],\n",
       "   'fps': 25,\n",
       "   'frame_end': -1,\n",
       "   'frame_start': 1,\n",
       "   'instance_id': 34,\n",
       "   'signer_id': 49,\n",
       "   'source': 'aslpro',\n",
       "   'split': 'train',\n",
       "   'url': 'http://www.aslpro.com/main/b/book_anatomy.swf',\n",
       "   'variation_id': 0,\n",
       "   'video_id': '07079'},\n",
       "  {'bbox': [28, 2, 226, 240],\n",
       "   'fps': 25,\n",
       "   'frame_end': -1,\n",
       "   'frame_start': 1,\n",
       "   'instance_id': 35,\n",
       "   'signer_id': 18,\n",
       "   'source': 'aslpro',\n",
       "   'split': 'train',\n",
       "   'url': 'http://www.aslpro.com/main/b/book_art_history.swf',\n",
       "   'variation_id': 0,\n",
       "   'video_id': '07080'},\n",
       "  {'bbox': [23, 2, 226, 240],\n",
       "   'fps': 25,\n",
       "   'frame_end': -1,\n",
       "   'frame_start': 1,\n",
       "   'instance_id': 36,\n",
       "   'signer_id': 18,\n",
       "   'source': 'aslpro',\n",
       "   'split': 'train',\n",
       "   'url': 'http://www.aslpro.com/main/b/book_art.swf',\n",
       "   'variation_id': 0,\n",
       "   'video_id': '07081'},\n",
       "  {'bbox': [30, 3, 228, 240],\n",
       "   'fps': 25,\n",
       "   'frame_end': -1,\n",
       "   'frame_start': 1,\n",
       "   'instance_id': 37,\n",
       "   'signer_id': 18,\n",
       "   'source': 'aslpro',\n",
       "   'split': 'train',\n",
       "   'url': 'http://www.aslpro.com/main/b/book_business.swf',\n",
       "   'variation_id': 0,\n",
       "   'video_id': '07082'},\n",
       "  {'bbox': [0, 3, 260, 240],\n",
       "   'fps': 25,\n",
       "   'frame_end': -1,\n",
       "   'frame_start': 1,\n",
       "   'instance_id': 38,\n",
       "   'signer_id': 18,\n",
       "   'source': 'aslpro',\n",
       "   'split': 'val',\n",
       "   'url': 'http://www.aslpro.com/main/b/book_chemistry.swf',\n",
       "   'variation_id': 0,\n",
       "   'video_id': '07083'},\n",
       "  {'bbox': [29, 4, 225, 240],\n",
       "   'fps': 25,\n",
       "   'frame_end': -1,\n",
       "   'frame_start': 1,\n",
       "   'instance_id': 39,\n",
       "   'signer_id': 18,\n",
       "   'source': 'aslpro',\n",
       "   'split': 'train',\n",
       "   'url': 'http://www.aslpro.com/main/b/book_coloring.swf',\n",
       "   'variation_id': 0,\n",
       "   'video_id': '07084'}]}"
      ]
     },
     "execution_count": 18,
     "metadata": {},
     "output_type": "execute_result"
    }
   ],
   "source": [
    "data[0]"
   ]
  },
  {
   "cell_type": "markdown",
   "metadata": {},
   "source": [
    "The number of words in this object should be 2000. Getting the length of how many dictionary objects are in the first list should result in 2000."
   ]
  },
  {
   "cell_type": "code",
   "execution_count": 19,
   "metadata": {},
   "outputs": [
    {
     "data": {
      "text/plain": [
       "2000"
      ]
     },
     "execution_count": 19,
     "metadata": {},
     "output_type": "execute_result"
    }
   ],
   "source": [
    "len(data)"
   ]
  },
  {
   "cell_type": "markdown",
   "metadata": {},
   "source": [
    "This means all the words are in the json object"
   ]
  },
  {
   "cell_type": "markdown",
   "metadata": {},
   "source": [
    "To access the word, I specify the key of the value I want. In this case, the word is the value for the key called 'gloss':"
   ]
  },
  {
   "cell_type": "code",
   "execution_count": 20,
   "metadata": {},
   "outputs": [
    {
     "data": {
      "text/plain": [
       "'book'"
      ]
     },
     "execution_count": 20,
     "metadata": {},
     "output_type": "execute_result"
    }
   ],
   "source": [
    "data[0]['gloss']"
   ]
  },
  {
   "cell_type": "markdown",
   "metadata": {},
   "source": [
    "So from this, the first word in the json file is 'book'"
   ]
  },
  {
   "cell_type": "markdown",
   "metadata": {},
   "source": [
    "The first instance of book is then accessed by appending [0]:"
   ]
  },
  {
   "cell_type": "code",
   "execution_count": 21,
   "metadata": {},
   "outputs": [
    {
     "data": {
      "text/plain": [
       "{'bbox': [385, 37, 885, 720],\n",
       " 'fps': 25,\n",
       " 'frame_end': -1,\n",
       " 'frame_start': 1,\n",
       " 'instance_id': 0,\n",
       " 'signer_id': 118,\n",
       " 'source': 'aslbrick',\n",
       " 'split': 'train',\n",
       " 'url': 'http://aslbricks.org/New/ASL-Videos/book.mp4',\n",
       " 'variation_id': 0,\n",
       " 'video_id': '69241'}"
      ]
     },
     "execution_count": 21,
     "metadata": {},
     "output_type": "execute_result"
    }
   ],
   "source": [
    "data[0]['instances'][0]"
   ]
  },
  {
   "cell_type": "markdown",
   "metadata": {},
   "source": [
    "The len() function can be used again here to get how many instances the word 'book' has."
   ]
  },
  {
   "cell_type": "code",
   "execution_count": 22,
   "metadata": {},
   "outputs": [
    {
     "data": {
      "text/plain": [
       "40"
      ]
     },
     "execution_count": 22,
     "metadata": {},
     "output_type": "execute_result"
    }
   ],
   "source": [
    "len(data[0]['instances'])"
   ]
  },
  {
   "cell_type": "markdown",
   "metadata": {},
   "source": [
    "The word 'book' has 40 instances."
   ]
  },
  {
   "cell_type": "markdown",
   "metadata": {},
   "source": [
    "Finally, to get the video-id to open the correct video, I use the video_id name."
   ]
  },
  {
   "cell_type": "code",
   "execution_count": 23,
   "metadata": {},
   "outputs": [
    {
     "data": {
      "text/plain": [
       "'69241'"
      ]
     },
     "execution_count": 23,
     "metadata": {},
     "output_type": "execute_result"
    }
   ],
   "source": [
    "data[0]['instances'][0]['video_id']"
   ]
  },
  {
   "cell_type": "markdown",
   "metadata": {},
   "source": [
    "This means that the video named 69241.mp4 is the video for the first instance of the word 'book'."
   ]
  },
  {
   "cell_type": "markdown",
   "metadata": {},
   "source": [
    "The same process can be used to extract the split (train, test, or validation) that this video is a part of, and how many frames are in this video clip.\n",
    "\n",
    "note: This dataset already has the videos so there is no need to download the video again from the URL. But that would be an extra step if the dataset did not have the videos already."
   ]
  },
  {
   "cell_type": "markdown",
   "metadata": {},
   "source": [
    "Now that I know how to access the different name-value pairs, I can begin organizing the videos into train, test, and validation splits. Then, splitting the videos into frames."
   ]
  },
  {
   "cell_type": "markdown",
   "metadata": {},
   "source": [
    "### Organizing Videos:"
   ]
  },
  {
   "cell_type": "markdown",
   "metadata": {},
   "source": [
    "Before getting the frames, I want to organize the videos into their own directories. This will make debugging later easier and it will make looking for the right videos easier."
   ]
  },
  {
   "cell_type": "markdown",
   "metadata": {},
   "source": [
    "To copy the video file, I first want to check if I have made the directory where the video will be saved. If a directory has not been made yet, I will create a new one and save the video to it.\n",
    "\n",
    "To check if a directory exists, I can use the ```os.path.exists``` function. Then to create a directory, I use the ```os.makedirs``` function"
   ]
  },
  {
   "cell_type": "code",
   "execution_count": 34,
   "metadata": {},
   "outputs": [],
   "source": [
    "import os"
   ]
  },
  {
   "cell_type": "code",
   "execution_count": 35,
   "metadata": {},
   "outputs": [
    {
     "name": "stdout",
     "output_type": "stream",
     "text": [
      "No directory called ./test_makeidr/1/1/. Creating one now\n"
     ]
    }
   ],
   "source": [
    "if not os.path.exists('./test_makedir/1/1/'):\n",
    "    print(f'No directory called ./test_makeidr/1/1/. Creating one now')\n",
    "    os.makedirs('./test_makedir/1/1/')"
   ]
  },
  {
   "cell_type": "markdown",
   "metadata": {},
   "source": [
    "Now I can put this in a function that I will call for each video"
   ]
  },
  {
   "cell_type": "code",
   "execution_count": 36,
   "metadata": {},
   "outputs": [],
   "source": [
    "def copy_video(directory_path, video_id):\n",
    "    if not os.path.exists(directory_path):\n",
    "        print(f'No directory called {directory_path}. Creating one now')\n",
    "        os.makedirs(directory_path)\n",
    "\n",
    "    copy_command = 'cp WLASL/videos/' + video_id + '.mp4' + ' ' + directory_path + '/' + video_id + '.mp4'\n",
    "    os.system(copy_command)"
   ]
  },
  {
   "cell_type": "markdown",
   "metadata": {},
   "source": [
    "Next, I want to start organizing the videos. I will go through each instance in each word and get the split type and video id. Then I will find the video with that video id and save it to one of: train directory, test directory, or validation directory."
   ]
  },
  {
   "cell_type": "code",
   "execution_count": 37,
   "metadata": {},
   "outputs": [],
   "source": [
    "def organize_words(end_word, start_word=0):\n",
    "    for word_id in range(start_word, end_word):\n",
    "        # List of dictionary objects for each word\n",
    "        word = data[word_id]['gloss']\n",
    "        train_instance = 0\n",
    "        test_instance = 0\n",
    "        val_instance = 0\n",
    "        for instance in range(0,len(data[word_id]['instances'])):\n",
    "            video_id = data[word_id]['instances'][instance]['video_id']\n",
    "            split_type = data[word_id]['instances'][instance]['split']\n",
    "            match split_type:\n",
    "                case 'train':\n",
    "                    directory_path = os.path.join(split_type, str(word_id), str(train_instance))\n",
    "                    copy_video(directory_path, video_id)\n",
    "                    train_instance += 1\n",
    "                case 'test':\n",
    "                    directory_path = os.path.join(split_type, str(word_id), str(test_instance))\n",
    "                    copy_video(directory_path, video_id)\n",
    "                    test_instance += 1\n",
    "                case 'val':\n",
    "                    directory_path = os.path.join(split_type, str(word_id), str(val_instance))\n",
    "                    #if not os.path.exists(directory_path):\n",
    "                    #    print(f'No directory called {directory_path}. Creating one now')\n",
    "                    #    os.makedirs(directory_path)\n",
    "                    #copy_command = 'cp WLASL/videos/' + video_id + '.mp4' + ' ' + directory_path + '/' + video_id + '.mp4'\n",
    "                    #os.system(copy_command)\n",
    "                    copy_video(directory_path, video_id)\n",
    "                    val_instance += 1                       "
   ]
  },
  {
   "cell_type": "markdown",
   "metadata": {},
   "source": [
    "Now I can call this and specify how many words I want to go through and where to start. For example, I will copy and organize the videos for the first 10 words:"
   ]
  },
  {
   "cell_type": "code",
   "execution_count": 38,
   "metadata": {},
   "outputs": [
    {
     "name": "stdout",
     "output_type": "stream",
     "text": [
      "No directory called train/0/0. Creating one now\n",
      "No directory called train/0/1. Creating one now\n",
      "No directory called train/0/2. Creating one now\n",
      "No directory called train/0/3. Creating one now\n",
      "No directory called train/0/4. Creating one now\n",
      "No directory called val/0/0. Creating one now\n",
      "No directory called train/0/5. Creating one now\n",
      "No directory called train/0/6. Creating one now\n",
      "No directory called train/0/7. Creating one now\n",
      "No directory called train/0/8. Creating one now\n",
      "No directory called train/0/9. Creating one now\n",
      "No directory called train/0/10. Creating one now\n",
      "No directory called train/0/11. Creating one now\n",
      "No directory called train/0/12. Creating one now\n",
      "No directory called train/0/13. Creating one now\n",
      "No directory called test/0/0. Creating one now\n",
      "No directory called test/0/1. Creating one now\n",
      "No directory called train/0/14. Creating one now\n",
      "No directory called val/0/1. Creating one now\n",
      "No directory called test/0/2. Creating one now\n",
      "No directory called val/0/2. Creating one now\n",
      "No directory called train/0/15. Creating one now\n",
      "No directory called train/0/16. Creating one now\n",
      "No directory called val/0/3. Creating one now\n",
      "No directory called val/0/4. Creating one now\n",
      "No directory called train/0/17. Creating one now\n",
      "No directory called test/0/3. Creating one now\n",
      "No directory called train/0/18. Creating one now\n",
      "No directory called train/0/19. Creating one now\n",
      "No directory called train/0/20. Creating one now\n",
      "No directory called train/0/21. Creating one now\n",
      "No directory called train/0/22. Creating one now\n",
      "No directory called train/0/23. Creating one now\n",
      "No directory called train/0/24. Creating one now\n",
      "No directory called train/0/25. Creating one now\n",
      "No directory called train/0/26. Creating one now\n",
      "No directory called train/0/27. Creating one now\n",
      "No directory called train/0/28. Creating one now\n",
      "No directory called val/0/5. Creating one now\n",
      "No directory called train/0/29. Creating one now\n",
      "No directory called val/1/0. Creating one now\n",
      "No directory called train/1/0. Creating one now\n",
      "No directory called val/1/1. Creating one now\n",
      "No directory called val/1/2. Creating one now\n",
      "No directory called val/1/3. Creating one now\n",
      "No directory called train/1/1. Creating one now\n",
      "No directory called train/1/2. Creating one now\n",
      "No directory called train/1/3. Creating one now\n",
      "No directory called train/1/4. Creating one now\n",
      "No directory called train/1/5. Creating one now\n",
      "No directory called train/1/6. Creating one now\n",
      "No directory called train/1/7. Creating one now\n",
      "No directory called train/1/8. Creating one now\n",
      "No directory called test/1/0. Creating one now\n",
      "No directory called train/1/9. Creating one now\n",
      "No directory called train/1/10. Creating one now\n",
      "No directory called train/1/11. Creating one now\n",
      "No directory called train/1/12. Creating one now\n",
      "No directory called val/1/4. Creating one now\n",
      "No directory called train/1/13. Creating one now\n",
      "No directory called train/1/14. Creating one now\n",
      "No directory called test/1/1. Creating one now\n",
      "No directory called train/1/15. Creating one now\n",
      "No directory called train/1/16. Creating one now\n",
      "No directory called test/1/2. Creating one now\n",
      "No directory called train/1/17. Creating one now\n",
      "No directory called test/1/3. Creating one now\n",
      "No directory called train/1/18. Creating one now\n",
      "No directory called train/1/19. Creating one now\n",
      "No directory called train/1/20. Creating one now\n",
      "No directory called train/1/21. Creating one now\n",
      "No directory called train/1/22. Creating one now\n",
      "No directory called train/1/23. Creating one now\n",
      "No directory called train/1/24. Creating one now\n",
      "No directory called val/1/5. Creating one now\n",
      "No directory called test/2/0. Creating one now\n",
      "No directory called train/2/0. Creating one now\n",
      "No directory called train/2/1. Creating one now\n",
      "No directory called train/2/2. Creating one now\n",
      "No directory called train/2/3. Creating one now\n",
      "No directory called train/2/4. Creating one now\n",
      "No directory called val/2/0. Creating one now\n",
      "No directory called train/2/5. Creating one now\n",
      "No directory called test/2/1. Creating one now\n",
      "No directory called val/2/1. Creating one now\n",
      "No directory called val/2/2. Creating one now\n",
      "No directory called test/2/2. Creating one now\n",
      "No directory called train/2/6. Creating one now\n",
      "No directory called train/2/7. Creating one now\n",
      "No directory called train/2/8. Creating one now\n",
      "No directory called train/2/9. Creating one now\n",
      "No directory called train/2/10. Creating one now\n",
      "No directory called val/2/3. Creating one now\n",
      "No directory called train/2/11. Creating one now\n",
      "No directory called train/2/12. Creating one now\n",
      "No directory called train/2/13. Creating one now\n",
      "No directory called train/2/14. Creating one now\n",
      "No directory called test/2/3. Creating one now\n",
      "No directory called test/2/4. Creating one now\n",
      "No directory called train/2/15. Creating one now\n",
      "No directory called train/2/16. Creating one now\n",
      "No directory called train/2/17. Creating one now\n",
      "No directory called train/2/18. Creating one now\n",
      "No directory called val/2/4. Creating one now\n",
      "No directory called train/2/19. Creating one now\n",
      "No directory called train/3/0. Creating one now\n",
      "No directory called train/3/1. Creating one now\n",
      "No directory called train/3/2. Creating one now\n",
      "No directory called train/3/3. Creating one now\n",
      "No directory called val/3/0. Creating one now\n",
      "No directory called train/3/4. Creating one now\n",
      "No directory called train/3/5. Creating one now\n",
      "No directory called train/3/6. Creating one now\n",
      "No directory called train/3/7. Creating one now\n",
      "No directory called val/3/1. Creating one now\n",
      "No directory called train/3/8. Creating one now\n",
      "No directory called train/3/9. Creating one now\n",
      "No directory called train/3/10. Creating one now\n",
      "No directory called train/3/11. Creating one now\n",
      "No directory called train/3/12. Creating one now\n",
      "No directory called train/3/13. Creating one now\n",
      "No directory called train/3/14. Creating one now\n",
      "No directory called test/3/0. Creating one now\n",
      "No directory called val/3/2. Creating one now\n",
      "No directory called test/3/1. Creating one now\n",
      "No directory called val/3/3. Creating one now\n",
      "No directory called test/3/2. Creating one now\n",
      "No directory called train/3/15. Creating one now\n",
      "No directory called test/3/3. Creating one now\n",
      "No directory called train/3/16. Creating one now\n",
      "No directory called train/3/17. Creating one now\n",
      "No directory called test/4/0. Creating one now\n",
      "No directory called train/4/0. Creating one now\n",
      "No directory called train/4/1. Creating one now\n",
      "No directory called train/4/2. Creating one now\n",
      "No directory called train/4/3. Creating one now\n",
      "No directory called train/4/4. Creating one now\n",
      "No directory called train/4/5. Creating one now\n",
      "No directory called train/4/6. Creating one now\n",
      "No directory called test/4/1. Creating one now\n",
      "No directory called train/4/7. Creating one now\n",
      "No directory called train/4/8. Creating one now\n",
      "No directory called train/4/9. Creating one now\n",
      "No directory called val/4/0. Creating one now\n",
      "No directory called train/4/10. Creating one now\n",
      "No directory called train/4/11. Creating one now\n",
      "No directory called val/4/1. Creating one now\n",
      "No directory called test/4/2. Creating one now\n",
      "No directory called train/4/12. Creating one now\n",
      "No directory called val/4/2. Creating one now\n",
      "No directory called train/4/13. Creating one now\n",
      "No directory called train/4/14. Creating one now\n",
      "No directory called train/4/15. Creating one now\n",
      "No directory called train/4/16. Creating one now\n",
      "No directory called train/4/17. Creating one now\n",
      "No directory called val/4/3. Creating one now\n",
      "No directory called train/4/18. Creating one now\n",
      "No directory called test/5/0. Creating one now\n",
      "No directory called val/5/0. Creating one now\n",
      "No directory called train/5/0. Creating one now\n",
      "No directory called train/5/1. Creating one now\n",
      "No directory called train/5/2. Creating one now\n",
      "No directory called train/5/3. Creating one now\n",
      "No directory called test/5/1. Creating one now\n",
      "No directory called train/5/4. Creating one now\n",
      "No directory called train/5/5. Creating one now\n",
      "No directory called train/5/6. Creating one now\n",
      "No directory called train/5/7. Creating one now\n",
      "No directory called train/5/8. Creating one now\n",
      "No directory called train/5/9. Creating one now\n",
      "No directory called train/5/10. Creating one now\n",
      "No directory called train/5/11. Creating one now\n",
      "No directory called train/5/12. Creating one now\n",
      "No directory called train/5/13. Creating one now\n",
      "No directory called val/5/1. Creating one now\n",
      "No directory called train/5/14. Creating one now\n",
      "No directory called val/5/2. Creating one now\n",
      "No directory called train/5/15. Creating one now\n",
      "No directory called test/5/2. Creating one now\n",
      "No directory called train/5/16. Creating one now\n",
      "No directory called train/5/17. Creating one now\n",
      "No directory called val/5/3. Creating one now\n",
      "No directory called train/5/18. Creating one now\n",
      "No directory called test/6/0. Creating one now\n",
      "No directory called train/6/0. Creating one now\n",
      "No directory called train/6/1. Creating one now\n",
      "No directory called train/6/2. Creating one now\n",
      "No directory called train/6/3. Creating one now\n",
      "No directory called train/6/4. Creating one now\n",
      "No directory called train/6/5. Creating one now\n",
      "No directory called train/6/6. Creating one now\n",
      "No directory called test/6/1. Creating one now\n",
      "No directory called train/6/7. Creating one now\n",
      "No directory called train/6/8. Creating one now\n",
      "No directory called val/6/0. Creating one now\n",
      "No directory called val/6/1. Creating one now\n",
      "No directory called train/6/9. Creating one now\n",
      "No directory called train/6/10. Creating one now\n",
      "No directory called train/6/11. Creating one now\n",
      "No directory called test/6/2. Creating one now\n",
      "No directory called val/6/2. Creating one now\n",
      "No directory called train/6/12. Creating one now\n",
      "No directory called train/6/13. Creating one now\n",
      "No directory called train/6/14. Creating one now\n",
      "No directory called train/6/15. Creating one now\n",
      "No directory called train/6/16. Creating one now\n",
      "No directory called val/6/3. Creating one now\n",
      "No directory called train/6/17. Creating one now\n",
      "No directory called test/7/0. Creating one now\n",
      "No directory called train/7/0. Creating one now\n",
      "No directory called train/7/1. Creating one now\n",
      "No directory called train/7/2. Creating one now\n",
      "No directory called train/7/3. Creating one now\n",
      "No directory called train/7/4. Creating one now\n",
      "No directory called train/7/5. Creating one now\n",
      "No directory called train/7/6. Creating one now\n",
      "No directory called test/7/1. Creating one now\n",
      "No directory called train/7/7. Creating one now\n",
      "No directory called train/7/8. Creating one now\n",
      "No directory called val/7/0. Creating one now\n",
      "No directory called val/7/1. Creating one now\n",
      "No directory called train/7/9. Creating one now\n",
      "No directory called train/7/10. Creating one now\n",
      "No directory called train/7/11. Creating one now\n",
      "No directory called test/7/2. Creating one now\n",
      "No directory called val/7/2. Creating one now\n",
      "No directory called train/7/12. Creating one now\n",
      "No directory called train/7/13. Creating one now\n",
      "No directory called train/7/14. Creating one now\n",
      "No directory called train/7/15. Creating one now\n",
      "No directory called train/7/16. Creating one now\n",
      "No directory called val/7/3. Creating one now\n",
      "No directory called train/7/17. Creating one now\n",
      "No directory called train/8/0. Creating one now\n",
      "No directory called train/8/1. Creating one now\n",
      "No directory called train/8/2. Creating one now\n",
      "No directory called train/8/3. Creating one now\n",
      "No directory called train/8/4. Creating one now\n",
      "No directory called val/8/0. Creating one now\n",
      "No directory called train/8/5. Creating one now\n",
      "No directory called train/8/6. Creating one now\n",
      "No directory called val/8/1. Creating one now\n",
      "No directory called train/8/7. Creating one now\n",
      "No directory called train/8/8. Creating one now\n",
      "No directory called train/8/9. Creating one now\n",
      "No directory called val/8/2. Creating one now\n",
      "No directory called train/8/10. Creating one now\n",
      "No directory called train/8/11. Creating one now\n",
      "No directory called train/8/12. Creating one now\n",
      "No directory called train/8/13. Creating one now\n",
      "No directory called test/8/0. Creating one now\n",
      "No directory called test/8/1. Creating one now\n",
      "No directory called val/8/3. Creating one now\n",
      "No directory called train/8/14. Creating one now\n",
      "No directory called test/8/2. Creating one now\n",
      "No directory called train/8/15. Creating one now\n",
      "No directory called train/8/16. Creating one now\n",
      "No directory called test/9/0. Creating one now\n",
      "No directory called train/9/0. Creating one now\n",
      "No directory called train/9/1. Creating one now\n",
      "No directory called train/9/2. Creating one now\n",
      "No directory called train/9/3. Creating one now\n",
      "No directory called train/9/4. Creating one now\n",
      "No directory called train/9/5. Creating one now\n",
      "No directory called val/9/0. Creating one now\n",
      "No directory called val/9/1. Creating one now\n",
      "No directory called test/9/1. Creating one now\n",
      "No directory called train/9/6. Creating one now\n",
      "No directory called train/9/7. Creating one now\n",
      "No directory called train/9/8. Creating one now\n",
      "No directory called train/9/9. Creating one now\n",
      "No directory called val/9/2. Creating one now\n",
      "No directory called test/9/2. Creating one now\n",
      "No directory called train/9/10. Creating one now\n",
      "No directory called val/9/3. Creating one now\n",
      "No directory called train/9/11. Creating one now\n",
      "No directory called train/9/12. Creating one now\n",
      "No directory called train/9/13. Creating one now\n",
      "No directory called train/9/14. Creating one now\n",
      "No directory called train/9/15. Creating one now\n"
     ]
    }
   ],
   "source": [
    "organize_words(10, start_word=0)"
   ]
  },
  {
   "cell_type": "markdown",
   "metadata": {},
   "source": [
    "Now, the videos for 10 words have been copied and organized into the directory structure I want. Next, I will find each video, and split it into frames"
   ]
  },
  {
   "cell_type": "markdown",
   "metadata": {},
   "source": [
    "### Cropping Videos"
   ]
  },
  {
   "cell_type": "markdown",
   "metadata": {},
   "source": [
    "Before doing that though, I found an issue. Some of the videos are not of the word itself, but something about the word. For example, the videos about the word 'book' are not just about book. For example, some are 'history book', 'book photography', etc... However, they all contain the sign for the word 'book' at the end of the video. So I will create a function that will crop these videos to only include the book part of the video.\n",
    "\n",
    "This doesn't happen for all the words, so I will watch the video and see if the video includes something other than the word itself. If it does, I will use the below function to crop the video to the times that include only that word. This is the only reliable method I have found, but it should not be a problem since the videos are all between 2-4 seconds long. So not much time will be wasted."
   ]
  },
  {
   "cell_type": "code",
   "execution_count": 155,
   "metadata": {},
   "outputs": [],
   "source": [
    "import cv2"
   ]
  },
  {
   "cell_type": "code",
   "execution_count": 147,
   "metadata": {},
   "outputs": [],
   "source": [
    "def crop_video_frames(video_path, start_time=0.0, end_time=0.0):\n",
    "    cap = cv2.VideoCapture(video_path)\n",
    "    video_path_parts = video_path.split('/')\n",
    "    video_id = video_path_parts[3]\n",
    "    video_dir = video_path_parts[0] + '/' + video_path_parts[1] + '/' + video_path_parts[2]\n",
    "    video_output = os.path.join(f'{video_dir}', f'{video_id}_cropped.mp4')\n",
    "\n",
    "    fps = int(cap.get(cv2.CAP_PROP_FPS))\n",
    "    frames_total = int(cap.get(cv2.CAP_PROP_FRAME_COUNT))\n",
    "\n",
    "    if start_time < 0:\n",
    "        start_frame = int(frames_total + int(start_time * fps))\n",
    "    else:\n",
    "        start_frame = int(fps * start_time)\n",
    "    \n",
    "    if end_time < 0:\n",
    "        end_frame = int(frames_total + int(end_time * fps))\n",
    "    elif end_time == 0:\n",
    "        end_frame = frames_total\n",
    "    else:\n",
    "        end_frame = int(fps * end_time)\n",
    "    width = int(cap.get(cv2.CAP_PROP_FRAME_WIDTH))\n",
    "    height = int(cap.get(cv2.CAP_PROP_FRAME_HEIGHT))\n",
    "\n",
    "    #print(str(start_frame))\n",
    "    #print(str(end_frame))\n",
    "    cap.set(cv2.CAP_PROP_POS_FRAMES, start_frame)\n",
    "    frame_num = start_frame\n",
    "    video = cv2.VideoWriter(video_output, cv2.VideoWriter_fourcc(*'mp4v'), fps, (width, height))\n",
    "\n",
    "    while True:\n",
    "        # Read next frame\n",
    "        ret, frame = cap.read()\n",
    "\n",
    "        # If no more frames, stop.\n",
    "        if not ret:\n",
    "            break\n",
    "\n",
    "        # increment frame number\n",
    "        frame_num += 1\n",
    "\n",
    "        if frame_num < end_frame:\n",
    "            # Video writer to create mp4 file\n",
    "            video.write(frame)\n",
    "\n",
    "    # Release the video file\n",
    "    video.release()\n",
    "    cap.release()\n",
    "    cv2.destroyAllWindows()\n",
    "    print(f\"Video generated successfully to {video_output}. Video is {end_frame - start_frame} frames long\")"
   ]
  },
  {
   "cell_type": "markdown",
   "metadata": {},
   "source": [
    "I will test it on one video that was about english book and grammar. The cropped videos should be the sign 'book' only."
   ]
  },
  {
   "cell_type": "code",
   "execution_count": 154,
   "metadata": {},
   "outputs": [
    {
     "name": "stdout",
     "output_type": "stream",
     "text": [
      "Video generated successfully to train/0/6/07085.mp4_cropped.mp4. Video is 40 frames long\n"
     ]
    }
   ],
   "source": [
    "crop_video_frames('train/0/6/07085.mp4', -1.8, -0.2)"
   ]
  },
  {
   "cell_type": "markdown",
   "metadata": {},
   "source": [
    "After watching the video, I have verified that this works."
   ]
  },
  {
   "cell_type": "markdown",
   "metadata": {},
   "source": [
    "I will create three lists: one of videos that need to be cropped, one of the begining time to crop, and one of the end crop time."
   ]
  },
  {
   "cell_type": "code",
   "execution_count": null,
   "metadata": {},
   "outputs": [],
   "source": []
  },
  {
   "cell_type": "markdown",
   "metadata": {},
   "source": [
    "Now I will go to save the video frames"
   ]
  },
  {
   "cell_type": "markdown",
   "metadata": {},
   "source": [
    "### Saving Video Frames"
   ]
  },
  {
   "cell_type": "markdown",
   "metadata": {},
   "source": [
    "To save the frames, I will navigate through directory tree and find each video. Then I will call the ```save_video_frames``` function to save the frame to a new directory called frames. The new structure will look like: ```<split>/<word_id>/<instance_id>/frames/<instance_id>_<frame_num>.png```\n",
    "\n",
    "For example, the video for the first instance of the first training word will save the first frame to: train/0/0/frames/0_0.png"
   ]
  },
  {
   "cell_type": "markdown",
   "metadata": {},
   "source": [
    "To split the video into frames, I will load the video using opencv, and save each frame as a png image. The length in frames will be returned for comparison between videos"
   ]
  },
  {
   "cell_type": "markdown",
   "metadata": {},
   "source": [
    "I will be passing the whole output path, so I want to extract the instance id to append to the frames file name. To do this, I will split the path and get the 3rd element which should be the instance id"
   ]
  },
  {
   "cell_type": "code",
   "execution_count": 44,
   "metadata": {},
   "outputs": [
    {
     "name": "stdout",
     "output_type": "stream",
     "text": [
      "['train', '0', '1', 'frames']\n",
      "1\n"
     ]
    }
   ],
   "source": [
    "example_string = 'train/0/1/frames'\n",
    "output_str_split = example_string.split('/')\n",
    "print(output_str_split)\n",
    "instance_id = output_str_split[2]\n",
    "print(instance_id)"
   ]
  },
  {
   "cell_type": "markdown",
   "metadata": {},
   "source": [
    "Now I will create the function to extract and save video frames."
   ]
  },
  {
   "cell_type": "code",
   "execution_count": 119,
   "metadata": {},
   "outputs": [],
   "source": [
    "def save_video_frames(video_path, output_path):\n",
    "    cap = cv2.VideoCapture(video_path)\n",
    "\n",
    "    if not os.path.exists(output_path):\n",
    "        print(f'No directory called {output_path}. Creating one now')\n",
    "        os.makedirs(output_path)\n",
    "\n",
    "    frame_num = 0\n",
    "\n",
    "    while True:\n",
    "        # Read next frame\n",
    "        ret, frame = cap.read()\n",
    "\n",
    "        # If no more frames, stop.\n",
    "        if not ret:\n",
    "            break\n",
    "\n",
    "        # increment frame number\n",
    "        frame_num += 1\n",
    "\n",
    "        # Save frame\n",
    "        output_str_split = output_path.split('/')\n",
    "        instance_id = output_str_split[2]\n",
    "        frame_path = os.path.join(output_path, f'{instance_id}_{frame_num}.png')\n",
    "        \n",
    "        if not os.path.exists(output_path):\n",
    "            print(f'No directory called {output_path}. Creating one now')\n",
    "            os.makedirs(output_path)\n",
    "\n",
    "        cv2.imwrite(frame_path, frame)\n",
    "\n",
    "        #print(f'Frame {frame_num} has been saved to {frame_path}')\n",
    "    \n",
    "    # Release video capture\n",
    "    cap.release()\n",
    "    print(f'All {frame_num+1} frames for the video at {video_path} have been successfully saved')\n",
    "    # Return how many frames make up the video\n",
    "    return frame_num+1\n"
   ]
  },
  {
   "cell_type": "markdown",
   "metadata": {},
   "source": [
    "Testing this with one video:"
   ]
  },
  {
   "cell_type": "code",
   "execution_count": null,
   "metadata": {},
   "outputs": [],
   "source": [
    "save_video_frames('train/0/0/69241.mp4', 'train/0/0/frames')"
   ]
  },
  {
   "cell_type": "markdown",
   "metadata": {},
   "source": [
    "This works. So I can use this in a loop to do this for all videos organized."
   ]
  },
  {
   "cell_type": "markdown",
   "metadata": {},
   "source": [
    "To go through a directory and find each file, I can use the ```os``` module which I already imported before."
   ]
  },
  {
   "cell_type": "code",
   "execution_count": null,
   "metadata": {},
   "outputs": [],
   "source": [
    "directory = 'train'\n",
    "for root, dirs, files in os.walk(directory):\n",
    "    for file_name in files:\n",
    "        if file_name.endswith('.mp4'):\n",
    "            #print(file_name, dirs, root)\n",
    "            #print(os.path.join(root, file_name))\n",
    "            word_id = root.split('/')[1]\n",
    "            if int(word_id) >=0 and int(word_id) < 10:\n",
    "                print(f'{os.path.join(root, file_name)}, word: {data[int(word_id)][\"gloss\"]}')"
   ]
  },
  {
   "cell_type": "markdown",
   "metadata": {},
   "source": [
    "This prints the whole path for each video. I can use this to then pass the path to the save_video_frames function and save the frames of each video:"
   ]
  },
  {
   "cell_type": "code",
   "execution_count": 160,
   "metadata": {},
   "outputs": [],
   "source": [
    "def save_mult_video_frames(split_type='train', start_word=0, end_word=1):\n",
    "    frames = []\n",
    "    for root, dirs, files in os.walk(split_type):\n",
    "        for file_name in files:\n",
    "            if file_name.endswith('.mp4'):\n",
    "                #print(file_name, dirs, root)\n",
    "                #print(os.path.join(root, file_name))\n",
    "                word_id = root.split('/')[1]\n",
    "                if int(word_id) >= start_word and int(word_id) < end_word:\n",
    "                    video_frames = save_video_frames(f'{os.path.join(root, file_name)}', f'{os.path.join(root, \"frames\")}')\n",
    "                    frames.append(video_frames)\n",
    "                    #print(f'{os.path.join(root, file_name)}, word: {data[int(word_id)][\"gloss\"]}')\n",
    "    return frames"
   ]
  },
  {
   "cell_type": "markdown",
   "metadata": {},
   "source": [
    "To save the frames of all training videos of the first word, I can just call the function with default values."
   ]
  },
  {
   "cell_type": "code",
   "execution_count": 161,
   "metadata": {},
   "outputs": [
    {
     "name": "stdout",
     "output_type": "stream",
     "text": [
      "All 57 frames for the video at train/7/17/63238.mp4 have been successfully saved\n",
      "All 61 frames for the video at train/7/10/66778.mp4 have been successfully saved\n",
      "All 33 frames for the video at train/7/7/63227.mp4 have been successfully saved\n",
      "All 85 frames for the video at train/7/3/63239.mp4 have been successfully saved\n",
      "All 55 frames for the video at train/7/1/68890.mp4 have been successfully saved\n",
      "All 42 frames for the video at train/7/15/67066.mp4 have been successfully saved\n",
      "All 63 frames for the video at train/7/4/63240.mp4 have been successfully saved\n",
      "All 66 frames for the video at train/7/5/63241.mp4 have been successfully saved\n",
      "All 36 frames for the video at train/7/8/63228.mp4 have been successfully saved\n",
      "All 133 frames for the video at train/7/11/63232.mp4 have been successfully saved\n",
      "All 57 frames for the video at train/7/12/66779.mp4 have been successfully saved\n",
      "All 55 frames for the video at train/7/0/69534.mp4 have been successfully saved\n",
      "All 80 frames for the video at train/7/9/63231.mp4 have been successfully saved\n",
      "All 95 frames for the video at train/7/14/63225.mp4 have been successfully saved\n",
      "All 75 frames for the video at train/7/6/63242.mp4 have been successfully saved\n",
      "All 45 frames for the video at train/7/2/68183.mp4 have been successfully saved\n",
      "All 40 frames for the video at train/7/16/63236.mp4 have been successfully saved\n",
      "All 62 frames for the video at train/7/13/66780.mp4 have been successfully saved\n",
      "All 42 frames for the video at train/3/17/05743.mp4 have been successfully saved\n",
      "All 61 frames for the video at train/3/10/65167.mp4 have been successfully saved\n",
      "All 78 frames for the video at train/3/7/05749.mp4 have been successfully saved\n",
      "All 59 frames for the video at train/3/3/05744.mp4 have been successfully saved\n",
      "All 97 frames for the video at train/3/1/70348.mp4 have been successfully saved\n",
      "All 43 frames for the video at train/3/15/05740.mp4 have been successfully saved\n",
      "All 28 frames for the video at train/3/4/05728.mp4 have been successfully saved\n",
      "All 66 frames for the video at train/3/5/05747.mp4 have been successfully saved\n",
      "All 46 frames for the video at train/3/8/05729.mp4 have been successfully saved\n",
      "All 48 frames for the video at train/3/11/05731.mp4 have been successfully saved\n",
      "All 74 frames for the video at train/3/12/05732.mp4 have been successfully saved\n",
      "All 42 frames for the video at train/3/0/05724.mp4 have been successfully saved\n",
      "All 33 frames for the video at train/3/9/05730.mp4 have been successfully saved\n",
      "All 70 frames for the video at train/3/14/05734.mp4 have been successfully saved\n",
      "All 73 frames for the video at train/3/6/05748.mp4 have been successfully saved\n",
      "All 88 frames for the video at train/3/2/68007.mp4 have been successfully saved\n",
      "All 26 frames for the video at train/3/16/05742.mp4 have been successfully saved\n",
      "All 93 frames for the video at train/3/13/05733.mp4 have been successfully saved\n",
      "All 38 frames for the video at train/1/19/67594.mp4 have been successfully saved\n",
      "All 47 frames for the video at train/1/17/17717.mp4 have been successfully saved\n",
      "All 56 frames for the video at train/1/10/17732.mp4 have been successfully saved\n",
      "All 106 frames for the video at train/1/18/17709.mp4 have been successfully saved\n",
      "All 61 frames for the video at train/1/7/17710.mp4 have been successfully saved\n",
      "All 60 frames for the video at train/1/3/17725.mp4 have been successfully saved\n",
      "All 55 frames for the video at train/1/1/68660.mp4 have been successfully saved\n",
      "All 56 frames for the video at train/1/15/17714.mp4 have been successfully saved\n",
      "All 43 frames for the video at train/1/22/17721.mp4 have been successfully saved\n",
      "All 66 frames for the video at train/1/4/17726.mp4 have been successfully saved\n",
      "All 83 frames for the video at train/1/5/17727.mp4 have been successfully saved\n",
      "All 62 frames for the video at train/1/8/17729.mp4 have been successfully saved\n",
      "All 49 frames for the video at train/1/20/17719.mp4 have been successfully saved\n",
      "All 80 frames for the video at train/1/11/17733.mp4 have been successfully saved\n",
      "All 49 frames for the video at train/1/12/65540.mp4 have been successfully saved\n",
      "All 52 frames for the video at train/1/24/17723.mp4 have been successfully saved\n",
      "All 47 frames for the video at train/1/0/65539.mp4 have been successfully saved\n",
      "All 62 frames for the video at train/1/9/17731.mp4 have been successfully saved\n",
      "All 46 frames for the video at train/1/14/17712.mp4 have been successfully saved\n",
      "All 36 frames for the video at train/1/21/17720.mp4 have been successfully saved\n",
      "All 59 frames for the video at train/1/6/17728.mp4 have been successfully saved\n",
      "All 90 frames for the video at train/1/2/68041.mp4 have been successfully saved\n",
      "All 43 frames for the video at train/1/23/17722.mp4 have been successfully saved\n",
      "All 56 frames for the video at train/1/16/17715.mp4 have been successfully saved\n",
      "All 70 frames for the video at train/1/13/17711.mp4 have been successfully saved\n",
      "All 101 frames for the video at train/4/17/09861.mp4 have been successfully saved\n",
      "All 62 frames for the video at train/4/10/65328.mp4 have been successfully saved\n",
      "All 78 frames for the video at train/4/18/09863.mp4 have been successfully saved\n",
      "All 80 frames for the video at train/4/7/09869.mp4 have been successfully saved\n",
      "All 48 frames for the video at train/4/3/68019.mp4 have been successfully saved\n",
      "All 52 frames for the video at train/4/1/68580.mp4 have been successfully saved\n",
      "All 99 frames for the video at train/4/15/09859.mp4 have been successfully saved\n",
      "All 114 frames for the video at train/4/4/09865.mp4 have been successfully saved\n",
      "All 81 frames for the video at train/4/5/09866.mp4 have been successfully saved\n",
      "All 70 frames for the video at train/4/8/09849.mp4 have been successfully saved\n",
      "All 21 frames for the video at train/4/11/09853.mp4 have been successfully saved\n",
      "All 62 frames for the video at train/4/12/09856.mp4 have been successfully saved\n",
      "All 132 frames for the video at train/4/0/70230.mp4 have been successfully saved\n",
      "All 33 frames for the video at train/4/9/09850.mp4 have been successfully saved\n",
      "All 97 frames for the video at train/4/14/09858.mp4 have been successfully saved\n",
      "All 97 frames for the video at train/4/6/09848.mp4 have been successfully saved\n",
      "All 119 frames for the video at train/4/2/70263.mp4 have been successfully saved\n",
      "All 119 frames for the video at train/4/16/09860.mp4 have been successfully saved\n",
      "All 103 frames for the video at train/4/13/09857.mp4 have been successfully saved\n",
      "All 56 frames for the video at train/5/17/24951.mp4 have been successfully saved\n",
      "All 51 frames for the video at train/5/10/24972.mp4 have been successfully saved\n",
      "All 53 frames for the video at train/5/18/24954.mp4 have been successfully saved\n",
      "All 78 frames for the video at train/5/7/24969.mp4 have been successfully saved\n",
      "All 58 frames for the video at train/5/3/24941.mp4 have been successfully saved\n",
      "All 53 frames for the video at train/5/1/24955.mp4 have been successfully saved\n",
      "All 89 frames for the video at train/5/15/24940.mp4 have been successfully saved\n",
      "All 40 frames for the video at train/5/4/24961.mp4 have been successfully saved\n",
      "All 38 frames for the video at train/5/5/24962.mp4 have been successfully saved\n",
      "All 78 frames for the video at train/5/8/24970.mp4 have been successfully saved\n",
      "All 44 frames for the video at train/5/11/65824.mp4 have been successfully saved\n",
      "All 93 frames for the video at train/5/12/24973.mp4 have been successfully saved\n",
      "All 121 frames for the video at train/5/0/68292.mp4 have been successfully saved\n",
      "All 73 frames for the video at train/5/9/24971.mp4 have been successfully saved\n",
      "All 55 frames for the video at train/5/14/24947.mp4 have been successfully saved\n",
      "All 73 frames for the video at train/5/6/24965.mp4 have been successfully saved\n",
      "All 40 frames for the video at train/5/2/24956.mp4 have been successfully saved\n",
      "All 56 frames for the video at train/5/16/24950.mp4 have been successfully saved\n",
      "All 54 frames for the video at train/5/13/24943.mp4 have been successfully saved\n",
      "All 40 frames for the video at train/8/10/08923.mp4 have been successfully saved\n",
      "All 75 frames for the video at train/8/7/08919.mp4 have been successfully saved\n",
      "All 126 frames for the video at train/8/3/68790.mp4 have been successfully saved\n",
      "All 88 frames for the video at train/8/1/68018.mp4 have been successfully saved\n",
      "All 68 frames for the video at train/8/15/08926.mp4 have been successfully saved\n",
      "All 61 frames for the video at train/8/4/08928.mp4 have been successfully saved\n",
      "All 76 frames for the video at train/8/5/08916.mp4 have been successfully saved\n",
      "All 65 frames for the video at train/8/8/08920.mp4 have been successfully saved\n",
      "All 62 frames for the video at train/8/11/65298.mp4 have been successfully saved\n",
      "All 26 frames for the video at train/8/12/08924.mp4 have been successfully saved\n",
      "All 47 frames for the video at train/8/0/08909.mp4 have been successfully saved\n",
      "All 51 frames for the video at train/8/9/08921.mp4 have been successfully saved\n",
      "All 46 frames for the video at train/8/14/67470.mp4 have been successfully saved\n",
      "All 29 frames for the video at train/8/6/08917.mp4 have been successfully saved\n",
      "All 127 frames for the video at train/8/2/70326.mp4 have been successfully saved\n",
      "All 64 frames for the video at train/8/16/08927.mp4 have been successfully saved\n",
      "All 66 frames for the video at train/8/13/65299.mp4 have been successfully saved\n",
      "All 34 frames for the video at train/0/19/67424.mp4 have been successfully saved\n",
      "All 19 frames for the video at train/0/17/07071.mp4 have been successfully saved\n",
      "All 88 frames for the video at train/0/10/07088.mp4 have been successfully saved\n",
      "All 83 frames for the video at train/0/28/07082.mp4 have been successfully saved\n",
      "All 29 frames for the video at train/0/18/07073.mp4 have been successfully saved\n",
      "All 101 frames for the video at train/0/7/07086.mp4 have been successfully saved\n",
      "All 125 frames for the video at train/0/3/68208.mp4 have been successfully saved\n",
      "All 65 frames for the video at train/0/1/65225.mp4 have been successfully saved\n",
      "All 94 frames for the video at train/0/25/07079.mp4 have been successfully saved\n",
      "All 64 frames for the video at train/0/15/07097.mp4 have been successfully saved\n",
      "All 91 frames for the video at train/0/22/07076.mp4 have been successfully saved\n",
      "All 97 frames for the video at train/0/4/68012.mp4 have been successfully saved\n",
      "All 122 frames for the video at train/0/5/70266.mp4 have been successfully saved\n",
      "All 81 frames for the video at train/0/8/07087.mp4 have been successfully saved\n",
      "All 34 frames for the video at train/0/20/07074.mp4 have been successfully saved\n",
      "All 105 frames for the video at train/0/26/07080.mp4 have been successfully saved\n",
      "All 78 frames for the video at train/0/11/07089.mp4 have been successfully saved\n",
      "All 96 frames for the video at train/0/12/07090.mp4 have been successfully saved\n",
      "All 80 frames for the video at train/0/24/07078.mp4 have been successfully saved\n",
      "All 65 frames for the video at train/0/0/69241.mp4 have been successfully saved\n",
      "All 32 frames for the video at train/0/9/07069.mp4 have been successfully saved\n",
      "All 59 frames for the video at train/0/14/07068.mp4 have been successfully saved\n",
      "All 81 frames for the video at train/0/29/07084.mp4 have been successfully saved\n",
      "All 70 frames for the video at train/0/21/07075.mp4 have been successfully saved\n",
      "All 94 frames for the video at train/0/6/07085.mp4 have been successfully saved\n",
      "All 48 frames for the video at train/0/2/68011.mp4 have been successfully saved\n",
      "All 100 frames for the video at train/0/23/07077.mp4 have been successfully saved\n",
      "All 74 frames for the video at train/0/16/07070.mp4 have been successfully saved\n",
      "All 76 frames for the video at train/0/13/07091.mp4 have been successfully saved\n",
      "All 76 frames for the video at train/0/27/07081.mp4 have been successfully saved\n",
      "All 52 frames for the video at train/9/10/13640.mp4 have been successfully saved\n",
      "All 35 frames for the video at train/9/7/13637.mp4 have been successfully saved\n",
      "All 61 frames for the video at train/9/3/13648.mp4 have been successfully saved\n",
      "All 40 frames for the video at train/9/1/68592.mp4 have been successfully saved\n",
      "All 63 frames for the video at train/9/15/13646.mp4 have been successfully saved\n",
      "All 62 frames for the video at train/9/4/13631.mp4 have been successfully saved\n",
      "All 62 frames for the video at train/9/5/13632.mp4 have been successfully saved\n",
      "All 30 frames for the video at train/9/8/13638.mp4 have been successfully saved\n",
      "All 35 frames for the video at train/9/11/13642.mp4 have been successfully saved\n",
      "All 65 frames for the video at train/9/12/13643.mp4 have been successfully saved\n",
      "All 103 frames for the video at train/9/0/70332.mp4 have been successfully saved\n",
      "All 91 frames for the video at train/9/9/13630.mp4 have been successfully saved\n",
      "All 71 frames for the video at train/9/14/13645.mp4 have been successfully saved\n",
      "All 113 frames for the video at train/9/6/13636.mp4 have been successfully saved\n",
      "All 69 frames for the video at train/9/2/13647.mp4 have been successfully saved\n",
      "All 97 frames for the video at train/9/13/13644.mp4 have been successfully saved\n",
      "All 79 frames for the video at train/6/17/11326.mp4 have been successfully saved\n",
      "All 87 frames for the video at train/6/10/11316.mp4 have been successfully saved\n",
      "All 56 frames for the video at train/6/7/11312.mp4 have been successfully saved\n",
      "All 79 frames for the video at train/6/3/11328.mp4 have been successfully saved\n",
      "All 63 frames for the video at train/6/1/68024.mp4 have been successfully saved\n",
      "All 99 frames for the video at train/6/15/11323.mp4 have been successfully saved\n",
      "All 77 frames for the video at train/6/4/11310.mp4 have been successfully saved\n",
      "All 89 frames for the video at train/6/5/11329.mp4 have been successfully saved\n",
      "All 32 frames for the video at train/6/8/11313.mp4 have been successfully saved\n",
      "All 81 frames for the video at train/6/11/11317.mp4 have been successfully saved\n",
      "All 93 frames for the video at train/6/12/11320.mp4 have been successfully saved\n",
      "All 52 frames for the video at train/6/0/68870.mp4 have been successfully saved\n",
      "All 59 frames for the video at train/6/9/11309.mp4 have been successfully saved\n",
      "All 88 frames for the video at train/6/14/11322.mp4 have been successfully saved\n",
      "All 72 frames for the video at train/6/6/11330.mp4 have been successfully saved\n",
      "All 72 frames for the video at train/6/2/11327.mp4 have been successfully saved\n",
      "All 90 frames for the video at train/6/16/11324.mp4 have been successfully saved\n",
      "All 119 frames for the video at train/6/13/11321.mp4 have been successfully saved\n",
      "All 41 frames for the video at train/2/19/12327.mp4 have been successfully saved\n",
      "All 56 frames for the video at train/2/17/12323.mp4 have been successfully saved\n",
      "All 39 frames for the video at train/2/10/12314.mp4 have been successfully saved\n",
      "All 63 frames for the video at train/2/18/12324.mp4 have been successfully saved\n",
      "All 77 frames for the video at train/2/7/12337.mp4 have been successfully saved\n",
      "All 103 frames for the video at train/2/3/12329.mp4 have been successfully saved\n",
      "All 154 frames for the video at train/2/1/69054.mp4 have been successfully saved\n",
      "All 56 frames for the video at train/2/15/12321.mp4 have been successfully saved\n",
      "All 89 frames for the video at train/2/4/12330.mp4 have been successfully saved\n",
      "All 68 frames for the video at train/2/5/12331.mp4 have been successfully saved\n",
      "All 92 frames for the video at train/2/8/12338.mp4 have been successfully saved\n",
      "All 39 frames for the video at train/2/11/12316.mp4 have been successfully saved\n",
      "All 47 frames for the video at train/2/12/12317.mp4 have been successfully saved\n",
      "All 90 frames for the video at train/2/0/68028.mp4 have been successfully saved\n",
      "All 70 frames for the video at train/2/9/12313.mp4 have been successfully saved\n",
      "All 36 frames for the video at train/2/14/12319.mp4 have been successfully saved\n",
      "All 63 frames for the video at train/2/6/12311.mp4 have been successfully saved\n",
      "All 76 frames for the video at train/2/2/12328.mp4 have been successfully saved\n",
      "All 54 frames for the video at train/2/16/12322.mp4 have been successfully saved\n",
      "All 40 frames for the video at train/2/13/12318.mp4 have been successfully saved\n"
     ]
    }
   ],
   "source": [
    "frames_list = save_mult_video_frames(end_word=10)"
   ]
  },
  {
   "cell_type": "code",
   "execution_count": 163,
   "metadata": {},
   "outputs": [],
   "source": [
    "import numpy as np"
   ]
  },
  {
   "cell_type": "code",
   "execution_count": 169,
   "metadata": {},
   "outputs": [
    {
     "name": "stdout",
     "output_type": "stream",
     "text": [
      "Frames list of all videos converted: [57, 61, 33, 85, 55, 42, 63, 66, 36, 133, 57, 55, 80, 95, 75, 45, 40, 62, 42, 61, 78, 59, 97, 43, 28, 66, 46, 48, 74, 42, 33, 70, 73, 88, 26, 93, 38, 47, 56, 106, 61, 60, 55, 56, 43, 66, 83, 62, 49, 80, 49, 52, 47, 62, 46, 36, 59, 90, 43, 56, 70, 101, 62, 78, 80, 48, 52, 99, 114, 81, 70, 21, 62, 132, 33, 97, 97, 119, 119, 103, 56, 51, 53, 78, 58, 53, 89, 40, 38, 78, 44, 93, 121, 73, 55, 73, 40, 56, 54, 40, 75, 126, 88, 68, 61, 76, 65, 62, 26, 47, 51, 46, 29, 127, 64, 66, 34, 19, 88, 83, 29, 101, 125, 65, 94, 64, 91, 97, 122, 81, 34, 105, 78, 96, 80, 65, 32, 59, 81, 70, 94, 48, 100, 74, 76, 76, 52, 35, 61, 40, 63, 62, 62, 30, 35, 65, 103, 91, 71, 113, 69, 97, 79, 87, 56, 79, 63, 99, 77, 89, 32, 81, 93, 52, 59, 88, 72, 72, 90, 119, 41, 56, 39, 63, 77, 103, 154, 56, 89, 68, 92, 39, 47, 90, 70, 36, 63, 76, 54, 40]\n",
      "Frames list size: 200\n",
      "Count of videos with over 50 frames: 149. Count of videos less than 40 frames: 24. Count of videos between 40 and 50 frames: 27\n"
     ]
    }
   ],
   "source": [
    "print(f'Frames list of all videos converted: {frames_list}')\n",
    "print(f'Frames list size: {len(frames_list)}')\n",
    "num_over_50 = 0\n",
    "num_bw_40_50 = 0\n",
    "num_less_40 = 0\n",
    "for frames in frames_list:\n",
    "    if frames > 50:\n",
    "        num_over_50 += 1\n",
    "    elif frames < 40:\n",
    "        num_less_40 += 1\n",
    "    else:\n",
    "        num_bw_40_50 += 1\n",
    "print(f'Count of videos with over 50 frames: {num_over_50}. Count of videos less than 40 frames: {num_less_40}. Count of videos between 40 and 50 frames: {num_bw_40_50}')"
   ]
  },
  {
   "cell_type": "markdown",
   "metadata": {},
   "source": [
    "Next, I will need to pass these frames to mediapipe and generate the landmark points. Then I will save these points as a numpy array to use in training."
   ]
  }
 ],
 "metadata": {
  "kernelspec": {
   "display_name": "ece5831-2024",
   "language": "python",
   "name": "python3"
  },
  "language_info": {
   "codemirror_mode": {
    "name": "ipython",
    "version": 3
   },
   "file_extension": ".py",
   "mimetype": "text/x-python",
   "name": "python",
   "nbconvert_exporter": "python",
   "pygments_lexer": "ipython3",
   "version": "3.10.15"
  }
 },
 "nbformat": 4,
 "nbformat_minor": 2
}
